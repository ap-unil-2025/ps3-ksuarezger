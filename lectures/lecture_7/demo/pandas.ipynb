{
 "cells": [
  {
   "cell_type": "markdown",
   "id": "16df6dc9",
   "metadata": {},
   "source": [
    "# Pandas\n",
    "\n",
    "\n",
    "<a id='index-1'></a>"
   ]
  },
  {
   "cell_type": "markdown",
   "id": "2c702300",
   "metadata": {},
   "source": [
    "## Contents\n",
    "\n",
    "- [Pandas](#Pandas)  \n",
    "  - [Overview](#Overview)  \n",
    "  - [Series](#Series)  \n",
    "  - [DataFrames](#DataFrames)  \n",
    "  - [On-Line Data Sources](#On-Line-Data-Sources)  \n",
    "  - [Exercises](#Exercises)  "
   ]
  },
  {
   "cell_type": "markdown",
   "id": "06719a94",
   "metadata": {},
   "source": [
    "In addition to what’s in Anaconda, this lecture will need the following libraries:"
   ]
  },
  {
   "cell_type": "code",
   "execution_count": 2,
   "id": "ef0e19a6",
   "metadata": {
    "execution": {
     "iopub.execute_input": "2024-04-07T15:44:57.126888Z",
     "iopub.status.busy": "2024-04-07T15:44:57.126387Z",
     "iopub.status.idle": "2024-04-07T15:44:57.129530Z",
     "shell.execute_reply": "2024-04-07T15:44:57.129103Z",
     "shell.execute_reply.started": "2024-04-07T15:44:57.126857Z"
    },
    "hide-output": false,
    "tags": []
   },
   "outputs": [],
   "source": [
    "#!pip install --upgrade pandas-datareader\n",
    "#!pip install --upgrade yfinance"
   ]
  },
  {
   "cell_type": "markdown",
   "id": "93dcef4f",
   "metadata": {},
   "source": [
    "## Overview\n",
    "\n",
    "[Pandas](http://pandas.pydata.org/) is a package of fast, efficient data analysis tools for Python.\n",
    "\n",
    "Its popularity has surged in recent years, coincident with the rise\n",
    "of fields such as data science and machine learning.\n",
    "\n",
    "Here’s a popularity comparison over time against Matlab and STATA courtesy of Stack Overflow Trends\n",
    "\n",
    "![https://python-programming.quantecon.org/_static/lecture_specific/pandas/pandas_vs_rest.png](https://python-programming.quantecon.org/_static/lecture_specific/pandas/pandas_vs_rest.png)\n",
    "\n",
    "  \n",
    "Just as [NumPy](http://www.numpy.org/) provides the basic array data type plus core array operations, pandas\n",
    "\n",
    "1. defines fundamental structures for working with data and  \n",
    "1. endows them with methods that facilitate operations such as  \n",
    "  - reading in data  \n",
    "  - adjusting indices  \n",
    "  - working with dates and time series  \n",
    "  - sorting, grouping, re-ordering and general data munging <sup><a href=#mung id=mung-link>[1]</a></sup>  \n",
    "  - dealing with missing values, etc., etc.  \n",
    "\n",
    "\n",
    "More sophisticated statistical functionality is left to other packages, such\n",
    "as [statsmodels](http://www.statsmodels.org/) and [scikit-learn](http://scikit-learn.org/), which are built on top of pandas.\n",
    "\n",
    "This lecture will provide a basic introduction to pandas.\n",
    "\n",
    "Throughout the lecture, we will assume that the following imports have taken\n",
    "place"
   ]
  },
  {
   "cell_type": "code",
   "execution_count": 4,
   "id": "e402a12b",
   "metadata": {
    "execution": {
     "iopub.execute_input": "2024-04-07T15:49:30.899530Z",
     "iopub.status.busy": "2024-04-07T15:49:30.898790Z",
     "iopub.status.idle": "2024-04-07T15:49:30.904784Z",
     "shell.execute_reply": "2024-04-07T15:49:30.904306Z",
     "shell.execute_reply.started": "2024-04-07T15:49:30.899491Z"
    },
    "hide-output": false,
    "tags": []
   },
   "outputs": [],
   "source": [
    "%matplotlib inline\n",
    "import pandas as pd\n",
    "import numpy as np\n",
    "import matplotlib.pyplot as plt\n",
    "plt.rcParams[\"figure.figsize\"] = [10,8]  # Set default figure size\n",
    "import requests"
   ]
  },
  {
   "cell_type": "markdown",
   "id": "e2d6acd0",
   "metadata": {},
   "source": [
    "Two important data types defined by pandas are  `Series` and `DataFrame`.\n",
    "\n",
    "You can think of a `Series` as a “column” of data, such as a collection of observations on a single variable.\n",
    "\n",
    "A `DataFrame` is a two-dimensional object for storing related columns of data."
   ]
  },
  {
   "cell_type": "markdown",
   "id": "86e8f452",
   "metadata": {},
   "source": [
    "## Series\n",
    "\n",
    "\n",
    "<a id='index-2'></a>\n",
    "Let’s start with Series.\n",
    "\n",
    "We begin by creating a series of four random observations"
   ]
  },
  {
   "cell_type": "code",
   "execution_count": 5,
   "id": "6ae9108e",
   "metadata": {
    "execution": {
     "iopub.execute_input": "2024-04-07T15:49:53.729970Z",
     "iopub.status.busy": "2024-04-07T15:49:53.729182Z",
     "iopub.status.idle": "2024-04-07T15:49:53.739517Z",
     "shell.execute_reply": "2024-04-07T15:49:53.739021Z",
     "shell.execute_reply.started": "2024-04-07T15:49:53.729927Z"
    },
    "hide-output": false
   },
   "outputs": [
    {
     "data": {
      "text/plain": [
       "0    0.447846\n",
       "1    1.519560\n",
       "2   -0.594393\n",
       "3   -0.538753\n",
       "Name: daily returns, dtype: float64"
      ]
     },
     "execution_count": 5,
     "metadata": {},
     "output_type": "execute_result"
    }
   ],
   "source": [
    "s = pd.Series(np.random.randn(4), name='daily returns')\n",
    "s"
   ]
  },
  {
   "cell_type": "markdown",
   "id": "41fd63b2",
   "metadata": {},
   "source": [
    "Here you can imagine the indices `0, 1, 2, 3` as indexing four listed\n",
    "companies, and the values being daily returns on their shares.\n",
    "\n",
    "Pandas `Series` are built on top of NumPy arrays and support many similar\n",
    "operations"
   ]
  },
  {
   "cell_type": "code",
   "execution_count": 6,
   "id": "33c367f9",
   "metadata": {
    "execution": {
     "iopub.execute_input": "2024-04-07T15:52:07.149890Z",
     "iopub.status.busy": "2024-04-07T15:52:07.149341Z",
     "iopub.status.idle": "2024-04-07T15:52:07.155004Z",
     "shell.execute_reply": "2024-04-07T15:52:07.154523Z",
     "shell.execute_reply.started": "2024-04-07T15:52:07.149859Z"
    },
    "hide-output": false
   },
   "outputs": [
    {
     "data": {
      "text/plain": [
       "0     44.784592\n",
       "1    151.956030\n",
       "2    -59.439327\n",
       "3    -53.875267\n",
       "Name: daily returns, dtype: float64"
      ]
     },
     "execution_count": 6,
     "metadata": {},
     "output_type": "execute_result"
    }
   ],
   "source": [
    "s * 100"
   ]
  },
  {
   "cell_type": "code",
   "execution_count": 7,
   "id": "27bb797c",
   "metadata": {
    "execution": {
     "iopub.execute_input": "2024-04-07T15:52:09.787648Z",
     "iopub.status.busy": "2024-04-07T15:52:09.786882Z",
     "iopub.status.idle": "2024-04-07T15:52:09.792654Z",
     "shell.execute_reply": "2024-04-07T15:52:09.792183Z",
     "shell.execute_reply.started": "2024-04-07T15:52:09.787611Z"
    },
    "hide-output": false
   },
   "outputs": [
    {
     "data": {
      "text/plain": [
       "0    0.447846\n",
       "1    1.519560\n",
       "2    0.594393\n",
       "3    0.538753\n",
       "Name: daily returns, dtype: float64"
      ]
     },
     "execution_count": 7,
     "metadata": {},
     "output_type": "execute_result"
    }
   ],
   "source": [
    "np.abs(s)"
   ]
  },
  {
   "cell_type": "markdown",
   "id": "10571c53",
   "metadata": {},
   "source": [
    "But `Series` provide more than NumPy arrays.\n",
    "\n",
    "Not only do they have some additional (statistically oriented) methods"
   ]
  },
  {
   "cell_type": "code",
   "execution_count": 8,
   "id": "abf25e97",
   "metadata": {
    "execution": {
     "iopub.execute_input": "2024-04-07T15:52:20.795093Z",
     "iopub.status.busy": "2024-04-07T15:52:20.794726Z",
     "iopub.status.idle": "2024-04-07T15:52:20.804882Z",
     "shell.execute_reply": "2024-04-07T15:52:20.804302Z",
     "shell.execute_reply.started": "2024-04-07T15:52:20.795069Z"
    },
    "hide-output": false
   },
   "outputs": [
    {
     "data": {
      "text/plain": [
       "count    4.000000\n",
       "mean     0.208565\n",
       "std      0.996526\n",
       "min     -0.594393\n",
       "25%     -0.552663\n",
       "50%     -0.045453\n",
       "75%      0.715775\n",
       "max      1.519560\n",
       "Name: daily returns, dtype: float64"
      ]
     },
     "execution_count": 8,
     "metadata": {},
     "output_type": "execute_result"
    }
   ],
   "source": [
    "s.describe()"
   ]
  },
  {
   "cell_type": "markdown",
   "id": "84eeaf2a",
   "metadata": {},
   "source": [
    "But their indices are more flexible"
   ]
  },
  {
   "cell_type": "code",
   "execution_count": 9,
   "id": "4a20abbb",
   "metadata": {
    "execution": {
     "iopub.execute_input": "2024-04-07T15:52:32.573205Z",
     "iopub.status.busy": "2024-04-07T15:52:32.572581Z",
     "iopub.status.idle": "2024-04-07T15:52:32.579029Z",
     "shell.execute_reply": "2024-04-07T15:52:32.578430Z",
     "shell.execute_reply.started": "2024-04-07T15:52:32.573173Z"
    },
    "hide-output": false
   },
   "outputs": [
    {
     "data": {
      "text/plain": [
       "AMZN    0.447846\n",
       "AAPL    1.519560\n",
       "MSFT   -0.594393\n",
       "GOOG   -0.538753\n",
       "Name: daily returns, dtype: float64"
      ]
     },
     "execution_count": 9,
     "metadata": {},
     "output_type": "execute_result"
    }
   ],
   "source": [
    "s.index = ['AMZN', 'AAPL', 'MSFT', 'GOOG']\n",
    "s"
   ]
  },
  {
   "cell_type": "markdown",
   "id": "96e310a7",
   "metadata": {},
   "source": [
    "Viewed in this way, `Series` are like fast, efficient Python dictionaries\n",
    "(with the restriction that the items in the dictionary all have the same\n",
    "type—in this case, floats).\n",
    "\n",
    "In fact, you can use much of the same syntax as Python dictionaries"
   ]
  },
  {
   "cell_type": "code",
   "execution_count": 10,
   "id": "33237744",
   "metadata": {
    "execution": {
     "iopub.execute_input": "2024-04-07T15:52:55.547169Z",
     "iopub.status.busy": "2024-04-07T15:52:55.546493Z",
     "iopub.status.idle": "2024-04-07T15:52:55.553102Z",
     "shell.execute_reply": "2024-04-07T15:52:55.552653Z",
     "shell.execute_reply.started": "2024-04-07T15:52:55.547130Z"
    },
    "hide-output": false
   },
   "outputs": [
    {
     "data": {
      "text/plain": [
       "0.44784591600231133"
      ]
     },
     "execution_count": 10,
     "metadata": {},
     "output_type": "execute_result"
    }
   ],
   "source": [
    "s['AMZN']"
   ]
  },
  {
   "cell_type": "code",
   "execution_count": 11,
   "id": "cebf8905",
   "metadata": {
    "execution": {
     "iopub.execute_input": "2024-04-07T15:52:56.619331Z",
     "iopub.status.busy": "2024-04-07T15:52:56.618792Z",
     "iopub.status.idle": "2024-04-07T15:52:56.624495Z",
     "shell.execute_reply": "2024-04-07T15:52:56.623943Z",
     "shell.execute_reply.started": "2024-04-07T15:52:56.619304Z"
    },
    "hide-output": false
   },
   "outputs": [
    {
     "data": {
      "text/plain": [
       "AMZN    0.000000\n",
       "AAPL    1.519560\n",
       "MSFT   -0.594393\n",
       "GOOG   -0.538753\n",
       "Name: daily returns, dtype: float64"
      ]
     },
     "execution_count": 11,
     "metadata": {},
     "output_type": "execute_result"
    }
   ],
   "source": [
    "s['AMZN'] = 0\n",
    "s"
   ]
  },
  {
   "cell_type": "code",
   "execution_count": 12,
   "id": "df57045e",
   "metadata": {
    "execution": {
     "iopub.execute_input": "2024-04-07T15:52:59.204887Z",
     "iopub.status.busy": "2024-04-07T15:52:59.204198Z",
     "iopub.status.idle": "2024-04-07T15:52:59.208937Z",
     "shell.execute_reply": "2024-04-07T15:52:59.208427Z",
     "shell.execute_reply.started": "2024-04-07T15:52:59.204858Z"
    },
    "hide-output": false
   },
   "outputs": [
    {
     "data": {
      "text/plain": [
       "True"
      ]
     },
     "execution_count": 12,
     "metadata": {},
     "output_type": "execute_result"
    }
   ],
   "source": [
    "'AAPL' in s"
   ]
  },
  {
   "cell_type": "markdown",
   "id": "0a35d96f",
   "metadata": {},
   "source": [
    "## DataFrames\n",
    "\n",
    "\n",
    "<a id='index-3'></a>\n",
    "While a `Series` is a single column of data, a `DataFrame` is several columns, one for each variable.\n",
    "\n",
    "In essence, a `DataFrame` in pandas is analogous to a (highly optimized) Excel spreadsheet.\n",
    "\n",
    "Thus, it is a powerful tool for representing and analyzing data that are naturally organized into rows and columns, often with descriptive indexes for individual rows and individual columns.\n",
    "\n",
    "Let’s look at an example that reads data from the CSV file `test_pwt.csv`, which is taken from the [Penn World Tables](https://www.rug.nl/ggdc/productivity/pwt/pwt-releases/pwt-7.0).\n",
    "\n",
    "The dataset contains the following indicators\n",
    "\n",
    "|Variable Name|Description|\n",
    "|:------------------------------------------------:|:------------------------------------------------:|\n",
    "|POP|Population (in thousands)|\n",
    "|XRAT|Exchange Rate to US Dollar|\n",
    "|tcgdp|Total PPP Converted GDP (in million international dollar)|\n",
    "|cc|Consumption Share of PPP Converted GDP Per Capita (%)|\n",
    "|cg|Government Consumption Share of PPP Converted GDP Per Capita (%)|\n",
    "We’ll read this in from a URL using the `pandas` function `read_csv`."
   ]
  },
  {
   "cell_type": "code",
   "execution_count": 15,
   "id": "16a4dc2c",
   "metadata": {
    "execution": {
     "iopub.execute_input": "2024-04-07T16:03:10.855241Z",
     "iopub.status.busy": "2024-04-07T16:03:10.854746Z",
     "iopub.status.idle": "2024-04-07T16:03:10.861768Z",
     "shell.execute_reply": "2024-04-07T16:03:10.861323Z",
     "shell.execute_reply.started": "2024-04-07T16:03:10.855211Z"
    },
    "hide-output": false,
    "tags": []
   },
   "outputs": [
    {
     "data": {
      "text/plain": [
       "pandas.core.frame.DataFrame"
      ]
     },
     "execution_count": 15,
     "metadata": {},
     "output_type": "execute_result"
    }
   ],
   "source": [
    "df = pd.read_csv('test_pwt.csv')\n",
    "type(df)"
   ]
  },
  {
   "cell_type": "markdown",
   "id": "64dc7ca1",
   "metadata": {},
   "source": [
    "Here’s the content of `test_pwt.csv`"
   ]
  },
  {
   "cell_type": "code",
   "execution_count": 16,
   "id": "0c64169c",
   "metadata": {
    "execution": {
     "iopub.execute_input": "2024-04-07T16:03:12.739669Z",
     "iopub.status.busy": "2024-04-07T16:03:12.739128Z",
     "iopub.status.idle": "2024-04-07T16:03:12.750300Z",
     "shell.execute_reply": "2024-04-07T16:03:12.749828Z",
     "shell.execute_reply.started": "2024-04-07T16:03:12.739641Z"
    },
    "hide-output": false,
    "tags": []
   },
   "outputs": [
    {
     "data": {
      "text/html": [
       "<div>\n",
       "<style scoped>\n",
       "    .dataframe tbody tr th:only-of-type {\n",
       "        vertical-align: middle;\n",
       "    }\n",
       "\n",
       "    .dataframe tbody tr th {\n",
       "        vertical-align: top;\n",
       "    }\n",
       "\n",
       "    .dataframe thead th {\n",
       "        text-align: right;\n",
       "    }\n",
       "</style>\n",
       "<table border=\"1\" class=\"dataframe\">\n",
       "  <thead>\n",
       "    <tr style=\"text-align: right;\">\n",
       "      <th></th>\n",
       "      <th>country</th>\n",
       "      <th>country isocode</th>\n",
       "      <th>year</th>\n",
       "      <th>POP</th>\n",
       "      <th>XRAT</th>\n",
       "      <th>tcgdp</th>\n",
       "      <th>cc</th>\n",
       "      <th>cg</th>\n",
       "    </tr>\n",
       "  </thead>\n",
       "  <tbody>\n",
       "    <tr>\n",
       "      <th>0</th>\n",
       "      <td>Argentina</td>\n",
       "      <td>ARG</td>\n",
       "      <td>2000</td>\n",
       "      <td>37335.653</td>\n",
       "      <td>0.999500</td>\n",
       "      <td>2.950722e+05</td>\n",
       "      <td>75.716805</td>\n",
       "      <td>5.578804</td>\n",
       "    </tr>\n",
       "    <tr>\n",
       "      <th>1</th>\n",
       "      <td>Australia</td>\n",
       "      <td>AUS</td>\n",
       "      <td>2000</td>\n",
       "      <td>19053.186</td>\n",
       "      <td>1.724830</td>\n",
       "      <td>5.418047e+05</td>\n",
       "      <td>67.759026</td>\n",
       "      <td>6.720098</td>\n",
       "    </tr>\n",
       "    <tr>\n",
       "      <th>2</th>\n",
       "      <td>India</td>\n",
       "      <td>IND</td>\n",
       "      <td>2000</td>\n",
       "      <td>1006300.297</td>\n",
       "      <td>44.941600</td>\n",
       "      <td>1.728144e+06</td>\n",
       "      <td>64.575551</td>\n",
       "      <td>14.072206</td>\n",
       "    </tr>\n",
       "    <tr>\n",
       "      <th>3</th>\n",
       "      <td>Israel</td>\n",
       "      <td>ISR</td>\n",
       "      <td>2000</td>\n",
       "      <td>6114.570</td>\n",
       "      <td>4.077330</td>\n",
       "      <td>1.292539e+05</td>\n",
       "      <td>64.436451</td>\n",
       "      <td>10.266688</td>\n",
       "    </tr>\n",
       "    <tr>\n",
       "      <th>4</th>\n",
       "      <td>Malawi</td>\n",
       "      <td>MWI</td>\n",
       "      <td>2000</td>\n",
       "      <td>11801.505</td>\n",
       "      <td>59.543808</td>\n",
       "      <td>5.026222e+03</td>\n",
       "      <td>74.707624</td>\n",
       "      <td>11.658954</td>\n",
       "    </tr>\n",
       "    <tr>\n",
       "      <th>5</th>\n",
       "      <td>South Africa</td>\n",
       "      <td>ZAF</td>\n",
       "      <td>2000</td>\n",
       "      <td>45064.098</td>\n",
       "      <td>6.939830</td>\n",
       "      <td>2.272424e+05</td>\n",
       "      <td>72.718710</td>\n",
       "      <td>5.726546</td>\n",
       "    </tr>\n",
       "    <tr>\n",
       "      <th>6</th>\n",
       "      <td>United States</td>\n",
       "      <td>USA</td>\n",
       "      <td>2000</td>\n",
       "      <td>282171.957</td>\n",
       "      <td>1.000000</td>\n",
       "      <td>9.898700e+06</td>\n",
       "      <td>72.347054</td>\n",
       "      <td>6.032454</td>\n",
       "    </tr>\n",
       "    <tr>\n",
       "      <th>7</th>\n",
       "      <td>Uruguay</td>\n",
       "      <td>URY</td>\n",
       "      <td>2000</td>\n",
       "      <td>3219.793</td>\n",
       "      <td>12.099592</td>\n",
       "      <td>2.525596e+04</td>\n",
       "      <td>78.978740</td>\n",
       "      <td>5.108068</td>\n",
       "    </tr>\n",
       "  </tbody>\n",
       "</table>\n",
       "</div>"
      ],
      "text/plain": [
       "         country country isocode  year          POP       XRAT         tcgdp  \\\n",
       "0      Argentina             ARG  2000    37335.653   0.999500  2.950722e+05   \n",
       "1      Australia             AUS  2000    19053.186   1.724830  5.418047e+05   \n",
       "2          India             IND  2000  1006300.297  44.941600  1.728144e+06   \n",
       "3         Israel             ISR  2000     6114.570   4.077330  1.292539e+05   \n",
       "4         Malawi             MWI  2000    11801.505  59.543808  5.026222e+03   \n",
       "5   South Africa             ZAF  2000    45064.098   6.939830  2.272424e+05   \n",
       "6  United States             USA  2000   282171.957   1.000000  9.898700e+06   \n",
       "7        Uruguay             URY  2000     3219.793  12.099592  2.525596e+04   \n",
       "\n",
       "          cc         cg  \n",
       "0  75.716805   5.578804  \n",
       "1  67.759026   6.720098  \n",
       "2  64.575551  14.072206  \n",
       "3  64.436451  10.266688  \n",
       "4  74.707624  11.658954  \n",
       "5  72.718710   5.726546  \n",
       "6  72.347054   6.032454  \n",
       "7  78.978740   5.108068  "
      ]
     },
     "execution_count": 16,
     "metadata": {},
     "output_type": "execute_result"
    }
   ],
   "source": [
    "df"
   ]
  },
  {
   "cell_type": "markdown",
   "id": "8b235a51",
   "metadata": {},
   "source": [
    "### Select Data by Position\n",
    "\n",
    "In practice, one thing that we do all the time is to find, select and work with a subset of the data of our interests.\n",
    "\n",
    "We can select particular rows using standard Python array slicing notation"
   ]
  },
  {
   "cell_type": "code",
   "execution_count": 17,
   "id": "c0b522ce",
   "metadata": {
    "execution": {
     "iopub.execute_input": "2024-04-07T16:03:42.584350Z",
     "iopub.status.busy": "2024-04-07T16:03:42.583698Z",
     "iopub.status.idle": "2024-04-07T16:03:42.593310Z",
     "shell.execute_reply": "2024-04-07T16:03:42.592838Z",
     "shell.execute_reply.started": "2024-04-07T16:03:42.584319Z"
    },
    "hide-output": false
   },
   "outputs": [
    {
     "data": {
      "text/html": [
       "<div>\n",
       "<style scoped>\n",
       "    .dataframe tbody tr th:only-of-type {\n",
       "        vertical-align: middle;\n",
       "    }\n",
       "\n",
       "    .dataframe tbody tr th {\n",
       "        vertical-align: top;\n",
       "    }\n",
       "\n",
       "    .dataframe thead th {\n",
       "        text-align: right;\n",
       "    }\n",
       "</style>\n",
       "<table border=\"1\" class=\"dataframe\">\n",
       "  <thead>\n",
       "    <tr style=\"text-align: right;\">\n",
       "      <th></th>\n",
       "      <th>country</th>\n",
       "      <th>country isocode</th>\n",
       "      <th>year</th>\n",
       "      <th>POP</th>\n",
       "      <th>XRAT</th>\n",
       "      <th>tcgdp</th>\n",
       "      <th>cc</th>\n",
       "      <th>cg</th>\n",
       "    </tr>\n",
       "  </thead>\n",
       "  <tbody>\n",
       "    <tr>\n",
       "      <th>2</th>\n",
       "      <td>India</td>\n",
       "      <td>IND</td>\n",
       "      <td>2000</td>\n",
       "      <td>1006300.297</td>\n",
       "      <td>44.941600</td>\n",
       "      <td>1.728144e+06</td>\n",
       "      <td>64.575551</td>\n",
       "      <td>14.072206</td>\n",
       "    </tr>\n",
       "    <tr>\n",
       "      <th>3</th>\n",
       "      <td>Israel</td>\n",
       "      <td>ISR</td>\n",
       "      <td>2000</td>\n",
       "      <td>6114.570</td>\n",
       "      <td>4.077330</td>\n",
       "      <td>1.292539e+05</td>\n",
       "      <td>64.436451</td>\n",
       "      <td>10.266688</td>\n",
       "    </tr>\n",
       "    <tr>\n",
       "      <th>4</th>\n",
       "      <td>Malawi</td>\n",
       "      <td>MWI</td>\n",
       "      <td>2000</td>\n",
       "      <td>11801.505</td>\n",
       "      <td>59.543808</td>\n",
       "      <td>5.026222e+03</td>\n",
       "      <td>74.707624</td>\n",
       "      <td>11.658954</td>\n",
       "    </tr>\n",
       "  </tbody>\n",
       "</table>\n",
       "</div>"
      ],
      "text/plain": [
       "  country country isocode  year          POP       XRAT         tcgdp  \\\n",
       "2   India             IND  2000  1006300.297  44.941600  1.728144e+06   \n",
       "3  Israel             ISR  2000     6114.570   4.077330  1.292539e+05   \n",
       "4  Malawi             MWI  2000    11801.505  59.543808  5.026222e+03   \n",
       "\n",
       "          cc         cg  \n",
       "2  64.575551  14.072206  \n",
       "3  64.436451  10.266688  \n",
       "4  74.707624  11.658954  "
      ]
     },
     "execution_count": 17,
     "metadata": {},
     "output_type": "execute_result"
    }
   ],
   "source": [
    "df[2:5]"
   ]
  },
  {
   "cell_type": "markdown",
   "id": "0a32da71",
   "metadata": {},
   "source": [
    "To select columns, we can pass a list containing the names of the desired columns represented as strings"
   ]
  },
  {
   "cell_type": "code",
   "execution_count": 18,
   "id": "97e3406c",
   "metadata": {
    "execution": {
     "iopub.execute_input": "2024-04-07T16:04:09.681983Z",
     "iopub.status.busy": "2024-04-07T16:04:09.681209Z",
     "iopub.status.idle": "2024-04-07T16:04:09.692976Z",
     "shell.execute_reply": "2024-04-07T16:04:09.692528Z",
     "shell.execute_reply.started": "2024-04-07T16:04:09.681945Z"
    },
    "hide-output": false
   },
   "outputs": [
    {
     "data": {
      "text/html": [
       "<div>\n",
       "<style scoped>\n",
       "    .dataframe tbody tr th:only-of-type {\n",
       "        vertical-align: middle;\n",
       "    }\n",
       "\n",
       "    .dataframe tbody tr th {\n",
       "        vertical-align: top;\n",
       "    }\n",
       "\n",
       "    .dataframe thead th {\n",
       "        text-align: right;\n",
       "    }\n",
       "</style>\n",
       "<table border=\"1\" class=\"dataframe\">\n",
       "  <thead>\n",
       "    <tr style=\"text-align: right;\">\n",
       "      <th></th>\n",
       "      <th>country</th>\n",
       "      <th>tcgdp</th>\n",
       "    </tr>\n",
       "  </thead>\n",
       "  <tbody>\n",
       "    <tr>\n",
       "      <th>0</th>\n",
       "      <td>Argentina</td>\n",
       "      <td>2.950722e+05</td>\n",
       "    </tr>\n",
       "    <tr>\n",
       "      <th>1</th>\n",
       "      <td>Australia</td>\n",
       "      <td>5.418047e+05</td>\n",
       "    </tr>\n",
       "    <tr>\n",
       "      <th>2</th>\n",
       "      <td>India</td>\n",
       "      <td>1.728144e+06</td>\n",
       "    </tr>\n",
       "    <tr>\n",
       "      <th>3</th>\n",
       "      <td>Israel</td>\n",
       "      <td>1.292539e+05</td>\n",
       "    </tr>\n",
       "    <tr>\n",
       "      <th>4</th>\n",
       "      <td>Malawi</td>\n",
       "      <td>5.026222e+03</td>\n",
       "    </tr>\n",
       "    <tr>\n",
       "      <th>5</th>\n",
       "      <td>South Africa</td>\n",
       "      <td>2.272424e+05</td>\n",
       "    </tr>\n",
       "    <tr>\n",
       "      <th>6</th>\n",
       "      <td>United States</td>\n",
       "      <td>9.898700e+06</td>\n",
       "    </tr>\n",
       "    <tr>\n",
       "      <th>7</th>\n",
       "      <td>Uruguay</td>\n",
       "      <td>2.525596e+04</td>\n",
       "    </tr>\n",
       "  </tbody>\n",
       "</table>\n",
       "</div>"
      ],
      "text/plain": [
       "         country         tcgdp\n",
       "0      Argentina  2.950722e+05\n",
       "1      Australia  5.418047e+05\n",
       "2          India  1.728144e+06\n",
       "3         Israel  1.292539e+05\n",
       "4         Malawi  5.026222e+03\n",
       "5   South Africa  2.272424e+05\n",
       "6  United States  9.898700e+06\n",
       "7        Uruguay  2.525596e+04"
      ]
     },
     "execution_count": 18,
     "metadata": {},
     "output_type": "execute_result"
    }
   ],
   "source": [
    "df[['country', 'tcgdp']]"
   ]
  },
  {
   "cell_type": "markdown",
   "id": "cf59ca8a",
   "metadata": {},
   "source": [
    "To select both rows and columns using integers, the `iloc` attribute should be used with the format `.iloc[rows, columns]`."
   ]
  },
  {
   "cell_type": "code",
   "execution_count": 19,
   "id": "caf8e63d",
   "metadata": {
    "execution": {
     "iopub.execute_input": "2024-04-07T16:04:21.671366Z",
     "iopub.status.busy": "2024-04-07T16:04:21.670772Z",
     "iopub.status.idle": "2024-04-07T16:04:21.679535Z",
     "shell.execute_reply": "2024-04-07T16:04:21.679134Z",
     "shell.execute_reply.started": "2024-04-07T16:04:21.671338Z"
    },
    "hide-output": false
   },
   "outputs": [
    {
     "data": {
      "text/html": [
       "<div>\n",
       "<style scoped>\n",
       "    .dataframe tbody tr th:only-of-type {\n",
       "        vertical-align: middle;\n",
       "    }\n",
       "\n",
       "    .dataframe tbody tr th {\n",
       "        vertical-align: top;\n",
       "    }\n",
       "\n",
       "    .dataframe thead th {\n",
       "        text-align: right;\n",
       "    }\n",
       "</style>\n",
       "<table border=\"1\" class=\"dataframe\">\n",
       "  <thead>\n",
       "    <tr style=\"text-align: right;\">\n",
       "      <th></th>\n",
       "      <th>country</th>\n",
       "      <th>country isocode</th>\n",
       "      <th>year</th>\n",
       "      <th>POP</th>\n",
       "    </tr>\n",
       "  </thead>\n",
       "  <tbody>\n",
       "    <tr>\n",
       "      <th>2</th>\n",
       "      <td>India</td>\n",
       "      <td>IND</td>\n",
       "      <td>2000</td>\n",
       "      <td>1006300.297</td>\n",
       "    </tr>\n",
       "    <tr>\n",
       "      <th>3</th>\n",
       "      <td>Israel</td>\n",
       "      <td>ISR</td>\n",
       "      <td>2000</td>\n",
       "      <td>6114.570</td>\n",
       "    </tr>\n",
       "    <tr>\n",
       "      <th>4</th>\n",
       "      <td>Malawi</td>\n",
       "      <td>MWI</td>\n",
       "      <td>2000</td>\n",
       "      <td>11801.505</td>\n",
       "    </tr>\n",
       "  </tbody>\n",
       "</table>\n",
       "</div>"
      ],
      "text/plain": [
       "  country country isocode  year          POP\n",
       "2   India             IND  2000  1006300.297\n",
       "3  Israel             ISR  2000     6114.570\n",
       "4  Malawi             MWI  2000    11801.505"
      ]
     },
     "execution_count": 19,
     "metadata": {},
     "output_type": "execute_result"
    }
   ],
   "source": [
    "df.iloc[2:5, 0:4]"
   ]
  },
  {
   "cell_type": "markdown",
   "id": "3cf99dca",
   "metadata": {},
   "source": [
    "To select rows and columns using a mixture of integers and labels, the `loc` attribute can be used in a similar way"
   ]
  },
  {
   "cell_type": "code",
   "execution_count": 20,
   "id": "e24fa75f",
   "metadata": {
    "execution": {
     "iopub.execute_input": "2024-04-07T16:04:34.796039Z",
     "iopub.status.busy": "2024-04-07T16:04:34.795332Z",
     "iopub.status.idle": "2024-04-07T16:04:34.804429Z",
     "shell.execute_reply": "2024-04-07T16:04:34.803986Z",
     "shell.execute_reply.started": "2024-04-07T16:04:34.796005Z"
    },
    "hide-output": false
   },
   "outputs": [
    {
     "data": {
      "text/html": [
       "<div>\n",
       "<style scoped>\n",
       "    .dataframe tbody tr th:only-of-type {\n",
       "        vertical-align: middle;\n",
       "    }\n",
       "\n",
       "    .dataframe tbody tr th {\n",
       "        vertical-align: top;\n",
       "    }\n",
       "\n",
       "    .dataframe thead th {\n",
       "        text-align: right;\n",
       "    }\n",
       "</style>\n",
       "<table border=\"1\" class=\"dataframe\">\n",
       "  <thead>\n",
       "    <tr style=\"text-align: right;\">\n",
       "      <th></th>\n",
       "      <th>country</th>\n",
       "      <th>tcgdp</th>\n",
       "    </tr>\n",
       "  </thead>\n",
       "  <tbody>\n",
       "    <tr>\n",
       "      <th>2</th>\n",
       "      <td>India</td>\n",
       "      <td>1.728144e+06</td>\n",
       "    </tr>\n",
       "    <tr>\n",
       "      <th>3</th>\n",
       "      <td>Israel</td>\n",
       "      <td>1.292539e+05</td>\n",
       "    </tr>\n",
       "    <tr>\n",
       "      <th>4</th>\n",
       "      <td>Malawi</td>\n",
       "      <td>5.026222e+03</td>\n",
       "    </tr>\n",
       "  </tbody>\n",
       "</table>\n",
       "</div>"
      ],
      "text/plain": [
       "  country         tcgdp\n",
       "2   India  1.728144e+06\n",
       "3  Israel  1.292539e+05\n",
       "4  Malawi  5.026222e+03"
      ]
     },
     "execution_count": 20,
     "metadata": {},
     "output_type": "execute_result"
    }
   ],
   "source": [
    "df.loc[df.index[2:5], ['country', 'tcgdp']]"
   ]
  },
  {
   "cell_type": "markdown",
   "id": "49d3d80d",
   "metadata": {},
   "source": [
    "### Select Data by Conditions\n",
    "\n",
    "Instead of indexing rows and columns using integers and names, we can also obtain a sub-dataframe of our interests that satisfies certain (potentially complicated) conditions.\n",
    "\n",
    "This section demonstrates various ways to do that.\n",
    "\n",
    "The most straightforward way is with the `[]` operator."
   ]
  },
  {
   "cell_type": "code",
   "execution_count": 21,
   "id": "e4264058",
   "metadata": {
    "execution": {
     "iopub.execute_input": "2024-04-07T16:06:25.105520Z",
     "iopub.status.busy": "2024-04-07T16:06:25.104735Z",
     "iopub.status.idle": "2024-04-07T16:06:25.116569Z",
     "shell.execute_reply": "2024-04-07T16:06:25.116130Z",
     "shell.execute_reply.started": "2024-04-07T16:06:25.105473Z"
    },
    "hide-output": false
   },
   "outputs": [
    {
     "data": {
      "text/html": [
       "<div>\n",
       "<style scoped>\n",
       "    .dataframe tbody tr th:only-of-type {\n",
       "        vertical-align: middle;\n",
       "    }\n",
       "\n",
       "    .dataframe tbody tr th {\n",
       "        vertical-align: top;\n",
       "    }\n",
       "\n",
       "    .dataframe thead th {\n",
       "        text-align: right;\n",
       "    }\n",
       "</style>\n",
       "<table border=\"1\" class=\"dataframe\">\n",
       "  <thead>\n",
       "    <tr style=\"text-align: right;\">\n",
       "      <th></th>\n",
       "      <th>country</th>\n",
       "      <th>country isocode</th>\n",
       "      <th>year</th>\n",
       "      <th>POP</th>\n",
       "      <th>XRAT</th>\n",
       "      <th>tcgdp</th>\n",
       "      <th>cc</th>\n",
       "      <th>cg</th>\n",
       "    </tr>\n",
       "  </thead>\n",
       "  <tbody>\n",
       "    <tr>\n",
       "      <th>0</th>\n",
       "      <td>Argentina</td>\n",
       "      <td>ARG</td>\n",
       "      <td>2000</td>\n",
       "      <td>37335.653</td>\n",
       "      <td>0.99950</td>\n",
       "      <td>2.950722e+05</td>\n",
       "      <td>75.716805</td>\n",
       "      <td>5.578804</td>\n",
       "    </tr>\n",
       "    <tr>\n",
       "      <th>2</th>\n",
       "      <td>India</td>\n",
       "      <td>IND</td>\n",
       "      <td>2000</td>\n",
       "      <td>1006300.297</td>\n",
       "      <td>44.94160</td>\n",
       "      <td>1.728144e+06</td>\n",
       "      <td>64.575551</td>\n",
       "      <td>14.072206</td>\n",
       "    </tr>\n",
       "    <tr>\n",
       "      <th>5</th>\n",
       "      <td>South Africa</td>\n",
       "      <td>ZAF</td>\n",
       "      <td>2000</td>\n",
       "      <td>45064.098</td>\n",
       "      <td>6.93983</td>\n",
       "      <td>2.272424e+05</td>\n",
       "      <td>72.718710</td>\n",
       "      <td>5.726546</td>\n",
       "    </tr>\n",
       "    <tr>\n",
       "      <th>6</th>\n",
       "      <td>United States</td>\n",
       "      <td>USA</td>\n",
       "      <td>2000</td>\n",
       "      <td>282171.957</td>\n",
       "      <td>1.00000</td>\n",
       "      <td>9.898700e+06</td>\n",
       "      <td>72.347054</td>\n",
       "      <td>6.032454</td>\n",
       "    </tr>\n",
       "  </tbody>\n",
       "</table>\n",
       "</div>"
      ],
      "text/plain": [
       "         country country isocode  year          POP      XRAT         tcgdp  \\\n",
       "0      Argentina             ARG  2000    37335.653   0.99950  2.950722e+05   \n",
       "2          India             IND  2000  1006300.297  44.94160  1.728144e+06   \n",
       "5   South Africa             ZAF  2000    45064.098   6.93983  2.272424e+05   \n",
       "6  United States             USA  2000   282171.957   1.00000  9.898700e+06   \n",
       "\n",
       "          cc         cg  \n",
       "0  75.716805   5.578804  \n",
       "2  64.575551  14.072206  \n",
       "5  72.718710   5.726546  \n",
       "6  72.347054   6.032454  "
      ]
     },
     "execution_count": 21,
     "metadata": {},
     "output_type": "execute_result"
    }
   ],
   "source": [
    "df[df.POP >= 20000]"
   ]
  },
  {
   "cell_type": "markdown",
   "id": "dacb2643",
   "metadata": {},
   "source": [
    "To understand what is going on here, notice that `df.POP >= 20000` returns a series of boolean values."
   ]
  },
  {
   "cell_type": "code",
   "execution_count": 22,
   "id": "6287a5ba",
   "metadata": {
    "execution": {
     "iopub.execute_input": "2024-04-07T16:06:44.467695Z",
     "iopub.status.busy": "2024-04-07T16:06:44.467194Z",
     "iopub.status.idle": "2024-04-07T16:06:44.472715Z",
     "shell.execute_reply": "2024-04-07T16:06:44.472048Z",
     "shell.execute_reply.started": "2024-04-07T16:06:44.467665Z"
    },
    "hide-output": false
   },
   "outputs": [
    {
     "data": {
      "text/plain": [
       "0     True\n",
       "1    False\n",
       "2     True\n",
       "3    False\n",
       "4    False\n",
       "5     True\n",
       "6     True\n",
       "7    False\n",
       "Name: POP, dtype: bool"
      ]
     },
     "execution_count": 22,
     "metadata": {},
     "output_type": "execute_result"
    }
   ],
   "source": [
    "df.POP >= 20000"
   ]
  },
  {
   "cell_type": "markdown",
   "id": "15f689d9",
   "metadata": {},
   "source": [
    "In this case, `df[___]` takes a series of boolean values and only returns rows with the `True` values.\n",
    "\n",
    "Take one more example,"
   ]
  },
  {
   "cell_type": "code",
   "execution_count": 23,
   "id": "5ae370b6",
   "metadata": {
    "execution": {
     "iopub.execute_input": "2024-04-07T16:06:56.465472Z",
     "iopub.status.busy": "2024-04-07T16:06:56.464766Z",
     "iopub.status.idle": "2024-04-07T16:06:56.476829Z",
     "shell.execute_reply": "2024-04-07T16:06:56.476238Z",
     "shell.execute_reply.started": "2024-04-07T16:06:56.465441Z"
    },
    "hide-output": false
   },
   "outputs": [
    {
     "data": {
      "text/html": [
       "<div>\n",
       "<style scoped>\n",
       "    .dataframe tbody tr th:only-of-type {\n",
       "        vertical-align: middle;\n",
       "    }\n",
       "\n",
       "    .dataframe tbody tr th {\n",
       "        vertical-align: top;\n",
       "    }\n",
       "\n",
       "    .dataframe thead th {\n",
       "        text-align: right;\n",
       "    }\n",
       "</style>\n",
       "<table border=\"1\" class=\"dataframe\">\n",
       "  <thead>\n",
       "    <tr style=\"text-align: right;\">\n",
       "      <th></th>\n",
       "      <th>country</th>\n",
       "      <th>country isocode</th>\n",
       "      <th>year</th>\n",
       "      <th>POP</th>\n",
       "      <th>XRAT</th>\n",
       "      <th>tcgdp</th>\n",
       "      <th>cc</th>\n",
       "      <th>cg</th>\n",
       "    </tr>\n",
       "  </thead>\n",
       "  <tbody>\n",
       "    <tr>\n",
       "      <th>2</th>\n",
       "      <td>India</td>\n",
       "      <td>IND</td>\n",
       "      <td>2000</td>\n",
       "      <td>1006300.297</td>\n",
       "      <td>44.94160</td>\n",
       "      <td>1.728144e+06</td>\n",
       "      <td>64.575551</td>\n",
       "      <td>14.072206</td>\n",
       "    </tr>\n",
       "    <tr>\n",
       "      <th>5</th>\n",
       "      <td>South Africa</td>\n",
       "      <td>ZAF</td>\n",
       "      <td>2000</td>\n",
       "      <td>45064.098</td>\n",
       "      <td>6.93983</td>\n",
       "      <td>2.272424e+05</td>\n",
       "      <td>72.718710</td>\n",
       "      <td>5.726546</td>\n",
       "    </tr>\n",
       "  </tbody>\n",
       "</table>\n",
       "</div>"
      ],
      "text/plain": [
       "        country country isocode  year          POP      XRAT         tcgdp  \\\n",
       "2         India             IND  2000  1006300.297  44.94160  1.728144e+06   \n",
       "5  South Africa             ZAF  2000    45064.098   6.93983  2.272424e+05   \n",
       "\n",
       "          cc         cg  \n",
       "2  64.575551  14.072206  \n",
       "5  72.718710   5.726546  "
      ]
     },
     "execution_count": 23,
     "metadata": {},
     "output_type": "execute_result"
    }
   ],
   "source": [
    "df[(df.country.isin(['Argentina', 'India', 'South Africa'])) & (df.POP > 40000)]"
   ]
  },
  {
   "cell_type": "markdown",
   "id": "e61d2ea8",
   "metadata": {},
   "source": [
    "However, there is another way of doing the same thing, which can be slightly faster for large dataframes, with more natural syntax."
   ]
  },
  {
   "cell_type": "code",
   "execution_count": 24,
   "id": "234c3396",
   "metadata": {
    "execution": {
     "iopub.execute_input": "2024-04-07T16:07:11.089605Z",
     "iopub.status.busy": "2024-04-07T16:07:11.088942Z",
     "iopub.status.idle": "2024-04-07T16:07:11.101590Z",
     "shell.execute_reply": "2024-04-07T16:07:11.101137Z",
     "shell.execute_reply.started": "2024-04-07T16:07:11.089577Z"
    },
    "hide-output": false
   },
   "outputs": [
    {
     "data": {
      "text/html": [
       "<div>\n",
       "<style scoped>\n",
       "    .dataframe tbody tr th:only-of-type {\n",
       "        vertical-align: middle;\n",
       "    }\n",
       "\n",
       "    .dataframe tbody tr th {\n",
       "        vertical-align: top;\n",
       "    }\n",
       "\n",
       "    .dataframe thead th {\n",
       "        text-align: right;\n",
       "    }\n",
       "</style>\n",
       "<table border=\"1\" class=\"dataframe\">\n",
       "  <thead>\n",
       "    <tr style=\"text-align: right;\">\n",
       "      <th></th>\n",
       "      <th>country</th>\n",
       "      <th>country isocode</th>\n",
       "      <th>year</th>\n",
       "      <th>POP</th>\n",
       "      <th>XRAT</th>\n",
       "      <th>tcgdp</th>\n",
       "      <th>cc</th>\n",
       "      <th>cg</th>\n",
       "    </tr>\n",
       "  </thead>\n",
       "  <tbody>\n",
       "    <tr>\n",
       "      <th>0</th>\n",
       "      <td>Argentina</td>\n",
       "      <td>ARG</td>\n",
       "      <td>2000</td>\n",
       "      <td>37335.653</td>\n",
       "      <td>0.99950</td>\n",
       "      <td>2.950722e+05</td>\n",
       "      <td>75.716805</td>\n",
       "      <td>5.578804</td>\n",
       "    </tr>\n",
       "    <tr>\n",
       "      <th>2</th>\n",
       "      <td>India</td>\n",
       "      <td>IND</td>\n",
       "      <td>2000</td>\n",
       "      <td>1006300.297</td>\n",
       "      <td>44.94160</td>\n",
       "      <td>1.728144e+06</td>\n",
       "      <td>64.575551</td>\n",
       "      <td>14.072206</td>\n",
       "    </tr>\n",
       "    <tr>\n",
       "      <th>5</th>\n",
       "      <td>South Africa</td>\n",
       "      <td>ZAF</td>\n",
       "      <td>2000</td>\n",
       "      <td>45064.098</td>\n",
       "      <td>6.93983</td>\n",
       "      <td>2.272424e+05</td>\n",
       "      <td>72.718710</td>\n",
       "      <td>5.726546</td>\n",
       "    </tr>\n",
       "    <tr>\n",
       "      <th>6</th>\n",
       "      <td>United States</td>\n",
       "      <td>USA</td>\n",
       "      <td>2000</td>\n",
       "      <td>282171.957</td>\n",
       "      <td>1.00000</td>\n",
       "      <td>9.898700e+06</td>\n",
       "      <td>72.347054</td>\n",
       "      <td>6.032454</td>\n",
       "    </tr>\n",
       "  </tbody>\n",
       "</table>\n",
       "</div>"
      ],
      "text/plain": [
       "         country country isocode  year          POP      XRAT         tcgdp  \\\n",
       "0      Argentina             ARG  2000    37335.653   0.99950  2.950722e+05   \n",
       "2          India             IND  2000  1006300.297  44.94160  1.728144e+06   \n",
       "5   South Africa             ZAF  2000    45064.098   6.93983  2.272424e+05   \n",
       "6  United States             USA  2000   282171.957   1.00000  9.898700e+06   \n",
       "\n",
       "          cc         cg  \n",
       "0  75.716805   5.578804  \n",
       "2  64.575551  14.072206  \n",
       "5  72.718710   5.726546  \n",
       "6  72.347054   6.032454  "
      ]
     },
     "execution_count": 24,
     "metadata": {},
     "output_type": "execute_result"
    }
   ],
   "source": [
    "# the above is equivalent to \n",
    "df.query(\"POP >= 20000\")"
   ]
  },
  {
   "cell_type": "code",
   "execution_count": 25,
   "id": "103c6f64",
   "metadata": {
    "execution": {
     "iopub.execute_input": "2024-04-07T16:07:25.441330Z",
     "iopub.status.busy": "2024-04-07T16:07:25.440790Z",
     "iopub.status.idle": "2024-04-07T16:07:25.453110Z",
     "shell.execute_reply": "2024-04-07T16:07:25.452603Z",
     "shell.execute_reply.started": "2024-04-07T16:07:25.441300Z"
    },
    "hide-output": false
   },
   "outputs": [
    {
     "data": {
      "text/html": [
       "<div>\n",
       "<style scoped>\n",
       "    .dataframe tbody tr th:only-of-type {\n",
       "        vertical-align: middle;\n",
       "    }\n",
       "\n",
       "    .dataframe tbody tr th {\n",
       "        vertical-align: top;\n",
       "    }\n",
       "\n",
       "    .dataframe thead th {\n",
       "        text-align: right;\n",
       "    }\n",
       "</style>\n",
       "<table border=\"1\" class=\"dataframe\">\n",
       "  <thead>\n",
       "    <tr style=\"text-align: right;\">\n",
       "      <th></th>\n",
       "      <th>country</th>\n",
       "      <th>country isocode</th>\n",
       "      <th>year</th>\n",
       "      <th>POP</th>\n",
       "      <th>XRAT</th>\n",
       "      <th>tcgdp</th>\n",
       "      <th>cc</th>\n",
       "      <th>cg</th>\n",
       "    </tr>\n",
       "  </thead>\n",
       "  <tbody>\n",
       "    <tr>\n",
       "      <th>2</th>\n",
       "      <td>India</td>\n",
       "      <td>IND</td>\n",
       "      <td>2000</td>\n",
       "      <td>1006300.297</td>\n",
       "      <td>44.94160</td>\n",
       "      <td>1.728144e+06</td>\n",
       "      <td>64.575551</td>\n",
       "      <td>14.072206</td>\n",
       "    </tr>\n",
       "    <tr>\n",
       "      <th>5</th>\n",
       "      <td>South Africa</td>\n",
       "      <td>ZAF</td>\n",
       "      <td>2000</td>\n",
       "      <td>45064.098</td>\n",
       "      <td>6.93983</td>\n",
       "      <td>2.272424e+05</td>\n",
       "      <td>72.718710</td>\n",
       "      <td>5.726546</td>\n",
       "    </tr>\n",
       "  </tbody>\n",
       "</table>\n",
       "</div>"
      ],
      "text/plain": [
       "        country country isocode  year          POP      XRAT         tcgdp  \\\n",
       "2         India             IND  2000  1006300.297  44.94160  1.728144e+06   \n",
       "5  South Africa             ZAF  2000    45064.098   6.93983  2.272424e+05   \n",
       "\n",
       "          cc         cg  \n",
       "2  64.575551  14.072206  \n",
       "5  72.718710   5.726546  "
      ]
     },
     "execution_count": 25,
     "metadata": {},
     "output_type": "execute_result"
    }
   ],
   "source": [
    "df.query(\"country in ['Argentina', 'India', 'South Africa'] and POP > 40000\")"
   ]
  },
  {
   "cell_type": "markdown",
   "id": "95452afe",
   "metadata": {},
   "source": [
    "We can also allow arithmetic operations between different columns."
   ]
  },
  {
   "cell_type": "code",
   "execution_count": 26,
   "id": "e8155e32",
   "metadata": {
    "execution": {
     "iopub.execute_input": "2024-04-07T16:07:31.794093Z",
     "iopub.status.busy": "2024-04-07T16:07:31.793550Z",
     "iopub.status.idle": "2024-04-07T16:07:31.803901Z",
     "shell.execute_reply": "2024-04-07T16:07:31.803385Z",
     "shell.execute_reply.started": "2024-04-07T16:07:31.794066Z"
    },
    "hide-output": false
   },
   "outputs": [
    {
     "data": {
      "text/html": [
       "<div>\n",
       "<style scoped>\n",
       "    .dataframe tbody tr th:only-of-type {\n",
       "        vertical-align: middle;\n",
       "    }\n",
       "\n",
       "    .dataframe tbody tr th {\n",
       "        vertical-align: top;\n",
       "    }\n",
       "\n",
       "    .dataframe thead th {\n",
       "        text-align: right;\n",
       "    }\n",
       "</style>\n",
       "<table border=\"1\" class=\"dataframe\">\n",
       "  <thead>\n",
       "    <tr style=\"text-align: right;\">\n",
       "      <th></th>\n",
       "      <th>country</th>\n",
       "      <th>country isocode</th>\n",
       "      <th>year</th>\n",
       "      <th>POP</th>\n",
       "      <th>XRAT</th>\n",
       "      <th>tcgdp</th>\n",
       "      <th>cc</th>\n",
       "      <th>cg</th>\n",
       "    </tr>\n",
       "  </thead>\n",
       "  <tbody>\n",
       "    <tr>\n",
       "      <th>4</th>\n",
       "      <td>Malawi</td>\n",
       "      <td>MWI</td>\n",
       "      <td>2000</td>\n",
       "      <td>11801.505</td>\n",
       "      <td>59.543808</td>\n",
       "      <td>5026.221784</td>\n",
       "      <td>74.707624</td>\n",
       "      <td>11.658954</td>\n",
       "    </tr>\n",
       "    <tr>\n",
       "      <th>7</th>\n",
       "      <td>Uruguay</td>\n",
       "      <td>URY</td>\n",
       "      <td>2000</td>\n",
       "      <td>3219.793</td>\n",
       "      <td>12.099592</td>\n",
       "      <td>25255.961693</td>\n",
       "      <td>78.978740</td>\n",
       "      <td>5.108068</td>\n",
       "    </tr>\n",
       "  </tbody>\n",
       "</table>\n",
       "</div>"
      ],
      "text/plain": [
       "   country country isocode  year        POP       XRAT         tcgdp  \\\n",
       "4   Malawi             MWI  2000  11801.505  59.543808   5026.221784   \n",
       "7  Uruguay             URY  2000   3219.793  12.099592  25255.961693   \n",
       "\n",
       "          cc         cg  \n",
       "4  74.707624  11.658954  \n",
       "7  78.978740   5.108068  "
      ]
     },
     "execution_count": 26,
     "metadata": {},
     "output_type": "execute_result"
    }
   ],
   "source": [
    "df[(df.cc + df.cg >= 80) & (df.POP <= 20000)]"
   ]
  },
  {
   "cell_type": "code",
   "execution_count": 27,
   "id": "6849f7ce",
   "metadata": {
    "execution": {
     "iopub.execute_input": "2024-04-07T16:07:35.064213Z",
     "iopub.status.busy": "2024-04-07T16:07:35.063523Z",
     "iopub.status.idle": "2024-04-07T16:07:35.074625Z",
     "shell.execute_reply": "2024-04-07T16:07:35.074204Z",
     "shell.execute_reply.started": "2024-04-07T16:07:35.064184Z"
    },
    "hide-output": false
   },
   "outputs": [
    {
     "data": {
      "text/html": [
       "<div>\n",
       "<style scoped>\n",
       "    .dataframe tbody tr th:only-of-type {\n",
       "        vertical-align: middle;\n",
       "    }\n",
       "\n",
       "    .dataframe tbody tr th {\n",
       "        vertical-align: top;\n",
       "    }\n",
       "\n",
       "    .dataframe thead th {\n",
       "        text-align: right;\n",
       "    }\n",
       "</style>\n",
       "<table border=\"1\" class=\"dataframe\">\n",
       "  <thead>\n",
       "    <tr style=\"text-align: right;\">\n",
       "      <th></th>\n",
       "      <th>country</th>\n",
       "      <th>country isocode</th>\n",
       "      <th>year</th>\n",
       "      <th>POP</th>\n",
       "      <th>XRAT</th>\n",
       "      <th>tcgdp</th>\n",
       "      <th>cc</th>\n",
       "      <th>cg</th>\n",
       "    </tr>\n",
       "  </thead>\n",
       "  <tbody>\n",
       "    <tr>\n",
       "      <th>4</th>\n",
       "      <td>Malawi</td>\n",
       "      <td>MWI</td>\n",
       "      <td>2000</td>\n",
       "      <td>11801.505</td>\n",
       "      <td>59.543808</td>\n",
       "      <td>5026.221784</td>\n",
       "      <td>74.707624</td>\n",
       "      <td>11.658954</td>\n",
       "    </tr>\n",
       "    <tr>\n",
       "      <th>7</th>\n",
       "      <td>Uruguay</td>\n",
       "      <td>URY</td>\n",
       "      <td>2000</td>\n",
       "      <td>3219.793</td>\n",
       "      <td>12.099592</td>\n",
       "      <td>25255.961693</td>\n",
       "      <td>78.978740</td>\n",
       "      <td>5.108068</td>\n",
       "    </tr>\n",
       "  </tbody>\n",
       "</table>\n",
       "</div>"
      ],
      "text/plain": [
       "   country country isocode  year        POP       XRAT         tcgdp  \\\n",
       "4   Malawi             MWI  2000  11801.505  59.543808   5026.221784   \n",
       "7  Uruguay             URY  2000   3219.793  12.099592  25255.961693   \n",
       "\n",
       "          cc         cg  \n",
       "4  74.707624  11.658954  \n",
       "7  78.978740   5.108068  "
      ]
     },
     "execution_count": 27,
     "metadata": {},
     "output_type": "execute_result"
    }
   ],
   "source": [
    "# the above is equivalent to \n",
    "df.query(\"cc + cg >= 80 & POP <= 20000\")"
   ]
  },
  {
   "cell_type": "markdown",
   "id": "235969ed",
   "metadata": {},
   "source": [
    "For example, we can use the conditioning to select the country with the largest household consumption - gdp share `cc`."
   ]
  },
  {
   "cell_type": "code",
   "execution_count": 28,
   "id": "e0378437",
   "metadata": {
    "execution": {
     "iopub.execute_input": "2024-04-07T16:07:41.770510Z",
     "iopub.status.busy": "2024-04-07T16:07:41.769969Z",
     "iopub.status.idle": "2024-04-07T16:07:41.779528Z",
     "shell.execute_reply": "2024-04-07T16:07:41.779079Z",
     "shell.execute_reply.started": "2024-04-07T16:07:41.770482Z"
    },
    "hide-output": false
   },
   "outputs": [
    {
     "data": {
      "text/html": [
       "<div>\n",
       "<style scoped>\n",
       "    .dataframe tbody tr th:only-of-type {\n",
       "        vertical-align: middle;\n",
       "    }\n",
       "\n",
       "    .dataframe tbody tr th {\n",
       "        vertical-align: top;\n",
       "    }\n",
       "\n",
       "    .dataframe thead th {\n",
       "        text-align: right;\n",
       "    }\n",
       "</style>\n",
       "<table border=\"1\" class=\"dataframe\">\n",
       "  <thead>\n",
       "    <tr style=\"text-align: right;\">\n",
       "      <th></th>\n",
       "      <th>country</th>\n",
       "      <th>country isocode</th>\n",
       "      <th>year</th>\n",
       "      <th>POP</th>\n",
       "      <th>XRAT</th>\n",
       "      <th>tcgdp</th>\n",
       "      <th>cc</th>\n",
       "      <th>cg</th>\n",
       "    </tr>\n",
       "  </thead>\n",
       "  <tbody>\n",
       "    <tr>\n",
       "      <th>7</th>\n",
       "      <td>Uruguay</td>\n",
       "      <td>URY</td>\n",
       "      <td>2000</td>\n",
       "      <td>3219.793</td>\n",
       "      <td>12.099592</td>\n",
       "      <td>25255.961693</td>\n",
       "      <td>78.97874</td>\n",
       "      <td>5.108068</td>\n",
       "    </tr>\n",
       "  </tbody>\n",
       "</table>\n",
       "</div>"
      ],
      "text/plain": [
       "   country country isocode  year       POP       XRAT         tcgdp        cc  \\\n",
       "7  Uruguay             URY  2000  3219.793  12.099592  25255.961693  78.97874   \n",
       "\n",
       "         cg  \n",
       "7  5.108068  "
      ]
     },
     "execution_count": 28,
     "metadata": {},
     "output_type": "execute_result"
    }
   ],
   "source": [
    "df.loc[df.cc == max(df.cc)]"
   ]
  },
  {
   "cell_type": "markdown",
   "id": "1be33a95",
   "metadata": {},
   "source": [
    "When we only want to look at certain columns of a selected sub-dataframe, we can use the above conditions with the `.loc[__ , __]` command.\n",
    "\n",
    "The first argument takes the condition, while the second argument takes a list of columns we want to return."
   ]
  },
  {
   "cell_type": "code",
   "execution_count": 29,
   "id": "0ed8a93b",
   "metadata": {
    "execution": {
     "iopub.execute_input": "2024-04-07T16:08:23.497967Z",
     "iopub.status.busy": "2024-04-07T16:08:23.497443Z",
     "iopub.status.idle": "2024-04-07T16:08:23.507519Z",
     "shell.execute_reply": "2024-04-07T16:08:23.507027Z",
     "shell.execute_reply.started": "2024-04-07T16:08:23.497936Z"
    },
    "hide-output": false
   },
   "outputs": [
    {
     "data": {
      "text/html": [
       "<div>\n",
       "<style scoped>\n",
       "    .dataframe tbody tr th:only-of-type {\n",
       "        vertical-align: middle;\n",
       "    }\n",
       "\n",
       "    .dataframe tbody tr th {\n",
       "        vertical-align: top;\n",
       "    }\n",
       "\n",
       "    .dataframe thead th {\n",
       "        text-align: right;\n",
       "    }\n",
       "</style>\n",
       "<table border=\"1\" class=\"dataframe\">\n",
       "  <thead>\n",
       "    <tr style=\"text-align: right;\">\n",
       "      <th></th>\n",
       "      <th>country</th>\n",
       "      <th>year</th>\n",
       "      <th>POP</th>\n",
       "    </tr>\n",
       "  </thead>\n",
       "  <tbody>\n",
       "    <tr>\n",
       "      <th>4</th>\n",
       "      <td>Malawi</td>\n",
       "      <td>2000</td>\n",
       "      <td>11801.505</td>\n",
       "    </tr>\n",
       "    <tr>\n",
       "      <th>7</th>\n",
       "      <td>Uruguay</td>\n",
       "      <td>2000</td>\n",
       "      <td>3219.793</td>\n",
       "    </tr>\n",
       "  </tbody>\n",
       "</table>\n",
       "</div>"
      ],
      "text/plain": [
       "   country  year        POP\n",
       "4   Malawi  2000  11801.505\n",
       "7  Uruguay  2000   3219.793"
      ]
     },
     "execution_count": 29,
     "metadata": {},
     "output_type": "execute_result"
    }
   ],
   "source": [
    "df.loc[(df.cc + df.cg >= 80) & (df.POP <= 20000), ['country', 'year', 'POP']]"
   ]
  },
  {
   "cell_type": "markdown",
   "id": "960d872a",
   "metadata": {},
   "source": [
    "**Application: Subsetting Dataframe**\n",
    "\n",
    "Real-world datasets can be [enormous](https://developers.google.com/machine-learning/data-prep/construct/collect/data-size-quality).\n",
    "\n",
    "It is sometimes desirable to work with a subset of data to enhance computational efficiency and reduce redundancy.\n",
    "\n",
    "Let’s imagine that we’re only interested in the population (`POP`) and total GDP (`tcgdp`).\n",
    "\n",
    "One way to strip the data frame `df` down to only these variables is to overwrite the dataframe using the selection method described above"
   ]
  },
  {
   "cell_type": "code",
   "execution_count": 30,
   "id": "1ed031ea",
   "metadata": {
    "execution": {
     "iopub.execute_input": "2024-04-07T16:08:34.735844Z",
     "iopub.status.busy": "2024-04-07T16:08:34.735092Z",
     "iopub.status.idle": "2024-04-07T16:08:34.744110Z",
     "shell.execute_reply": "2024-04-07T16:08:34.743664Z",
     "shell.execute_reply.started": "2024-04-07T16:08:34.735796Z"
    },
    "hide-output": false
   },
   "outputs": [
    {
     "data": {
      "text/html": [
       "<div>\n",
       "<style scoped>\n",
       "    .dataframe tbody tr th:only-of-type {\n",
       "        vertical-align: middle;\n",
       "    }\n",
       "\n",
       "    .dataframe tbody tr th {\n",
       "        vertical-align: top;\n",
       "    }\n",
       "\n",
       "    .dataframe thead th {\n",
       "        text-align: right;\n",
       "    }\n",
       "</style>\n",
       "<table border=\"1\" class=\"dataframe\">\n",
       "  <thead>\n",
       "    <tr style=\"text-align: right;\">\n",
       "      <th></th>\n",
       "      <th>country</th>\n",
       "      <th>POP</th>\n",
       "      <th>tcgdp</th>\n",
       "    </tr>\n",
       "  </thead>\n",
       "  <tbody>\n",
       "    <tr>\n",
       "      <th>0</th>\n",
       "      <td>Argentina</td>\n",
       "      <td>37335.653</td>\n",
       "      <td>2.950722e+05</td>\n",
       "    </tr>\n",
       "    <tr>\n",
       "      <th>1</th>\n",
       "      <td>Australia</td>\n",
       "      <td>19053.186</td>\n",
       "      <td>5.418047e+05</td>\n",
       "    </tr>\n",
       "    <tr>\n",
       "      <th>2</th>\n",
       "      <td>India</td>\n",
       "      <td>1006300.297</td>\n",
       "      <td>1.728144e+06</td>\n",
       "    </tr>\n",
       "    <tr>\n",
       "      <th>3</th>\n",
       "      <td>Israel</td>\n",
       "      <td>6114.570</td>\n",
       "      <td>1.292539e+05</td>\n",
       "    </tr>\n",
       "    <tr>\n",
       "      <th>4</th>\n",
       "      <td>Malawi</td>\n",
       "      <td>11801.505</td>\n",
       "      <td>5.026222e+03</td>\n",
       "    </tr>\n",
       "    <tr>\n",
       "      <th>5</th>\n",
       "      <td>South Africa</td>\n",
       "      <td>45064.098</td>\n",
       "      <td>2.272424e+05</td>\n",
       "    </tr>\n",
       "    <tr>\n",
       "      <th>6</th>\n",
       "      <td>United States</td>\n",
       "      <td>282171.957</td>\n",
       "      <td>9.898700e+06</td>\n",
       "    </tr>\n",
       "    <tr>\n",
       "      <th>7</th>\n",
       "      <td>Uruguay</td>\n",
       "      <td>3219.793</td>\n",
       "      <td>2.525596e+04</td>\n",
       "    </tr>\n",
       "  </tbody>\n",
       "</table>\n",
       "</div>"
      ],
      "text/plain": [
       "         country          POP         tcgdp\n",
       "0      Argentina    37335.653  2.950722e+05\n",
       "1      Australia    19053.186  5.418047e+05\n",
       "2          India  1006300.297  1.728144e+06\n",
       "3         Israel     6114.570  1.292539e+05\n",
       "4         Malawi    11801.505  5.026222e+03\n",
       "5   South Africa    45064.098  2.272424e+05\n",
       "6  United States   282171.957  9.898700e+06\n",
       "7        Uruguay     3219.793  2.525596e+04"
      ]
     },
     "execution_count": 30,
     "metadata": {},
     "output_type": "execute_result"
    }
   ],
   "source": [
    "df_subset = df[['country', 'POP', 'tcgdp']]\n",
    "df_subset"
   ]
  },
  {
   "cell_type": "markdown",
   "id": "4a5e5cba",
   "metadata": {},
   "source": [
    "We can then save the smaller dataset for further analysis."
   ]
  },
  {
   "cell_type": "markdown",
   "id": "4173acf0",
   "metadata": {
    "hide-output": false
   },
   "source": [
    "```python3\n",
    "df_subset.to_csv('pwt_subset.csv', index=False)\n",
    "```\n"
   ]
  },
  {
   "cell_type": "markdown",
   "id": "d9538f52",
   "metadata": {},
   "source": [
    "### Apply Method\n",
    "\n",
    "Another widely used Pandas method is `df.apply()`.\n",
    "\n",
    "It applies a function to each row/column and returns a series.\n",
    "\n",
    "This function can be some built-in functions like the `max` function, a `lambda` function, or a user-defined function.\n",
    "\n",
    "Here is an example using the `max` function"
   ]
  },
  {
   "cell_type": "code",
   "execution_count": 31,
   "id": "be56e338",
   "metadata": {
    "execution": {
     "iopub.execute_input": "2024-04-07T16:09:04.091789Z",
     "iopub.status.busy": "2024-04-07T16:09:04.091127Z",
     "iopub.status.idle": "2024-04-07T16:09:04.098387Z",
     "shell.execute_reply": "2024-04-07T16:09:04.097956Z",
     "shell.execute_reply.started": "2024-04-07T16:09:04.091757Z"
    },
    "hide-output": false
   },
   "outputs": [
    {
     "data": {
      "text/plain": [
       "year     2.000000e+03\n",
       "POP      1.006300e+06\n",
       "XRAT     5.954381e+01\n",
       "tcgdp    9.898700e+06\n",
       "cc       7.897874e+01\n",
       "cg       1.407221e+01\n",
       "dtype: float64"
      ]
     },
     "execution_count": 31,
     "metadata": {},
     "output_type": "execute_result"
    }
   ],
   "source": [
    "df[['year', 'POP', 'XRAT', 'tcgdp', 'cc', 'cg']].apply(max)"
   ]
  },
  {
   "cell_type": "markdown",
   "id": "6f5aa54e",
   "metadata": {},
   "source": [
    "This line of code applies the `max` function to all selected columns.\n",
    "\n",
    "`lambda` function is often used with `df.apply()` method\n",
    "\n",
    "A trivial example is to return itself for each row in the dataframe"
   ]
  },
  {
   "cell_type": "code",
   "execution_count": 32,
   "id": "cacc49a2",
   "metadata": {
    "execution": {
     "iopub.execute_input": "2024-04-07T16:09:20.819082Z",
     "iopub.status.busy": "2024-04-07T16:09:20.818391Z",
     "iopub.status.idle": "2024-04-07T16:09:20.831463Z",
     "shell.execute_reply": "2024-04-07T16:09:20.830984Z",
     "shell.execute_reply.started": "2024-04-07T16:09:20.819049Z"
    },
    "hide-output": false
   },
   "outputs": [
    {
     "data": {
      "text/html": [
       "<div>\n",
       "<style scoped>\n",
       "    .dataframe tbody tr th:only-of-type {\n",
       "        vertical-align: middle;\n",
       "    }\n",
       "\n",
       "    .dataframe tbody tr th {\n",
       "        vertical-align: top;\n",
       "    }\n",
       "\n",
       "    .dataframe thead th {\n",
       "        text-align: right;\n",
       "    }\n",
       "</style>\n",
       "<table border=\"1\" class=\"dataframe\">\n",
       "  <thead>\n",
       "    <tr style=\"text-align: right;\">\n",
       "      <th></th>\n",
       "      <th>country</th>\n",
       "      <th>country isocode</th>\n",
       "      <th>year</th>\n",
       "      <th>POP</th>\n",
       "      <th>XRAT</th>\n",
       "      <th>tcgdp</th>\n",
       "      <th>cc</th>\n",
       "      <th>cg</th>\n",
       "    </tr>\n",
       "  </thead>\n",
       "  <tbody>\n",
       "    <tr>\n",
       "      <th>0</th>\n",
       "      <td>Argentina</td>\n",
       "      <td>ARG</td>\n",
       "      <td>2000</td>\n",
       "      <td>37335.653</td>\n",
       "      <td>0.999500</td>\n",
       "      <td>2.950722e+05</td>\n",
       "      <td>75.716805</td>\n",
       "      <td>5.578804</td>\n",
       "    </tr>\n",
       "    <tr>\n",
       "      <th>1</th>\n",
       "      <td>Australia</td>\n",
       "      <td>AUS</td>\n",
       "      <td>2000</td>\n",
       "      <td>19053.186</td>\n",
       "      <td>1.724830</td>\n",
       "      <td>5.418047e+05</td>\n",
       "      <td>67.759026</td>\n",
       "      <td>6.720098</td>\n",
       "    </tr>\n",
       "    <tr>\n",
       "      <th>2</th>\n",
       "      <td>India</td>\n",
       "      <td>IND</td>\n",
       "      <td>2000</td>\n",
       "      <td>1006300.297</td>\n",
       "      <td>44.941600</td>\n",
       "      <td>1.728144e+06</td>\n",
       "      <td>64.575551</td>\n",
       "      <td>14.072206</td>\n",
       "    </tr>\n",
       "    <tr>\n",
       "      <th>3</th>\n",
       "      <td>Israel</td>\n",
       "      <td>ISR</td>\n",
       "      <td>2000</td>\n",
       "      <td>6114.570</td>\n",
       "      <td>4.077330</td>\n",
       "      <td>1.292539e+05</td>\n",
       "      <td>64.436451</td>\n",
       "      <td>10.266688</td>\n",
       "    </tr>\n",
       "    <tr>\n",
       "      <th>4</th>\n",
       "      <td>Malawi</td>\n",
       "      <td>MWI</td>\n",
       "      <td>2000</td>\n",
       "      <td>11801.505</td>\n",
       "      <td>59.543808</td>\n",
       "      <td>5.026222e+03</td>\n",
       "      <td>74.707624</td>\n",
       "      <td>11.658954</td>\n",
       "    </tr>\n",
       "    <tr>\n",
       "      <th>5</th>\n",
       "      <td>South Africa</td>\n",
       "      <td>ZAF</td>\n",
       "      <td>2000</td>\n",
       "      <td>45064.098</td>\n",
       "      <td>6.939830</td>\n",
       "      <td>2.272424e+05</td>\n",
       "      <td>72.718710</td>\n",
       "      <td>5.726546</td>\n",
       "    </tr>\n",
       "    <tr>\n",
       "      <th>6</th>\n",
       "      <td>United States</td>\n",
       "      <td>USA</td>\n",
       "      <td>2000</td>\n",
       "      <td>282171.957</td>\n",
       "      <td>1.000000</td>\n",
       "      <td>9.898700e+06</td>\n",
       "      <td>72.347054</td>\n",
       "      <td>6.032454</td>\n",
       "    </tr>\n",
       "    <tr>\n",
       "      <th>7</th>\n",
       "      <td>Uruguay</td>\n",
       "      <td>URY</td>\n",
       "      <td>2000</td>\n",
       "      <td>3219.793</td>\n",
       "      <td>12.099592</td>\n",
       "      <td>2.525596e+04</td>\n",
       "      <td>78.978740</td>\n",
       "      <td>5.108068</td>\n",
       "    </tr>\n",
       "  </tbody>\n",
       "</table>\n",
       "</div>"
      ],
      "text/plain": [
       "         country country isocode  year          POP       XRAT         tcgdp  \\\n",
       "0      Argentina             ARG  2000    37335.653   0.999500  2.950722e+05   \n",
       "1      Australia             AUS  2000    19053.186   1.724830  5.418047e+05   \n",
       "2          India             IND  2000  1006300.297  44.941600  1.728144e+06   \n",
       "3         Israel             ISR  2000     6114.570   4.077330  1.292539e+05   \n",
       "4         Malawi             MWI  2000    11801.505  59.543808  5.026222e+03   \n",
       "5   South Africa             ZAF  2000    45064.098   6.939830  2.272424e+05   \n",
       "6  United States             USA  2000   282171.957   1.000000  9.898700e+06   \n",
       "7        Uruguay             URY  2000     3219.793  12.099592  2.525596e+04   \n",
       "\n",
       "          cc         cg  \n",
       "0  75.716805   5.578804  \n",
       "1  67.759026   6.720098  \n",
       "2  64.575551  14.072206  \n",
       "3  64.436451  10.266688  \n",
       "4  74.707624  11.658954  \n",
       "5  72.718710   5.726546  \n",
       "6  72.347054   6.032454  \n",
       "7  78.978740   5.108068  "
      ]
     },
     "execution_count": 32,
     "metadata": {},
     "output_type": "execute_result"
    }
   ],
   "source": [
    "df.apply(lambda row: row, axis=1)"
   ]
  },
  {
   "cell_type": "markdown",
   "id": "36dd6e5d",
   "metadata": {},
   "source": [
    ">**Note**\n",
    ">\n",
    ">For the `.apply()` method\n",
    "\n",
    "- axis = 0 – apply function to each column (variables)  \n",
    "- axis = 1 – apply function to each row (observations)  \n",
    "- axis = 0 is the default parameter  \n",
    "\n",
    "\n",
    "We can use it together with `.loc[]` to do some more advanced selection."
   ]
  },
  {
   "cell_type": "code",
   "execution_count": 33,
   "id": "0f246a5e",
   "metadata": {
    "execution": {
     "iopub.execute_input": "2024-04-07T16:09:48.972906Z",
     "iopub.status.busy": "2024-04-07T16:09:48.972390Z",
     "iopub.status.idle": "2024-04-07T16:09:48.977701Z",
     "shell.execute_reply": "2024-04-07T16:09:48.977209Z",
     "shell.execute_reply.started": "2024-04-07T16:09:48.972877Z"
    },
    "hide-output": false
   },
   "outputs": [],
   "source": [
    "complexCondition = df.apply(\n",
    "    lambda row: row.POP > 40000 if row.country in ['Argentina', 'India', 'South Africa'] else row.POP < 20000, \n",
    "    axis=1), ['country', 'year', 'POP', 'XRAT', 'tcgdp']"
   ]
  },
  {
   "cell_type": "markdown",
   "id": "9e755bb8",
   "metadata": {},
   "source": [
    "`df.apply()` here returns a series of boolean values rows that satisfies the condition specified in the if-else statement.\n",
    "\n",
    "In addition, it also defines a subset of variables of interest."
   ]
  },
  {
   "cell_type": "code",
   "execution_count": 34,
   "id": "65373200",
   "metadata": {
    "execution": {
     "iopub.execute_input": "2024-04-07T16:09:50.657504Z",
     "iopub.status.busy": "2024-04-07T16:09:50.656991Z",
     "iopub.status.idle": "2024-04-07T16:09:50.662165Z",
     "shell.execute_reply": "2024-04-07T16:09:50.661702Z",
     "shell.execute_reply.started": "2024-04-07T16:09:50.657477Z"
    },
    "hide-output": false
   },
   "outputs": [
    {
     "data": {
      "text/plain": [
       "(0    False\n",
       " 1     True\n",
       " 2     True\n",
       " 3     True\n",
       " 4     True\n",
       " 5     True\n",
       " 6    False\n",
       " 7     True\n",
       " dtype: bool,\n",
       " ['country', 'year', 'POP', 'XRAT', 'tcgdp'])"
      ]
     },
     "execution_count": 34,
     "metadata": {},
     "output_type": "execute_result"
    }
   ],
   "source": [
    "complexCondition"
   ]
  },
  {
   "cell_type": "markdown",
   "id": "6333ab5d",
   "metadata": {},
   "source": [
    "When we apply this condition to the dataframe, the result will be"
   ]
  },
  {
   "cell_type": "code",
   "execution_count": 35,
   "id": "5061ad7a",
   "metadata": {
    "execution": {
     "iopub.execute_input": "2024-04-07T16:09:58.265770Z",
     "iopub.status.busy": "2024-04-07T16:09:58.265048Z",
     "iopub.status.idle": "2024-04-07T16:09:58.275415Z",
     "shell.execute_reply": "2024-04-07T16:09:58.274943Z",
     "shell.execute_reply.started": "2024-04-07T16:09:58.265728Z"
    },
    "hide-output": false
   },
   "outputs": [
    {
     "data": {
      "text/html": [
       "<div>\n",
       "<style scoped>\n",
       "    .dataframe tbody tr th:only-of-type {\n",
       "        vertical-align: middle;\n",
       "    }\n",
       "\n",
       "    .dataframe tbody tr th {\n",
       "        vertical-align: top;\n",
       "    }\n",
       "\n",
       "    .dataframe thead th {\n",
       "        text-align: right;\n",
       "    }\n",
       "</style>\n",
       "<table border=\"1\" class=\"dataframe\">\n",
       "  <thead>\n",
       "    <tr style=\"text-align: right;\">\n",
       "      <th></th>\n",
       "      <th>country</th>\n",
       "      <th>year</th>\n",
       "      <th>POP</th>\n",
       "      <th>XRAT</th>\n",
       "      <th>tcgdp</th>\n",
       "    </tr>\n",
       "  </thead>\n",
       "  <tbody>\n",
       "    <tr>\n",
       "      <th>1</th>\n",
       "      <td>Australia</td>\n",
       "      <td>2000</td>\n",
       "      <td>19053.186</td>\n",
       "      <td>1.724830</td>\n",
       "      <td>5.418047e+05</td>\n",
       "    </tr>\n",
       "    <tr>\n",
       "      <th>2</th>\n",
       "      <td>India</td>\n",
       "      <td>2000</td>\n",
       "      <td>1006300.297</td>\n",
       "      <td>44.941600</td>\n",
       "      <td>1.728144e+06</td>\n",
       "    </tr>\n",
       "    <tr>\n",
       "      <th>3</th>\n",
       "      <td>Israel</td>\n",
       "      <td>2000</td>\n",
       "      <td>6114.570</td>\n",
       "      <td>4.077330</td>\n",
       "      <td>1.292539e+05</td>\n",
       "    </tr>\n",
       "    <tr>\n",
       "      <th>4</th>\n",
       "      <td>Malawi</td>\n",
       "      <td>2000</td>\n",
       "      <td>11801.505</td>\n",
       "      <td>59.543808</td>\n",
       "      <td>5.026222e+03</td>\n",
       "    </tr>\n",
       "    <tr>\n",
       "      <th>5</th>\n",
       "      <td>South Africa</td>\n",
       "      <td>2000</td>\n",
       "      <td>45064.098</td>\n",
       "      <td>6.939830</td>\n",
       "      <td>2.272424e+05</td>\n",
       "    </tr>\n",
       "    <tr>\n",
       "      <th>7</th>\n",
       "      <td>Uruguay</td>\n",
       "      <td>2000</td>\n",
       "      <td>3219.793</td>\n",
       "      <td>12.099592</td>\n",
       "      <td>2.525596e+04</td>\n",
       "    </tr>\n",
       "  </tbody>\n",
       "</table>\n",
       "</div>"
      ],
      "text/plain": [
       "        country  year          POP       XRAT         tcgdp\n",
       "1     Australia  2000    19053.186   1.724830  5.418047e+05\n",
       "2         India  2000  1006300.297  44.941600  1.728144e+06\n",
       "3        Israel  2000     6114.570   4.077330  1.292539e+05\n",
       "4        Malawi  2000    11801.505  59.543808  5.026222e+03\n",
       "5  South Africa  2000    45064.098   6.939830  2.272424e+05\n",
       "7       Uruguay  2000     3219.793  12.099592  2.525596e+04"
      ]
     },
     "execution_count": 35,
     "metadata": {},
     "output_type": "execute_result"
    }
   ],
   "source": [
    "df.loc[complexCondition]"
   ]
  },
  {
   "cell_type": "markdown",
   "id": "595427b1",
   "metadata": {},
   "source": [
    "### Make Changes in DataFrames\n",
    "\n",
    "The ability to make changes in dataframes is important to generate a clean dataset for future analysis.\n",
    "\n",
    "**1.** We can use `df.where()` conveniently to “keep” the rows we have selected and replace the rest rows with any other values"
   ]
  },
  {
   "cell_type": "code",
   "execution_count": 36,
   "id": "cbbda553",
   "metadata": {
    "execution": {
     "iopub.execute_input": "2024-04-07T16:10:23.948485Z",
     "iopub.status.busy": "2024-04-07T16:10:23.947763Z",
     "iopub.status.idle": "2024-04-07T16:10:23.960527Z",
     "shell.execute_reply": "2024-04-07T16:10:23.960136Z",
     "shell.execute_reply.started": "2024-04-07T16:10:23.948457Z"
    },
    "hide-output": false
   },
   "outputs": [
    {
     "data": {
      "text/html": [
       "<div>\n",
       "<style scoped>\n",
       "    .dataframe tbody tr th:only-of-type {\n",
       "        vertical-align: middle;\n",
       "    }\n",
       "\n",
       "    .dataframe tbody tr th {\n",
       "        vertical-align: top;\n",
       "    }\n",
       "\n",
       "    .dataframe thead th {\n",
       "        text-align: right;\n",
       "    }\n",
       "</style>\n",
       "<table border=\"1\" class=\"dataframe\">\n",
       "  <thead>\n",
       "    <tr style=\"text-align: right;\">\n",
       "      <th></th>\n",
       "      <th>country</th>\n",
       "      <th>country isocode</th>\n",
       "      <th>year</th>\n",
       "      <th>POP</th>\n",
       "      <th>XRAT</th>\n",
       "      <th>tcgdp</th>\n",
       "      <th>cc</th>\n",
       "      <th>cg</th>\n",
       "    </tr>\n",
       "  </thead>\n",
       "  <tbody>\n",
       "    <tr>\n",
       "      <th>0</th>\n",
       "      <td>Argentina</td>\n",
       "      <td>ARG</td>\n",
       "      <td>2000</td>\n",
       "      <td>37335.653</td>\n",
       "      <td>0.9995</td>\n",
       "      <td>295072.21869</td>\n",
       "      <td>75.716805</td>\n",
       "      <td>5.578804</td>\n",
       "    </tr>\n",
       "    <tr>\n",
       "      <th>1</th>\n",
       "      <td>False</td>\n",
       "      <td>False</td>\n",
       "      <td>False</td>\n",
       "      <td>False</td>\n",
       "      <td>False</td>\n",
       "      <td>False</td>\n",
       "      <td>False</td>\n",
       "      <td>False</td>\n",
       "    </tr>\n",
       "    <tr>\n",
       "      <th>2</th>\n",
       "      <td>India</td>\n",
       "      <td>IND</td>\n",
       "      <td>2000</td>\n",
       "      <td>1006300.297</td>\n",
       "      <td>44.9416</td>\n",
       "      <td>1728144.3748</td>\n",
       "      <td>64.575551</td>\n",
       "      <td>14.072206</td>\n",
       "    </tr>\n",
       "    <tr>\n",
       "      <th>3</th>\n",
       "      <td>False</td>\n",
       "      <td>False</td>\n",
       "      <td>False</td>\n",
       "      <td>False</td>\n",
       "      <td>False</td>\n",
       "      <td>False</td>\n",
       "      <td>False</td>\n",
       "      <td>False</td>\n",
       "    </tr>\n",
       "    <tr>\n",
       "      <th>4</th>\n",
       "      <td>False</td>\n",
       "      <td>False</td>\n",
       "      <td>False</td>\n",
       "      <td>False</td>\n",
       "      <td>False</td>\n",
       "      <td>False</td>\n",
       "      <td>False</td>\n",
       "      <td>False</td>\n",
       "    </tr>\n",
       "    <tr>\n",
       "      <th>5</th>\n",
       "      <td>South Africa</td>\n",
       "      <td>ZAF</td>\n",
       "      <td>2000</td>\n",
       "      <td>45064.098</td>\n",
       "      <td>6.93983</td>\n",
       "      <td>227242.36949</td>\n",
       "      <td>72.71871</td>\n",
       "      <td>5.726546</td>\n",
       "    </tr>\n",
       "    <tr>\n",
       "      <th>6</th>\n",
       "      <td>United States</td>\n",
       "      <td>USA</td>\n",
       "      <td>2000</td>\n",
       "      <td>282171.957</td>\n",
       "      <td>1.0</td>\n",
       "      <td>9898700.0</td>\n",
       "      <td>72.347054</td>\n",
       "      <td>6.032454</td>\n",
       "    </tr>\n",
       "    <tr>\n",
       "      <th>7</th>\n",
       "      <td>False</td>\n",
       "      <td>False</td>\n",
       "      <td>False</td>\n",
       "      <td>False</td>\n",
       "      <td>False</td>\n",
       "      <td>False</td>\n",
       "      <td>False</td>\n",
       "      <td>False</td>\n",
       "    </tr>\n",
       "  </tbody>\n",
       "</table>\n",
       "</div>"
      ],
      "text/plain": [
       "         country country isocode   year          POP     XRAT         tcgdp  \\\n",
       "0      Argentina             ARG   2000    37335.653   0.9995  295072.21869   \n",
       "1          False           False  False        False    False         False   \n",
       "2          India             IND   2000  1006300.297  44.9416  1728144.3748   \n",
       "3          False           False  False        False    False         False   \n",
       "4          False           False  False        False    False         False   \n",
       "5   South Africa             ZAF   2000    45064.098  6.93983  227242.36949   \n",
       "6  United States             USA   2000   282171.957      1.0     9898700.0   \n",
       "7          False           False  False        False    False         False   \n",
       "\n",
       "          cc         cg  \n",
       "0  75.716805   5.578804  \n",
       "1      False      False  \n",
       "2  64.575551  14.072206  \n",
       "3      False      False  \n",
       "4      False      False  \n",
       "5   72.71871   5.726546  \n",
       "6  72.347054   6.032454  \n",
       "7      False      False  "
      ]
     },
     "execution_count": 36,
     "metadata": {},
     "output_type": "execute_result"
    }
   ],
   "source": [
    "df.where(df.POP >= 20000, False)"
   ]
  },
  {
   "cell_type": "markdown",
   "id": "bb640ddb",
   "metadata": {},
   "source": [
    "**2.** We can simply use `.loc[]` to specify the column that we want to modify, and assign values"
   ]
  },
  {
   "cell_type": "code",
   "execution_count": 37,
   "id": "8aa5a8bb",
   "metadata": {
    "execution": {
     "iopub.execute_input": "2024-04-07T16:10:39.028759Z",
     "iopub.status.busy": "2024-04-07T16:10:39.028233Z",
     "iopub.status.idle": "2024-04-07T16:10:39.039949Z",
     "shell.execute_reply": "2024-04-07T16:10:39.039408Z",
     "shell.execute_reply.started": "2024-04-07T16:10:39.028731Z"
    },
    "hide-output": false
   },
   "outputs": [
    {
     "data": {
      "text/html": [
       "<div>\n",
       "<style scoped>\n",
       "    .dataframe tbody tr th:only-of-type {\n",
       "        vertical-align: middle;\n",
       "    }\n",
       "\n",
       "    .dataframe tbody tr th {\n",
       "        vertical-align: top;\n",
       "    }\n",
       "\n",
       "    .dataframe thead th {\n",
       "        text-align: right;\n",
       "    }\n",
       "</style>\n",
       "<table border=\"1\" class=\"dataframe\">\n",
       "  <thead>\n",
       "    <tr style=\"text-align: right;\">\n",
       "      <th></th>\n",
       "      <th>country</th>\n",
       "      <th>country isocode</th>\n",
       "      <th>year</th>\n",
       "      <th>POP</th>\n",
       "      <th>XRAT</th>\n",
       "      <th>tcgdp</th>\n",
       "      <th>cc</th>\n",
       "      <th>cg</th>\n",
       "    </tr>\n",
       "  </thead>\n",
       "  <tbody>\n",
       "    <tr>\n",
       "      <th>0</th>\n",
       "      <td>Argentina</td>\n",
       "      <td>ARG</td>\n",
       "      <td>2000</td>\n",
       "      <td>37335.653</td>\n",
       "      <td>0.999500</td>\n",
       "      <td>2.950722e+05</td>\n",
       "      <td>75.716805</td>\n",
       "      <td>5.578804</td>\n",
       "    </tr>\n",
       "    <tr>\n",
       "      <th>1</th>\n",
       "      <td>Australia</td>\n",
       "      <td>AUS</td>\n",
       "      <td>2000</td>\n",
       "      <td>19053.186</td>\n",
       "      <td>1.724830</td>\n",
       "      <td>5.418047e+05</td>\n",
       "      <td>67.759026</td>\n",
       "      <td>6.720098</td>\n",
       "    </tr>\n",
       "    <tr>\n",
       "      <th>2</th>\n",
       "      <td>India</td>\n",
       "      <td>IND</td>\n",
       "      <td>2000</td>\n",
       "      <td>1006300.297</td>\n",
       "      <td>44.941600</td>\n",
       "      <td>1.728144e+06</td>\n",
       "      <td>64.575551</td>\n",
       "      <td>NaN</td>\n",
       "    </tr>\n",
       "    <tr>\n",
       "      <th>3</th>\n",
       "      <td>Israel</td>\n",
       "      <td>ISR</td>\n",
       "      <td>2000</td>\n",
       "      <td>6114.570</td>\n",
       "      <td>4.077330</td>\n",
       "      <td>1.292539e+05</td>\n",
       "      <td>64.436451</td>\n",
       "      <td>10.266688</td>\n",
       "    </tr>\n",
       "    <tr>\n",
       "      <th>4</th>\n",
       "      <td>Malawi</td>\n",
       "      <td>MWI</td>\n",
       "      <td>2000</td>\n",
       "      <td>11801.505</td>\n",
       "      <td>59.543808</td>\n",
       "      <td>5.026222e+03</td>\n",
       "      <td>74.707624</td>\n",
       "      <td>11.658954</td>\n",
       "    </tr>\n",
       "    <tr>\n",
       "      <th>5</th>\n",
       "      <td>South Africa</td>\n",
       "      <td>ZAF</td>\n",
       "      <td>2000</td>\n",
       "      <td>45064.098</td>\n",
       "      <td>6.939830</td>\n",
       "      <td>2.272424e+05</td>\n",
       "      <td>72.718710</td>\n",
       "      <td>5.726546</td>\n",
       "    </tr>\n",
       "    <tr>\n",
       "      <th>6</th>\n",
       "      <td>United States</td>\n",
       "      <td>USA</td>\n",
       "      <td>2000</td>\n",
       "      <td>282171.957</td>\n",
       "      <td>1.000000</td>\n",
       "      <td>9.898700e+06</td>\n",
       "      <td>72.347054</td>\n",
       "      <td>6.032454</td>\n",
       "    </tr>\n",
       "    <tr>\n",
       "      <th>7</th>\n",
       "      <td>Uruguay</td>\n",
       "      <td>URY</td>\n",
       "      <td>2000</td>\n",
       "      <td>3219.793</td>\n",
       "      <td>12.099592</td>\n",
       "      <td>2.525596e+04</td>\n",
       "      <td>78.978740</td>\n",
       "      <td>5.108068</td>\n",
       "    </tr>\n",
       "  </tbody>\n",
       "</table>\n",
       "</div>"
      ],
      "text/plain": [
       "         country country isocode  year          POP       XRAT         tcgdp  \\\n",
       "0      Argentina             ARG  2000    37335.653   0.999500  2.950722e+05   \n",
       "1      Australia             AUS  2000    19053.186   1.724830  5.418047e+05   \n",
       "2          India             IND  2000  1006300.297  44.941600  1.728144e+06   \n",
       "3         Israel             ISR  2000     6114.570   4.077330  1.292539e+05   \n",
       "4         Malawi             MWI  2000    11801.505  59.543808  5.026222e+03   \n",
       "5   South Africa             ZAF  2000    45064.098   6.939830  2.272424e+05   \n",
       "6  United States             USA  2000   282171.957   1.000000  9.898700e+06   \n",
       "7        Uruguay             URY  2000     3219.793  12.099592  2.525596e+04   \n",
       "\n",
       "          cc         cg  \n",
       "0  75.716805   5.578804  \n",
       "1  67.759026   6.720098  \n",
       "2  64.575551        NaN  \n",
       "3  64.436451  10.266688  \n",
       "4  74.707624  11.658954  \n",
       "5  72.718710   5.726546  \n",
       "6  72.347054   6.032454  \n",
       "7  78.978740   5.108068  "
      ]
     },
     "execution_count": 37,
     "metadata": {},
     "output_type": "execute_result"
    }
   ],
   "source": [
    "df.loc[df.cg == max(df.cg), 'cg'] = np.nan\n",
    "df"
   ]
  },
  {
   "cell_type": "markdown",
   "id": "5870e349",
   "metadata": {},
   "source": [
    "**3.** We can use the `.apply()` method to modify *rows/columns as a whole*"
   ]
  },
  {
   "cell_type": "code",
   "execution_count": 38,
   "id": "e5413379",
   "metadata": {
    "execution": {
     "iopub.execute_input": "2024-04-07T16:10:57.451817Z",
     "iopub.status.busy": "2024-04-07T16:10:57.451326Z",
     "iopub.status.idle": "2024-04-07T16:10:57.465667Z",
     "shell.execute_reply": "2024-04-07T16:10:57.465222Z",
     "shell.execute_reply.started": "2024-04-07T16:10:57.451787Z"
    },
    "hide-output": false
   },
   "outputs": [
    {
     "data": {
      "text/html": [
       "<div>\n",
       "<style scoped>\n",
       "    .dataframe tbody tr th:only-of-type {\n",
       "        vertical-align: middle;\n",
       "    }\n",
       "\n",
       "    .dataframe tbody tr th {\n",
       "        vertical-align: top;\n",
       "    }\n",
       "\n",
       "    .dataframe thead th {\n",
       "        text-align: right;\n",
       "    }\n",
       "</style>\n",
       "<table border=\"1\" class=\"dataframe\">\n",
       "  <thead>\n",
       "    <tr style=\"text-align: right;\">\n",
       "      <th></th>\n",
       "      <th>country</th>\n",
       "      <th>country isocode</th>\n",
       "      <th>year</th>\n",
       "      <th>POP</th>\n",
       "      <th>XRAT</th>\n",
       "      <th>tcgdp</th>\n",
       "      <th>cc</th>\n",
       "      <th>cg</th>\n",
       "    </tr>\n",
       "  </thead>\n",
       "  <tbody>\n",
       "    <tr>\n",
       "      <th>0</th>\n",
       "      <td>Argentina</td>\n",
       "      <td>ARG</td>\n",
       "      <td>2000</td>\n",
       "      <td>37335.653</td>\n",
       "      <td>0.099950</td>\n",
       "      <td>2.950722e+05</td>\n",
       "      <td>75.716805</td>\n",
       "      <td>5.578804</td>\n",
       "    </tr>\n",
       "    <tr>\n",
       "      <th>1</th>\n",
       "      <td>Australia</td>\n",
       "      <td>AUS</td>\n",
       "      <td>2000</td>\n",
       "      <td>19053.186</td>\n",
       "      <td>0.172483</td>\n",
       "      <td>5.418047e+05</td>\n",
       "      <td>67.759026</td>\n",
       "      <td>6.720098</td>\n",
       "    </tr>\n",
       "    <tr>\n",
       "      <th>2</th>\n",
       "      <td>India</td>\n",
       "      <td>IND</td>\n",
       "      <td>2000</td>\n",
       "      <td>1006300.297</td>\n",
       "      <td>4.494160</td>\n",
       "      <td>1.728144e+06</td>\n",
       "      <td>64.575551</td>\n",
       "      <td>NaN</td>\n",
       "    </tr>\n",
       "    <tr>\n",
       "      <th>3</th>\n",
       "      <td>Israel</td>\n",
       "      <td>ISR</td>\n",
       "      <td>2000</td>\n",
       "      <td>NaN</td>\n",
       "      <td>0.407733</td>\n",
       "      <td>1.292539e+05</td>\n",
       "      <td>64.436451</td>\n",
       "      <td>10.266688</td>\n",
       "    </tr>\n",
       "    <tr>\n",
       "      <th>4</th>\n",
       "      <td>Malawi</td>\n",
       "      <td>MWI</td>\n",
       "      <td>2000</td>\n",
       "      <td>11801.505</td>\n",
       "      <td>5.954381</td>\n",
       "      <td>5.026222e+03</td>\n",
       "      <td>74.707624</td>\n",
       "      <td>11.658954</td>\n",
       "    </tr>\n",
       "    <tr>\n",
       "      <th>5</th>\n",
       "      <td>South Africa</td>\n",
       "      <td>ZAF</td>\n",
       "      <td>2000</td>\n",
       "      <td>45064.098</td>\n",
       "      <td>0.693983</td>\n",
       "      <td>2.272424e+05</td>\n",
       "      <td>72.718710</td>\n",
       "      <td>5.726546</td>\n",
       "    </tr>\n",
       "    <tr>\n",
       "      <th>6</th>\n",
       "      <td>United States</td>\n",
       "      <td>USA</td>\n",
       "      <td>2000</td>\n",
       "      <td>282171.957</td>\n",
       "      <td>0.100000</td>\n",
       "      <td>9.898700e+06</td>\n",
       "      <td>72.347054</td>\n",
       "      <td>6.032454</td>\n",
       "    </tr>\n",
       "    <tr>\n",
       "      <th>7</th>\n",
       "      <td>Uruguay</td>\n",
       "      <td>URY</td>\n",
       "      <td>2000</td>\n",
       "      <td>NaN</td>\n",
       "      <td>1.209959</td>\n",
       "      <td>2.525596e+04</td>\n",
       "      <td>78.978740</td>\n",
       "      <td>5.108068</td>\n",
       "    </tr>\n",
       "  </tbody>\n",
       "</table>\n",
       "</div>"
      ],
      "text/plain": [
       "         country country isocode  year          POP      XRAT         tcgdp  \\\n",
       "0      Argentina             ARG  2000    37335.653  0.099950  2.950722e+05   \n",
       "1      Australia             AUS  2000    19053.186  0.172483  5.418047e+05   \n",
       "2          India             IND  2000  1006300.297  4.494160  1.728144e+06   \n",
       "3         Israel             ISR  2000          NaN  0.407733  1.292539e+05   \n",
       "4         Malawi             MWI  2000    11801.505  5.954381  5.026222e+03   \n",
       "5   South Africa             ZAF  2000    45064.098  0.693983  2.272424e+05   \n",
       "6  United States             USA  2000   282171.957  0.100000  9.898700e+06   \n",
       "7        Uruguay             URY  2000          NaN  1.209959  2.525596e+04   \n",
       "\n",
       "          cc         cg  \n",
       "0  75.716805   5.578804  \n",
       "1  67.759026   6.720098  \n",
       "2  64.575551        NaN  \n",
       "3  64.436451  10.266688  \n",
       "4  74.707624  11.658954  \n",
       "5  72.718710   5.726546  \n",
       "6  72.347054   6.032454  \n",
       "7  78.978740   5.108068  "
      ]
     },
     "execution_count": 38,
     "metadata": {},
     "output_type": "execute_result"
    }
   ],
   "source": [
    "def update_row(row):\n",
    "    # modify POP\n",
    "    row.POP = np.nan if row.POP<= 10000 else row.POP\n",
    "\n",
    "    # modify XRAT\n",
    "    row.XRAT = row.XRAT / 10\n",
    "    return row\n",
    "\n",
    "df.apply(update_row, axis=1)"
   ]
  },
  {
   "cell_type": "markdown",
   "id": "cf784036",
   "metadata": {},
   "source": [
    "**4.** We can use the `.applymap()` method to modify all *individual entries* in the dataframe altogether."
   ]
  },
  {
   "cell_type": "code",
   "execution_count": 39,
   "id": "6cd3d338",
   "metadata": {
    "execution": {
     "iopub.execute_input": "2024-04-07T16:11:05.834527Z",
     "iopub.status.busy": "2024-04-07T16:11:05.834004Z",
     "iopub.status.idle": "2024-04-07T16:11:05.847625Z",
     "shell.execute_reply": "2024-04-07T16:11:05.847049Z",
     "shell.execute_reply.started": "2024-04-07T16:11:05.834501Z"
    },
    "hide-output": false
   },
   "outputs": [
    {
     "data": {
      "text/html": [
       "<div>\n",
       "<style scoped>\n",
       "    .dataframe tbody tr th:only-of-type {\n",
       "        vertical-align: middle;\n",
       "    }\n",
       "\n",
       "    .dataframe tbody tr th {\n",
       "        vertical-align: top;\n",
       "    }\n",
       "\n",
       "    .dataframe thead th {\n",
       "        text-align: right;\n",
       "    }\n",
       "</style>\n",
       "<table border=\"1\" class=\"dataframe\">\n",
       "  <thead>\n",
       "    <tr style=\"text-align: right;\">\n",
       "      <th></th>\n",
       "      <th>country</th>\n",
       "      <th>country isocode</th>\n",
       "      <th>year</th>\n",
       "      <th>POP</th>\n",
       "      <th>XRAT</th>\n",
       "      <th>tcgdp</th>\n",
       "      <th>cc</th>\n",
       "      <th>cg</th>\n",
       "    </tr>\n",
       "  </thead>\n",
       "  <tbody>\n",
       "    <tr>\n",
       "      <th>0</th>\n",
       "      <td>Argentina</td>\n",
       "      <td>ARG</td>\n",
       "      <td>2000</td>\n",
       "      <td>37335.65</td>\n",
       "      <td>1.00</td>\n",
       "      <td>295072.22</td>\n",
       "      <td>75.72</td>\n",
       "      <td>5.58</td>\n",
       "    </tr>\n",
       "    <tr>\n",
       "      <th>1</th>\n",
       "      <td>Australia</td>\n",
       "      <td>AUS</td>\n",
       "      <td>2000</td>\n",
       "      <td>19053.19</td>\n",
       "      <td>1.72</td>\n",
       "      <td>541804.65</td>\n",
       "      <td>67.76</td>\n",
       "      <td>6.72</td>\n",
       "    </tr>\n",
       "    <tr>\n",
       "      <th>2</th>\n",
       "      <td>India</td>\n",
       "      <td>IND</td>\n",
       "      <td>2000</td>\n",
       "      <td>1006300.30</td>\n",
       "      <td>44.94</td>\n",
       "      <td>1728144.37</td>\n",
       "      <td>64.58</td>\n",
       "      <td>NaN</td>\n",
       "    </tr>\n",
       "    <tr>\n",
       "      <th>3</th>\n",
       "      <td>Israel</td>\n",
       "      <td>ISR</td>\n",
       "      <td>2000</td>\n",
       "      <td>6114.57</td>\n",
       "      <td>4.08</td>\n",
       "      <td>129253.89</td>\n",
       "      <td>64.44</td>\n",
       "      <td>10.27</td>\n",
       "    </tr>\n",
       "    <tr>\n",
       "      <th>4</th>\n",
       "      <td>Malawi</td>\n",
       "      <td>MWI</td>\n",
       "      <td>2000</td>\n",
       "      <td>11801.50</td>\n",
       "      <td>59.54</td>\n",
       "      <td>5026.22</td>\n",
       "      <td>74.71</td>\n",
       "      <td>11.66</td>\n",
       "    </tr>\n",
       "    <tr>\n",
       "      <th>5</th>\n",
       "      <td>South Africa</td>\n",
       "      <td>ZAF</td>\n",
       "      <td>2000</td>\n",
       "      <td>45064.10</td>\n",
       "      <td>6.94</td>\n",
       "      <td>227242.37</td>\n",
       "      <td>72.72</td>\n",
       "      <td>5.73</td>\n",
       "    </tr>\n",
       "    <tr>\n",
       "      <th>6</th>\n",
       "      <td>United States</td>\n",
       "      <td>USA</td>\n",
       "      <td>2000</td>\n",
       "      <td>282171.96</td>\n",
       "      <td>1.00</td>\n",
       "      <td>9898700.00</td>\n",
       "      <td>72.35</td>\n",
       "      <td>6.03</td>\n",
       "    </tr>\n",
       "    <tr>\n",
       "      <th>7</th>\n",
       "      <td>Uruguay</td>\n",
       "      <td>URY</td>\n",
       "      <td>2000</td>\n",
       "      <td>3219.79</td>\n",
       "      <td>12.10</td>\n",
       "      <td>25255.96</td>\n",
       "      <td>78.98</td>\n",
       "      <td>5.11</td>\n",
       "    </tr>\n",
       "  </tbody>\n",
       "</table>\n",
       "</div>"
      ],
      "text/plain": [
       "         country country isocode  year         POP   XRAT       tcgdp     cc  \\\n",
       "0      Argentina             ARG  2000    37335.65   1.00   295072.22  75.72   \n",
       "1      Australia             AUS  2000    19053.19   1.72   541804.65  67.76   \n",
       "2          India             IND  2000  1006300.30  44.94  1728144.37  64.58   \n",
       "3         Israel             ISR  2000     6114.57   4.08   129253.89  64.44   \n",
       "4         Malawi             MWI  2000    11801.50  59.54     5026.22  74.71   \n",
       "5   South Africa             ZAF  2000    45064.10   6.94   227242.37  72.72   \n",
       "6  United States             USA  2000   282171.96   1.00  9898700.00  72.35   \n",
       "7        Uruguay             URY  2000     3219.79  12.10    25255.96  78.98   \n",
       "\n",
       "      cg  \n",
       "0   5.58  \n",
       "1   6.72  \n",
       "2    NaN  \n",
       "3  10.27  \n",
       "4  11.66  \n",
       "5   5.73  \n",
       "6   6.03  \n",
       "7   5.11  "
      ]
     },
     "execution_count": 39,
     "metadata": {},
     "output_type": "execute_result"
    }
   ],
   "source": [
    "# Round all decimal numbers to 2 decimal places\n",
    "df.applymap(lambda x : round(x,2) if type(x)!=str else x)"
   ]
  },
  {
   "cell_type": "markdown",
   "id": "1a407a98",
   "metadata": {},
   "source": [
    "**Application: Missing Value Imputation**\n",
    "\n",
    "Replacing missing values is an important step in data munging.\n",
    "\n",
    "Let’s randomly insert some NaN values"
   ]
  },
  {
   "cell_type": "code",
   "execution_count": 40,
   "id": "27fbea85",
   "metadata": {
    "execution": {
     "iopub.execute_input": "2024-04-07T16:11:19.028698Z",
     "iopub.status.busy": "2024-04-07T16:11:19.028015Z",
     "iopub.status.idle": "2024-04-07T16:11:19.040636Z",
     "shell.execute_reply": "2024-04-07T16:11:19.040165Z",
     "shell.execute_reply.started": "2024-04-07T16:11:19.028669Z"
    },
    "hide-output": false
   },
   "outputs": [
    {
     "data": {
      "text/html": [
       "<div>\n",
       "<style scoped>\n",
       "    .dataframe tbody tr th:only-of-type {\n",
       "        vertical-align: middle;\n",
       "    }\n",
       "\n",
       "    .dataframe tbody tr th {\n",
       "        vertical-align: top;\n",
       "    }\n",
       "\n",
       "    .dataframe thead th {\n",
       "        text-align: right;\n",
       "    }\n",
       "</style>\n",
       "<table border=\"1\" class=\"dataframe\">\n",
       "  <thead>\n",
       "    <tr style=\"text-align: right;\">\n",
       "      <th></th>\n",
       "      <th>country</th>\n",
       "      <th>country isocode</th>\n",
       "      <th>year</th>\n",
       "      <th>POP</th>\n",
       "      <th>XRAT</th>\n",
       "      <th>tcgdp</th>\n",
       "      <th>cc</th>\n",
       "      <th>cg</th>\n",
       "    </tr>\n",
       "  </thead>\n",
       "  <tbody>\n",
       "    <tr>\n",
       "      <th>0</th>\n",
       "      <td>Argentina</td>\n",
       "      <td>ARG</td>\n",
       "      <td>2000.0</td>\n",
       "      <td>NaN</td>\n",
       "      <td>0.999500</td>\n",
       "      <td>2.950722e+05</td>\n",
       "      <td>75.716805</td>\n",
       "      <td>5.578804</td>\n",
       "    </tr>\n",
       "    <tr>\n",
       "      <th>1</th>\n",
       "      <td>Australia</td>\n",
       "      <td>AUS</td>\n",
       "      <td>2000.0</td>\n",
       "      <td>19053.186</td>\n",
       "      <td>1.724830</td>\n",
       "      <td>5.418047e+05</td>\n",
       "      <td>67.759026</td>\n",
       "      <td>6.720098</td>\n",
       "    </tr>\n",
       "    <tr>\n",
       "      <th>2</th>\n",
       "      <td>India</td>\n",
       "      <td>IND</td>\n",
       "      <td>2000.0</td>\n",
       "      <td>1006300.297</td>\n",
       "      <td>44.941600</td>\n",
       "      <td>1.728144e+06</td>\n",
       "      <td>64.575551</td>\n",
       "      <td>NaN</td>\n",
       "    </tr>\n",
       "    <tr>\n",
       "      <th>3</th>\n",
       "      <td>Israel</td>\n",
       "      <td>ISR</td>\n",
       "      <td>2000.0</td>\n",
       "      <td>6114.570</td>\n",
       "      <td>NaN</td>\n",
       "      <td>1.292539e+05</td>\n",
       "      <td>64.436451</td>\n",
       "      <td>10.266688</td>\n",
       "    </tr>\n",
       "    <tr>\n",
       "      <th>4</th>\n",
       "      <td>Malawi</td>\n",
       "      <td>MWI</td>\n",
       "      <td>2000.0</td>\n",
       "      <td>11801.505</td>\n",
       "      <td>59.543808</td>\n",
       "      <td>5.026222e+03</td>\n",
       "      <td>74.707624</td>\n",
       "      <td>11.658954</td>\n",
       "    </tr>\n",
       "    <tr>\n",
       "      <th>5</th>\n",
       "      <td>South Africa</td>\n",
       "      <td>ZAF</td>\n",
       "      <td>2000.0</td>\n",
       "      <td>45064.098</td>\n",
       "      <td>6.939830</td>\n",
       "      <td>2.272424e+05</td>\n",
       "      <td>NaN</td>\n",
       "      <td>5.726546</td>\n",
       "    </tr>\n",
       "    <tr>\n",
       "      <th>6</th>\n",
       "      <td>United States</td>\n",
       "      <td>USA</td>\n",
       "      <td>NaN</td>\n",
       "      <td>282171.957</td>\n",
       "      <td>1.000000</td>\n",
       "      <td>9.898700e+06</td>\n",
       "      <td>72.347054</td>\n",
       "      <td>6.032454</td>\n",
       "    </tr>\n",
       "    <tr>\n",
       "      <th>7</th>\n",
       "      <td>Uruguay</td>\n",
       "      <td>URY</td>\n",
       "      <td>2000.0</td>\n",
       "      <td>3219.793</td>\n",
       "      <td>12.099592</td>\n",
       "      <td>2.525596e+04</td>\n",
       "      <td>78.978740</td>\n",
       "      <td>5.108068</td>\n",
       "    </tr>\n",
       "  </tbody>\n",
       "</table>\n",
       "</div>"
      ],
      "text/plain": [
       "         country country isocode    year          POP       XRAT  \\\n",
       "0      Argentina             ARG  2000.0          NaN   0.999500   \n",
       "1      Australia             AUS  2000.0    19053.186   1.724830   \n",
       "2          India             IND  2000.0  1006300.297  44.941600   \n",
       "3         Israel             ISR  2000.0     6114.570        NaN   \n",
       "4         Malawi             MWI  2000.0    11801.505  59.543808   \n",
       "5   South Africa             ZAF  2000.0    45064.098   6.939830   \n",
       "6  United States             USA     NaN   282171.957   1.000000   \n",
       "7        Uruguay             URY  2000.0     3219.793  12.099592   \n",
       "\n",
       "          tcgdp         cc         cg  \n",
       "0  2.950722e+05  75.716805   5.578804  \n",
       "1  5.418047e+05  67.759026   6.720098  \n",
       "2  1.728144e+06  64.575551        NaN  \n",
       "3  1.292539e+05  64.436451  10.266688  \n",
       "4  5.026222e+03  74.707624  11.658954  \n",
       "5  2.272424e+05        NaN   5.726546  \n",
       "6  9.898700e+06  72.347054   6.032454  \n",
       "7  2.525596e+04  78.978740   5.108068  "
      ]
     },
     "execution_count": 40,
     "metadata": {},
     "output_type": "execute_result"
    }
   ],
   "source": [
    "for idx in list(zip([0, 3, 5, 6], [3, 4, 6, 2])):\n",
    "    df.iloc[idx] = np.nan\n",
    "\n",
    "df"
   ]
  },
  {
   "cell_type": "markdown",
   "id": "806930e9",
   "metadata": {},
   "source": [
    "The `zip()` function here creates pairs of values from the two lists (i.e. [0,3], [3,4] …)\n",
    "\n",
    "We can use the `.applymap()` method again to replace all missing values with 0"
   ]
  },
  {
   "cell_type": "code",
   "execution_count": 41,
   "id": "731321a8",
   "metadata": {
    "execution": {
     "iopub.execute_input": "2024-04-07T16:11:33.028216Z",
     "iopub.status.busy": "2024-04-07T16:11:33.027675Z",
     "iopub.status.idle": "2024-04-07T16:11:33.041026Z",
     "shell.execute_reply": "2024-04-07T16:11:33.040553Z",
     "shell.execute_reply.started": "2024-04-07T16:11:33.028186Z"
    },
    "hide-output": false
   },
   "outputs": [
    {
     "data": {
      "text/html": [
       "<div>\n",
       "<style scoped>\n",
       "    .dataframe tbody tr th:only-of-type {\n",
       "        vertical-align: middle;\n",
       "    }\n",
       "\n",
       "    .dataframe tbody tr th {\n",
       "        vertical-align: top;\n",
       "    }\n",
       "\n",
       "    .dataframe thead th {\n",
       "        text-align: right;\n",
       "    }\n",
       "</style>\n",
       "<table border=\"1\" class=\"dataframe\">\n",
       "  <thead>\n",
       "    <tr style=\"text-align: right;\">\n",
       "      <th></th>\n",
       "      <th>country</th>\n",
       "      <th>country isocode</th>\n",
       "      <th>year</th>\n",
       "      <th>POP</th>\n",
       "      <th>XRAT</th>\n",
       "      <th>tcgdp</th>\n",
       "      <th>cc</th>\n",
       "      <th>cg</th>\n",
       "    </tr>\n",
       "  </thead>\n",
       "  <tbody>\n",
       "    <tr>\n",
       "      <th>0</th>\n",
       "      <td>Argentina</td>\n",
       "      <td>ARG</td>\n",
       "      <td>2000.0</td>\n",
       "      <td>0.000</td>\n",
       "      <td>0.999500</td>\n",
       "      <td>2.950722e+05</td>\n",
       "      <td>75.716805</td>\n",
       "      <td>5.578804</td>\n",
       "    </tr>\n",
       "    <tr>\n",
       "      <th>1</th>\n",
       "      <td>Australia</td>\n",
       "      <td>AUS</td>\n",
       "      <td>2000.0</td>\n",
       "      <td>19053.186</td>\n",
       "      <td>1.724830</td>\n",
       "      <td>5.418047e+05</td>\n",
       "      <td>67.759026</td>\n",
       "      <td>6.720098</td>\n",
       "    </tr>\n",
       "    <tr>\n",
       "      <th>2</th>\n",
       "      <td>India</td>\n",
       "      <td>IND</td>\n",
       "      <td>2000.0</td>\n",
       "      <td>1006300.297</td>\n",
       "      <td>44.941600</td>\n",
       "      <td>1.728144e+06</td>\n",
       "      <td>64.575551</td>\n",
       "      <td>0.000000</td>\n",
       "    </tr>\n",
       "    <tr>\n",
       "      <th>3</th>\n",
       "      <td>Israel</td>\n",
       "      <td>ISR</td>\n",
       "      <td>2000.0</td>\n",
       "      <td>6114.570</td>\n",
       "      <td>0.000000</td>\n",
       "      <td>1.292539e+05</td>\n",
       "      <td>64.436451</td>\n",
       "      <td>10.266688</td>\n",
       "    </tr>\n",
       "    <tr>\n",
       "      <th>4</th>\n",
       "      <td>Malawi</td>\n",
       "      <td>MWI</td>\n",
       "      <td>2000.0</td>\n",
       "      <td>11801.505</td>\n",
       "      <td>59.543808</td>\n",
       "      <td>5.026222e+03</td>\n",
       "      <td>74.707624</td>\n",
       "      <td>11.658954</td>\n",
       "    </tr>\n",
       "    <tr>\n",
       "      <th>5</th>\n",
       "      <td>South Africa</td>\n",
       "      <td>ZAF</td>\n",
       "      <td>2000.0</td>\n",
       "      <td>45064.098</td>\n",
       "      <td>6.939830</td>\n",
       "      <td>2.272424e+05</td>\n",
       "      <td>0.000000</td>\n",
       "      <td>5.726546</td>\n",
       "    </tr>\n",
       "    <tr>\n",
       "      <th>6</th>\n",
       "      <td>United States</td>\n",
       "      <td>USA</td>\n",
       "      <td>0.0</td>\n",
       "      <td>282171.957</td>\n",
       "      <td>1.000000</td>\n",
       "      <td>9.898700e+06</td>\n",
       "      <td>72.347054</td>\n",
       "      <td>6.032454</td>\n",
       "    </tr>\n",
       "    <tr>\n",
       "      <th>7</th>\n",
       "      <td>Uruguay</td>\n",
       "      <td>URY</td>\n",
       "      <td>2000.0</td>\n",
       "      <td>3219.793</td>\n",
       "      <td>12.099592</td>\n",
       "      <td>2.525596e+04</td>\n",
       "      <td>78.978740</td>\n",
       "      <td>5.108068</td>\n",
       "    </tr>\n",
       "  </tbody>\n",
       "</table>\n",
       "</div>"
      ],
      "text/plain": [
       "         country country isocode    year          POP       XRAT  \\\n",
       "0      Argentina             ARG  2000.0        0.000   0.999500   \n",
       "1      Australia             AUS  2000.0    19053.186   1.724830   \n",
       "2          India             IND  2000.0  1006300.297  44.941600   \n",
       "3         Israel             ISR  2000.0     6114.570   0.000000   \n",
       "4         Malawi             MWI  2000.0    11801.505  59.543808   \n",
       "5   South Africa             ZAF  2000.0    45064.098   6.939830   \n",
       "6  United States             USA     0.0   282171.957   1.000000   \n",
       "7        Uruguay             URY  2000.0     3219.793  12.099592   \n",
       "\n",
       "          tcgdp         cc         cg  \n",
       "0  2.950722e+05  75.716805   5.578804  \n",
       "1  5.418047e+05  67.759026   6.720098  \n",
       "2  1.728144e+06  64.575551   0.000000  \n",
       "3  1.292539e+05  64.436451  10.266688  \n",
       "4  5.026222e+03  74.707624  11.658954  \n",
       "5  2.272424e+05   0.000000   5.726546  \n",
       "6  9.898700e+06  72.347054   6.032454  \n",
       "7  2.525596e+04  78.978740   5.108068  "
      ]
     },
     "execution_count": 41,
     "metadata": {},
     "output_type": "execute_result"
    }
   ],
   "source": [
    "# replace all NaN values by 0\n",
    "def replace_nan(x):\n",
    "    if type(x)!=str:\n",
    "        return  0 if np.isnan(x) else x\n",
    "    else:\n",
    "        return x\n",
    "\n",
    "df.applymap(replace_nan)"
   ]
  },
  {
   "cell_type": "markdown",
   "id": "54524108",
   "metadata": {},
   "source": [
    "Pandas also provides us with convenient methods to replace missing values.\n",
    "\n",
    "For example, single imputation using variable means can be easily done in pandas"
   ]
  },
  {
   "cell_type": "code",
   "execution_count": 42,
   "id": "b3ca0041",
   "metadata": {
    "execution": {
     "iopub.execute_input": "2024-04-07T16:11:42.346402Z",
     "iopub.status.busy": "2024-04-07T16:11:42.345872Z",
     "iopub.status.idle": "2024-04-07T16:11:42.361145Z",
     "shell.execute_reply": "2024-04-07T16:11:42.360617Z",
     "shell.execute_reply.started": "2024-04-07T16:11:42.346372Z"
    },
    "hide-output": false
   },
   "outputs": [
    {
     "data": {
      "text/html": [
       "<div>\n",
       "<style scoped>\n",
       "    .dataframe tbody tr th:only-of-type {\n",
       "        vertical-align: middle;\n",
       "    }\n",
       "\n",
       "    .dataframe tbody tr th {\n",
       "        vertical-align: top;\n",
       "    }\n",
       "\n",
       "    .dataframe thead th {\n",
       "        text-align: right;\n",
       "    }\n",
       "</style>\n",
       "<table border=\"1\" class=\"dataframe\">\n",
       "  <thead>\n",
       "    <tr style=\"text-align: right;\">\n",
       "      <th></th>\n",
       "      <th>country</th>\n",
       "      <th>country isocode</th>\n",
       "      <th>year</th>\n",
       "      <th>POP</th>\n",
       "      <th>XRAT</th>\n",
       "      <th>tcgdp</th>\n",
       "      <th>cc</th>\n",
       "      <th>cg</th>\n",
       "    </tr>\n",
       "  </thead>\n",
       "  <tbody>\n",
       "    <tr>\n",
       "      <th>0</th>\n",
       "      <td>Argentina</td>\n",
       "      <td>ARG</td>\n",
       "      <td>2000.0</td>\n",
       "      <td>1.962465e+05</td>\n",
       "      <td>0.999500</td>\n",
       "      <td>2.950722e+05</td>\n",
       "      <td>75.716805</td>\n",
       "      <td>5.578804</td>\n",
       "    </tr>\n",
       "    <tr>\n",
       "      <th>1</th>\n",
       "      <td>Australia</td>\n",
       "      <td>AUS</td>\n",
       "      <td>2000.0</td>\n",
       "      <td>1.905319e+04</td>\n",
       "      <td>1.724830</td>\n",
       "      <td>5.418047e+05</td>\n",
       "      <td>67.759026</td>\n",
       "      <td>6.720098</td>\n",
       "    </tr>\n",
       "    <tr>\n",
       "      <th>2</th>\n",
       "      <td>India</td>\n",
       "      <td>IND</td>\n",
       "      <td>2000.0</td>\n",
       "      <td>1.006300e+06</td>\n",
       "      <td>44.941600</td>\n",
       "      <td>1.728144e+06</td>\n",
       "      <td>64.575551</td>\n",
       "      <td>7.298802</td>\n",
       "    </tr>\n",
       "    <tr>\n",
       "      <th>3</th>\n",
       "      <td>Israel</td>\n",
       "      <td>ISR</td>\n",
       "      <td>2000.0</td>\n",
       "      <td>6.114570e+03</td>\n",
       "      <td>18.178451</td>\n",
       "      <td>1.292539e+05</td>\n",
       "      <td>64.436451</td>\n",
       "      <td>10.266688</td>\n",
       "    </tr>\n",
       "    <tr>\n",
       "      <th>4</th>\n",
       "      <td>Malawi</td>\n",
       "      <td>MWI</td>\n",
       "      <td>2000.0</td>\n",
       "      <td>1.180150e+04</td>\n",
       "      <td>59.543808</td>\n",
       "      <td>5.026222e+03</td>\n",
       "      <td>74.707624</td>\n",
       "      <td>11.658954</td>\n",
       "    </tr>\n",
       "    <tr>\n",
       "      <th>5</th>\n",
       "      <td>South Africa</td>\n",
       "      <td>ZAF</td>\n",
       "      <td>2000.0</td>\n",
       "      <td>4.506410e+04</td>\n",
       "      <td>6.939830</td>\n",
       "      <td>2.272424e+05</td>\n",
       "      <td>71.217322</td>\n",
       "      <td>5.726546</td>\n",
       "    </tr>\n",
       "    <tr>\n",
       "      <th>6</th>\n",
       "      <td>United States</td>\n",
       "      <td>USA</td>\n",
       "      <td>2000.0</td>\n",
       "      <td>2.821720e+05</td>\n",
       "      <td>1.000000</td>\n",
       "      <td>9.898700e+06</td>\n",
       "      <td>72.347054</td>\n",
       "      <td>6.032454</td>\n",
       "    </tr>\n",
       "    <tr>\n",
       "      <th>7</th>\n",
       "      <td>Uruguay</td>\n",
       "      <td>URY</td>\n",
       "      <td>2000.0</td>\n",
       "      <td>3.219793e+03</td>\n",
       "      <td>12.099592</td>\n",
       "      <td>2.525596e+04</td>\n",
       "      <td>78.978740</td>\n",
       "      <td>5.108068</td>\n",
       "    </tr>\n",
       "  </tbody>\n",
       "</table>\n",
       "</div>"
      ],
      "text/plain": [
       "         country country isocode    year           POP       XRAT  \\\n",
       "0      Argentina             ARG  2000.0  1.962465e+05   0.999500   \n",
       "1      Australia             AUS  2000.0  1.905319e+04   1.724830   \n",
       "2          India             IND  2000.0  1.006300e+06  44.941600   \n",
       "3         Israel             ISR  2000.0  6.114570e+03  18.178451   \n",
       "4         Malawi             MWI  2000.0  1.180150e+04  59.543808   \n",
       "5   South Africa             ZAF  2000.0  4.506410e+04   6.939830   \n",
       "6  United States             USA  2000.0  2.821720e+05   1.000000   \n",
       "7        Uruguay             URY  2000.0  3.219793e+03  12.099592   \n",
       "\n",
       "          tcgdp         cc         cg  \n",
       "0  2.950722e+05  75.716805   5.578804  \n",
       "1  5.418047e+05  67.759026   6.720098  \n",
       "2  1.728144e+06  64.575551   7.298802  \n",
       "3  1.292539e+05  64.436451  10.266688  \n",
       "4  5.026222e+03  74.707624  11.658954  \n",
       "5  2.272424e+05  71.217322   5.726546  \n",
       "6  9.898700e+06  72.347054   6.032454  \n",
       "7  2.525596e+04  78.978740   5.108068  "
      ]
     },
     "execution_count": 42,
     "metadata": {},
     "output_type": "execute_result"
    }
   ],
   "source": [
    "df = df.fillna(df.iloc[:,2:8].mean())\n",
    "df"
   ]
  },
  {
   "cell_type": "markdown",
   "id": "20a6efa9",
   "metadata": {},
   "source": [
    "Missing value imputation is a big area in data science involving various machine learning techniques.\n",
    "\n",
    "There are also more [advanced tools](https://scikit-learn.org/stable/modules/impute.html) in python to impute missing values."
   ]
  },
  {
   "cell_type": "markdown",
   "id": "3cedc635",
   "metadata": {},
   "source": [
    "### Standardization and Visualization\n",
    "\n",
    "Let’s imagine that we’re only interested in the population (`POP`) and total GDP (`tcgdp`).\n",
    "\n",
    "One way to strip the data frame `df` down to only these variables is to overwrite the dataframe using the selection method described above"
   ]
  },
  {
   "cell_type": "code",
   "execution_count": 43,
   "id": "d344eac6",
   "metadata": {
    "execution": {
     "iopub.execute_input": "2024-04-07T16:12:11.012402Z",
     "iopub.status.busy": "2024-04-07T16:12:11.011722Z",
     "iopub.status.idle": "2024-04-07T16:12:11.021309Z",
     "shell.execute_reply": "2024-04-07T16:12:11.020772Z",
     "shell.execute_reply.started": "2024-04-07T16:12:11.012371Z"
    },
    "hide-output": false
   },
   "outputs": [
    {
     "data": {
      "text/html": [
       "<div>\n",
       "<style scoped>\n",
       "    .dataframe tbody tr th:only-of-type {\n",
       "        vertical-align: middle;\n",
       "    }\n",
       "\n",
       "    .dataframe tbody tr th {\n",
       "        vertical-align: top;\n",
       "    }\n",
       "\n",
       "    .dataframe thead th {\n",
       "        text-align: right;\n",
       "    }\n",
       "</style>\n",
       "<table border=\"1\" class=\"dataframe\">\n",
       "  <thead>\n",
       "    <tr style=\"text-align: right;\">\n",
       "      <th></th>\n",
       "      <th>country</th>\n",
       "      <th>POP</th>\n",
       "      <th>tcgdp</th>\n",
       "    </tr>\n",
       "  </thead>\n",
       "  <tbody>\n",
       "    <tr>\n",
       "      <th>0</th>\n",
       "      <td>Argentina</td>\n",
       "      <td>1.962465e+05</td>\n",
       "      <td>2.950722e+05</td>\n",
       "    </tr>\n",
       "    <tr>\n",
       "      <th>1</th>\n",
       "      <td>Australia</td>\n",
       "      <td>1.905319e+04</td>\n",
       "      <td>5.418047e+05</td>\n",
       "    </tr>\n",
       "    <tr>\n",
       "      <th>2</th>\n",
       "      <td>India</td>\n",
       "      <td>1.006300e+06</td>\n",
       "      <td>1.728144e+06</td>\n",
       "    </tr>\n",
       "    <tr>\n",
       "      <th>3</th>\n",
       "      <td>Israel</td>\n",
       "      <td>6.114570e+03</td>\n",
       "      <td>1.292539e+05</td>\n",
       "    </tr>\n",
       "    <tr>\n",
       "      <th>4</th>\n",
       "      <td>Malawi</td>\n",
       "      <td>1.180150e+04</td>\n",
       "      <td>5.026222e+03</td>\n",
       "    </tr>\n",
       "    <tr>\n",
       "      <th>5</th>\n",
       "      <td>South Africa</td>\n",
       "      <td>4.506410e+04</td>\n",
       "      <td>2.272424e+05</td>\n",
       "    </tr>\n",
       "    <tr>\n",
       "      <th>6</th>\n",
       "      <td>United States</td>\n",
       "      <td>2.821720e+05</td>\n",
       "      <td>9.898700e+06</td>\n",
       "    </tr>\n",
       "    <tr>\n",
       "      <th>7</th>\n",
       "      <td>Uruguay</td>\n",
       "      <td>3.219793e+03</td>\n",
       "      <td>2.525596e+04</td>\n",
       "    </tr>\n",
       "  </tbody>\n",
       "</table>\n",
       "</div>"
      ],
      "text/plain": [
       "         country           POP         tcgdp\n",
       "0      Argentina  1.962465e+05  2.950722e+05\n",
       "1      Australia  1.905319e+04  5.418047e+05\n",
       "2          India  1.006300e+06  1.728144e+06\n",
       "3         Israel  6.114570e+03  1.292539e+05\n",
       "4         Malawi  1.180150e+04  5.026222e+03\n",
       "5   South Africa  4.506410e+04  2.272424e+05\n",
       "6  United States  2.821720e+05  9.898700e+06\n",
       "7        Uruguay  3.219793e+03  2.525596e+04"
      ]
     },
     "execution_count": 43,
     "metadata": {},
     "output_type": "execute_result"
    }
   ],
   "source": [
    "df = df[['country', 'POP', 'tcgdp']]\n",
    "df"
   ]
  },
  {
   "cell_type": "markdown",
   "id": "db77c494",
   "metadata": {},
   "source": [
    "Here the index `0, 1,..., 7` is redundant because we can use the country names as an index.\n",
    "\n",
    "To do this, we set the index to be the `country` variable in the dataframe"
   ]
  },
  {
   "cell_type": "code",
   "execution_count": 44,
   "id": "4453263c",
   "metadata": {
    "execution": {
     "iopub.execute_input": "2024-04-07T16:12:15.155433Z",
     "iopub.status.busy": "2024-04-07T16:12:15.154982Z",
     "iopub.status.idle": "2024-04-07T16:12:15.163319Z",
     "shell.execute_reply": "2024-04-07T16:12:15.162883Z",
     "shell.execute_reply.started": "2024-04-07T16:12:15.155403Z"
    },
    "hide-output": false
   },
   "outputs": [
    {
     "data": {
      "text/html": [
       "<div>\n",
       "<style scoped>\n",
       "    .dataframe tbody tr th:only-of-type {\n",
       "        vertical-align: middle;\n",
       "    }\n",
       "\n",
       "    .dataframe tbody tr th {\n",
       "        vertical-align: top;\n",
       "    }\n",
       "\n",
       "    .dataframe thead th {\n",
       "        text-align: right;\n",
       "    }\n",
       "</style>\n",
       "<table border=\"1\" class=\"dataframe\">\n",
       "  <thead>\n",
       "    <tr style=\"text-align: right;\">\n",
       "      <th></th>\n",
       "      <th>POP</th>\n",
       "      <th>tcgdp</th>\n",
       "    </tr>\n",
       "    <tr>\n",
       "      <th>country</th>\n",
       "      <th></th>\n",
       "      <th></th>\n",
       "    </tr>\n",
       "  </thead>\n",
       "  <tbody>\n",
       "    <tr>\n",
       "      <th>Argentina</th>\n",
       "      <td>1.962465e+05</td>\n",
       "      <td>2.950722e+05</td>\n",
       "    </tr>\n",
       "    <tr>\n",
       "      <th>Australia</th>\n",
       "      <td>1.905319e+04</td>\n",
       "      <td>5.418047e+05</td>\n",
       "    </tr>\n",
       "    <tr>\n",
       "      <th>India</th>\n",
       "      <td>1.006300e+06</td>\n",
       "      <td>1.728144e+06</td>\n",
       "    </tr>\n",
       "    <tr>\n",
       "      <th>Israel</th>\n",
       "      <td>6.114570e+03</td>\n",
       "      <td>1.292539e+05</td>\n",
       "    </tr>\n",
       "    <tr>\n",
       "      <th>Malawi</th>\n",
       "      <td>1.180150e+04</td>\n",
       "      <td>5.026222e+03</td>\n",
       "    </tr>\n",
       "    <tr>\n",
       "      <th>South Africa</th>\n",
       "      <td>4.506410e+04</td>\n",
       "      <td>2.272424e+05</td>\n",
       "    </tr>\n",
       "    <tr>\n",
       "      <th>United States</th>\n",
       "      <td>2.821720e+05</td>\n",
       "      <td>9.898700e+06</td>\n",
       "    </tr>\n",
       "    <tr>\n",
       "      <th>Uruguay</th>\n",
       "      <td>3.219793e+03</td>\n",
       "      <td>2.525596e+04</td>\n",
       "    </tr>\n",
       "  </tbody>\n",
       "</table>\n",
       "</div>"
      ],
      "text/plain": [
       "                        POP         tcgdp\n",
       "country                                  \n",
       "Argentina      1.962465e+05  2.950722e+05\n",
       "Australia      1.905319e+04  5.418047e+05\n",
       "India          1.006300e+06  1.728144e+06\n",
       "Israel         6.114570e+03  1.292539e+05\n",
       "Malawi         1.180150e+04  5.026222e+03\n",
       "South Africa   4.506410e+04  2.272424e+05\n",
       "United States  2.821720e+05  9.898700e+06\n",
       "Uruguay        3.219793e+03  2.525596e+04"
      ]
     },
     "execution_count": 44,
     "metadata": {},
     "output_type": "execute_result"
    }
   ],
   "source": [
    "df = df.set_index('country')\n",
    "df"
   ]
  },
  {
   "cell_type": "markdown",
   "id": "6cc0acdd",
   "metadata": {},
   "source": [
    "Let’s give the columns slightly better names"
   ]
  },
  {
   "cell_type": "code",
   "execution_count": 45,
   "id": "7d46e7fb",
   "metadata": {
    "execution": {
     "iopub.execute_input": "2024-04-07T16:12:26.514916Z",
     "iopub.status.busy": "2024-04-07T16:12:26.514166Z",
     "iopub.status.idle": "2024-04-07T16:12:26.523818Z",
     "shell.execute_reply": "2024-04-07T16:12:26.523381Z",
     "shell.execute_reply.started": "2024-04-07T16:12:26.514867Z"
    },
    "hide-output": false
   },
   "outputs": [
    {
     "data": {
      "text/html": [
       "<div>\n",
       "<style scoped>\n",
       "    .dataframe tbody tr th:only-of-type {\n",
       "        vertical-align: middle;\n",
       "    }\n",
       "\n",
       "    .dataframe tbody tr th {\n",
       "        vertical-align: top;\n",
       "    }\n",
       "\n",
       "    .dataframe thead th {\n",
       "        text-align: right;\n",
       "    }\n",
       "</style>\n",
       "<table border=\"1\" class=\"dataframe\">\n",
       "  <thead>\n",
       "    <tr style=\"text-align: right;\">\n",
       "      <th></th>\n",
       "      <th>population</th>\n",
       "      <th>total GDP</th>\n",
       "    </tr>\n",
       "    <tr>\n",
       "      <th>country</th>\n",
       "      <th></th>\n",
       "      <th></th>\n",
       "    </tr>\n",
       "  </thead>\n",
       "  <tbody>\n",
       "    <tr>\n",
       "      <th>Argentina</th>\n",
       "      <td>1.962465e+05</td>\n",
       "      <td>2.950722e+05</td>\n",
       "    </tr>\n",
       "    <tr>\n",
       "      <th>Australia</th>\n",
       "      <td>1.905319e+04</td>\n",
       "      <td>5.418047e+05</td>\n",
       "    </tr>\n",
       "    <tr>\n",
       "      <th>India</th>\n",
       "      <td>1.006300e+06</td>\n",
       "      <td>1.728144e+06</td>\n",
       "    </tr>\n",
       "    <tr>\n",
       "      <th>Israel</th>\n",
       "      <td>6.114570e+03</td>\n",
       "      <td>1.292539e+05</td>\n",
       "    </tr>\n",
       "    <tr>\n",
       "      <th>Malawi</th>\n",
       "      <td>1.180150e+04</td>\n",
       "      <td>5.026222e+03</td>\n",
       "    </tr>\n",
       "    <tr>\n",
       "      <th>South Africa</th>\n",
       "      <td>4.506410e+04</td>\n",
       "      <td>2.272424e+05</td>\n",
       "    </tr>\n",
       "    <tr>\n",
       "      <th>United States</th>\n",
       "      <td>2.821720e+05</td>\n",
       "      <td>9.898700e+06</td>\n",
       "    </tr>\n",
       "    <tr>\n",
       "      <th>Uruguay</th>\n",
       "      <td>3.219793e+03</td>\n",
       "      <td>2.525596e+04</td>\n",
       "    </tr>\n",
       "  </tbody>\n",
       "</table>\n",
       "</div>"
      ],
      "text/plain": [
       "                 population     total GDP\n",
       "country                                  \n",
       "Argentina      1.962465e+05  2.950722e+05\n",
       "Australia      1.905319e+04  5.418047e+05\n",
       "India          1.006300e+06  1.728144e+06\n",
       "Israel         6.114570e+03  1.292539e+05\n",
       "Malawi         1.180150e+04  5.026222e+03\n",
       "South Africa   4.506410e+04  2.272424e+05\n",
       "United States  2.821720e+05  9.898700e+06\n",
       "Uruguay        3.219793e+03  2.525596e+04"
      ]
     },
     "execution_count": 45,
     "metadata": {},
     "output_type": "execute_result"
    }
   ],
   "source": [
    "df.columns = 'population', 'total GDP'\n",
    "df"
   ]
  },
  {
   "cell_type": "markdown",
   "id": "0c80e93c",
   "metadata": {},
   "source": [
    "The `population` variable is in thousands, let’s revert to single units"
   ]
  },
  {
   "cell_type": "code",
   "execution_count": 46,
   "id": "df2ddc10",
   "metadata": {
    "execution": {
     "iopub.execute_input": "2024-04-07T16:12:35.032415Z",
     "iopub.status.busy": "2024-04-07T16:12:35.031822Z",
     "iopub.status.idle": "2024-04-07T16:12:35.041148Z",
     "shell.execute_reply": "2024-04-07T16:12:35.040744Z",
     "shell.execute_reply.started": "2024-04-07T16:12:35.032375Z"
    },
    "hide-output": false
   },
   "outputs": [
    {
     "data": {
      "text/html": [
       "<div>\n",
       "<style scoped>\n",
       "    .dataframe tbody tr th:only-of-type {\n",
       "        vertical-align: middle;\n",
       "    }\n",
       "\n",
       "    .dataframe tbody tr th {\n",
       "        vertical-align: top;\n",
       "    }\n",
       "\n",
       "    .dataframe thead th {\n",
       "        text-align: right;\n",
       "    }\n",
       "</style>\n",
       "<table border=\"1\" class=\"dataframe\">\n",
       "  <thead>\n",
       "    <tr style=\"text-align: right;\">\n",
       "      <th></th>\n",
       "      <th>population</th>\n",
       "      <th>total GDP</th>\n",
       "    </tr>\n",
       "    <tr>\n",
       "      <th>country</th>\n",
       "      <th></th>\n",
       "      <th></th>\n",
       "    </tr>\n",
       "  </thead>\n",
       "  <tbody>\n",
       "    <tr>\n",
       "      <th>Argentina</th>\n",
       "      <td>1.962465e+08</td>\n",
       "      <td>2.950722e+05</td>\n",
       "    </tr>\n",
       "    <tr>\n",
       "      <th>Australia</th>\n",
       "      <td>1.905319e+07</td>\n",
       "      <td>5.418047e+05</td>\n",
       "    </tr>\n",
       "    <tr>\n",
       "      <th>India</th>\n",
       "      <td>1.006300e+09</td>\n",
       "      <td>1.728144e+06</td>\n",
       "    </tr>\n",
       "    <tr>\n",
       "      <th>Israel</th>\n",
       "      <td>6.114570e+06</td>\n",
       "      <td>1.292539e+05</td>\n",
       "    </tr>\n",
       "    <tr>\n",
       "      <th>Malawi</th>\n",
       "      <td>1.180150e+07</td>\n",
       "      <td>5.026222e+03</td>\n",
       "    </tr>\n",
       "    <tr>\n",
       "      <th>South Africa</th>\n",
       "      <td>4.506410e+07</td>\n",
       "      <td>2.272424e+05</td>\n",
       "    </tr>\n",
       "    <tr>\n",
       "      <th>United States</th>\n",
       "      <td>2.821720e+08</td>\n",
       "      <td>9.898700e+06</td>\n",
       "    </tr>\n",
       "    <tr>\n",
       "      <th>Uruguay</th>\n",
       "      <td>3.219793e+06</td>\n",
       "      <td>2.525596e+04</td>\n",
       "    </tr>\n",
       "  </tbody>\n",
       "</table>\n",
       "</div>"
      ],
      "text/plain": [
       "                 population     total GDP\n",
       "country                                  \n",
       "Argentina      1.962465e+08  2.950722e+05\n",
       "Australia      1.905319e+07  5.418047e+05\n",
       "India          1.006300e+09  1.728144e+06\n",
       "Israel         6.114570e+06  1.292539e+05\n",
       "Malawi         1.180150e+07  5.026222e+03\n",
       "South Africa   4.506410e+07  2.272424e+05\n",
       "United States  2.821720e+08  9.898700e+06\n",
       "Uruguay        3.219793e+06  2.525596e+04"
      ]
     },
     "execution_count": 46,
     "metadata": {},
     "output_type": "execute_result"
    }
   ],
   "source": [
    "df['population'] = df['population'] * 1e3\n",
    "df"
   ]
  },
  {
   "cell_type": "markdown",
   "id": "d9f97aa5",
   "metadata": {},
   "source": [
    "Next, we’re going to add a column showing real GDP per capita, multiplying by 1,000,000 as we go because total GDP is in millions"
   ]
  },
  {
   "cell_type": "code",
   "execution_count": 47,
   "id": "04e6b421",
   "metadata": {
    "execution": {
     "iopub.execute_input": "2024-04-07T16:12:41.995655Z",
     "iopub.status.busy": "2024-04-07T16:12:41.995148Z",
     "iopub.status.idle": "2024-04-07T16:12:42.005650Z",
     "shell.execute_reply": "2024-04-07T16:12:42.005049Z",
     "shell.execute_reply.started": "2024-04-07T16:12:41.995624Z"
    },
    "hide-output": false
   },
   "outputs": [
    {
     "data": {
      "text/html": [
       "<div>\n",
       "<style scoped>\n",
       "    .dataframe tbody tr th:only-of-type {\n",
       "        vertical-align: middle;\n",
       "    }\n",
       "\n",
       "    .dataframe tbody tr th {\n",
       "        vertical-align: top;\n",
       "    }\n",
       "\n",
       "    .dataframe thead th {\n",
       "        text-align: right;\n",
       "    }\n",
       "</style>\n",
       "<table border=\"1\" class=\"dataframe\">\n",
       "  <thead>\n",
       "    <tr style=\"text-align: right;\">\n",
       "      <th></th>\n",
       "      <th>population</th>\n",
       "      <th>total GDP</th>\n",
       "      <th>GDP percap</th>\n",
       "    </tr>\n",
       "    <tr>\n",
       "      <th>country</th>\n",
       "      <th></th>\n",
       "      <th></th>\n",
       "      <th></th>\n",
       "    </tr>\n",
       "  </thead>\n",
       "  <tbody>\n",
       "    <tr>\n",
       "      <th>Argentina</th>\n",
       "      <td>1.962465e+08</td>\n",
       "      <td>2.950722e+05</td>\n",
       "      <td>1503.579625</td>\n",
       "    </tr>\n",
       "    <tr>\n",
       "      <th>Australia</th>\n",
       "      <td>1.905319e+07</td>\n",
       "      <td>5.418047e+05</td>\n",
       "      <td>28436.433261</td>\n",
       "    </tr>\n",
       "    <tr>\n",
       "      <th>India</th>\n",
       "      <td>1.006300e+09</td>\n",
       "      <td>1.728144e+06</td>\n",
       "      <td>1717.324719</td>\n",
       "    </tr>\n",
       "    <tr>\n",
       "      <th>Israel</th>\n",
       "      <td>6.114570e+06</td>\n",
       "      <td>1.292539e+05</td>\n",
       "      <td>21138.672749</td>\n",
       "    </tr>\n",
       "    <tr>\n",
       "      <th>Malawi</th>\n",
       "      <td>1.180150e+07</td>\n",
       "      <td>5.026222e+03</td>\n",
       "      <td>425.896679</td>\n",
       "    </tr>\n",
       "    <tr>\n",
       "      <th>South Africa</th>\n",
       "      <td>4.506410e+07</td>\n",
       "      <td>2.272424e+05</td>\n",
       "      <td>5042.647686</td>\n",
       "    </tr>\n",
       "    <tr>\n",
       "      <th>United States</th>\n",
       "      <td>2.821720e+08</td>\n",
       "      <td>9.898700e+06</td>\n",
       "      <td>35080.381854</td>\n",
       "    </tr>\n",
       "    <tr>\n",
       "      <th>Uruguay</th>\n",
       "      <td>3.219793e+06</td>\n",
       "      <td>2.525596e+04</td>\n",
       "      <td>7843.970620</td>\n",
       "    </tr>\n",
       "  </tbody>\n",
       "</table>\n",
       "</div>"
      ],
      "text/plain": [
       "                 population     total GDP    GDP percap\n",
       "country                                                \n",
       "Argentina      1.962465e+08  2.950722e+05   1503.579625\n",
       "Australia      1.905319e+07  5.418047e+05  28436.433261\n",
       "India          1.006300e+09  1.728144e+06   1717.324719\n",
       "Israel         6.114570e+06  1.292539e+05  21138.672749\n",
       "Malawi         1.180150e+07  5.026222e+03    425.896679\n",
       "South Africa   4.506410e+07  2.272424e+05   5042.647686\n",
       "United States  2.821720e+08  9.898700e+06  35080.381854\n",
       "Uruguay        3.219793e+06  2.525596e+04   7843.970620"
      ]
     },
     "execution_count": 47,
     "metadata": {},
     "output_type": "execute_result"
    }
   ],
   "source": [
    "df['GDP percap'] = df['total GDP'] * 1e6 / df['population']\n",
    "df"
   ]
  },
  {
   "cell_type": "markdown",
   "id": "041ce353",
   "metadata": {},
   "source": [
    "One of the nice things about pandas `DataFrame` and `Series` objects is that they have methods for plotting and visualization that work through Matplotlib.\n",
    "\n",
    "For example, we can easily generate a bar plot of GDP per capita"
   ]
  },
  {
   "cell_type": "code",
   "execution_count": 48,
   "id": "270b6e73",
   "metadata": {
    "execution": {
     "iopub.execute_input": "2024-04-07T16:12:47.723900Z",
     "iopub.status.busy": "2024-04-07T16:12:47.723575Z",
     "iopub.status.idle": "2024-04-07T16:12:47.919135Z",
     "shell.execute_reply": "2024-04-07T16:12:47.918524Z",
     "shell.execute_reply.started": "2024-04-07T16:12:47.723875Z"
    },
    "hide-output": false
   },
   "outputs": [
    {
     "data": {
      "image/png": "[encoded data removed]",
      "text/plain": [
       "<Figure size 720x576 with 1 Axes>"
      ]
     },
     "metadata": {
      "needs_background": "light"
     },
     "output_type": "display_data"
    }
   ],
   "source": [
    "ax = df['GDP percap'].plot(kind='bar')\n",
    "ax.set_xlabel('country', fontsize=12)\n",
    "ax.set_ylabel('GDP per capita', fontsize=12)\n",
    "plt.show()"
   ]
  },
  {
   "cell_type": "markdown",
   "id": "6b8fc85b",
   "metadata": {},
   "source": [
    "At the moment the data frame is ordered alphabetically on the countries—let’s change it to GDP per capita"
   ]
  },
  {
   "cell_type": "code",
   "execution_count": 49,
   "id": "e1686214",
   "metadata": {
    "execution": {
     "iopub.execute_input": "2024-04-07T16:13:03.889757Z",
     "iopub.status.busy": "2024-04-07T16:13:03.889159Z",
     "iopub.status.idle": "2024-04-07T16:13:03.898973Z",
     "shell.execute_reply": "2024-04-07T16:13:03.898330Z",
     "shell.execute_reply.started": "2024-04-07T16:13:03.889724Z"
    },
    "hide-output": false
   },
   "outputs": [
    {
     "data": {
      "text/html": [
       "<div>\n",
       "<style scoped>\n",
       "    .dataframe tbody tr th:only-of-type {\n",
       "        vertical-align: middle;\n",
       "    }\n",
       "\n",
       "    .dataframe tbody tr th {\n",
       "        vertical-align: top;\n",
       "    }\n",
       "\n",
       "    .dataframe thead th {\n",
       "        text-align: right;\n",
       "    }\n",
       "</style>\n",
       "<table border=\"1\" class=\"dataframe\">\n",
       "  <thead>\n",
       "    <tr style=\"text-align: right;\">\n",
       "      <th></th>\n",
       "      <th>population</th>\n",
       "      <th>total GDP</th>\n",
       "      <th>GDP percap</th>\n",
       "    </tr>\n",
       "    <tr>\n",
       "      <th>country</th>\n",
       "      <th></th>\n",
       "      <th></th>\n",
       "      <th></th>\n",
       "    </tr>\n",
       "  </thead>\n",
       "  <tbody>\n",
       "    <tr>\n",
       "      <th>United States</th>\n",
       "      <td>2.821720e+08</td>\n",
       "      <td>9.898700e+06</td>\n",
       "      <td>35080.381854</td>\n",
       "    </tr>\n",
       "    <tr>\n",
       "      <th>Australia</th>\n",
       "      <td>1.905319e+07</td>\n",
       "      <td>5.418047e+05</td>\n",
       "      <td>28436.433261</td>\n",
       "    </tr>\n",
       "    <tr>\n",
       "      <th>Israel</th>\n",
       "      <td>6.114570e+06</td>\n",
       "      <td>1.292539e+05</td>\n",
       "      <td>21138.672749</td>\n",
       "    </tr>\n",
       "    <tr>\n",
       "      <th>Uruguay</th>\n",
       "      <td>3.219793e+06</td>\n",
       "      <td>2.525596e+04</td>\n",
       "      <td>7843.970620</td>\n",
       "    </tr>\n",
       "    <tr>\n",
       "      <th>South Africa</th>\n",
       "      <td>4.506410e+07</td>\n",
       "      <td>2.272424e+05</td>\n",
       "      <td>5042.647686</td>\n",
       "    </tr>\n",
       "    <tr>\n",
       "      <th>India</th>\n",
       "      <td>1.006300e+09</td>\n",
       "      <td>1.728144e+06</td>\n",
       "      <td>1717.324719</td>\n",
       "    </tr>\n",
       "    <tr>\n",
       "      <th>Argentina</th>\n",
       "      <td>1.962465e+08</td>\n",
       "      <td>2.950722e+05</td>\n",
       "      <td>1503.579625</td>\n",
       "    </tr>\n",
       "    <tr>\n",
       "      <th>Malawi</th>\n",
       "      <td>1.180150e+07</td>\n",
       "      <td>5.026222e+03</td>\n",
       "      <td>425.896679</td>\n",
       "    </tr>\n",
       "  </tbody>\n",
       "</table>\n",
       "</div>"
      ],
      "text/plain": [
       "                 population     total GDP    GDP percap\n",
       "country                                                \n",
       "United States  2.821720e+08  9.898700e+06  35080.381854\n",
       "Australia      1.905319e+07  5.418047e+05  28436.433261\n",
       "Israel         6.114570e+06  1.292539e+05  21138.672749\n",
       "Uruguay        3.219793e+06  2.525596e+04   7843.970620\n",
       "South Africa   4.506410e+07  2.272424e+05   5042.647686\n",
       "India          1.006300e+09  1.728144e+06   1717.324719\n",
       "Argentina      1.962465e+08  2.950722e+05   1503.579625\n",
       "Malawi         1.180150e+07  5.026222e+03    425.896679"
      ]
     },
     "execution_count": 49,
     "metadata": {},
     "output_type": "execute_result"
    }
   ],
   "source": [
    "df = df.sort_values(by='GDP percap', ascending=False)\n",
    "df"
   ]
  },
  {
   "cell_type": "markdown",
   "id": "0ba0dc84",
   "metadata": {},
   "source": [
    "Plotting as before now yields"
   ]
  },
  {
   "cell_type": "code",
   "execution_count": 50,
   "id": "24982133",
   "metadata": {
    "execution": {
     "iopub.execute_input": "2024-04-07T16:13:07.319062Z",
     "iopub.status.busy": "2024-04-07T16:13:07.318540Z",
     "iopub.status.idle": "2024-04-07T16:13:07.432101Z",
     "shell.execute_reply": "2024-04-07T16:13:07.431482Z",
     "shell.execute_reply.started": "2024-04-07T16:13:07.319033Z"
    },
    "hide-output": false
   },
   "outputs": [
    {
     "data": {
      "image/png": "[encoded data removed]",
      "text/plain": [
       "<Figure size 720x576 with 1 Axes>"
      ]
     },
     "metadata": {
      "needs_background": "light"
     },
     "output_type": "display_data"
    }
   ],
   "source": [
    "ax = df['GDP percap'].plot(kind='bar')\n",
    "ax.set_xlabel('country', fontsize=12)\n",
    "ax.set_ylabel('GDP per capita', fontsize=12)\n",
    "plt.show()"
   ]
  },
  {
   "cell_type": "markdown",
   "id": "5afcb2ae",
   "metadata": {},
   "source": [
    "## On-Line Data Sources\n",
    "\n",
    "\n",
    "<a id='index-4'></a>\n",
    "Python makes it straightforward to query online databases programmatically.\n",
    "\n",
    "An important database for economists is [FRED](https://research.stlouisfed.org/fred2/) — a vast collection of time series data maintained by the St. Louis Fed.\n",
    "\n",
    "For example, suppose that we are interested in the [unemployment rate](https://research.stlouisfed.org/fred2/series/UNRATE).\n",
    "\n",
    "Via FRED, the entire series for the US civilian unemployment rate can be downloaded directly by entering\n",
    "this URL into your browser (note that this requires an internet connection)"
   ]
  },
  {
   "cell_type": "markdown",
   "id": "86df165c",
   "metadata": {
    "hide-output": false
   },
   "source": [
    "```text\n",
    "https://research.stlouisfed.org/fred2/series/UNRATE/downloaddata/UNRATE.csv\n",
    "```\n"
   ]
  },
  {
   "cell_type": "markdown",
   "id": "a3fe0846",
   "metadata": {},
   "source": [
    "(Equivalently, click here: [https://research.stlouisfed.org/fred2/series/UNRATE/downloaddata/UNRATE.csv](https://research.stlouisfed.org/fred2/series/UNRATE/downloaddata/UNRATE.csv))\n",
    "\n",
    "This request returns a CSV file, which will be handled by your default application for this class of files.\n",
    "\n",
    "Alternatively, we can access the CSV file from within a Python program.\n",
    "\n",
    "This can be done with a variety of methods.\n",
    "\n",
    "We start with a relatively low-level method and then return to pandas."
   ]
  },
  {
   "cell_type": "markdown",
   "id": "374c8441",
   "metadata": {},
   "source": [
    "### Accessing Data with requests\n",
    "\n",
    "\n",
    "<a id='index-6'></a>\n",
    "One option is to use [requests](https://requests.readthedocs.io/en/master/), a standard Python library for requesting data over the Internet.\n",
    "\n",
    "To begin, try the following code on your computer"
   ]
  },
  {
   "cell_type": "code",
   "execution_count": 51,
   "id": "cc6d874d",
   "metadata": {
    "execution": {
     "iopub.execute_input": "2024-04-07T16:13:17.220007Z",
     "iopub.status.busy": "2024-04-07T16:13:17.219300Z",
     "iopub.status.idle": "2024-04-07T16:13:18.257826Z",
     "shell.execute_reply": "2024-04-07T16:13:18.256463Z",
     "shell.execute_reply.started": "2024-04-07T16:13:17.219974Z"
    },
    "hide-output": false
   },
   "outputs": [],
   "source": [
    "r = requests.get('http://research.stlouisfed.org/fred2/series/UNRATE/downloaddata/UNRATE.csv')"
   ]
  },
  {
   "cell_type": "markdown",
   "id": "9746e2ca",
   "metadata": {},
   "source": [
    "If there’s no error message, then the call has succeeded.\n",
    "\n",
    "If you do get an error, then there are two likely causes\n",
    "\n",
    "1. You are not connected to the Internet — hopefully, this isn’t the case.  \n",
    "1. Your machine is accessing the Internet through a proxy server, and Python isn’t aware of this.  \n",
    "\n",
    "\n",
    "In the second case, you can either\n",
    "\n",
    "- switch to another machine  \n",
    "- solve your proxy problem by reading [the documentation](https://requests.readthedocs.io/en/master/)  \n",
    "\n",
    "\n",
    "Assuming that all is working, you can now proceed to use the `source` object returned by the call `requests.get('http://research.stlouisfed.org/fred2/series/UNRATE/downloaddata/UNRATE.csv')`"
   ]
  },
  {
   "cell_type": "code",
   "execution_count": 52,
   "id": "502b91cd",
   "metadata": {
    "execution": {
     "iopub.execute_input": "2024-04-07T16:13:18.666114Z",
     "iopub.status.busy": "2024-04-07T16:13:18.665537Z",
     "iopub.status.idle": "2024-04-07T16:13:19.522361Z",
     "shell.execute_reply": "2024-04-07T16:13:19.521906Z",
     "shell.execute_reply.started": "2024-04-07T16:13:18.666088Z"
    },
    "hide-output": false
   },
   "outputs": [
    {
     "data": {
      "text/plain": [
       "'DATE,VALUE\\r'"
      ]
     },
     "execution_count": 52,
     "metadata": {},
     "output_type": "execute_result"
    }
   ],
   "source": [
    "url = 'http://research.stlouisfed.org/fred2/series/UNRATE/downloaddata/UNRATE.csv'\n",
    "source = requests.get(url).content.decode().split(\"\\n\")\n",
    "source[0]"
   ]
  },
  {
   "cell_type": "code",
   "execution_count": 53,
   "id": "fd097236",
   "metadata": {
    "execution": {
     "iopub.execute_input": "2024-04-07T16:13:19.523528Z",
     "iopub.status.busy": "2024-04-07T16:13:19.523366Z",
     "iopub.status.idle": "2024-04-07T16:13:19.527052Z",
     "shell.execute_reply": "2024-04-07T16:13:19.526623Z",
     "shell.execute_reply.started": "2024-04-07T16:13:19.523510Z"
    },
    "hide-output": false
   },
   "outputs": [
    {
     "data": {
      "text/plain": [
       "'1948-01-01,3.4\\r'"
      ]
     },
     "execution_count": 53,
     "metadata": {},
     "output_type": "execute_result"
    }
   ],
   "source": [
    "source[1]"
   ]
  },
  {
   "cell_type": "code",
   "execution_count": 54,
   "id": "c0ba608c",
   "metadata": {
    "execution": {
     "iopub.execute_input": "2024-04-07T16:13:19.527815Z",
     "iopub.status.busy": "2024-04-07T16:13:19.527671Z",
     "iopub.status.idle": "2024-04-07T16:13:19.545895Z",
     "shell.execute_reply": "2024-04-07T16:13:19.545467Z",
     "shell.execute_reply.started": "2024-04-07T16:13:19.527798Z"
    },
    "hide-output": false
   },
   "outputs": [
    {
     "data": {
      "text/plain": [
       "'1948-02-01,3.8\\r'"
      ]
     },
     "execution_count": 54,
     "metadata": {},
     "output_type": "execute_result"
    }
   ],
   "source": [
    "source[2]"
   ]
  },
  {
   "cell_type": "markdown",
   "id": "a8788a34",
   "metadata": {},
   "source": [
    "We could now write some additional code to parse this text and store it as an array.\n",
    "\n",
    "But this is unnecessary — pandas’ `read_csv` function can handle the task for us.\n",
    "\n",
    "We use `parse_dates=True` so that pandas recognizes our dates column, allowing for simple date filtering"
   ]
  },
  {
   "cell_type": "code",
   "execution_count": 55,
   "id": "919d218f",
   "metadata": {
    "execution": {
     "iopub.execute_input": "2024-04-07T16:13:20.225778Z",
     "iopub.status.busy": "2024-04-07T16:13:20.225119Z",
     "iopub.status.idle": "2024-04-07T16:13:20.624730Z",
     "shell.execute_reply": "2024-04-07T16:13:20.624079Z",
     "shell.execute_reply.started": "2024-04-07T16:13:20.225748Z"
    },
    "hide-output": false
   },
   "outputs": [],
   "source": [
    "data = pd.read_csv(url, index_col=0, parse_dates=True)"
   ]
  },
  {
   "cell_type": "markdown",
   "id": "3d67f97b",
   "metadata": {},
   "source": [
    "The data has been read into a pandas DataFrame called `data` that we can now manipulate in the usual way"
   ]
  },
  {
   "cell_type": "code",
   "execution_count": 56,
   "id": "0b094615",
   "metadata": {
    "execution": {
     "iopub.execute_input": "2024-04-07T16:13:20.842621Z",
     "iopub.status.busy": "2024-04-07T16:13:20.841774Z",
     "iopub.status.idle": "2024-04-07T16:13:20.846561Z",
     "shell.execute_reply": "2024-04-07T16:13:20.846070Z",
     "shell.execute_reply.started": "2024-04-07T16:13:20.842569Z"
    },
    "hide-output": false
   },
   "outputs": [
    {
     "data": {
      "text/plain": [
       "pandas.core.frame.DataFrame"
      ]
     },
     "execution_count": 56,
     "metadata": {},
     "output_type": "execute_result"
    }
   ],
   "source": [
    "type(data)"
   ]
  },
  {
   "cell_type": "code",
   "execution_count": 57,
   "id": "a156139e",
   "metadata": {
    "execution": {
     "iopub.execute_input": "2024-04-07T16:13:21.171900Z",
     "iopub.status.busy": "2024-04-07T16:13:21.171237Z",
     "iopub.status.idle": "2024-04-07T16:13:21.179067Z",
     "shell.execute_reply": "2024-04-07T16:13:21.178630Z",
     "shell.execute_reply.started": "2024-04-07T16:13:21.171869Z"
    },
    "hide-output": false
   },
   "outputs": [
    {
     "data": {
      "text/html": [
       "<div>\n",
       "<style scoped>\n",
       "    .dataframe tbody tr th:only-of-type {\n",
       "        vertical-align: middle;\n",
       "    }\n",
       "\n",
       "    .dataframe tbody tr th {\n",
       "        vertical-align: top;\n",
       "    }\n",
       "\n",
       "    .dataframe thead th {\n",
       "        text-align: right;\n",
       "    }\n",
       "</style>\n",
       "<table border=\"1\" class=\"dataframe\">\n",
       "  <thead>\n",
       "    <tr style=\"text-align: right;\">\n",
       "      <th></th>\n",
       "      <th>VALUE</th>\n",
       "    </tr>\n",
       "    <tr>\n",
       "      <th>DATE</th>\n",
       "      <th></th>\n",
       "    </tr>\n",
       "  </thead>\n",
       "  <tbody>\n",
       "    <tr>\n",
       "      <th>1948-01-01</th>\n",
       "      <td>3.4</td>\n",
       "    </tr>\n",
       "    <tr>\n",
       "      <th>1948-02-01</th>\n",
       "      <td>3.8</td>\n",
       "    </tr>\n",
       "    <tr>\n",
       "      <th>1948-03-01</th>\n",
       "      <td>4.0</td>\n",
       "    </tr>\n",
       "    <tr>\n",
       "      <th>1948-04-01</th>\n",
       "      <td>3.9</td>\n",
       "    </tr>\n",
       "    <tr>\n",
       "      <th>1948-05-01</th>\n",
       "      <td>3.5</td>\n",
       "    </tr>\n",
       "  </tbody>\n",
       "</table>\n",
       "</div>"
      ],
      "text/plain": [
       "            VALUE\n",
       "DATE             \n",
       "1948-01-01    3.4\n",
       "1948-02-01    3.8\n",
       "1948-03-01    4.0\n",
       "1948-04-01    3.9\n",
       "1948-05-01    3.5"
      ]
     },
     "execution_count": 57,
     "metadata": {},
     "output_type": "execute_result"
    }
   ],
   "source": [
    "data.head()  # A useful method to get a quick look at a data frame"
   ]
  },
  {
   "cell_type": "code",
   "execution_count": 58,
   "id": "c9922fad",
   "metadata": {
    "execution": {
     "iopub.execute_input": "2024-04-07T16:13:21.458187Z",
     "iopub.status.busy": "2024-04-07T16:13:21.457523Z",
     "iopub.status.idle": "2024-04-07T16:13:21.468067Z",
     "shell.execute_reply": "2024-04-07T16:13:21.467586Z",
     "shell.execute_reply.started": "2024-04-07T16:13:21.458156Z"
    },
    "hide-output": false
   },
   "outputs": [
    {
     "data": {
      "text/html": [
       "<div>\n",
       "<style scoped>\n",
       "    .dataframe tbody tr th:only-of-type {\n",
       "        vertical-align: middle;\n",
       "    }\n",
       "\n",
       "    .dataframe tbody tr th {\n",
       "        vertical-align: top;\n",
       "    }\n",
       "\n",
       "    .dataframe thead th {\n",
       "        text-align: right;\n",
       "    }\n",
       "</style>\n",
       "<table border=\"1\" class=\"dataframe\">\n",
       "  <thead>\n",
       "    <tr style=\"text-align: right;\">\n",
       "      <th></th>\n",
       "      <th>VALUE</th>\n",
       "    </tr>\n",
       "  </thead>\n",
       "  <tbody>\n",
       "    <tr>\n",
       "      <th>count</th>\n",
       "      <td>915.0</td>\n",
       "    </tr>\n",
       "    <tr>\n",
       "      <th>mean</th>\n",
       "      <td>5.7</td>\n",
       "    </tr>\n",
       "    <tr>\n",
       "      <th>std</th>\n",
       "      <td>1.7</td>\n",
       "    </tr>\n",
       "    <tr>\n",
       "      <th>min</th>\n",
       "      <td>2.5</td>\n",
       "    </tr>\n",
       "    <tr>\n",
       "      <th>25%</th>\n",
       "      <td>4.4</td>\n",
       "    </tr>\n",
       "    <tr>\n",
       "      <th>50%</th>\n",
       "      <td>5.5</td>\n",
       "    </tr>\n",
       "    <tr>\n",
       "      <th>75%</th>\n",
       "      <td>6.7</td>\n",
       "    </tr>\n",
       "    <tr>\n",
       "      <th>max</th>\n",
       "      <td>14.8</td>\n",
       "    </tr>\n",
       "  </tbody>\n",
       "</table>\n",
       "</div>"
      ],
      "text/plain": [
       "       VALUE\n",
       "count  915.0\n",
       "mean     5.7\n",
       "std      1.7\n",
       "min      2.5\n",
       "25%      4.4\n",
       "50%      5.5\n",
       "75%      6.7\n",
       "max     14.8"
      ]
     },
     "execution_count": 58,
     "metadata": {},
     "output_type": "execute_result"
    }
   ],
   "source": [
    "pd.set_option('display.precision', 1)\n",
    "data.describe()  # Your output might differ slightly"
   ]
  },
  {
   "cell_type": "markdown",
   "id": "4bd29280",
   "metadata": {},
   "source": [
    "We can also plot the unemployment rate from 2006 to 2012 as follows"
   ]
  },
  {
   "cell_type": "code",
   "execution_count": 59,
   "id": "65d1a4cb",
   "metadata": {
    "execution": {
     "iopub.execute_input": "2024-04-07T16:13:22.067429Z",
     "iopub.status.busy": "2024-04-07T16:13:22.066960Z",
     "iopub.status.idle": "2024-04-07T16:13:22.218122Z",
     "shell.execute_reply": "2024-04-07T16:13:22.217679Z",
     "shell.execute_reply.started": "2024-04-07T16:13:22.067401Z"
    },
    "hide-output": false
   },
   "outputs": [
    {
     "data": {
      "image/png": "[encoded data removed]",
      "text/plain": [
       "<Figure size 720x576 with 1 Axes>"
      ]
     },
     "metadata": {
      "needs_background": "light"
     },
     "output_type": "display_data"
    }
   ],
   "source": [
    "ax = data['2006':'2012'].plot(title='US Unemployment Rate', legend=False)\n",
    "ax.set_xlabel('year', fontsize=12)\n",
    "ax.set_ylabel('%', fontsize=12)\n",
    "plt.show()"
   ]
  },
  {
   "cell_type": "markdown",
   "id": "7146de7e",
   "metadata": {},
   "source": [
    "Note that pandas offers many other file type alternatives.\n",
    "\n",
    "Pandas has [a wide variety](https://pandas.pydata.org/pandas-docs/stable/user_guide/io.html) of top-level methods that we can use to read, excel, json, parquet or plug straight into a database server."
   ]
  },
  {
   "cell_type": "markdown",
   "id": "eeff8433",
   "metadata": {},
   "source": [
    "### Using pandas_datareader and yfinance to Access Data\n",
    "\n",
    "\n",
    "<a id='index-9'></a>\n",
    "The maker of pandas has also authored a library called\n",
    "[pandas_datareader](https://pandas-datareader.readthedocs.io/en/latest/) that\n",
    "gives programmatic access to many data sources straight from the Jupyter notebook.\n",
    "\n",
    "While some sources require an access key, many of the most important (e.g., FRED, [OECD](https://data.oecd.org/), [EUROSTAT](https://ec.europa.eu/eurostat/data/database) and the World Bank) are free to use.\n",
    "\n",
    "We will also use [yfinance](https://pypi.org/project/yfinance/) to fetch data from Yahoo finance\n",
    "in the exercises.\n",
    "\n",
    "For now let’s work through one example of downloading and plotting data — this\n",
    "time from the World Bank.\n",
    "\n",
    ">**Note**\n",
    ">\n",
    ">There are also other [python libraries](https://data.worldbank.org/products/third-party-apps)\n",
    "available for working with world bank data such as [wbgapi](https://pypi.org/project/wbgapi/)\n",
    "\n",
    "The World Bank [collects and organizes data](http://data.worldbank.org/indicator) on a huge range of indicators.\n",
    "\n",
    "For example, [here’s](http://data.worldbank.org/indicator/GC.DOD.TOTL.GD.ZS/countries) some data on government debt as a ratio to GDP.\n",
    "\n",
    "The next code example fetches the data for you and plots time series for the US and Australia"
   ]
  },
  {
   "cell_type": "code",
   "execution_count": 60,
   "id": "c0f242a0",
   "metadata": {
    "execution": {
     "iopub.execute_input": "2024-04-07T16:13:29.929209Z",
     "iopub.status.busy": "2024-04-07T16:13:29.928529Z",
     "iopub.status.idle": "2024-04-07T16:13:32.338893Z",
     "shell.execute_reply": "2024-04-07T16:13:32.338261Z",
     "shell.execute_reply.started": "2024-04-07T16:13:29.929180Z"
    },
    "hide-output": false
   },
   "outputs": [
    {
     "name": "stdout",
     "output_type": "stream",
     "text": [
      "Requirement already satisfied: pandas_datareader in /opt/conda/lib/python3.8/site-packages (0.10.0)\n",
      "Requirement already satisfied: requests>=2.19.0 in /opt/conda/lib/python3.8/site-packages (from pandas_datareader) (2.31.0)\n",
      "Requirement already satisfied: lxml in /opt/conda/lib/python3.8/site-packages (from pandas_datareader) (5.2.1)\n",
      "Requirement already satisfied: pandas>=0.23 in /opt/conda/lib/python3.8/site-packages (from pandas_datareader) (1.4.2)\n",
      "Requirement already satisfied: python-dateutil>=2.8.1 in /opt/conda/lib/python3.8/site-packages (from pandas>=0.23->pandas_datareader) (2.8.2)\n",
      "Requirement already satisfied: pytz>=2020.1 in /opt/conda/lib/python3.8/site-packages (from pandas>=0.23->pandas_datareader) (2024.1)\n",
      "Requirement already satisfied: numpy>=1.18.5 in /opt/conda/lib/python3.8/site-packages (from pandas>=0.23->pandas_datareader) (1.21.5)\n",
      "Requirement already satisfied: idna<4,>=2.5 in /opt/conda/lib/python3.8/site-packages (from requests>=2.19.0->pandas_datareader) (3.3)\n",
      "Requirement already satisfied: urllib3<3,>=1.21.1 in /opt/conda/lib/python3.8/site-packages (from requests>=2.19.0->pandas_datareader) (1.26.9)\n",
      "Requirement already satisfied: certifi>=2017.4.17 in /opt/conda/lib/python3.8/site-packages (from requests>=2.19.0->pandas_datareader) (2021.10.8)\n",
      "Requirement already satisfied: charset-normalizer<4,>=2 in /opt/conda/lib/python3.8/site-packages (from requests>=2.19.0->pandas_datareader) (2.0.12)\n",
      "Requirement already satisfied: six>=1.5 in /opt/conda/lib/python3.8/site-packages (from python-dateutil>=2.8.1->pandas>=0.23->pandas_datareader) (1.16.0)\n",
      "Note: you may need to restart the kernel to use updated packages.\n"
     ]
    },
    {
     "data": {
      "image/png": "[encoded data removed]",
      "text/plain": [
       "<Figure size 720x576 with 1 Axes>"
      ]
     },
     "metadata": {
      "needs_background": "light"
     },
     "output_type": "display_data"
    }
   ],
   "source": [
    "%pip install pandas_datareader\n",
    "\n",
    "from pandas_datareader import wb\n",
    "\n",
    "govt_debt = wb.download(indicator='GC.DOD.TOTL.GD.ZS', country=['US', 'AU'], start=2005, end=2016).stack().unstack(0)\n",
    "ind = govt_debt.index.droplevel(-1)\n",
    "govt_debt.index = ind\n",
    "ax = govt_debt.plot(lw=2)\n",
    "ax.set_xlabel('year', fontsize=12)\n",
    "plt.title(\"Government Debt to GDP (%)\")\n",
    "plt.show()"
   ]
  },
  {
   "cell_type": "markdown",
   "id": "cea4b8ec",
   "metadata": {},
   "source": [
    "The [documentation](https://pandas-datareader.readthedocs.io/en/latest/index.html) provides more details on how to access various data sources."
   ]
  },
  {
   "cell_type": "markdown",
   "id": "2b4709c9",
   "metadata": {},
   "source": [
    "## Exercises"
   ]
  },
  {
   "cell_type": "markdown",
   "id": "8552be37",
   "metadata": {},
   "source": [
    "## Exercise 13.1\n",
    "\n",
    "With these imports:"
   ]
  },
  {
   "cell_type": "code",
   "execution_count": 61,
   "id": "0ad64bf2",
   "metadata": {
    "execution": {
     "iopub.execute_input": "2024-04-07T16:13:32.503592Z",
     "iopub.status.busy": "2024-04-07T16:13:32.502872Z",
     "iopub.status.idle": "2024-04-07T16:13:34.615621Z",
     "shell.execute_reply": "2024-04-07T16:13:34.615064Z",
     "shell.execute_reply.started": "2024-04-07T16:13:32.503555Z"
    },
    "hide-output": false
   },
   "outputs": [
    {
     "name": "stdout",
     "output_type": "stream",
     "text": [
      "Requirement already satisfied: yfinance in /opt/conda/lib/python3.8/site-packages (0.2.37)\n",
      "Requirement already satisfied: requests>=2.31 in /opt/conda/lib/python3.8/site-packages (from yfinance) (2.31.0)\n",
      "Requirement already satisfied: lxml>=4.9.1 in /opt/conda/lib/python3.8/site-packages (from yfinance) (5.2.1)\n",
      "Requirement already satisfied: pytz>=2022.5 in /opt/conda/lib/python3.8/site-packages (from yfinance) (2024.1)\n",
      "Requirement already satisfied: numpy>=1.16.5 in /opt/conda/lib/python3.8/site-packages (from yfinance) (1.21.5)\n",
      "Requirement already satisfied: pandas>=1.3.0 in /opt/conda/lib/python3.8/site-packages (from yfinance) (1.4.2)\n",
      "Requirement already satisfied: multitasking>=0.0.7 in /opt/conda/lib/python3.8/site-packages (from yfinance) (0.0.11)\n",
      "Requirement already satisfied: appdirs>=1.4.4 in /opt/conda/lib/python3.8/site-packages (from yfinance) (1.4.4)\n",
      "Requirement already satisfied: peewee>=3.16.2 in /opt/conda/lib/python3.8/site-packages (from yfinance) (3.17.1)\n",
      "Requirement already satisfied: beautifulsoup4>=4.11.1 in /opt/conda/lib/python3.8/site-packages (from yfinance) (4.11.1)\n",
      "Requirement already satisfied: html5lib>=1.1 in /opt/conda/lib/python3.8/site-packages (from yfinance) (1.1)\n",
      "Requirement already satisfied: frozendict>=2.3.4 in /opt/conda/lib/python3.8/site-packages (from yfinance) (2.4.1)\n",
      "Requirement already satisfied: soupsieve>1.2 in /opt/conda/lib/python3.8/site-packages (from beautifulsoup4>=4.11.1->yfinance) (2.3.1)\n",
      "Requirement already satisfied: webencodings in /opt/conda/lib/python3.8/site-packages (from html5lib>=1.1->yfinance) (0.5.1)\n",
      "Requirement already satisfied: six>=1.9 in /opt/conda/lib/python3.8/site-packages (from html5lib>=1.1->yfinance) (1.16.0)\n",
      "Requirement already satisfied: python-dateutil>=2.8.1 in /opt/conda/lib/python3.8/site-packages (from pandas>=1.3.0->yfinance) (2.8.2)\n",
      "Requirement already satisfied: idna<4,>=2.5 in /opt/conda/lib/python3.8/site-packages (from requests>=2.31->yfinance) (3.3)\n",
      "Requirement already satisfied: urllib3<3,>=1.21.1 in /opt/conda/lib/python3.8/site-packages (from requests>=2.31->yfinance) (1.26.9)\n",
      "Requirement already satisfied: certifi>=2017.4.17 in /opt/conda/lib/python3.8/site-packages (from requests>=2.31->yfinance) (2021.10.8)\n",
      "Requirement already satisfied: charset-normalizer<4,>=2 in /opt/conda/lib/python3.8/site-packages (from requests>=2.31->yfinance) (2.0.12)\n",
      "Note: you may need to restart the kernel to use updated packages.\n"
     ]
    }
   ],
   "source": [
    "%pip install yfinance\n",
    "import datetime as dt\n",
    "import yfinance as yf"
   ]
  },
  {
   "cell_type": "markdown",
   "id": "286631d2",
   "metadata": {},
   "source": [
    "Write a program to calculate the percentage price change over 2021 for the following shares:"
   ]
  },
  {
   "cell_type": "code",
   "execution_count": 62,
   "id": "a0386ac1",
   "metadata": {
    "execution": {
     "iopub.execute_input": "2024-04-07T16:13:34.617099Z",
     "iopub.status.busy": "2024-04-07T16:13:34.616682Z",
     "iopub.status.idle": "2024-04-07T16:13:34.620610Z",
     "shell.execute_reply": "2024-04-07T16:13:34.620003Z",
     "shell.execute_reply.started": "2024-04-07T16:13:34.617068Z"
    },
    "hide-output": false
   },
   "outputs": [],
   "source": [
    "ticker_list = {'INTC': 'Intel',\n",
    "               'MSFT': 'Microsoft',\n",
    "               'IBM': 'IBM',\n",
    "               'BHP': 'BHP',\n",
    "               'TM': 'Toyota',\n",
    "               'AAPL': 'Apple',\n",
    "               'AMZN': 'Amazon',\n",
    "               'C': 'Citigroup',\n",
    "               'QCOM': 'Qualcomm',\n",
    "               'KO': 'Coca-Cola',\n",
    "               'GOOG': 'Google'}"
   ]
  },
  {
   "cell_type": "markdown",
   "id": "f373724f",
   "metadata": {},
   "source": [
    "Here’s the first part of the program"
   ]
  },
  {
   "cell_type": "code",
   "execution_count": 63,
   "id": "2ebf5c84",
   "metadata": {
    "execution": {
     "iopub.execute_input": "2024-04-07T16:13:34.621525Z",
     "iopub.status.busy": "2024-04-07T16:13:34.621385Z",
     "iopub.status.idle": "2024-04-07T16:13:37.324118Z",
     "shell.execute_reply": "2024-04-07T16:13:37.323604Z",
     "shell.execute_reply.started": "2024-04-07T16:13:34.621509Z"
    },
    "hide-output": false
   },
   "outputs": [],
   "source": [
    "def read_data(ticker_list,\n",
    "          start=dt.datetime(2021, 1, 1),\n",
    "          end=dt.datetime(2021, 12, 31)):\n",
    "    \"\"\"\n",
    "    This function reads in closing price data from Yahoo\n",
    "    for each tick in the ticker_list.\n",
    "    \"\"\"\n",
    "    ticker = pd.DataFrame()\n",
    "\n",
    "    for tick in ticker_list:\n",
    "        stock = yf.Ticker(tick)\n",
    "        prices = stock.history(start=start, end=end)\n",
    "\n",
    "        # Change the index to date-only\n",
    "        prices.index = pd.to_datetime(prices.index.date)\n",
    "        \n",
    "        closing_prices = prices['Close']\n",
    "        ticker[tick] = closing_prices\n",
    "\n",
    "    return ticker\n",
    "\n",
    "ticker = read_data(ticker_list)"
   ]
  },
  {
   "cell_type": "markdown",
   "id": "aad85cbb",
   "metadata": {},
   "source": [
    "Complete the program to plot the result as a bar graph like this one:\n",
    "\n",
    "![https://python-programming.quantecon.org/_static/lecture_specific/pandas/pandas_share_prices.png](https://python-programming.quantecon.org/_static/lecture_specific/pandas/pandas_share_prices.png)"
   ]
  },
  {
   "cell_type": "markdown",
   "id": "e891f9c0",
   "metadata": {},
   "source": [
    "## Solution to 1\n",
    "\n",
    "There are a few ways to approach this problem using Pandas to calculate\n",
    "the percentage change.\n",
    "\n",
    "First, you can extract the data and perform the calculation such as:"
   ]
  },
  {
   "cell_type": "code",
   "execution_count": 64,
   "id": "2dd71b48",
   "metadata": {
    "execution": {
     "iopub.execute_input": "2024-04-07T16:13:37.325496Z",
     "iopub.status.busy": "2024-04-07T16:13:37.325336Z",
     "iopub.status.idle": "2024-04-07T16:13:37.332261Z",
     "shell.execute_reply": "2024-04-07T16:13:37.331658Z",
     "shell.execute_reply.started": "2024-04-07T16:13:37.325478Z"
    },
    "hide-output": false
   },
   "outputs": [
    {
     "data": {
      "text/plain": [
       "INTC     6.9\n",
       "MSFT    57.2\n",
       "IBM     18.7\n",
       "BHP    -10.5\n",
       "TM      20.1\n",
       "AAPL    38.6\n",
       "AMZN     5.8\n",
       "C        3.6\n",
       "QCOM    25.3\n",
       "KO      14.9\n",
       "GOOG    69.0\n",
       "dtype: float64"
      ]
     },
     "execution_count": 64,
     "metadata": {},
     "output_type": "execute_result"
    }
   ],
   "source": [
    "p1 = ticker.iloc[0]    #Get the first set of prices as a Series\n",
    "p2 = ticker.iloc[-1]   #Get the last set of prices as a Series\n",
    "price_change = (p2 - p1) / p1 * 100\n",
    "price_change"
   ]
  },
  {
   "cell_type": "markdown",
   "id": "83bcd271",
   "metadata": {},
   "source": [
    "Alternatively you can use an inbuilt method `pct_change` and configure it to\n",
    "perform the correct calculation using `periods` argument."
   ]
  },
  {
   "cell_type": "code",
   "execution_count": 65,
   "id": "5e90c53d",
   "metadata": {
    "execution": {
     "iopub.execute_input": "2024-04-07T16:13:37.333055Z",
     "iopub.status.busy": "2024-04-07T16:13:37.332915Z",
     "iopub.status.idle": "2024-04-07T16:13:37.350085Z",
     "shell.execute_reply": "2024-04-07T16:13:37.349578Z",
     "shell.execute_reply.started": "2024-04-07T16:13:37.333038Z"
    },
    "hide-output": false
   },
   "outputs": [
    {
     "data": {
      "text/plain": [
       "INTC     6.9\n",
       "MSFT    57.2\n",
       "IBM     18.7\n",
       "BHP    -10.5\n",
       "TM      20.1\n",
       "AAPL    38.6\n",
       "AMZN     5.8\n",
       "C        3.6\n",
       "QCOM    25.3\n",
       "KO      14.9\n",
       "GOOG    69.0\n",
       "Name: 2021-12-30 00:00:00, dtype: float64"
      ]
     },
     "execution_count": 65,
     "metadata": {},
     "output_type": "execute_result"
    }
   ],
   "source": [
    "change = ticker.pct_change(periods=len(ticker)-1, axis='rows')*100\n",
    "price_change = change.iloc[-1]\n",
    "price_change"
   ]
  },
  {
   "cell_type": "markdown",
   "id": "29b30602",
   "metadata": {},
   "source": [
    "Then to plot the chart"
   ]
  },
  {
   "cell_type": "code",
   "execution_count": 66,
   "id": "6ec81d4a",
   "metadata": {
    "execution": {
     "iopub.execute_input": "2024-04-07T16:13:37.351094Z",
     "iopub.status.busy": "2024-04-07T16:13:37.350740Z",
     "iopub.status.idle": "2024-04-07T16:13:37.488179Z",
     "shell.execute_reply": "2024-04-07T16:13:37.487481Z",
     "shell.execute_reply.started": "2024-04-07T16:13:37.351074Z"
    },
    "hide-output": false
   },
   "outputs": [
    {
     "data": {
      "image/png": "[encoded data removed]",
      "text/plain": [
       "<Figure size 720x576 with 1 Axes>"
      ]
     },
     "metadata": {
      "needs_background": "light"
     },
     "output_type": "display_data"
    }
   ],
   "source": [
    "price_change.sort_values(inplace=True)\n",
    "price_change = price_change.rename(index=ticker_list)\n",
    "fig, ax = plt.subplots(figsize=(10,8))\n",
    "ax.set_xlabel('stock', fontsize=12)\n",
    "ax.set_ylabel('percentage change in price', fontsize=12)\n",
    "price_change.plot(kind='bar', ax=ax)\n",
    "plt.show()"
   ]
  },
  {
   "cell_type": "markdown",
   "id": "4bf9dcdc",
   "metadata": {},
   "source": [
    "## Exercise 2\n",
    "\n",
    "Using the method `read_data` introduced in Exercise 13.1, write a program to obtain year-on-year percentage change for the following indices:"
   ]
  },
  {
   "cell_type": "code",
   "execution_count": 67,
   "id": "ff7c5fd6",
   "metadata": {
    "execution": {
     "iopub.execute_input": "2024-04-07T16:13:37.489356Z",
     "iopub.status.busy": "2024-04-07T16:13:37.489202Z",
     "iopub.status.idle": "2024-04-07T16:13:37.492518Z",
     "shell.execute_reply": "2024-04-07T16:13:37.491854Z",
     "shell.execute_reply.started": "2024-04-07T16:13:37.489337Z"
    },
    "hide-output": false
   },
   "outputs": [],
   "source": [
    "indices_list = {'^GSPC': 'S&P 500',\n",
    "               '^IXIC': 'NASDAQ',\n",
    "               '^DJI': 'Dow Jones',\n",
    "               '^N225': 'Nikkei'}"
   ]
  },
  {
   "cell_type": "markdown",
   "id": "eba23935",
   "metadata": {},
   "source": [
    "Complete the program to show summary statistics and plot the result as a time series graph like this one:\n",
    "\n",
    "![https://python-programming.quantecon.org/_static/lecture_specific/pandas/pandas_indices_pctchange.png](https://python-programming.quantecon.org/_static/lecture_specific/pandas/pandas_indices_pctchange.png)"
   ]
  },
  {
   "cell_type": "markdown",
   "id": "48c24e9d",
   "metadata": {},
   "source": [
    "## Solution to 2\n",
    "\n",
    "Following the work you did in Exercise 1, you can query the data using `read_data` by updating the start and end dates accordingly."
   ]
  },
  {
   "cell_type": "code",
   "execution_count": 68,
   "id": "ca17426c",
   "metadata": {
    "execution": {
     "iopub.execute_input": "2024-04-07T16:13:37.493324Z",
     "iopub.status.busy": "2024-04-07T16:13:37.493186Z",
     "iopub.status.idle": "2024-04-07T16:13:38.751558Z",
     "shell.execute_reply": "2024-04-07T16:13:38.751044Z",
     "shell.execute_reply.started": "2024-04-07T16:13:37.493307Z"
    },
    "hide-output": false
   },
   "outputs": [],
   "source": [
    "indices_data = read_data(\n",
    "        indices_list,\n",
    "        start=dt.datetime(1971, 1, 1),  #Common Start Date\n",
    "        end=dt.datetime(2021, 12, 31)\n",
    ")"
   ]
  },
  {
   "cell_type": "markdown",
   "id": "9a569f31",
   "metadata": {},
   "source": [
    "Then, extract the first and last set of prices per year as DataFrames and calculate the yearly returns such as:"
   ]
  },
  {
   "cell_type": "code",
   "execution_count": 69,
   "id": "4de4918e",
   "metadata": {
    "execution": {
     "iopub.execute_input": "2024-04-07T16:13:38.752448Z",
     "iopub.status.busy": "2024-04-07T16:13:38.752291Z",
     "iopub.status.idle": "2024-04-07T16:13:38.785717Z",
     "shell.execute_reply": "2024-04-07T16:13:38.785050Z",
     "shell.execute_reply.started": "2024-04-07T16:13:38.752429Z"
    },
    "hide-output": false
   },
   "outputs": [
    {
     "data": {
      "text/html": [
       "<div>\n",
       "<style scoped>\n",
       "    .dataframe tbody tr th:only-of-type {\n",
       "        vertical-align: middle;\n",
       "    }\n",
       "\n",
       "    .dataframe tbody tr th {\n",
       "        vertical-align: top;\n",
       "    }\n",
       "\n",
       "    .dataframe thead th {\n",
       "        text-align: right;\n",
       "    }\n",
       "</style>\n",
       "<table border=\"1\" class=\"dataframe\">\n",
       "  <thead>\n",
       "    <tr style=\"text-align: right;\">\n",
       "      <th></th>\n",
       "      <th>S&amp;P 500</th>\n",
       "      <th>NASDAQ</th>\n",
       "      <th>Dow Jones</th>\n",
       "      <th>Nikkei</th>\n",
       "    </tr>\n",
       "  </thead>\n",
       "  <tbody>\n",
       "    <tr>\n",
       "      <th>1971</th>\n",
       "      <td>1.2e-01</td>\n",
       "      <td>1.4e-01</td>\n",
       "      <td>NaN</td>\n",
       "      <td>3.6e-01</td>\n",
       "    </tr>\n",
       "    <tr>\n",
       "      <th>1972</th>\n",
       "      <td>1.6e-01</td>\n",
       "      <td>1.8e-01</td>\n",
       "      <td>NaN</td>\n",
       "      <td>9.2e-01</td>\n",
       "    </tr>\n",
       "    <tr>\n",
       "      <th>1973</th>\n",
       "      <td>-1.8e-01</td>\n",
       "      <td>-3.2e-01</td>\n",
       "      <td>NaN</td>\n",
       "      <td>-1.8e-01</td>\n",
       "    </tr>\n",
       "    <tr>\n",
       "      <th>1974</th>\n",
       "      <td>-3.0e-01</td>\n",
       "      <td>-3.5e-01</td>\n",
       "      <td>NaN</td>\n",
       "      <td>-9.9e-02</td>\n",
       "    </tr>\n",
       "    <tr>\n",
       "      <th>1975</th>\n",
       "      <td>2.8e-01</td>\n",
       "      <td>2.8e-01</td>\n",
       "      <td>NaN</td>\n",
       "      <td>1.7e-01</td>\n",
       "    </tr>\n",
       "    <tr>\n",
       "      <th>1976</th>\n",
       "      <td>1.8e-01</td>\n",
       "      <td>2.5e-01</td>\n",
       "      <td>NaN</td>\n",
       "      <td>1.3e-01</td>\n",
       "    </tr>\n",
       "    <tr>\n",
       "      <th>1977</th>\n",
       "      <td>-1.1e-01</td>\n",
       "      <td>7.5e-02</td>\n",
       "      <td>NaN</td>\n",
       "      <td>-2.7e-02</td>\n",
       "    </tr>\n",
       "    <tr>\n",
       "      <th>1978</th>\n",
       "      <td>2.4e-02</td>\n",
       "      <td>1.3e-01</td>\n",
       "      <td>NaN</td>\n",
       "      <td>2.3e-01</td>\n",
       "    </tr>\n",
       "    <tr>\n",
       "      <th>1979</th>\n",
       "      <td>1.2e-01</td>\n",
       "      <td>2.8e-01</td>\n",
       "      <td>NaN</td>\n",
       "      <td>8.7e-02</td>\n",
       "    </tr>\n",
       "    <tr>\n",
       "      <th>1980</th>\n",
       "      <td>2.8e-01</td>\n",
       "      <td>3.7e-01</td>\n",
       "      <td>NaN</td>\n",
       "      <td>7.7e-02</td>\n",
       "    </tr>\n",
       "    <tr>\n",
       "      <th>1981</th>\n",
       "      <td>-1.0e-01</td>\n",
       "      <td>-3.8e-02</td>\n",
       "      <td>NaN</td>\n",
       "      <td>7.4e-02</td>\n",
       "    </tr>\n",
       "    <tr>\n",
       "      <th>1982</th>\n",
       "      <td>1.5e-01</td>\n",
       "      <td>1.9e-01</td>\n",
       "      <td>NaN</td>\n",
       "      <td>3.9e-02</td>\n",
       "    </tr>\n",
       "    <tr>\n",
       "      <th>1983</th>\n",
       "      <td>1.9e-01</td>\n",
       "      <td>2.1e-01</td>\n",
       "      <td>NaN</td>\n",
       "      <td>2.3e-01</td>\n",
       "    </tr>\n",
       "    <tr>\n",
       "      <th>1984</th>\n",
       "      <td>2.0e-02</td>\n",
       "      <td>-1.1e-01</td>\n",
       "      <td>NaN</td>\n",
       "      <td>1.6e-01</td>\n",
       "    </tr>\n",
       "    <tr>\n",
       "      <th>1985</th>\n",
       "      <td>2.8e-01</td>\n",
       "      <td>3.2e-01</td>\n",
       "      <td>NaN</td>\n",
       "      <td>1.3e-01</td>\n",
       "    </tr>\n",
       "    <tr>\n",
       "      <th>1986</th>\n",
       "      <td>1.6e-01</td>\n",
       "      <td>7.3e-02</td>\n",
       "      <td>NaN</td>\n",
       "      <td>4.4e-01</td>\n",
       "    </tr>\n",
       "    <tr>\n",
       "      <th>1987</th>\n",
       "      <td>2.6e-03</td>\n",
       "      <td>-6.4e-02</td>\n",
       "      <td>NaN</td>\n",
       "      <td>1.5e-01</td>\n",
       "    </tr>\n",
       "    <tr>\n",
       "      <th>1988</th>\n",
       "      <td>8.5e-02</td>\n",
       "      <td>1.3e-01</td>\n",
       "      <td>NaN</td>\n",
       "      <td>4.2e-01</td>\n",
       "    </tr>\n",
       "    <tr>\n",
       "      <th>1989</th>\n",
       "      <td>2.8e-01</td>\n",
       "      <td>2.0e-01</td>\n",
       "      <td>NaN</td>\n",
       "      <td>2.9e-01</td>\n",
       "    </tr>\n",
       "    <tr>\n",
       "      <th>1990</th>\n",
       "      <td>-8.2e-02</td>\n",
       "      <td>-1.9e-01</td>\n",
       "      <td>NaN</td>\n",
       "      <td>-3.8e-01</td>\n",
       "    </tr>\n",
       "    <tr>\n",
       "      <th>1991</th>\n",
       "      <td>2.8e-01</td>\n",
       "      <td>5.8e-01</td>\n",
       "      <td>NaN</td>\n",
       "      <td>-4.5e-02</td>\n",
       "    </tr>\n",
       "    <tr>\n",
       "      <th>1992</th>\n",
       "      <td>4.4e-02</td>\n",
       "      <td>1.5e-01</td>\n",
       "      <td>4.1e-02</td>\n",
       "      <td>-2.9e-01</td>\n",
       "    </tr>\n",
       "    <tr>\n",
       "      <th>1993</th>\n",
       "      <td>7.1e-02</td>\n",
       "      <td>1.6e-01</td>\n",
       "      <td>1.3e-01</td>\n",
       "      <td>2.5e-02</td>\n",
       "    </tr>\n",
       "    <tr>\n",
       "      <th>1994</th>\n",
       "      <td>-1.3e-02</td>\n",
       "      <td>-2.4e-02</td>\n",
       "      <td>2.1e-02</td>\n",
       "      <td>1.4e-01</td>\n",
       "    </tr>\n",
       "    <tr>\n",
       "      <th>1995</th>\n",
       "      <td>3.4e-01</td>\n",
       "      <td>4.1e-01</td>\n",
       "      <td>3.3e-01</td>\n",
       "      <td>9.4e-03</td>\n",
       "    </tr>\n",
       "    <tr>\n",
       "      <th>1996</th>\n",
       "      <td>1.9e-01</td>\n",
       "      <td>2.2e-01</td>\n",
       "      <td>2.5e-01</td>\n",
       "      <td>-6.1e-02</td>\n",
       "    </tr>\n",
       "    <tr>\n",
       "      <th>1997</th>\n",
       "      <td>3.2e-01</td>\n",
       "      <td>2.3e-01</td>\n",
       "      <td>2.3e-01</td>\n",
       "      <td>-2.2e-01</td>\n",
       "    </tr>\n",
       "    <tr>\n",
       "      <th>1998</th>\n",
       "      <td>2.6e-01</td>\n",
       "      <td>3.9e-01</td>\n",
       "      <td>1.5e-01</td>\n",
       "      <td>-7.5e-02</td>\n",
       "    </tr>\n",
       "    <tr>\n",
       "      <th>1999</th>\n",
       "      <td>2.0e-01</td>\n",
       "      <td>8.4e-01</td>\n",
       "      <td>2.5e-01</td>\n",
       "      <td>4.1e-01</td>\n",
       "    </tr>\n",
       "    <tr>\n",
       "      <th>2000</th>\n",
       "      <td>-9.3e-02</td>\n",
       "      <td>-4.0e-01</td>\n",
       "      <td>-5.0e-02</td>\n",
       "      <td>-2.7e-01</td>\n",
       "    </tr>\n",
       "    <tr>\n",
       "      <th>2001</th>\n",
       "      <td>-1.1e-01</td>\n",
       "      <td>-1.5e-01</td>\n",
       "      <td>-5.9e-02</td>\n",
       "      <td>-2.3e-01</td>\n",
       "    </tr>\n",
       "    <tr>\n",
       "      <th>2002</th>\n",
       "      <td>-2.4e-01</td>\n",
       "      <td>-3.3e-01</td>\n",
       "      <td>-1.7e-01</td>\n",
       "      <td>-2.1e-01</td>\n",
       "    </tr>\n",
       "    <tr>\n",
       "      <th>2003</th>\n",
       "      <td>2.2e-01</td>\n",
       "      <td>4.5e-01</td>\n",
       "      <td>2.1e-01</td>\n",
       "      <td>2.3e-01</td>\n",
       "    </tr>\n",
       "    <tr>\n",
       "      <th>2004</th>\n",
       "      <td>9.3e-02</td>\n",
       "      <td>8.4e-02</td>\n",
       "      <td>3.6e-02</td>\n",
       "      <td>6.1e-02</td>\n",
       "    </tr>\n",
       "    <tr>\n",
       "      <th>2005</th>\n",
       "      <td>3.8e-02</td>\n",
       "      <td>2.5e-02</td>\n",
       "      <td>-1.1e-03</td>\n",
       "      <td>4.0e-01</td>\n",
       "    </tr>\n",
       "    <tr>\n",
       "      <th>2006</th>\n",
       "      <td>1.2e-01</td>\n",
       "      <td>7.6e-02</td>\n",
       "      <td>1.5e-01</td>\n",
       "      <td>5.3e-02</td>\n",
       "    </tr>\n",
       "    <tr>\n",
       "      <th>2007</th>\n",
       "      <td>3.7e-02</td>\n",
       "      <td>9.5e-02</td>\n",
       "      <td>6.3e-02</td>\n",
       "      <td>-1.2e-01</td>\n",
       "    </tr>\n",
       "    <tr>\n",
       "      <th>2008</th>\n",
       "      <td>-3.8e-01</td>\n",
       "      <td>-4.0e-01</td>\n",
       "      <td>-3.3e-01</td>\n",
       "      <td>-4.0e-01</td>\n",
       "    </tr>\n",
       "    <tr>\n",
       "      <th>2009</th>\n",
       "      <td>2.0e-01</td>\n",
       "      <td>3.9e-01</td>\n",
       "      <td>1.5e-01</td>\n",
       "      <td>1.7e-01</td>\n",
       "    </tr>\n",
       "    <tr>\n",
       "      <th>2010</th>\n",
       "      <td>1.1e-01</td>\n",
       "      <td>1.5e-01</td>\n",
       "      <td>9.4e-02</td>\n",
       "      <td>-4.0e-02</td>\n",
       "    </tr>\n",
       "    <tr>\n",
       "      <th>2011</th>\n",
       "      <td>-1.1e-02</td>\n",
       "      <td>-3.2e-02</td>\n",
       "      <td>4.7e-02</td>\n",
       "      <td>-1.9e-01</td>\n",
       "    </tr>\n",
       "    <tr>\n",
       "      <th>2012</th>\n",
       "      <td>1.2e-01</td>\n",
       "      <td>1.4e-01</td>\n",
       "      <td>5.7e-02</td>\n",
       "      <td>2.1e-01</td>\n",
       "    </tr>\n",
       "    <tr>\n",
       "      <th>2013</th>\n",
       "      <td>2.6e-01</td>\n",
       "      <td>3.4e-01</td>\n",
       "      <td>2.4e-01</td>\n",
       "      <td>5.2e-01</td>\n",
       "    </tr>\n",
       "    <tr>\n",
       "      <th>2014</th>\n",
       "      <td>1.2e-01</td>\n",
       "      <td>1.4e-01</td>\n",
       "      <td>8.4e-02</td>\n",
       "      <td>9.7e-02</td>\n",
       "    </tr>\n",
       "    <tr>\n",
       "      <th>2015</th>\n",
       "      <td>-6.9e-03</td>\n",
       "      <td>5.9e-02</td>\n",
       "      <td>-2.3e-02</td>\n",
       "      <td>9.3e-02</td>\n",
       "    </tr>\n",
       "    <tr>\n",
       "      <th>2016</th>\n",
       "      <td>1.1e-01</td>\n",
       "      <td>9.8e-02</td>\n",
       "      <td>1.5e-01</td>\n",
       "      <td>3.6e-02</td>\n",
       "    </tr>\n",
       "    <tr>\n",
       "      <th>2017</th>\n",
       "      <td>1.8e-01</td>\n",
       "      <td>2.7e-01</td>\n",
       "      <td>2.4e-01</td>\n",
       "      <td>1.6e-01</td>\n",
       "    </tr>\n",
       "    <tr>\n",
       "      <th>2018</th>\n",
       "      <td>-7.0e-02</td>\n",
       "      <td>-5.3e-02</td>\n",
       "      <td>-6.0e-02</td>\n",
       "      <td>-1.5e-01</td>\n",
       "    </tr>\n",
       "    <tr>\n",
       "      <th>2019</th>\n",
       "      <td>2.9e-01</td>\n",
       "      <td>3.5e-01</td>\n",
       "      <td>2.2e-01</td>\n",
       "      <td>2.1e-01</td>\n",
       "    </tr>\n",
       "    <tr>\n",
       "      <th>2020</th>\n",
       "      <td>1.5e-01</td>\n",
       "      <td>4.2e-01</td>\n",
       "      <td>6.0e-02</td>\n",
       "      <td>1.8e-01</td>\n",
       "    </tr>\n",
       "    <tr>\n",
       "      <th>2021</th>\n",
       "      <td>2.9e-01</td>\n",
       "      <td>2.4e-01</td>\n",
       "      <td>2.0e-01</td>\n",
       "      <td>5.6e-02</td>\n",
       "    </tr>\n",
       "  </tbody>\n",
       "</table>\n",
       "</div>"
      ],
      "text/plain": [
       "      S&P 500   NASDAQ  Dow Jones   Nikkei\n",
       "1971  1.2e-01  1.4e-01        NaN  3.6e-01\n",
       "1972  1.6e-01  1.8e-01        NaN  9.2e-01\n",
       "1973 -1.8e-01 -3.2e-01        NaN -1.8e-01\n",
       "1974 -3.0e-01 -3.5e-01        NaN -9.9e-02\n",
       "1975  2.8e-01  2.8e-01        NaN  1.7e-01\n",
       "1976  1.8e-01  2.5e-01        NaN  1.3e-01\n",
       "1977 -1.1e-01  7.5e-02        NaN -2.7e-02\n",
       "1978  2.4e-02  1.3e-01        NaN  2.3e-01\n",
       "1979  1.2e-01  2.8e-01        NaN  8.7e-02\n",
       "1980  2.8e-01  3.7e-01        NaN  7.7e-02\n",
       "1981 -1.0e-01 -3.8e-02        NaN  7.4e-02\n",
       "1982  1.5e-01  1.9e-01        NaN  3.9e-02\n",
       "1983  1.9e-01  2.1e-01        NaN  2.3e-01\n",
       "1984  2.0e-02 -1.1e-01        NaN  1.6e-01\n",
       "1985  2.8e-01  3.2e-01        NaN  1.3e-01\n",
       "1986  1.6e-01  7.3e-02        NaN  4.4e-01\n",
       "1987  2.6e-03 -6.4e-02        NaN  1.5e-01\n",
       "1988  8.5e-02  1.3e-01        NaN  4.2e-01\n",
       "1989  2.8e-01  2.0e-01        NaN  2.9e-01\n",
       "1990 -8.2e-02 -1.9e-01        NaN -3.8e-01\n",
       "1991  2.8e-01  5.8e-01        NaN -4.5e-02\n",
       "1992  4.4e-02  1.5e-01    4.1e-02 -2.9e-01\n",
       "1993  7.1e-02  1.6e-01    1.3e-01  2.5e-02\n",
       "1994 -1.3e-02 -2.4e-02    2.1e-02  1.4e-01\n",
       "1995  3.4e-01  4.1e-01    3.3e-01  9.4e-03\n",
       "1996  1.9e-01  2.2e-01    2.5e-01 -6.1e-02\n",
       "1997  3.2e-01  2.3e-01    2.3e-01 -2.2e-01\n",
       "1998  2.6e-01  3.9e-01    1.5e-01 -7.5e-02\n",
       "1999  2.0e-01  8.4e-01    2.5e-01  4.1e-01\n",
       "2000 -9.3e-02 -4.0e-01   -5.0e-02 -2.7e-01\n",
       "2001 -1.1e-01 -1.5e-01   -5.9e-02 -2.3e-01\n",
       "2002 -2.4e-01 -3.3e-01   -1.7e-01 -2.1e-01\n",
       "2003  2.2e-01  4.5e-01    2.1e-01  2.3e-01\n",
       "2004  9.3e-02  8.4e-02    3.6e-02  6.1e-02\n",
       "2005  3.8e-02  2.5e-02   -1.1e-03  4.0e-01\n",
       "2006  1.2e-01  7.6e-02    1.5e-01  5.3e-02\n",
       "2007  3.7e-02  9.5e-02    6.3e-02 -1.2e-01\n",
       "2008 -3.8e-01 -4.0e-01   -3.3e-01 -4.0e-01\n",
       "2009  2.0e-01  3.9e-01    1.5e-01  1.7e-01\n",
       "2010  1.1e-01  1.5e-01    9.4e-02 -4.0e-02\n",
       "2011 -1.1e-02 -3.2e-02    4.7e-02 -1.9e-01\n",
       "2012  1.2e-01  1.4e-01    5.7e-02  2.1e-01\n",
       "2013  2.6e-01  3.4e-01    2.4e-01  5.2e-01\n",
       "2014  1.2e-01  1.4e-01    8.4e-02  9.7e-02\n",
       "2015 -6.9e-03  5.9e-02   -2.3e-02  9.3e-02\n",
       "2016  1.1e-01  9.8e-02    1.5e-01  3.6e-02\n",
       "2017  1.8e-01  2.7e-01    2.4e-01  1.6e-01\n",
       "2018 -7.0e-02 -5.3e-02   -6.0e-02 -1.5e-01\n",
       "2019  2.9e-01  3.5e-01    2.2e-01  2.1e-01\n",
       "2020  1.5e-01  4.2e-01    6.0e-02  1.8e-01\n",
       "2021  2.9e-01  2.4e-01    2.0e-01  5.6e-02"
      ]
     },
     "execution_count": 69,
     "metadata": {},
     "output_type": "execute_result"
    }
   ],
   "source": [
    "yearly_returns = pd.DataFrame()\n",
    "\n",
    "for index, name in indices_list.items():\n",
    "    p1 = indices_data.groupby(indices_data.index.year)[index].first()  # Get the first set of returns as a DataFrame\n",
    "    p2 = indices_data.groupby(indices_data.index.year)[index].last()   # Get the last set of returns as a DataFrame\n",
    "    returns = (p2 - p1) / p1\n",
    "    yearly_returns[name] = returns\n",
    "\n",
    "yearly_returns"
   ]
  },
  {
   "cell_type": "markdown",
   "id": "e4f9b4d6",
   "metadata": {},
   "source": [
    "Next, you can obtain summary statistics by using the method `describe`."
   ]
  },
  {
   "cell_type": "code",
   "execution_count": 70,
   "id": "c9effc1c",
   "metadata": {
    "execution": {
     "iopub.execute_input": "2024-04-07T16:13:38.787120Z",
     "iopub.status.busy": "2024-04-07T16:13:38.786963Z",
     "iopub.status.idle": "2024-04-07T16:13:38.801885Z",
     "shell.execute_reply": "2024-04-07T16:13:38.801263Z",
     "shell.execute_reply.started": "2024-04-07T16:13:38.787102Z"
    },
    "hide-output": false
   },
   "outputs": [
    {
     "data": {
      "text/html": [
       "<div>\n",
       "<style scoped>\n",
       "    .dataframe tbody tr th:only-of-type {\n",
       "        vertical-align: middle;\n",
       "    }\n",
       "\n",
       "    .dataframe tbody tr th {\n",
       "        vertical-align: top;\n",
       "    }\n",
       "\n",
       "    .dataframe thead th {\n",
       "        text-align: right;\n",
       "    }\n",
       "</style>\n",
       "<table border=\"1\" class=\"dataframe\">\n",
       "  <thead>\n",
       "    <tr style=\"text-align: right;\">\n",
       "      <th></th>\n",
       "      <th>S&amp;P 500</th>\n",
       "      <th>NASDAQ</th>\n",
       "      <th>Dow Jones</th>\n",
       "      <th>Nikkei</th>\n",
       "    </tr>\n",
       "  </thead>\n",
       "  <tbody>\n",
       "    <tr>\n",
       "      <th>count</th>\n",
       "      <td>5.1e+01</td>\n",
       "      <td>5.1e+01</td>\n",
       "      <td>3.0e+01</td>\n",
       "      <td>5.1e+01</td>\n",
       "    </tr>\n",
       "    <tr>\n",
       "      <th>mean</th>\n",
       "      <td>9.2e-02</td>\n",
       "      <td>1.3e-01</td>\n",
       "      <td>9.1e-02</td>\n",
       "      <td>7.9e-02</td>\n",
       "    </tr>\n",
       "    <tr>\n",
       "      <th>std</th>\n",
       "      <td>1.6e-01</td>\n",
       "      <td>2.5e-01</td>\n",
       "      <td>1.4e-01</td>\n",
       "      <td>2.4e-01</td>\n",
       "    </tr>\n",
       "    <tr>\n",
       "      <th>min</th>\n",
       "      <td>-3.8e-01</td>\n",
       "      <td>-4.0e-01</td>\n",
       "      <td>-3.3e-01</td>\n",
       "      <td>-4.0e-01</td>\n",
       "    </tr>\n",
       "    <tr>\n",
       "      <th>25%</th>\n",
       "      <td>-2.2e-03</td>\n",
       "      <td>1.6e-04</td>\n",
       "      <td>2.5e-02</td>\n",
       "      <td>-6.8e-02</td>\n",
       "    </tr>\n",
       "    <tr>\n",
       "      <th>50%</th>\n",
       "      <td>1.2e-01</td>\n",
       "      <td>1.4e-01</td>\n",
       "      <td>8.9e-02</td>\n",
       "      <td>7.7e-02</td>\n",
       "    </tr>\n",
       "    <tr>\n",
       "      <th>75%</th>\n",
       "      <td>2.0e-01</td>\n",
       "      <td>2.8e-01</td>\n",
       "      <td>2.1e-01</td>\n",
       "      <td>2.0e-01</td>\n",
       "    </tr>\n",
       "    <tr>\n",
       "      <th>max</th>\n",
       "      <td>3.4e-01</td>\n",
       "      <td>8.4e-01</td>\n",
       "      <td>3.3e-01</td>\n",
       "      <td>9.2e-01</td>\n",
       "    </tr>\n",
       "  </tbody>\n",
       "</table>\n",
       "</div>"
      ],
      "text/plain": [
       "       S&P 500   NASDAQ  Dow Jones   Nikkei\n",
       "count  5.1e+01  5.1e+01    3.0e+01  5.1e+01\n",
       "mean   9.2e-02  1.3e-01    9.1e-02  7.9e-02\n",
       "std    1.6e-01  2.5e-01    1.4e-01  2.4e-01\n",
       "min   -3.8e-01 -4.0e-01   -3.3e-01 -4.0e-01\n",
       "25%   -2.2e-03  1.6e-04    2.5e-02 -6.8e-02\n",
       "50%    1.2e-01  1.4e-01    8.9e-02  7.7e-02\n",
       "75%    2.0e-01  2.8e-01    2.1e-01  2.0e-01\n",
       "max    3.4e-01  8.4e-01    3.3e-01  9.2e-01"
      ]
     },
     "execution_count": 70,
     "metadata": {},
     "output_type": "execute_result"
    }
   ],
   "source": [
    "yearly_returns.describe()"
   ]
  },
  {
   "cell_type": "markdown",
   "id": "682233f0",
   "metadata": {},
   "source": [
    "Then, to plot the chart"
   ]
  },
  {
   "cell_type": "code",
   "execution_count": 71,
   "id": "419096e4",
   "metadata": {
    "execution": {
     "iopub.execute_input": "2024-04-07T16:13:38.802740Z",
     "iopub.status.busy": "2024-04-07T16:13:38.802568Z",
     "iopub.status.idle": "2024-04-07T16:13:39.195875Z",
     "shell.execute_reply": "2024-04-07T16:13:39.195277Z",
     "shell.execute_reply.started": "2024-04-07T16:13:38.802723Z"
    },
    "hide-output": false
   },
   "outputs": [
    {
     "data": {
      "image/png": "[encoded data removed]",
      "text/plain": [
       "<Figure size 720x576 with 4 Axes>"
      ]
     },
     "metadata": {
      "needs_background": "light"
     },
     "output_type": "display_data"
    }
   ],
   "source": [
    "fig, axes = plt.subplots(2, 2, figsize=(10, 8))\n",
    "\n",
    "for iter_, ax in enumerate(axes.flatten()):            # Flatten 2-D array to 1-D array\n",
    "    index_name = yearly_returns.columns[iter_]         # Get index name per iteration\n",
    "    ax.plot(yearly_returns[index_name])                # Plot pct change of yearly returns per index\n",
    "    ax.set_ylabel(\"percent change\", fontsize = 12)\n",
    "    ax.set_title(index_name)\n",
    "\n",
    "plt.tight_layout()"
   ]
  },
  {
   "cell_type": "markdown",
   "id": "76dcdef8",
   "metadata": {},
   "source": [
    "<p><a id=mung href=#mung-link><strong>[1]</strong></a> Wikipedia defines munging as cleaning data from one raw form into a structured, purged one."
   ]
  },
  {
   "cell_type": "code",
   "execution_count": null,
   "id": "9500b3a7",
   "metadata": {},
   "outputs": [],
   "source": []
  }
 ],
 "metadata": {
  "date": 1703113307.9559584,
  "filename": "pandas.md",
  "kernelspec": {
   "display_name": "Python 3 (ipykernel)",
   "language": "python",
   "name": "python3"
  },
  "language_info": {
   "codemirror_mode": {
    "name": "ipython",
    "version": 3
   },
   "file_extension": ".py",
   "mimetype": "text/x-python",
   "name": "python",
   "nbconvert_exporter": "python",
   "pygments_lexer": "ipython3",
   "version": "3.8.13"
  },
  "title": "Pandas"
 },
 "nbformat": 4,
 "nbformat_minor": 5
}

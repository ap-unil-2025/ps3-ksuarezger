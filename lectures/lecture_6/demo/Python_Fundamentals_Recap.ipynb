{
 "cells": [
  {
   "cell_type": "markdown",
   "id": "533fef4c",
   "metadata": {},
   "source": [
    "# Python Fundamentals — 60‑Minute Recap of what we have learned so far\n",
    "\n",
    "**Variables · Control Flow · Functions · Data Structures · Testing/Exceptions · OOP & Inheritance**  \n",
    "\n",
    "> Run the cells top‑to‑bottom. Each section contains short, focused examples designed to be taught live within ~60 minutes.\n"
   ]
  },
  {
   "cell_type": "markdown",
   "id": "ec1e9fcf",
   "metadata": {},
   "source": [
    "## Learning goals\n",
    "\n",
    "By the end, you should be able to\n",
    "\n",
    "- Work with Python’s core **types** and **expressions**\n",
    "- Use **if/elif/else**, **while**, and **for** (with `range`, `enumerate`, `break`)\n",
    "- Write and call **functions** (docstrings, return vs. print, scope, lambdas, recursion)\n",
    "- Use **lists, tuples, dictionaries** effectively\n",
    "- Add basic **tests**, **assertions**, and handle **exceptions**\n",
    "- Define **classes**, methods, `__str__`, and simple **operator overloads**\n",
    "- Implement **inheritance** and use polymorphism\n"
   ]
  },
  {
   "cell_type": "markdown",
   "id": "803c6c6f",
   "metadata": {},
   "source": [
    "## 1. Variables, types, and expressions\n",
    "\n",
    "Python objects have **types** (e.g. `int`, `float`, `bool`, `NoneType`, `str`).  \n",
    "Assignments **bind** names to values, and *augmented assignments* update in place.\n"
   ]
  },
  {
   "cell_type": "code",
   "execution_count": 1,
   "id": "245a491e",
   "metadata": {},
   "outputs": [
    {
     "name": "stdout",
     "output_type": "stream",
     "text": [
      "<class 'int'> <class 'float'> <class 'bool'> <class 'NoneType'>\n",
      "10.0 10\n",
      "expr = 16\n",
      "x = 12\n"
     ]
    }
   ],
   "source": [
    "# Scalars and types\n",
    "i = 3              # int\n",
    "f = 3.14           # float\n",
    "b = True           # bool\n",
    "n = None           # NoneType\n",
    "print(type(i), type(f), type(b), type(n))\n",
    "\n",
    "# Casting / conversions (note: int() truncates towards zero)\n",
    "print(float(10), int(10.9))\n",
    "\n",
    "# Arithmetic and precedence\n",
    "expr = 3 + 4 * 5 - (4 + 3)  # parentheses first, then *, /, then +, -\n",
    "print(\"expr =\", expr)\n",
    "\n",
    "# Augmented assignment\n",
    "x = 1\n",
    "x += 5     # same as: x = x + 5\n",
    "x *= 2\n",
    "print(\"x =\", x)\n"
   ]
  },
  {
   "cell_type": "markdown",
   "id": "56c356bb",
   "metadata": {},
   "source": [
    "### Strings (sequences) and indexing\n",
    "\n",
    "Strings are **immutable** sequences. Use `+` for concatenation and `*` for repetition.  \n",
    "Indexing starts at 0; negative indices count from the end.\n"
   ]
  },
  {
   "cell_type": "code",
   "execution_count": 2,
   "id": "c9129ca9",
   "metadata": {},
   "outputs": [
    {
     "name": "stdout",
     "output_type": "stream",
     "text": [
      "hello Mickey hahaha\n",
      "a b d c\n",
      "Strings are immutable: 'str' object does not support item assignment\n"
     ]
    }
   ],
   "source": [
    "hi = \"hello\"\n",
    "name = \"Mickey\"\n",
    "greet = hi + \" \" + name\n",
    "spam = \"ha\" * 3\n",
    "print(greet, spam)\n",
    "\n",
    "s = \"abcd\"\n",
    "print(s[0], s[1], s[-1], s[-2])  # a b d c\n",
    "\n",
    "# Demonstrate immutability safely\n",
    "try:\n",
    "    s[0] = \"Z\"\n",
    "except TypeError as e:\n",
    "    print(\"Strings are immutable:\", e)\n"
   ]
  },
  {
   "cell_type": "markdown",
   "id": "b9516fd9",
   "metadata": {},
   "source": [
    "### Comparisons and logical operators\n",
    "\n",
    "Comparison operators (`< <= > >= == !=`) return booleans.  \n",
    "Logical operators are `not`, `and`, `or`.\n"
   ]
  },
  {
   "cell_type": "code",
   "execution_count": 3,
   "id": "862e3c43",
   "metadata": {},
   "outputs": [
    {
     "name": "stdout",
     "output_type": "stream",
     "text": [
      "False True True\n",
      "False False True\n"
     ]
    }
   ],
   "source": [
    "i, j = 3, 5\n",
    "print(j < i, i == 3, i != j)\n",
    "a, b = True, False\n",
    "print(not a, a and b, a or b)\n"
   ]
  },
  {
   "cell_type": "markdown",
   "id": "18151f16",
   "metadata": {},
   "source": [
    "## 2. Branching (`if / elif / else`)\n",
    "\n",
    "Blocks are defined **by indentation** (convention: 4 spaces).\n"
   ]
  },
  {
   "cell_type": "code",
   "execution_count": 4,
   "id": "f0244a9a",
   "metadata": {},
   "outputs": [
    {
     "name": "stdout",
     "output_type": "stream",
     "text": [
      "-1 -> negative\n",
      "0 -> zero\n",
      "0.1 -> positive\n"
     ]
    }
   ],
   "source": [
    "def classify(x: float) -> str:\n",
    "    \"\"\"Return a textual classification of x.\"\"\"\n",
    "    if x < 0:\n",
    "        return \"negative\"\n",
    "    elif x > 0:\n",
    "        return \"positive\"\n",
    "    else:\n",
    "        return \"zero\"\n",
    "\n",
    "for val in (-1, 0, 0.1):\n",
    "    print(val, \"->\", classify(val))\n"
   ]
  },
  {
   "cell_type": "code",
   "execution_count": 5,
   "id": "a607d5ab",
   "metadata": {},
   "outputs": [
    {
     "name": "stdout",
     "output_type": "stream",
     "text": [
      "['F', 'D', 'C', 'B', 'A']\n"
     ]
    }
   ],
   "source": [
    "# Example: exam grading thresholds\n",
    "def grade(score: float) -> str:\n",
    "    if score >= 90: return \"A\"\n",
    "    elif score >= 80: return \"B\"\n",
    "    elif score >= 70: return \"C\"\n",
    "    elif score >= 60: return \"D\"\n",
    "    else: return \"F\"\n",
    "\n",
    "print([grade(s) for s in (59, 60, 74, 85, 95)])\n"
   ]
  },
  {
   "cell_type": "markdown",
   "id": "68741b80",
   "metadata": {},
   "source": [
    "## 3. Loops\n",
    "\n",
    "Use `while` for condition-driven repetition and `for` for iteration over sequences or ranges.\n"
   ]
  },
  {
   "cell_type": "code",
   "execution_count": 6,
   "id": "72b80e62",
   "metadata": {},
   "outputs": [
    {
     "name": "stdout",
     "output_type": "stream",
     "text": [
      "x = 0\n",
      "x = 1\n",
      "x = 2\n",
      "x = 3\n",
      "x = 4\n"
     ]
    }
   ],
   "source": [
    "# while loop\n",
    "x = 0\n",
    "while x < 5:\n",
    "    print(\"x =\", x)\n",
    "    x += 1\n"
   ]
  },
  {
   "cell_type": "code",
   "execution_count": 7,
   "id": "e8c9e07d",
   "metadata": {},
   "outputs": [
    {
     "name": "stdout",
     "output_type": "stream",
     "text": [
      "range(5): [0, 1, 2, 3, 4]\n",
      "sum 1..5 = 15\n",
      "0 Suzuki\n",
      "1 Kawasaki\n",
      "2 Aprilia\n",
      "3 Ducati\n"
     ]
    }
   ],
   "source": [
    "# for loops with range and enumerate\n",
    "print(\"range(5):\", list(range(5)))\n",
    "total = 0\n",
    "for k in range(1, 6):\n",
    "    total += k\n",
    "print(\"sum 1..5 =\", total)\n",
    "\n",
    "brands = [\"Suzuki\",\"Kawasaki\",\"Aprilia\",\"Ducati\"]\n",
    "for idx, brand in enumerate(brands):\n",
    "    print(idx, brand)\n"
   ]
  },
  {
   "cell_type": "code",
   "execution_count": 8,
   "id": "b1c52d4f",
   "metadata": {},
   "outputs": [
    {
     "name": "stdout",
     "output_type": "stream",
     "text": [
      "first multiple of 7 in 1..49 is 7\n"
     ]
    }
   ],
   "source": [
    "# break example: stop at first multiple of 7\n",
    "for n in range(1, 50):\n",
    "    if n % 7 == 0:\n",
    "        print(\"first multiple of 7 in 1..49 is\", n)\n",
    "        break\n"
   ]
  },
  {
   "cell_type": "markdown",
   "id": "b43e9353",
   "metadata": {},
   "source": [
    "## 4. Functions\n",
    "\n",
    "Functions package reusable logic. Prefer clear **docstrings** and explicit **return** values.  \n",
    "Remember: a function with no `return` returns `None`.\n"
   ]
  },
  {
   "cell_type": "code",
   "execution_count": 9,
   "id": "d4b47baf",
   "metadata": {},
   "outputs": [
    {
     "name": "stdout",
     "output_type": "stream",
     "text": [
      "False True\n",
      "side effect only\n",
      "without_return gives: None\n"
     ]
    }
   ],
   "source": [
    "def is_even(i: int) -> bool:\n",
    "    \"\"\"Return True iff i is even.\"\"\"\n",
    "    return i % 2 == 0\n",
    "\n",
    "def without_return(i: int):\n",
    "    print(\"side effect only\")\n",
    "\n",
    "print(is_even(3), is_even(4))\n",
    "print(\"without_return gives:\", without_return(3))\n"
   ]
  },
  {
   "cell_type": "markdown",
   "id": "a99ba0db",
   "metadata": {},
   "source": [
    "### Scope and call-by-object-reference\n",
    "\n",
    "Arguments are **passed by assignment** (a.k.a. call-by-object-reference).  \n",
    "Mutating a mutable object *inside* a function changes the caller's object; rebinding a name does not.\n"
   ]
  },
  {
   "cell_type": "code",
   "execution_count": 10,
   "id": "c3970423",
   "metadata": {},
   "outputs": [
    {
     "name": "stdout",
     "output_type": "stream",
     "text": [
      "x after incr(x): 0\n",
      "arr after incr_first(arr): [1, 1, 2]\n"
     ]
    }
   ],
   "source": [
    "def incr(x: int):\n",
    "    x += 1           # rebinds local x; caller unchanged\n",
    "x = 0\n",
    "incr(x)\n",
    "print(\"x after incr(x):\", x)\n",
    "\n",
    "def incr_first(lst: list):\n",
    "    lst[0] += 1      # mutates caller's list\n",
    "arr = [0,1,2]\n",
    "incr_first(arr)\n",
    "print(\"arr after incr_first(arr):\", arr)\n"
   ]
  },
  {
   "cell_type": "markdown",
   "id": "0bf4c91b",
   "metadata": {},
   "source": [
    "### Lambdas and higher‑order functions\n"
   ]
  },
  {
   "cell_type": "code",
   "execution_count": 11,
   "id": "60749bb9",
   "metadata": {},
   "outputs": [
    {
     "name": "stdout",
     "output_type": "stream",
     "text": [
      "4.0\n"
     ]
    }
   ],
   "source": [
    "def apply(func, x):\n",
    "    return func(x)\n",
    "\n",
    "print(apply(lambda z: z**2, 2.0))\n"
   ]
  },
  {
   "cell_type": "markdown",
   "id": "d2229b29",
   "metadata": {},
   "source": [
    "## 5. Recursion and classic examples\n"
   ]
  },
  {
   "cell_type": "code",
   "execution_count": 12,
   "id": "0beba64d",
   "metadata": {},
   "outputs": [
    {
     "name": "stdout",
     "output_type": "stream",
     "text": [
      "120 120\n"
     ]
    }
   ],
   "source": [
    "def factorial(n: int) -> int:\n",
    "    \"\"\"Recursive factorial (n >= 1).\"\"\"\n",
    "    if n == 1:\n",
    "        return 1\n",
    "    return n * factorial(n-1)\n",
    "\n",
    "def factorial_iter(n: int) -> int:\n",
    "    prod = 1\n",
    "    for k in range(1, n+1):\n",
    "        prod *= k\n",
    "    return prod\n",
    "\n",
    "print(factorial(5), factorial_iter(5))\n"
   ]
  },
  {
   "cell_type": "code",
   "execution_count": 13,
   "id": "e010a534",
   "metadata": {},
   "outputs": [
    {
     "name": "stdout",
     "output_type": "stream",
     "text": [
      "[0, 1, 1, 2, 3, 5, 8, 13, 21, 34]\n"
     ]
    }
   ],
   "source": [
    "def fib(n: int) -> int:\n",
    "    \"\"\"Naïve recursive Fibonacci.\"\"\"\n",
    "    if n == 0: return 0\n",
    "    if n == 1: return 1\n",
    "    return fib(n-1) + fib(n-2)\n",
    "\n",
    "print([fib(k) for k in range(10)])\n"
   ]
  },
  {
   "cell_type": "code",
   "execution_count": 14,
   "id": "24efdbd3",
   "metadata": {},
   "outputs": [
    {
     "name": "stdout",
     "output_type": "stream",
     "text": [
      "approx cube root(27.8) ≈ 3.029595947265625\n"
     ]
    }
   ],
   "source": [
    "# Bisection method for cube root (x >= 1) with tolerance eps\n",
    "def cube_root_bisection(x: float, eps: float = 1e-3) -> float:\n",
    "    assert x >= 1 and eps > 0\n",
    "    low, high = 0.0, x\n",
    "    guess = (low + high)/2\n",
    "    while abs(guess**3 - x) >= eps:\n",
    "        if guess**3 < x:\n",
    "            low = guess\n",
    "        else:\n",
    "            high = guess\n",
    "        guess = (low + high)/2\n",
    "    return guess\n",
    "\n",
    "print(\"approx cube root(27.8) ≈\", cube_root_bisection(27.8, eps=1e-2))\n"
   ]
  },
  {
   "cell_type": "markdown",
   "id": "b0c7a541",
   "metadata": {},
   "source": [
    "## 6. Core data structures: lists, tuples, dictionaries\n"
   ]
  },
  {
   "cell_type": "code",
   "execution_count": 15,
   "id": "91e5dffa",
   "metadata": {},
   "outputs": [
    {
     "name": "stdout",
     "output_type": "stream",
     "text": [
      "L: [2, 1, 3, 5, 0] popped: 6\n",
      "[1, 2, 3] [0, 2, 4, 6] [6, 5, 4, 3, 2, 1, 0]\n",
      "heavy: ['Metallica', 'Iron Maiden', 'Motorhead', 'Kiss'] | clone: ['Metallica', 'Iron Maiden', 'Motorhead']\n",
      "['I', '<', '3', ' ', 'c', 's'] ['I', '3 cs']\n",
      "a_b_c\n"
     ]
    }
   ],
   "source": [
    "# LISTS (mutable)\n",
    "L = [2, 1, 3]\n",
    "L.append(5)                 # mutate\n",
    "L.extend([0, 6])            # mutate\n",
    "popped = L.pop()            # remove & return last\n",
    "print(\"L:\", L, \"popped:\", popped)\n",
    "\n",
    "# Slicing\n",
    "x = [0, 1, 2, 3, 4, 5, 6]\n",
    "print(x[1:4], x[::2], x[::-1])\n",
    "\n",
    "# Cloning vs aliasing\n",
    "heavy = [\"Metallica\", \"Iron Maiden\", \"Motorhead\"]\n",
    "alias = heavy\n",
    "clone = heavy[:]            # shallow copy\n",
    "alias.append(\"Kiss\")\n",
    "print(\"heavy:\", heavy, \"| clone:\", clone)\n",
    "\n",
    "# Strings <-> lists\n",
    "s = \"I<3 cs\"\n",
    "print(list(s), s.split(\"<\"))\n",
    "print(\"_\".join([\"a\",\"b\",\"c\"]))\n"
   ]
  },
  {
   "cell_type": "code",
   "execution_count": 16,
   "id": "ebbb347d",
   "metadata": {},
   "outputs": [
    {
     "name": "stdout",
     "output_type": "stream",
     "text": [
      "2 (2, 'HEC', 3, 5, 6)\n",
      "swapped: 2 1\n",
      "1 1\n"
     ]
    }
   ],
   "source": [
    "# TUPLES (immutable)\n",
    "t = (2, \"HEC\", 3)\n",
    "a = (2, \"HEC\", 3) + (5, 6)\n",
    "print(t[0], a)\n",
    "\n",
    "# Swapping via tuple unpacking\n",
    "x, y = 1, 2\n",
    "x, y = y, x\n",
    "print(\"swapped:\", x, y)\n",
    "\n",
    "# Returning multiple values\n",
    "def quotient_and_remainder(x, y):\n",
    "    return x // y, x % y\n",
    "q, r = quotient_and_remainder(7, 6)\n",
    "print(q, r)\n"
   ]
  },
  {
   "cell_type": "code",
   "execution_count": 17,
   "id": "08b51d12",
   "metadata": {},
   "outputs": [
    {
     "name": "stdout",
     "output_type": "stream",
     "text": [
      "Tom in grades? True\n",
      "keys: ['Mickey', 'Keith', 'Tom', 'Freddy']\n",
      "values: [5.0, 4.5, 6.0, 4.9]\n",
      "items: [('Mickey', 5.0), ('Keith', 4.5), ('Tom', 6.0), ('Freddy', 4.9)]\n"
     ]
    }
   ],
   "source": [
    "# DICTIONARIES (hash maps)\n",
    "grades = {\"Mickey\":5.0, \"Keith\":4.5, \"Megan\":4.9, \"Tom\":6.0}\n",
    "grades[\"Freddy\"] = 4.9\n",
    "print(\"Tom in grades?\", \"Tom\" in grades)\n",
    "del grades[\"Megan\"]\n",
    "print(\"keys:\", list(grades.keys()))\n",
    "print(\"values:\", list(grades.values()))\n",
    "print(\"items:\", list(grades.items()))\n"
   ]
  },
  {
   "cell_type": "markdown",
   "id": "cb40cfc0",
   "metadata": {},
   "source": [
    "## 7. Testing, assertions, and exceptions\n",
    "\n",
    "Use `assert` to document invariants and catch violations early.  \n",
    "Use `try/except` (optionally `else` / `finally`) to handle expected runtime errors.\n"
   ]
  },
  {
   "cell_type": "code",
   "execution_count": 18,
   "id": "8146c40b",
   "metadata": {},
   "outputs": [
    {
     "name": "stdout",
     "output_type": "stream",
     "text": [
      "Average of [55,88,78,90,79]: 78.0\n",
      "5.0\n",
      "Division failed: division by zero\n"
     ]
    }
   ],
   "source": [
    "def avg(marks):\n",
    "    assert len(marks) != 0, \"List is empty.\"\n",
    "    return sum(marks)/len(marks)\n",
    "\n",
    "print(\"Average of [55,88,78,90,79]:\", avg([55,88,78,90,79]))\n",
    "\n",
    "# Basic try/except/else/finally\n",
    "def safe_divide(dividend, divisor):\n",
    "    try:\n",
    "        out = dividend / divisor\n",
    "    except ZeroDivisionError as err:\n",
    "        return f\"Division failed: {err}\"\n",
    "    else:\n",
    "        return out\n",
    "    finally:\n",
    "        pass  # cleanup hook\n",
    "\n",
    "print(safe_divide(10, 2))\n",
    "print(safe_divide(10, 0))\n"
   ]
  },
  {
   "cell_type": "code",
   "execution_count": 19,
   "id": "8dcc0997",
   "metadata": {},
   "outputs": [
    {
     "name": "stdout",
     "output_type": "stream",
     "text": [
      "age set to 5\n",
      "failed to set age: -1 is not a valid age; must be >= 0\n"
     ]
    }
   ],
   "source": [
    "# Raising exceptions deliberately\n",
    "def set_age(n: int):\n",
    "    if not isinstance(n, int):\n",
    "        raise TypeError(\"age must be int\")\n",
    "    if n < 0:\n",
    "        raise ValueError(f\"{n} is not a valid age; must be >= 0\")\n",
    "    return n\n",
    "\n",
    "for val in (5, -1):\n",
    "    try:\n",
    "        print(\"age set to\", set_age(val))\n",
    "    except Exception as e:\n",
    "        print(\"failed to set age:\", e)\n"
   ]
  },
  {
   "cell_type": "markdown",
   "id": "8b2a8e10",
   "metadata": {},
   "source": [
    "## 8. Object‑Oriented Programming (OOP) and inheritance\n",
    "\n",
    "Define new **types** (classes) with data (attributes) and behavior (methods).  \n",
    "Implement useful special methods like `__str__` or operator overloads.\n"
   ]
  },
  {
   "cell_type": "code",
   "execution_count": 20,
   "id": "00a12a06",
   "metadata": {},
   "outputs": [
    {
     "name": "stdout",
     "output_type": "stream",
     "text": [
      "<3,4> distance to <0,0> = 5.0\n"
     ]
    }
   ],
   "source": [
    "# A simple 2D point with a method and a nice print representation\n",
    "class Coordinate:\n",
    "    \"\"\"A 2D point.\"\"\"\n",
    "    def __init__(self, x: float, y: float):\n",
    "        self.x = x\n",
    "        self.y = y\n",
    "    def distance(self, other: \"Coordinate\") -> float:\n",
    "        dx = self.x - other.x\n",
    "        dy = self.y - other.y\n",
    "        return (dx*dx + dy*dy) ** 0.5\n",
    "    def __str__(self) -> str:\n",
    "        return f\"<{self.x},{self.y}>\"\n",
    "\n",
    "c = Coordinate(3, 4)\n",
    "zero = Coordinate(0, 0)\n",
    "print(c, \"distance to\", zero, \"=\", c.distance(zero))\n"
   ]
  },
  {
   "cell_type": "code",
   "execution_count": 21,
   "id": "8be90625",
   "metadata": {},
   "outputs": [
    {
     "name": "stdout",
     "output_type": "stream",
     "text": [
      "1/3 + 2/5 = 11/15 ≈ 0.7333333333333333\n"
     ]
    }
   ],
   "source": [
    "# Fraction with operator overloading and an invariant check\n",
    "class Fraction:\n",
    "    \"\"\"A number represented as a fraction of two integers.\"\"\"\n",
    "    def __init__(self, num: int, denom: int):\n",
    "        assert isinstance(num, int) and isinstance(denom, int), \"ints not used\"\n",
    "        self.num = num\n",
    "        self.denom = denom\n",
    "    def __str__(self) -> str:\n",
    "        return f\"{self.num}/{self.denom}\"\n",
    "    def __add__(self, other: \"Fraction\") -> \"Fraction\":\n",
    "        top = self.num*other.denom + self.denom*other.num\n",
    "        bott = self.denom*other.denom\n",
    "        return Fraction(top, bott)\n",
    "    def __sub__(self, other: \"Fraction\") -> \"Fraction\":\n",
    "        top = self.num*other.denom - self.denom*other.num\n",
    "        bott = self.denom*other.denom\n",
    "        return Fraction(top, bott)\n",
    "    def __float__(self) -> float:\n",
    "        return self.num / self.denom\n",
    "    def inverse(self) -> \"Fraction\":\n",
    "        return Fraction(self.denom, self.num)\n",
    "\n",
    "a, b = Fraction(1, 3), Fraction(2, 5)\n",
    "print(a, \"+\", b, \"=\", a + b, \"≈\", float(a + b))\n"
   ]
  },
  {
   "cell_type": "code",
   "execution_count": 22,
   "id": "dc672437",
   "metadata": {},
   "outputs": [
    {
     "name": "stdout",
     "output_type": "stream",
     "text": [
      "Areas: [3.142, 6, 6.25]\n",
      "Perimeters: [6.283, 10, 10.0]\n",
      "Area ratio c2/c1 = 4.0\n"
     ]
    }
   ],
   "source": [
    "# Inheritance and polymorphism\n",
    "import math\n",
    "\n",
    "class Shape:\n",
    "    \"\"\"Abstract base for shapes.\"\"\"\n",
    "    def area(self) -> float:\n",
    "        raise NotImplementedError\n",
    "    def perimeter(self) -> float:\n",
    "        raise NotImplementedError\n",
    "\n",
    "class Circle(Shape):\n",
    "    def __init__(self, r: float):\n",
    "        self.r = r\n",
    "    def area(self) -> float:\n",
    "        return math.pi * self.r**2\n",
    "    def perimeter(self) -> float:\n",
    "        return 2 * math.pi * self.r\n",
    "    def ratio_to(self, other: \"Circle\") -> float:\n",
    "        \"\"\"Return area ratio (this / other).\"\"\"\n",
    "        return self.area() / other.area()\n",
    "\n",
    "class Rectangle(Shape):\n",
    "    def __init__(self, w: float, h: float):\n",
    "        self.w, self.h = w, h\n",
    "    def area(self) -> float:\n",
    "        return self.w * self.h\n",
    "    def perimeter(self) -> float:\n",
    "        return 2*(self.w + self.h)\n",
    "\n",
    "class Square(Rectangle):\n",
    "    def __init__(self, side: float):\n",
    "        super().__init__(side, side)\n",
    "\n",
    "shapes: list[Shape] = [Circle(1.0), Rectangle(2, 3), Square(2.5)]\n",
    "print(\"Areas:\", [round(s.area(), 3) for s in shapes])\n",
    "print(\"Perimeters:\", [round(s.perimeter(), 3) for s in shapes])\n",
    "\n",
    "c1, c2 = Circle(1.0), Circle(2.0)\n",
    "print(\"Area ratio c2/c1 =\", c2.ratio_to(c1))\n"
   ]
  },
  {
   "cell_type": "markdown",
   "id": "b6a00e4e",
   "metadata": {},
   "source": [
    "## 9. Wrap‑up and suggested practice\n",
    "\n",
    "- Re‑implement the **bisection** solver for arbitrary monotone functions.  \n",
    "- Extend `Fraction` with multiplication, division and reduction to lowest terms.  \n",
    "- Add **unit tests** (via `assert` or `unittest`) for the functions above.  \n",
    "- Implement a new `Polygon(verts: list[Coordinate])` class and compute its perimeter.\n"
   ]
  },
  {
   "cell_type": "markdown",
   "id": "b8120020",
   "metadata": {},
   "source": [
    "## 10. Practice — Exercises **with solutions** (15 minutes)\n",
    "\n",
    "Each exercise mirrors topics above and includes a concise, well‑documented solution.\n"
   ]
  },
  {
   "cell_type": "markdown",
   "id": "28d4d821",
   "metadata": {},
   "source": [
    "### Exercise 1 — Monotone root by **bisection**\n",
    "\n",
    "**Task.** Implement `bisect_mono(f, low, high, eps=1e-6, max_iter=10000)` that finds a root of a *continuous, monotone* function on `[low, high]`.\n",
    "\n",
    "**Requirements.**\n",
    "- Preconditions: `f(low)` and `f(high)` have **opposite signs**; `eps > 0`.\n",
    "- Loop until `abs(f(mid)) <= eps` or interval length `< 2*eps` (or `max_iter` hits).\n",
    "- Return the final `mid` estimate.\n",
    "\n",
    "**Hints.** This generalizes the cube‑root bisection shown above.\n"
   ]
  },
  {
   "cell_type": "code",
   "execution_count": 23,
   "id": "21a44001",
   "metadata": {},
   "outputs": [
    {
     "name": "stdout",
     "output_type": "stream",
     "text": [
      "sqrt(2) ≈ 1.4142135605216026\n",
      "cuberoot(27.8) ≈ 3.029341596364975\n"
     ]
    }
   ],
   "source": [
    "from typing import Callable\n",
    "\n",
    "def bisect_mono(f: Callable[[float], float],\n",
    "                low: float, high: float,\n",
    "                eps: float = 1e-6, max_iter: int = 10000) -> float:\n",
    "    \"\"\"Find x in [low, high] with f(x) ~ 0 using bisection.\n",
    "    Preconditions: f is continuous & monotone on [low, high], f(low)*f(high) < 0.\n",
    "    \"\"\"\n",
    "    if eps <= 0:\n",
    "        raise ValueError(\"eps must be > 0\")\n",
    "    flo, fhi = f(low), f(high)\n",
    "    if flo == 0: return low\n",
    "    if fhi == 0: return high\n",
    "    if flo * fhi > 0:\n",
    "        raise ValueError(\"Need opposite signs at the interval endpoints.\")\n",
    "    it = 0\n",
    "    while it < max_iter and (high - low) >= 2*eps:\n",
    "        mid = (low + high)/2.0\n",
    "        fmid = f(mid)\n",
    "        if abs(fmid) <= eps:\n",
    "            return mid\n",
    "        # keep the subinterval that changes sign\n",
    "        if flo * fmid < 0:\n",
    "            high, fhi = mid, fmid\n",
    "        else:\n",
    "            low, flo = mid, fmid\n",
    "        it += 1\n",
    "    return (low + high)/2.0\n",
    "\n",
    "# Quick checks\n",
    "g = lambda x: x*x - 2\n",
    "root = bisect_mono(g, 0, 2, eps=1e-8)\n",
    "print(\"sqrt(2) ≈\", root)\n",
    "\n",
    "x = 27.8\n",
    "h = lambda z: z**3 - x\n",
    "print(\"cuberoot(27.8) ≈\", bisect_mono(h, 0, max(1.0, x), eps=1e-6))\n"
   ]
  },
  {
   "cell_type": "markdown",
   "id": "bf79cfca",
   "metadata": {},
   "source": [
    "### Exercise 2 — Robust **z‑score** normalization with exceptions\n",
    "\n",
    "**Task.** Write `zscore(xs)` returning a list with mean `0` and standard deviation `1`.\n",
    "\n",
    "**Requirements.**\n",
    "- Raise `ValueError` if the input is empty or has (near) zero variance.\n",
    "- Do not mutate the input; return a **new** list.\n",
    "- Use only built‑ins.\n",
    "\n",
    "**Tip.** Combine assertions (for invariants) with `try/except` for user‑facing error messages.\n"
   ]
  },
  {
   "cell_type": "code",
   "execution_count": 24,
   "id": "f0cba0b2",
   "metadata": {},
   "outputs": [
    {
     "name": "stdout",
     "output_type": "stream",
     "text": [
      "[-1.225, 0.0, 1.225]\n",
      "caught: variance is ~0; cannot normalize\n"
     ]
    }
   ],
   "source": [
    "def zscore(xs: list[float], tol: float = 1e-12) -> list[float]:\n",
    "    \"\"\"Return z-scores of xs (population std). Raises ValueError on degenerate input.\"\"\"\n",
    "    if not isinstance(xs, (list, tuple)):\n",
    "        raise TypeError(\"xs must be list or tuple\")\n",
    "    n = len(xs)\n",
    "    if n == 0:\n",
    "        raise ValueError(\"empty sequence\")\n",
    "    mu = sum(xs) / n\n",
    "    var = sum((x - mu)**2 for x in xs) / n\n",
    "    if var <= tol:\n",
    "        raise ValueError(\"variance is ~0; cannot normalize\")\n",
    "    sd = var ** 0.5\n",
    "    return [(x - mu)/sd for x in xs]\n",
    "\n",
    "# Demo and edge cases\n",
    "print([round(v, 3) for v in zscore([1, 2, 3])])\n",
    "try:\n",
    "    zscore([5, 5, 5])\n",
    "except ValueError as e:\n",
    "    print(\"caught:\", e)\n"
   ]
  },
  {
   "cell_type": "markdown",
   "id": "81b5ec61",
   "metadata": {},
   "source": [
    "### Exercise 3 — **Dictionary** practice: tiny word frequency\n",
    "\n",
    "**Task.** Implement `word_counts(text)` that returns a dictionary mapping words to counts, case‑insensitive.\n",
    "\n",
    "**Requirements.**\n",
    "- Normalize to lower‑case and strip common punctuation.\n",
    "- Return the **top 3** words by frequency as a list of `(word, count)` tuples to show basic sorting.\n"
   ]
  },
  {
   "cell_type": "code",
   "execution_count": 25,
   "id": "305f2f06",
   "metadata": {},
   "outputs": [
    {
     "name": "stdout",
     "output_type": "stream",
     "text": [
      "{'python': 3, 'is': 1, 'great': 2, 'for': 1, 'teaching': 1}\n",
      "top3: [('python', 3), ('great', 2), ('for', 1)]\n"
     ]
    }
   ],
   "source": [
    "import string\n",
    "\n",
    "def word_counts(text: str) -> dict[str, int]:\n",
    "    table = str.maketrans('', '', string.punctuation)\n",
    "    words = text.lower().translate(table).split()\n",
    "    counts: dict[str, int] = {}\n",
    "    for w in words:\n",
    "        counts[w] = counts.get(w, 0) + 1\n",
    "    return counts\n",
    "\n",
    "def top_k(counts: dict[str, int], k: int = 3) -> list[tuple[str, int]]:\n",
    "    return sorted(counts.items(), key=lambda kv: (-kv[1], kv[0]))[:k]\n",
    "\n",
    "sample = \"Python is great; great for teaching Python. Python!\"\n",
    "C = word_counts(sample)\n",
    "print(C)\n",
    "print(\"top3:\", top_k(C, 3))\n"
   ]
  },
  {
   "cell_type": "markdown",
   "id": "7d253679",
   "metadata": {},
   "source": [
    "### Exercise 4 — Extend the **Fraction** type (operator overloads + reduction)\n",
    "\n",
    "**Task.** Create a reduced fraction class with `__mul__`, `__truediv__`, and value equality.\n",
    "\n",
    "**Requirements.**\n",
    "- Ensure denominator is non‑zero; keep denominator **positive**.\n",
    "- Reduce to lowest terms using `math.gcd`.\n",
    "- Implement `__eq__` so fractions with same numeric value compare equal.\n"
   ]
  },
  {
   "cell_type": "code",
   "execution_count": 26,
   "id": "9ed3ba3f",
   "metadata": {},
   "outputs": [
    {
     "name": "stdout",
     "output_type": "stream",
     "text": [
      "1/3 == 1/3 ? True\n",
      "1/9\n",
      "3/4\n"
     ]
    }
   ],
   "source": [
    "import math\n",
    "\n",
    "class FractionR(Fraction):\n",
    "    \"\"\"Reduced fraction (inherits display and +, - from Fraction).\"\"\"\n",
    "    def __init__(self, num: int, denom: int):\n",
    "        if not (isinstance(num, int) and isinstance(denom, int)):\n",
    "            raise TypeError(\"ints required\")\n",
    "        if denom == 0:\n",
    "            raise ZeroDivisionError(\"denominator cannot be zero\")\n",
    "        # keep sign in numerator\n",
    "        sign = -1 if (num * denom) < 0 else 1\n",
    "        num, denom = abs(num), abs(denom)\n",
    "        g = math.gcd(num, denom)\n",
    "        self.num = sign * (num // g)\n",
    "        self.denom = denom // g\n",
    "\n",
    "    def __mul__(self, other: \"FractionR\") -> \"FractionR\":\n",
    "        return FractionR(self.num * other.num, self.denom * other.denom)\n",
    "\n",
    "    def __truediv__(self, other: \"FractionR\") -> \"FractionR\":\n",
    "        return FractionR(self.num * other.denom, self.denom * other.num)\n",
    "\n",
    "    def __eq__(self, other: object) -> bool:\n",
    "        if not isinstance(other, FractionR):\n",
    "            return NotImplemented\n",
    "        return self.num == other.num and self.denom == other.denom\n",
    "\n",
    "# Quick checks\n",
    "x, y = FractionR(2, 6), FractionR(-1, -3)\n",
    "print(x, \"==\", y, \"?\", x == y)           # 1/3 == 1/3\n",
    "print(x * y)                              # 1/9\n",
    "print(FractionR(1, 2) / FractionR(2, 3)) # 3/4\n"
   ]
  },
  {
   "cell_type": "markdown",
   "id": "453e6693",
   "metadata": {},
   "source": [
    "### Exercise 5 — New **Shape**: simple polygon (shoelace area)\n",
    "\n",
    "**Task.** Implement `Polygon` as a subclass of `Shape` using a list of `Coordinate` vertices.\n",
    "\n",
    "**Requirements.**\n",
    "- `perimeter` = sum of pairwise distances, including the closing edge.\n",
    "- `area` via the **shoelace formula**: \\(A = \\frac{1}{2}\\big|\\sum x_i y_{i+1} - y_i x_{i+1}\\big|\\).\n",
    "- Raise `ValueError` if `len(verts) < 3`.\n",
    "- Show polymorphism by mixing with existing `Shape` instances.\n"
   ]
  },
  {
   "cell_type": "code",
   "execution_count": 27,
   "id": "bd60b524",
   "metadata": {},
   "outputs": [
    {
     "name": "stdout",
     "output_type": "stream",
     "text": [
      "Polygon area: 1.0 perimeter: 4.0\n",
      "mixed areas: [3.142, 2, 1.0]\n"
     ]
    }
   ],
   "source": [
    "class Polygon(Shape):\n",
    "    def __init__(self, verts: list[Coordinate]):\n",
    "        if len(verts) < 3:\n",
    "            raise ValueError(\"polygon needs at least 3 vertices\")\n",
    "        self.verts = verts\n",
    "\n",
    "    def perimeter(self) -> float:\n",
    "        P = 0.0\n",
    "        for i in range(len(self.verts)):\n",
    "            a = self.verts[i]\n",
    "            b = self.verts[(i+1) % len(self.verts)]\n",
    "            P += a.distance(b)\n",
    "        return P\n",
    "\n",
    "    def area(self) -> float:\n",
    "        s = 0.0\n",
    "        n = len(self.verts)\n",
    "        for i in range(n):\n",
    "            x1, y1 = self.verts[i].x, self.verts[i].y\n",
    "            x2, y2 = self.verts[(i+1)%n].x, self.verts[(i+1)%n].y\n",
    "            s += x1*y2 - y1*x2\n",
    "        return abs(s) * 0.5\n",
    "\n",
    "# Test: unit square (area 1, perimeter 4)\n",
    "sq = Polygon([Coordinate(0,0), Coordinate(1,0), Coordinate(1,1), Coordinate(0,1)])\n",
    "print(\"Polygon area:\", sq.area(), \"perimeter:\", sq.perimeter())\n",
    "\n",
    "# Polymorphism with earlier Shape types\n",
    "mix: list[Shape] = [Circle(1.0), Rectangle(2, 1), sq]\n",
    "print(\"mixed areas:\", [round(s.area(), 3) for s in mix])\n"
   ]
  },
  {
   "cell_type": "code",
   "execution_count": null,
   "id": "350d3e43-6919-4d5e-9b6f-9f815134d604",
   "metadata": {},
   "outputs": [],
   "source": []
  }
 ],
 "metadata": {
  "kernelspec": {
   "display_name": "Python 3 (ipykernel)",
   "language": "python",
   "name": "python3"
  },
  "language_info": {
   "codemirror_mode": {
    "name": "ipython",
    "version": 3
   },
   "file_extension": ".py",
   "mimetype": "text/x-python",
   "name": "python",
   "nbconvert_exporter": "python",
   "pygments_lexer": "ipython3",
   "version": "3.10.12"
  }
 },
 "nbformat": 4,
 "nbformat_minor": 5
}

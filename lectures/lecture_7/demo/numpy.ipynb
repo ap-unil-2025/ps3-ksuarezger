{
 "cells": [
  {
   "cell_type": "markdown",
   "id": "37276fe1",
   "metadata": {},
   "source": [
    "# NumPy\n",
    "\n",
    "\n",
    "<a id='index-1'></a>"
   ]
  },
  {
   "cell_type": "markdown",
   "id": "2a87df36",
   "metadata": {},
   "source": [
    "## Contents\n",
    "\n",
    "- [NumPy](#NumPy)  \n",
    "  - [Overview](#Overview)  \n",
    "  - [NumPy Arrays](#NumPy-Arrays)  \n",
    "  - [Arithmetic Operations](#Arithmetic-Operations)  \n",
    "  - [Matrix Multiplication](#Matrix-Multiplication)  \n",
    "  - [Broadcasting](#Broadcasting)  \n",
    "  - [Mutability and Copying Arrays](#Mutability-and-Copying-Arrays)  \n",
    "  - [Additional Functionality](#Additional-Functionality)  \n",
    "  - [Exercises](#Exercises)  "
   ]
  },
  {
   "cell_type": "markdown",
   "id": "8aca1b9d",
   "metadata": {},
   "source": [
    "> “Let’s be clear: the work of science has nothing whatever to do with consensus.  Consensus is the business of politics. Science, on the contrary, requires only one investigator who happens to be right, which means that he or she has results that are verifiable by reference to the real world. In science consensus is irrelevant. What is relevant is reproducible results.” – Michael Crichton"
   ]
  },
  {
   "cell_type": "markdown",
   "id": "7f4cac0f",
   "metadata": {},
   "source": [
    "## Overview\n",
    "\n",
    "[NumPy](https://en.wikipedia.org/wiki/NumPy) is a first-rate library for numerical programming\n",
    "\n",
    "- Widely used in academia, finance and industry.  \n",
    "- Mature, fast, stable and under continuous development.  \n",
    "\n",
    "\n",
    "We have already seen some code involving NumPy in the preceding lectures.\n",
    "\n",
    "In this lecture, we will start a more systematic discussion of both\n",
    "\n",
    "- NumPy arrays and  \n",
    "- the fundamental array processing operations provided by NumPy.  "
   ]
  },
  {
   "cell_type": "markdown",
   "id": "cdc43458",
   "metadata": {},
   "source": [
    "### References\n",
    "\n",
    "- [The official NumPy documentation](http://docs.scipy.org/doc/numpy/reference/).  \n",
    "\n",
    "\n",
    "\n",
    "<a id='numpy-array'></a>"
   ]
  },
  {
   "cell_type": "markdown",
   "id": "dd921928",
   "metadata": {},
   "source": [
    "## NumPy Arrays\n",
    "\n",
    "\n",
    "<a id='index-2'></a>\n",
    "The essential problem that NumPy solves is fast array processing.\n",
    "\n",
    "The most important structure that NumPy defines is an array data type formally called a [numpy.ndarray](http://docs.scipy.org/doc/numpy/reference/arrays.ndarray.html).\n",
    "\n",
    "NumPy arrays power a large proportion of the scientific Python ecosystem.\n",
    "\n",
    "Let’s first import the library."
   ]
  },
  {
   "cell_type": "code",
   "execution_count": 1,
   "id": "fd5d353f",
   "metadata": {
    "execution": {
     "iopub.execute_input": "2024-04-07T15:14:50.346243Z",
     "iopub.status.busy": "2024-04-07T15:14:50.345770Z",
     "iopub.status.idle": "2024-04-07T15:14:50.425555Z",
     "shell.execute_reply": "2024-04-07T15:14:50.425077Z",
     "shell.execute_reply.started": "2024-04-07T15:14:50.346155Z"
    },
    "hide-output": false
   },
   "outputs": [],
   "source": [
    "import numpy as np"
   ]
  },
  {
   "cell_type": "markdown",
   "id": "2cdc3bd9",
   "metadata": {},
   "source": [
    "To create a NumPy array containing only zeros we use  [np.zeros](http://docs.scipy.org/doc/numpy/reference/generated/numpy.zeros.html#numpy.zeros)"
   ]
  },
  {
   "cell_type": "code",
   "execution_count": 2,
   "id": "26aaf4aa",
   "metadata": {
    "execution": {
     "iopub.execute_input": "2024-04-07T15:15:04.683969Z",
     "iopub.status.busy": "2024-04-07T15:15:04.683248Z",
     "iopub.status.idle": "2024-04-07T15:15:04.693456Z",
     "shell.execute_reply": "2024-04-07T15:15:04.692727Z",
     "shell.execute_reply.started": "2024-04-07T15:15:04.683923Z"
    },
    "hide-output": false
   },
   "outputs": [
    {
     "data": {
      "text/plain": [
       "array([0., 0., 0.])"
      ]
     },
     "execution_count": 2,
     "metadata": {},
     "output_type": "execute_result"
    }
   ],
   "source": [
    "a = np.zeros(3)\n",
    "a"
   ]
  },
  {
   "cell_type": "code",
   "execution_count": 3,
   "id": "4b3cb67a",
   "metadata": {
    "execution": {
     "iopub.execute_input": "2024-04-07T15:15:13.828973Z",
     "iopub.status.busy": "2024-04-07T15:15:13.828435Z",
     "iopub.status.idle": "2024-04-07T15:15:13.833484Z",
     "shell.execute_reply": "2024-04-07T15:15:13.832792Z",
     "shell.execute_reply.started": "2024-04-07T15:15:13.828939Z"
    },
    "hide-output": false
   },
   "outputs": [
    {
     "data": {
      "text/plain": [
       "numpy.ndarray"
      ]
     },
     "execution_count": 3,
     "metadata": {},
     "output_type": "execute_result"
    }
   ],
   "source": [
    "type(a)"
   ]
  },
  {
   "cell_type": "markdown",
   "id": "13d10d2b",
   "metadata": {},
   "source": [
    "NumPy arrays are somewhat like native Python lists, except that\n",
    "\n",
    "- Data *must be homogeneous* (all elements of the same type).  \n",
    "- These types must be one of the [data types](https://docs.scipy.org/doc/numpy/reference/arrays.dtypes.html) (`dtypes`) provided by NumPy.  \n",
    "\n",
    "\n",
    "The most important of these dtypes are:\n",
    "\n",
    "- float64: 64 bit floating-point number  \n",
    "- int64: 64 bit integer  \n",
    "- bool:  8 bit True or False  \n",
    "\n",
    "\n",
    "There are also dtypes to represent complex numbers, unsigned integers, etc.\n",
    "\n",
    "On modern machines, the default dtype for arrays is `float64`"
   ]
  },
  {
   "cell_type": "code",
   "execution_count": 4,
   "id": "1c9658a0",
   "metadata": {
    "execution": {
     "iopub.execute_input": "2024-04-07T15:15:43.725900Z",
     "iopub.status.busy": "2024-04-07T15:15:43.725402Z",
     "iopub.status.idle": "2024-04-07T15:15:43.730204Z",
     "shell.execute_reply": "2024-04-07T15:15:43.729768Z",
     "shell.execute_reply.started": "2024-04-07T15:15:43.725870Z"
    },
    "hide-output": false
   },
   "outputs": [
    {
     "data": {
      "text/plain": [
       "numpy.float64"
      ]
     },
     "execution_count": 4,
     "metadata": {},
     "output_type": "execute_result"
    }
   ],
   "source": [
    "a = np.zeros(3)\n",
    "type(a[0])"
   ]
  },
  {
   "cell_type": "markdown",
   "id": "42147114",
   "metadata": {},
   "source": [
    "If we want to use integers we can specify as follows:"
   ]
  },
  {
   "cell_type": "code",
   "execution_count": 5,
   "id": "f7875489",
   "metadata": {
    "execution": {
     "iopub.execute_input": "2024-04-07T15:16:12.924590Z",
     "iopub.status.busy": "2024-04-07T15:16:12.924076Z",
     "iopub.status.idle": "2024-04-07T15:16:12.928545Z",
     "shell.execute_reply": "2024-04-07T15:16:12.928108Z",
     "shell.execute_reply.started": "2024-04-07T15:16:12.924559Z"
    },
    "hide-output": false
   },
   "outputs": [
    {
     "data": {
      "text/plain": [
       "numpy.int64"
      ]
     },
     "execution_count": 5,
     "metadata": {},
     "output_type": "execute_result"
    }
   ],
   "source": [
    "a = np.zeros(3, dtype=int)\n",
    "type(a[0])"
   ]
  },
  {
   "cell_type": "markdown",
   "id": "f7328e5c",
   "metadata": {},
   "source": [
    "\n",
    "<a id='numpy-shape-dim'></a>"
   ]
  },
  {
   "cell_type": "markdown",
   "id": "3e548d04",
   "metadata": {},
   "source": [
    "### Shape and Dimension\n",
    "\n",
    "\n",
    "<a id='index-3'></a>\n",
    "Consider the following assignment"
   ]
  },
  {
   "cell_type": "code",
   "execution_count": 6,
   "id": "8d9252ab",
   "metadata": {
    "execution": {
     "iopub.execute_input": "2024-04-07T15:17:36.778782Z",
     "iopub.status.busy": "2024-04-07T15:17:36.778505Z",
     "iopub.status.idle": "2024-04-07T15:17:36.782115Z",
     "shell.execute_reply": "2024-04-07T15:17:36.781588Z",
     "shell.execute_reply.started": "2024-04-07T15:17:36.778755Z"
    },
    "hide-output": false
   },
   "outputs": [],
   "source": [
    "z = np.zeros(10)"
   ]
  },
  {
   "cell_type": "markdown",
   "id": "db7e902d",
   "metadata": {},
   "source": [
    "Here `z` is a *flat* array with no dimension — neither row nor column vector.\n",
    "\n",
    "The dimension is recorded in the `shape` attribute, which is a tuple"
   ]
  },
  {
   "cell_type": "code",
   "execution_count": 7,
   "id": "c8e2e29a",
   "metadata": {
    "execution": {
     "iopub.execute_input": "2024-04-07T15:17:40.376332Z",
     "iopub.status.busy": "2024-04-07T15:17:40.375899Z",
     "iopub.status.idle": "2024-04-07T15:17:40.380364Z",
     "shell.execute_reply": "2024-04-07T15:17:40.379910Z",
     "shell.execute_reply.started": "2024-04-07T15:17:40.376301Z"
    },
    "hide-output": false
   },
   "outputs": [
    {
     "data": {
      "text/plain": [
       "(10,)"
      ]
     },
     "execution_count": 7,
     "metadata": {},
     "output_type": "execute_result"
    }
   ],
   "source": [
    "z.shape"
   ]
  },
  {
   "cell_type": "markdown",
   "id": "30574c81",
   "metadata": {},
   "source": [
    "Here the shape tuple has only one element, which is the length of the array (tuples with one element end with a comma).\n",
    "\n",
    "To give it dimension, we can change the `shape` attribute"
   ]
  },
  {
   "cell_type": "code",
   "execution_count": 8,
   "id": "8ec84d84",
   "metadata": {
    "execution": {
     "iopub.execute_input": "2024-04-07T15:18:08.878538Z",
     "iopub.status.busy": "2024-04-07T15:18:08.877973Z",
     "iopub.status.idle": "2024-04-07T15:18:08.883172Z",
     "shell.execute_reply": "2024-04-07T15:18:08.882602Z",
     "shell.execute_reply.started": "2024-04-07T15:18:08.878502Z"
    },
    "hide-output": false
   },
   "outputs": [
    {
     "data": {
      "text/plain": [
       "array([[0.],\n",
       "       [0.],\n",
       "       [0.],\n",
       "       [0.],\n",
       "       [0.],\n",
       "       [0.],\n",
       "       [0.],\n",
       "       [0.],\n",
       "       [0.],\n",
       "       [0.]])"
      ]
     },
     "execution_count": 8,
     "metadata": {},
     "output_type": "execute_result"
    }
   ],
   "source": [
    "z.shape = (10, 1)\n",
    "z"
   ]
  },
  {
   "cell_type": "code",
   "execution_count": 9,
   "id": "df919294",
   "metadata": {
    "execution": {
     "iopub.execute_input": "2024-04-07T15:18:16.326160Z",
     "iopub.status.busy": "2024-04-07T15:18:16.325736Z",
     "iopub.status.idle": "2024-04-07T15:18:16.331031Z",
     "shell.execute_reply": "2024-04-07T15:18:16.330452Z",
     "shell.execute_reply.started": "2024-04-07T15:18:16.326132Z"
    },
    "hide-output": false
   },
   "outputs": [
    {
     "data": {
      "text/plain": [
       "array([[0., 0.],\n",
       "       [0., 0.]])"
      ]
     },
     "execution_count": 9,
     "metadata": {},
     "output_type": "execute_result"
    }
   ],
   "source": [
    "z = np.zeros(4)\n",
    "z.shape = (2, 2)\n",
    "z"
   ]
  },
  {
   "cell_type": "markdown",
   "id": "ebcc745d",
   "metadata": {},
   "source": [
    "In the last case, to make the 2 by 2 array, we could also pass a tuple to the `zeros()` function, as\n",
    "in `z = np.zeros((2, 2))`.\n",
    "\n",
    "\n",
    "<a id='creating-arrays'></a>"
   ]
  },
  {
   "cell_type": "markdown",
   "id": "0c1b46ca",
   "metadata": {},
   "source": [
    "### Creating Arrays\n",
    "\n",
    "\n",
    "<a id='index-4'></a>\n",
    "As we’ve seen, the `np.zeros` function creates an array of zeros.\n",
    "\n",
    "You can probably guess what `np.ones` creates.\n",
    "\n",
    "Related is `np.empty`, which creates arrays in memory that can later be populated with data"
   ]
  },
  {
   "cell_type": "code",
   "execution_count": 10,
   "id": "af5a2285",
   "metadata": {
    "execution": {
     "iopub.execute_input": "2024-04-07T15:18:32.638980Z",
     "iopub.status.busy": "2024-04-07T15:18:32.638289Z",
     "iopub.status.idle": "2024-04-07T15:18:32.643160Z",
     "shell.execute_reply": "2024-04-07T15:18:32.642626Z",
     "shell.execute_reply.started": "2024-04-07T15:18:32.638949Z"
    },
    "hide-output": false
   },
   "outputs": [
    {
     "data": {
      "text/plain": [
       "array([0., 0., 0.])"
      ]
     },
     "execution_count": 10,
     "metadata": {},
     "output_type": "execute_result"
    }
   ],
   "source": [
    "z = np.empty(3)\n",
    "z"
   ]
  },
  {
   "cell_type": "markdown",
   "id": "efaff586",
   "metadata": {},
   "source": [
    "The numbers you see here are garbage values.\n",
    "\n",
    "(Python allocates 3 contiguous 64 bit pieces of memory, and the existing contents of those memory slots are interpreted as `float64` values)\n",
    "\n",
    "To set up a grid of evenly spaced numbers use `np.linspace`"
   ]
  },
  {
   "cell_type": "code",
   "execution_count": 11,
   "id": "50d25a3b",
   "metadata": {
    "execution": {
     "iopub.execute_input": "2024-04-07T15:21:08.821876Z",
     "iopub.status.busy": "2024-04-07T15:21:08.821452Z",
     "iopub.status.idle": "2024-04-07T15:21:08.825368Z",
     "shell.execute_reply": "2024-04-07T15:21:08.824854Z",
     "shell.execute_reply.started": "2024-04-07T15:21:08.821845Z"
    },
    "hide-output": false
   },
   "outputs": [],
   "source": [
    "z = np.linspace(2, 4, 5)  # From 2 to 4, with 5 elements"
   ]
  },
  {
   "cell_type": "markdown",
   "id": "12e97b5a",
   "metadata": {},
   "source": [
    "To create an identity matrix use either `np.identity` or `np.eye`"
   ]
  },
  {
   "cell_type": "code",
   "execution_count": 12,
   "id": "8b087f31",
   "metadata": {
    "execution": {
     "iopub.execute_input": "2024-04-07T15:21:16.350217Z",
     "iopub.status.busy": "2024-04-07T15:21:16.349680Z",
     "iopub.status.idle": "2024-04-07T15:21:16.354727Z",
     "shell.execute_reply": "2024-04-07T15:21:16.354205Z",
     "shell.execute_reply.started": "2024-04-07T15:21:16.350182Z"
    },
    "hide-output": false
   },
   "outputs": [
    {
     "data": {
      "text/plain": [
       "array([[1., 0.],\n",
       "       [0., 1.]])"
      ]
     },
     "execution_count": 12,
     "metadata": {},
     "output_type": "execute_result"
    }
   ],
   "source": [
    "z = np.identity(2)\n",
    "z"
   ]
  },
  {
   "cell_type": "markdown",
   "id": "82757112",
   "metadata": {},
   "source": [
    "In addition, NumPy arrays can be created from Python lists, tuples, etc. using `np.array`"
   ]
  },
  {
   "cell_type": "code",
   "execution_count": 13,
   "id": "409c6a4c",
   "metadata": {
    "execution": {
     "iopub.execute_input": "2024-04-07T15:21:30.526940Z",
     "iopub.status.busy": "2024-04-07T15:21:30.526261Z",
     "iopub.status.idle": "2024-04-07T15:21:30.531292Z",
     "shell.execute_reply": "2024-04-07T15:21:30.530763Z",
     "shell.execute_reply.started": "2024-04-07T15:21:30.526903Z"
    },
    "hide-output": false
   },
   "outputs": [
    {
     "data": {
      "text/plain": [
       "array([10, 20])"
      ]
     },
     "execution_count": 13,
     "metadata": {},
     "output_type": "execute_result"
    }
   ],
   "source": [
    "z = np.array([10, 20])                 # ndarray from Python list\n",
    "z"
   ]
  },
  {
   "cell_type": "code",
   "execution_count": 14,
   "id": "ab75a70b",
   "metadata": {
    "execution": {
     "iopub.execute_input": "2024-04-07T15:23:31.870866Z",
     "iopub.status.busy": "2024-04-07T15:23:31.870307Z",
     "iopub.status.idle": "2024-04-07T15:23:31.874819Z",
     "shell.execute_reply": "2024-04-07T15:23:31.874349Z",
     "shell.execute_reply.started": "2024-04-07T15:23:31.870833Z"
    },
    "hide-output": false
   },
   "outputs": [
    {
     "data": {
      "text/plain": [
       "numpy.ndarray"
      ]
     },
     "execution_count": 14,
     "metadata": {},
     "output_type": "execute_result"
    }
   ],
   "source": [
    "type(z)"
   ]
  },
  {
   "cell_type": "code",
   "execution_count": 15,
   "id": "9d5eb2f4",
   "metadata": {
    "execution": {
     "iopub.execute_input": "2024-04-07T15:23:41.756432Z",
     "iopub.status.busy": "2024-04-07T15:23:41.755911Z",
     "iopub.status.idle": "2024-04-07T15:23:41.761066Z",
     "shell.execute_reply": "2024-04-07T15:23:41.760547Z",
     "shell.execute_reply.started": "2024-04-07T15:23:41.756399Z"
    },
    "hide-output": false
   },
   "outputs": [
    {
     "data": {
      "text/plain": [
       "array([10., 20.])"
      ]
     },
     "execution_count": 15,
     "metadata": {},
     "output_type": "execute_result"
    }
   ],
   "source": [
    "z = np.array((10, 20), dtype=float)    # Here 'float' is equivalent to 'np.float64'\n",
    "z"
   ]
  },
  {
   "cell_type": "code",
   "execution_count": 16,
   "id": "c9cb8809",
   "metadata": {
    "execution": {
     "iopub.execute_input": "2024-04-07T15:23:48.363382Z",
     "iopub.status.busy": "2024-04-07T15:23:48.362685Z",
     "iopub.status.idle": "2024-04-07T15:23:48.367578Z",
     "shell.execute_reply": "2024-04-07T15:23:48.367047Z",
     "shell.execute_reply.started": "2024-04-07T15:23:48.363349Z"
    },
    "hide-output": false
   },
   "outputs": [
    {
     "data": {
      "text/plain": [
       "array([[1, 2],\n",
       "       [3, 4]])"
      ]
     },
     "execution_count": 16,
     "metadata": {},
     "output_type": "execute_result"
    }
   ],
   "source": [
    "z = np.array([[1, 2], [3, 4]])         # 2D array from a list of lists\n",
    "z"
   ]
  },
  {
   "cell_type": "markdown",
   "id": "9906a3c5",
   "metadata": {},
   "source": [
    "See also `np.asarray`, which performs a similar function, but does not make\n",
    "a distinct copy of data already in a NumPy array."
   ]
  },
  {
   "cell_type": "code",
   "execution_count": 17,
   "id": "66fdf552",
   "metadata": {
    "execution": {
     "iopub.execute_input": "2024-04-07T15:25:16.952791Z",
     "iopub.status.busy": "2024-04-07T15:25:16.952128Z",
     "iopub.status.idle": "2024-04-07T15:25:16.957564Z",
     "shell.execute_reply": "2024-04-07T15:25:16.957069Z",
     "shell.execute_reply.started": "2024-04-07T15:25:16.952750Z"
    },
    "hide-output": false
   },
   "outputs": [
    {
     "data": {
      "text/plain": [
       "True"
      ]
     },
     "execution_count": 17,
     "metadata": {},
     "output_type": "execute_result"
    }
   ],
   "source": [
    "na = np.linspace(10, 20, 2)\n",
    "na is np.asarray(na)   # Does not copy NumPy arrays"
   ]
  },
  {
   "cell_type": "code",
   "execution_count": 18,
   "id": "5b061ab9",
   "metadata": {
    "execution": {
     "iopub.execute_input": "2024-04-07T15:25:26.032387Z",
     "iopub.status.busy": "2024-04-07T15:25:26.031832Z",
     "iopub.status.idle": "2024-04-07T15:25:26.036793Z",
     "shell.execute_reply": "2024-04-07T15:25:26.036199Z",
     "shell.execute_reply.started": "2024-04-07T15:25:26.032348Z"
    },
    "hide-output": false
   },
   "outputs": [
    {
     "data": {
      "text/plain": [
       "False"
      ]
     },
     "execution_count": 18,
     "metadata": {},
     "output_type": "execute_result"
    }
   ],
   "source": [
    "na is np.array(na)     # Does make a new copy --- perhaps unnecessarily"
   ]
  },
  {
   "cell_type": "markdown",
   "id": "add248e2",
   "metadata": {},
   "source": [
    "To read in the array data from a text file containing numeric data use `np.loadtxt`\n",
    "or `np.genfromtxt`—see [the documentation](http://docs.scipy.org/doc/numpy/reference/routines.io.html) for details."
   ]
  },
  {
   "cell_type": "markdown",
   "id": "da60914b",
   "metadata": {},
   "source": [
    "### Array Indexing\n",
    "\n",
    "\n",
    "<a id='index-5'></a>\n",
    "For a flat array, indexing is the same as Python sequences:"
   ]
  },
  {
   "cell_type": "code",
   "execution_count": 19,
   "id": "23746c3f",
   "metadata": {
    "execution": {
     "iopub.execute_input": "2024-04-07T15:26:46.124560Z",
     "iopub.status.busy": "2024-04-07T15:26:46.123967Z",
     "iopub.status.idle": "2024-04-07T15:26:46.129184Z",
     "shell.execute_reply": "2024-04-07T15:26:46.128630Z",
     "shell.execute_reply.started": "2024-04-07T15:26:46.124527Z"
    },
    "hide-output": false
   },
   "outputs": [
    {
     "data": {
      "text/plain": [
       "array([1.  , 1.25, 1.5 , 1.75, 2.  ])"
      ]
     },
     "execution_count": 19,
     "metadata": {},
     "output_type": "execute_result"
    }
   ],
   "source": [
    "z = np.linspace(1, 2, 5)\n",
    "z"
   ]
  },
  {
   "cell_type": "code",
   "execution_count": 20,
   "id": "917e1eb3",
   "metadata": {
    "execution": {
     "iopub.execute_input": "2024-04-07T15:26:55.045077Z",
     "iopub.status.busy": "2024-04-07T15:26:55.044534Z",
     "iopub.status.idle": "2024-04-07T15:26:55.049168Z",
     "shell.execute_reply": "2024-04-07T15:26:55.048633Z",
     "shell.execute_reply.started": "2024-04-07T15:26:55.045044Z"
    },
    "hide-output": false
   },
   "outputs": [
    {
     "data": {
      "text/plain": [
       "1.0"
      ]
     },
     "execution_count": 20,
     "metadata": {},
     "output_type": "execute_result"
    }
   ],
   "source": [
    "z[0]"
   ]
  },
  {
   "cell_type": "code",
   "execution_count": 21,
   "id": "4bc17615",
   "metadata": {
    "execution": {
     "iopub.execute_input": "2024-04-07T15:26:57.802411Z",
     "iopub.status.busy": "2024-04-07T15:26:57.801864Z",
     "iopub.status.idle": "2024-04-07T15:26:57.806707Z",
     "shell.execute_reply": "2024-04-07T15:26:57.806043Z",
     "shell.execute_reply.started": "2024-04-07T15:26:57.802378Z"
    },
    "hide-output": false
   },
   "outputs": [
    {
     "data": {
      "text/plain": [
       "array([1.  , 1.25])"
      ]
     },
     "execution_count": 21,
     "metadata": {},
     "output_type": "execute_result"
    }
   ],
   "source": [
    "z[0:2]  # Two elements, starting at element 0"
   ]
  },
  {
   "cell_type": "code",
   "execution_count": 22,
   "id": "53c21ff1",
   "metadata": {
    "execution": {
     "iopub.execute_input": "2024-04-07T15:26:59.026102Z",
     "iopub.status.busy": "2024-04-07T15:26:59.025570Z",
     "iopub.status.idle": "2024-04-07T15:26:59.030549Z",
     "shell.execute_reply": "2024-04-07T15:26:59.029952Z",
     "shell.execute_reply.started": "2024-04-07T15:26:59.026072Z"
    },
    "hide-output": false
   },
   "outputs": [
    {
     "data": {
      "text/plain": [
       "2.0"
      ]
     },
     "execution_count": 22,
     "metadata": {},
     "output_type": "execute_result"
    }
   ],
   "source": [
    "z[-1]"
   ]
  },
  {
   "cell_type": "markdown",
   "id": "845b4e89",
   "metadata": {},
   "source": [
    "For 2D arrays the index syntax is as follows:"
   ]
  },
  {
   "cell_type": "code",
   "execution_count": 23,
   "id": "776fa34b",
   "metadata": {
    "execution": {
     "iopub.execute_input": "2024-04-07T15:27:09.114638Z",
     "iopub.status.busy": "2024-04-07T15:27:09.114092Z",
     "iopub.status.idle": "2024-04-07T15:27:09.119361Z",
     "shell.execute_reply": "2024-04-07T15:27:09.118745Z",
     "shell.execute_reply.started": "2024-04-07T15:27:09.114605Z"
    },
    "hide-output": false
   },
   "outputs": [
    {
     "data": {
      "text/plain": [
       "array([[1, 2],\n",
       "       [3, 4]])"
      ]
     },
     "execution_count": 23,
     "metadata": {},
     "output_type": "execute_result"
    }
   ],
   "source": [
    "z = np.array([[1, 2], [3, 4]])\n",
    "z"
   ]
  },
  {
   "cell_type": "code",
   "execution_count": 24,
   "id": "3229f3b7",
   "metadata": {
    "execution": {
     "iopub.execute_input": "2024-04-07T15:27:11.890380Z",
     "iopub.status.busy": "2024-04-07T15:27:11.889862Z",
     "iopub.status.idle": "2024-04-07T15:27:11.894941Z",
     "shell.execute_reply": "2024-04-07T15:27:11.894145Z",
     "shell.execute_reply.started": "2024-04-07T15:27:11.890350Z"
    },
    "hide-output": false
   },
   "outputs": [
    {
     "data": {
      "text/plain": [
       "1"
      ]
     },
     "execution_count": 24,
     "metadata": {},
     "output_type": "execute_result"
    }
   ],
   "source": [
    "z[0, 0]"
   ]
  },
  {
   "cell_type": "code",
   "execution_count": 25,
   "id": "a4bff0a5",
   "metadata": {
    "execution": {
     "iopub.execute_input": "2024-04-07T15:27:12.832369Z",
     "iopub.status.busy": "2024-04-07T15:27:12.831760Z",
     "iopub.status.idle": "2024-04-07T15:27:12.836175Z",
     "shell.execute_reply": "2024-04-07T15:27:12.835634Z",
     "shell.execute_reply.started": "2024-04-07T15:27:12.832339Z"
    },
    "hide-output": false
   },
   "outputs": [
    {
     "data": {
      "text/plain": [
       "2"
      ]
     },
     "execution_count": 25,
     "metadata": {},
     "output_type": "execute_result"
    }
   ],
   "source": [
    "z[0, 1]"
   ]
  },
  {
   "cell_type": "markdown",
   "id": "c1c146d0",
   "metadata": {},
   "source": [
    "And so on.\n",
    "\n",
    "Note that indices are still zero-based, to maintain compatibility with Python sequences.\n",
    "\n",
    "Columns and rows can be extracted as follows"
   ]
  },
  {
   "cell_type": "code",
   "execution_count": 26,
   "id": "709755c9",
   "metadata": {
    "execution": {
     "iopub.execute_input": "2024-04-07T15:27:21.834265Z",
     "iopub.status.busy": "2024-04-07T15:27:21.833744Z",
     "iopub.status.idle": "2024-04-07T15:27:21.838678Z",
     "shell.execute_reply": "2024-04-07T15:27:21.838033Z",
     "shell.execute_reply.started": "2024-04-07T15:27:21.834236Z"
    },
    "hide-output": false
   },
   "outputs": [
    {
     "data": {
      "text/plain": [
       "array([1, 2])"
      ]
     },
     "execution_count": 26,
     "metadata": {},
     "output_type": "execute_result"
    }
   ],
   "source": [
    "z[0, :]"
   ]
  },
  {
   "cell_type": "code",
   "execution_count": 27,
   "id": "87a648a0",
   "metadata": {
    "execution": {
     "iopub.execute_input": "2024-04-07T15:27:22.876956Z",
     "iopub.status.busy": "2024-04-07T15:27:22.876416Z",
     "iopub.status.idle": "2024-04-07T15:27:22.885534Z",
     "shell.execute_reply": "2024-04-07T15:27:22.884956Z",
     "shell.execute_reply.started": "2024-04-07T15:27:22.876926Z"
    },
    "hide-output": false
   },
   "outputs": [
    {
     "data": {
      "text/plain": [
       "array([2, 4])"
      ]
     },
     "execution_count": 27,
     "metadata": {},
     "output_type": "execute_result"
    }
   ],
   "source": [
    "z[:, 1]"
   ]
  },
  {
   "cell_type": "markdown",
   "id": "fd96fcb3",
   "metadata": {},
   "source": [
    "NumPy arrays of integers can also be used to extract elements"
   ]
  },
  {
   "cell_type": "code",
   "execution_count": 28,
   "id": "c822f84a",
   "metadata": {
    "execution": {
     "iopub.execute_input": "2024-04-07T15:27:31.522498Z",
     "iopub.status.busy": "2024-04-07T15:27:31.521794Z",
     "iopub.status.idle": "2024-04-07T15:27:31.526541Z",
     "shell.execute_reply": "2024-04-07T15:27:31.526071Z",
     "shell.execute_reply.started": "2024-04-07T15:27:31.522470Z"
    },
    "hide-output": false
   },
   "outputs": [
    {
     "data": {
      "text/plain": [
       "array([2. , 2.5, 3. , 3.5, 4. ])"
      ]
     },
     "execution_count": 28,
     "metadata": {},
     "output_type": "execute_result"
    }
   ],
   "source": [
    "z = np.linspace(2, 4, 5)\n",
    "z"
   ]
  },
  {
   "cell_type": "code",
   "execution_count": 29,
   "id": "a85cecd2",
   "metadata": {
    "execution": {
     "iopub.execute_input": "2024-04-07T15:27:35.646667Z",
     "iopub.status.busy": "2024-04-07T15:27:35.645992Z",
     "iopub.status.idle": "2024-04-07T15:27:35.650909Z",
     "shell.execute_reply": "2024-04-07T15:27:35.650366Z",
     "shell.execute_reply.started": "2024-04-07T15:27:35.646633Z"
    },
    "hide-output": false
   },
   "outputs": [
    {
     "data": {
      "text/plain": [
       "array([2. , 3. , 3.5])"
      ]
     },
     "execution_count": 29,
     "metadata": {},
     "output_type": "execute_result"
    }
   ],
   "source": [
    "indices = np.array((0, 2, 3))\n",
    "z[indices]"
   ]
  },
  {
   "cell_type": "markdown",
   "id": "d1e8f79e",
   "metadata": {},
   "source": [
    "Finally, an array of `dtype bool` can be used to extract elements"
   ]
  },
  {
   "cell_type": "code",
   "execution_count": 30,
   "id": "a4b4f380",
   "metadata": {
    "execution": {
     "iopub.execute_input": "2024-04-07T15:28:16.812775Z",
     "iopub.status.busy": "2024-04-07T15:28:16.812256Z",
     "iopub.status.idle": "2024-04-07T15:28:16.816587Z",
     "shell.execute_reply": "2024-04-07T15:28:16.816170Z",
     "shell.execute_reply.started": "2024-04-07T15:28:16.812746Z"
    },
    "hide-output": false
   },
   "outputs": [
    {
     "data": {
      "text/plain": [
       "array([2. , 2.5, 3. , 3.5, 4. ])"
      ]
     },
     "execution_count": 30,
     "metadata": {},
     "output_type": "execute_result"
    }
   ],
   "source": [
    "z"
   ]
  },
  {
   "cell_type": "code",
   "execution_count": 31,
   "id": "5231fc67",
   "metadata": {
    "execution": {
     "iopub.execute_input": "2024-04-07T15:28:21.586680Z",
     "iopub.status.busy": "2024-04-07T15:28:21.586244Z",
     "iopub.status.idle": "2024-04-07T15:28:21.590761Z",
     "shell.execute_reply": "2024-04-07T15:28:21.590190Z",
     "shell.execute_reply.started": "2024-04-07T15:28:21.586655Z"
    },
    "hide-output": false
   },
   "outputs": [
    {
     "data": {
      "text/plain": [
       "array([False,  True,  True, False, False])"
      ]
     },
     "execution_count": 31,
     "metadata": {},
     "output_type": "execute_result"
    }
   ],
   "source": [
    "d = np.array([0, 1, 1, 0, 0], dtype=bool)\n",
    "d"
   ]
  },
  {
   "cell_type": "code",
   "execution_count": 32,
   "id": "82563be1",
   "metadata": {
    "execution": {
     "iopub.execute_input": "2024-04-07T15:28:25.330275Z",
     "iopub.status.busy": "2024-04-07T15:28:25.330028Z",
     "iopub.status.idle": "2024-04-07T15:28:25.334767Z",
     "shell.execute_reply": "2024-04-07T15:28:25.334303Z",
     "shell.execute_reply.started": "2024-04-07T15:28:25.330249Z"
    },
    "hide-output": false
   },
   "outputs": [
    {
     "data": {
      "text/plain": [
       "array([2.5, 3. ])"
      ]
     },
     "execution_count": 32,
     "metadata": {},
     "output_type": "execute_result"
    }
   ],
   "source": [
    "z[d]"
   ]
  },
  {
   "cell_type": "markdown",
   "id": "167f232c",
   "metadata": {},
   "source": [
    "We’ll see why this is useful below.\n",
    "\n",
    "An aside: all elements of an array can be set equal to one number using slice notation"
   ]
  },
  {
   "cell_type": "code",
   "execution_count": 33,
   "id": "3eefbdf4",
   "metadata": {
    "execution": {
     "iopub.execute_input": "2024-04-07T15:28:33.904587Z",
     "iopub.status.busy": "2024-04-07T15:28:33.903930Z",
     "iopub.status.idle": "2024-04-07T15:28:33.908726Z",
     "shell.execute_reply": "2024-04-07T15:28:33.908245Z",
     "shell.execute_reply.started": "2024-04-07T15:28:33.904556Z"
    },
    "hide-output": false
   },
   "outputs": [
    {
     "data": {
      "text/plain": [
       "array([2. , 3. , 3.5])"
      ]
     },
     "execution_count": 33,
     "metadata": {},
     "output_type": "execute_result"
    }
   ],
   "source": [
    "z = np.empty(3)\n",
    "z"
   ]
  },
  {
   "cell_type": "code",
   "execution_count": 34,
   "id": "12c23b3a",
   "metadata": {
    "execution": {
     "iopub.execute_input": "2024-04-07T15:28:37.679186Z",
     "iopub.status.busy": "2024-04-07T15:28:37.678675Z",
     "iopub.status.idle": "2024-04-07T15:28:37.683180Z",
     "shell.execute_reply": "2024-04-07T15:28:37.682711Z",
     "shell.execute_reply.started": "2024-04-07T15:28:37.679154Z"
    },
    "hide-output": false
   },
   "outputs": [
    {
     "data": {
      "text/plain": [
       "array([42., 42., 42.])"
      ]
     },
     "execution_count": 34,
     "metadata": {},
     "output_type": "execute_result"
    }
   ],
   "source": [
    "z[:] = 42\n",
    "z"
   ]
  },
  {
   "cell_type": "markdown",
   "id": "2c3e7b23",
   "metadata": {},
   "source": [
    "### Array Methods\n",
    "\n",
    "\n",
    "<a id='index-6'></a>\n",
    "Arrays have useful methods, all of which are carefully optimized"
   ]
  },
  {
   "cell_type": "code",
   "execution_count": 35,
   "id": "c6cb6fa2",
   "metadata": {
    "execution": {
     "iopub.execute_input": "2024-04-07T15:28:47.554173Z",
     "iopub.status.busy": "2024-04-07T15:28:47.553924Z",
     "iopub.status.idle": "2024-04-07T15:28:47.559362Z",
     "shell.execute_reply": "2024-04-07T15:28:47.558699Z",
     "shell.execute_reply.started": "2024-04-07T15:28:47.554147Z"
    },
    "hide-output": false
   },
   "outputs": [
    {
     "data": {
      "text/plain": [
       "array([4, 3, 2, 1])"
      ]
     },
     "execution_count": 35,
     "metadata": {},
     "output_type": "execute_result"
    }
   ],
   "source": [
    "a = np.array((4, 3, 2, 1))\n",
    "a"
   ]
  },
  {
   "cell_type": "code",
   "execution_count": 36,
   "id": "fa722cd6",
   "metadata": {
    "execution": {
     "iopub.execute_input": "2024-04-07T15:28:56.296672Z",
     "iopub.status.busy": "2024-04-07T15:28:56.296162Z",
     "iopub.status.idle": "2024-04-07T15:28:56.300941Z",
     "shell.execute_reply": "2024-04-07T15:28:56.300409Z",
     "shell.execute_reply.started": "2024-04-07T15:28:56.296643Z"
    },
    "hide-output": false
   },
   "outputs": [
    {
     "data": {
      "text/plain": [
       "array([1, 2, 3, 4])"
      ]
     },
     "execution_count": 36,
     "metadata": {},
     "output_type": "execute_result"
    }
   ],
   "source": [
    "a.sort()              # Sorts a in place\n",
    "a"
   ]
  },
  {
   "cell_type": "code",
   "execution_count": 37,
   "id": "4331160a",
   "metadata": {
    "execution": {
     "iopub.execute_input": "2024-04-07T15:28:57.818200Z",
     "iopub.status.busy": "2024-04-07T15:28:57.817785Z",
     "iopub.status.idle": "2024-04-07T15:28:57.822374Z",
     "shell.execute_reply": "2024-04-07T15:28:57.821782Z",
     "shell.execute_reply.started": "2024-04-07T15:28:57.818169Z"
    },
    "hide-output": false
   },
   "outputs": [
    {
     "data": {
      "text/plain": [
       "10"
      ]
     },
     "execution_count": 37,
     "metadata": {},
     "output_type": "execute_result"
    }
   ],
   "source": [
    "a.sum()               # Sum"
   ]
  },
  {
   "cell_type": "code",
   "execution_count": 38,
   "id": "42cdf181",
   "metadata": {
    "execution": {
     "iopub.execute_input": "2024-04-07T15:28:58.874654Z",
     "iopub.status.busy": "2024-04-07T15:28:58.874121Z",
     "iopub.status.idle": "2024-04-07T15:28:58.879310Z",
     "shell.execute_reply": "2024-04-07T15:28:58.878566Z",
     "shell.execute_reply.started": "2024-04-07T15:28:58.874623Z"
    },
    "hide-output": false
   },
   "outputs": [
    {
     "data": {
      "text/plain": [
       "2.5"
      ]
     },
     "execution_count": 38,
     "metadata": {},
     "output_type": "execute_result"
    }
   ],
   "source": [
    "a.mean()              # Mean"
   ]
  },
  {
   "cell_type": "code",
   "execution_count": 39,
   "id": "4bf7e55c",
   "metadata": {
    "execution": {
     "iopub.execute_input": "2024-04-07T15:28:59.498307Z",
     "iopub.status.busy": "2024-04-07T15:28:59.497783Z",
     "iopub.status.idle": "2024-04-07T15:28:59.502822Z",
     "shell.execute_reply": "2024-04-07T15:28:59.502112Z",
     "shell.execute_reply.started": "2024-04-07T15:28:59.498275Z"
    },
    "hide-output": false
   },
   "outputs": [
    {
     "data": {
      "text/plain": [
       "4"
      ]
     },
     "execution_count": 39,
     "metadata": {},
     "output_type": "execute_result"
    }
   ],
   "source": [
    "a.max()               # Max"
   ]
  },
  {
   "cell_type": "code",
   "execution_count": 40,
   "id": "80782526",
   "metadata": {
    "execution": {
     "iopub.execute_input": "2024-04-07T15:29:00.122444Z",
     "iopub.status.busy": "2024-04-07T15:29:00.121763Z",
     "iopub.status.idle": "2024-04-07T15:29:00.126799Z",
     "shell.execute_reply": "2024-04-07T15:29:00.126122Z",
     "shell.execute_reply.started": "2024-04-07T15:29:00.122410Z"
    },
    "hide-output": false
   },
   "outputs": [
    {
     "data": {
      "text/plain": [
       "3"
      ]
     },
     "execution_count": 40,
     "metadata": {},
     "output_type": "execute_result"
    }
   ],
   "source": [
    "a.argmax()            # Returns the index of the maximal element"
   ]
  },
  {
   "cell_type": "code",
   "execution_count": 41,
   "id": "106b2d10",
   "metadata": {
    "execution": {
     "iopub.execute_input": "2024-04-07T15:29:00.634551Z",
     "iopub.status.busy": "2024-04-07T15:29:00.634035Z",
     "iopub.status.idle": "2024-04-07T15:29:00.639192Z",
     "shell.execute_reply": "2024-04-07T15:29:00.638420Z",
     "shell.execute_reply.started": "2024-04-07T15:29:00.634521Z"
    },
    "hide-output": false
   },
   "outputs": [
    {
     "data": {
      "text/plain": [
       "array([ 1,  3,  6, 10])"
      ]
     },
     "execution_count": 41,
     "metadata": {},
     "output_type": "execute_result"
    }
   ],
   "source": [
    "a.cumsum()            # Cumulative sum of the elements of a"
   ]
  },
  {
   "cell_type": "code",
   "execution_count": 42,
   "id": "0fd0bab5",
   "metadata": {
    "execution": {
     "iopub.execute_input": "2024-04-07T15:29:01.416224Z",
     "iopub.status.busy": "2024-04-07T15:29:01.415583Z",
     "iopub.status.idle": "2024-04-07T15:29:01.420152Z",
     "shell.execute_reply": "2024-04-07T15:29:01.419709Z",
     "shell.execute_reply.started": "2024-04-07T15:29:01.416191Z"
    },
    "hide-output": false
   },
   "outputs": [
    {
     "data": {
      "text/plain": [
       "array([ 1,  2,  6, 24])"
      ]
     },
     "execution_count": 42,
     "metadata": {},
     "output_type": "execute_result"
    }
   ],
   "source": [
    "a.cumprod()           # Cumulative product of the elements of a"
   ]
  },
  {
   "cell_type": "code",
   "execution_count": 43,
   "id": "4896e25b",
   "metadata": {
    "execution": {
     "iopub.execute_input": "2024-04-07T15:29:02.370859Z",
     "iopub.status.busy": "2024-04-07T15:29:02.370317Z",
     "iopub.status.idle": "2024-04-07T15:29:02.375023Z",
     "shell.execute_reply": "2024-04-07T15:29:02.374538Z",
     "shell.execute_reply.started": "2024-04-07T15:29:02.370827Z"
    },
    "hide-output": false
   },
   "outputs": [
    {
     "data": {
      "text/plain": [
       "1.25"
      ]
     },
     "execution_count": 43,
     "metadata": {},
     "output_type": "execute_result"
    }
   ],
   "source": [
    "a.var()               # Variance"
   ]
  },
  {
   "cell_type": "code",
   "execution_count": 44,
   "id": "098c5a13",
   "metadata": {
    "execution": {
     "iopub.execute_input": "2024-04-07T15:29:03.419956Z",
     "iopub.status.busy": "2024-04-07T15:29:03.419290Z",
     "iopub.status.idle": "2024-04-07T15:29:03.424053Z",
     "shell.execute_reply": "2024-04-07T15:29:03.423539Z",
     "shell.execute_reply.started": "2024-04-07T15:29:03.419924Z"
    },
    "hide-output": false
   },
   "outputs": [
    {
     "data": {
      "text/plain": [
       "1.118033988749895"
      ]
     },
     "execution_count": 44,
     "metadata": {},
     "output_type": "execute_result"
    }
   ],
   "source": [
    "a.std()               # Standard deviation"
   ]
  },
  {
   "cell_type": "code",
   "execution_count": 45,
   "id": "4500de27",
   "metadata": {
    "execution": {
     "iopub.execute_input": "2024-04-07T15:29:04.736088Z",
     "iopub.status.busy": "2024-04-07T15:29:04.735583Z",
     "iopub.status.idle": "2024-04-07T15:29:04.740375Z",
     "shell.execute_reply": "2024-04-07T15:29:04.739825Z",
     "shell.execute_reply.started": "2024-04-07T15:29:04.736059Z"
    },
    "hide-output": false
   },
   "outputs": [
    {
     "data": {
      "text/plain": [
       "array([[1, 3],\n",
       "       [2, 4]])"
      ]
     },
     "execution_count": 45,
     "metadata": {},
     "output_type": "execute_result"
    }
   ],
   "source": [
    "a.shape = (2, 2)\n",
    "a.T                   # Equivalent to a.transpose()"
   ]
  },
  {
   "cell_type": "markdown",
   "id": "1146ddcf",
   "metadata": {},
   "source": [
    "Another method worth knowing is `searchsorted()`.\n",
    "\n",
    "If `z` is a nondecreasing array, then `z.searchsorted(a)` returns the index of the first element of `z` that is `>= a`"
   ]
  },
  {
   "cell_type": "code",
   "execution_count": 46,
   "id": "4029a6c8",
   "metadata": {
    "execution": {
     "iopub.execute_input": "2024-04-07T15:29:21.730802Z",
     "iopub.status.busy": "2024-04-07T15:29:21.730130Z",
     "iopub.status.idle": "2024-04-07T15:29:21.735679Z",
     "shell.execute_reply": "2024-04-07T15:29:21.735059Z",
     "shell.execute_reply.started": "2024-04-07T15:29:21.730769Z"
    },
    "hide-output": false
   },
   "outputs": [
    {
     "data": {
      "text/plain": [
       "array([2. , 2.5, 3. , 3.5, 4. ])"
      ]
     },
     "execution_count": 46,
     "metadata": {},
     "output_type": "execute_result"
    }
   ],
   "source": [
    "z = np.linspace(2, 4, 5)\n",
    "z"
   ]
  },
  {
   "cell_type": "code",
   "execution_count": 47,
   "id": "dfcc1dc9",
   "metadata": {
    "execution": {
     "iopub.execute_input": "2024-04-07T15:29:32.002733Z",
     "iopub.status.busy": "2024-04-07T15:29:32.002206Z",
     "iopub.status.idle": "2024-04-07T15:29:32.007258Z",
     "shell.execute_reply": "2024-04-07T15:29:32.006550Z",
     "shell.execute_reply.started": "2024-04-07T15:29:32.002701Z"
    },
    "hide-output": false
   },
   "outputs": [
    {
     "data": {
      "text/plain": [
       "1"
      ]
     },
     "execution_count": 47,
     "metadata": {},
     "output_type": "execute_result"
    }
   ],
   "source": [
    "z.searchsorted(2.2)"
   ]
  },
  {
   "cell_type": "markdown",
   "id": "30eefab1",
   "metadata": {},
   "source": [
    "Many of the methods discussed above have equivalent functions in the NumPy namespace"
   ]
  },
  {
   "cell_type": "code",
   "execution_count": 48,
   "id": "1672167a",
   "metadata": {
    "execution": {
     "iopub.execute_input": "2024-04-07T15:29:40.885785Z",
     "iopub.status.busy": "2024-04-07T15:29:40.885188Z",
     "iopub.status.idle": "2024-04-07T15:29:40.888963Z",
     "shell.execute_reply": "2024-04-07T15:29:40.888431Z",
     "shell.execute_reply.started": "2024-04-07T15:29:40.885742Z"
    },
    "hide-output": false
   },
   "outputs": [],
   "source": [
    "a = np.array((4, 3, 2, 1))"
   ]
  },
  {
   "cell_type": "code",
   "execution_count": 49,
   "id": "7c2b62e1",
   "metadata": {
    "execution": {
     "iopub.execute_input": "2024-04-07T15:29:42.288702Z",
     "iopub.status.busy": "2024-04-07T15:29:42.288181Z",
     "iopub.status.idle": "2024-04-07T15:29:42.292878Z",
     "shell.execute_reply": "2024-04-07T15:29:42.292399Z",
     "shell.execute_reply.started": "2024-04-07T15:29:42.288669Z"
    },
    "hide-output": false
   },
   "outputs": [
    {
     "data": {
      "text/plain": [
       "10"
      ]
     },
     "execution_count": 49,
     "metadata": {},
     "output_type": "execute_result"
    }
   ],
   "source": [
    "np.sum(a)"
   ]
  },
  {
   "cell_type": "code",
   "execution_count": 50,
   "id": "ae8ef50a",
   "metadata": {
    "execution": {
     "iopub.execute_input": "2024-04-07T15:29:43.306923Z",
     "iopub.status.busy": "2024-04-07T15:29:43.306074Z",
     "iopub.status.idle": "2024-04-07T15:29:43.311168Z",
     "shell.execute_reply": "2024-04-07T15:29:43.310659Z",
     "shell.execute_reply.started": "2024-04-07T15:29:43.306874Z"
    },
    "hide-output": false
   },
   "outputs": [
    {
     "data": {
      "text/plain": [
       "2.5"
      ]
     },
     "execution_count": 50,
     "metadata": {},
     "output_type": "execute_result"
    }
   ],
   "source": [
    "np.mean(a)"
   ]
  },
  {
   "cell_type": "markdown",
   "id": "2f3101a9",
   "metadata": {},
   "source": [
    "## Arithmetic Operations\n",
    "\n",
    "\n",
    "<a id='index-7'></a>\n",
    "The operators `+`, `-`, `*`, `/` and `**` all act *elementwise* on arrays"
   ]
  },
  {
   "cell_type": "code",
   "execution_count": 51,
   "id": "1cd0cf9e",
   "metadata": {
    "execution": {
     "iopub.execute_input": "2024-04-07T15:29:53.362388Z",
     "iopub.status.busy": "2024-04-07T15:29:53.361726Z",
     "iopub.status.idle": "2024-04-07T15:29:53.367140Z",
     "shell.execute_reply": "2024-04-07T15:29:53.366600Z",
     "shell.execute_reply.started": "2024-04-07T15:29:53.362355Z"
    },
    "hide-output": false
   },
   "outputs": [
    {
     "data": {
      "text/plain": [
       "array([ 6,  8, 10, 12])"
      ]
     },
     "execution_count": 51,
     "metadata": {},
     "output_type": "execute_result"
    }
   ],
   "source": [
    "a = np.array([1, 2, 3, 4])\n",
    "b = np.array([5, 6, 7, 8])\n",
    "a + b"
   ]
  },
  {
   "cell_type": "code",
   "execution_count": 52,
   "id": "86152ade",
   "metadata": {
    "execution": {
     "iopub.execute_input": "2024-04-07T15:29:58.757395Z",
     "iopub.status.busy": "2024-04-07T15:29:58.756983Z",
     "iopub.status.idle": "2024-04-07T15:29:58.761601Z",
     "shell.execute_reply": "2024-04-07T15:29:58.761072Z",
     "shell.execute_reply.started": "2024-04-07T15:29:58.757365Z"
    },
    "hide-output": false
   },
   "outputs": [
    {
     "data": {
      "text/plain": [
       "array([ 5, 12, 21, 32])"
      ]
     },
     "execution_count": 52,
     "metadata": {},
     "output_type": "execute_result"
    }
   ],
   "source": [
    "a * b"
   ]
  },
  {
   "cell_type": "markdown",
   "id": "5608e658",
   "metadata": {},
   "source": [
    "We can add a scalar to each element as follows"
   ]
  },
  {
   "cell_type": "code",
   "execution_count": 53,
   "id": "1904ad43",
   "metadata": {
    "execution": {
     "iopub.execute_input": "2024-04-07T15:30:03.659804Z",
     "iopub.status.busy": "2024-04-07T15:30:03.659165Z",
     "iopub.status.idle": "2024-04-07T15:30:03.663620Z",
     "shell.execute_reply": "2024-04-07T15:30:03.663183Z",
     "shell.execute_reply.started": "2024-04-07T15:30:03.659771Z"
    },
    "hide-output": false
   },
   "outputs": [
    {
     "data": {
      "text/plain": [
       "array([11, 12, 13, 14])"
      ]
     },
     "execution_count": 53,
     "metadata": {},
     "output_type": "execute_result"
    }
   ],
   "source": [
    "a + 10"
   ]
  },
  {
   "cell_type": "markdown",
   "id": "e84e1df7",
   "metadata": {},
   "source": [
    "Scalar multiplication is similar"
   ]
  },
  {
   "cell_type": "code",
   "execution_count": 54,
   "id": "1a0a884f",
   "metadata": {
    "execution": {
     "iopub.execute_input": "2024-04-07T15:30:08.180791Z",
     "iopub.status.busy": "2024-04-07T15:30:08.180149Z",
     "iopub.status.idle": "2024-04-07T15:30:08.185007Z",
     "shell.execute_reply": "2024-04-07T15:30:08.184528Z",
     "shell.execute_reply.started": "2024-04-07T15:30:08.180759Z"
    },
    "hide-output": false
   },
   "outputs": [
    {
     "data": {
      "text/plain": [
       "array([10, 20, 30, 40])"
      ]
     },
     "execution_count": 54,
     "metadata": {},
     "output_type": "execute_result"
    }
   ],
   "source": [
    "a * 10"
   ]
  },
  {
   "cell_type": "markdown",
   "id": "cf328595",
   "metadata": {},
   "source": [
    "The two-dimensional arrays follow the same general rules"
   ]
  },
  {
   "cell_type": "code",
   "execution_count": 55,
   "id": "b9738034",
   "metadata": {
    "execution": {
     "iopub.execute_input": "2024-04-07T15:30:09.978632Z",
     "iopub.status.busy": "2024-04-07T15:30:09.978013Z",
     "iopub.status.idle": "2024-04-07T15:30:09.983651Z",
     "shell.execute_reply": "2024-04-07T15:30:09.983133Z",
     "shell.execute_reply.started": "2024-04-07T15:30:09.978575Z"
    },
    "hide-output": false
   },
   "outputs": [
    {
     "data": {
      "text/plain": [
       "array([[2., 2.],\n",
       "       [2., 2.]])"
      ]
     },
     "execution_count": 55,
     "metadata": {},
     "output_type": "execute_result"
    }
   ],
   "source": [
    "A = np.ones((2, 2))\n",
    "B = np.ones((2, 2))\n",
    "A + B"
   ]
  },
  {
   "cell_type": "code",
   "execution_count": 56,
   "id": "baafc660",
   "metadata": {
    "execution": {
     "iopub.execute_input": "2024-04-07T15:30:20.772144Z",
     "iopub.status.busy": "2024-04-07T15:30:20.771624Z",
     "iopub.status.idle": "2024-04-07T15:30:20.776265Z",
     "shell.execute_reply": "2024-04-07T15:30:20.775804Z",
     "shell.execute_reply.started": "2024-04-07T15:30:20.772115Z"
    },
    "hide-output": false
   },
   "outputs": [
    {
     "data": {
      "text/plain": [
       "array([[11., 11.],\n",
       "       [11., 11.]])"
      ]
     },
     "execution_count": 56,
     "metadata": {},
     "output_type": "execute_result"
    }
   ],
   "source": [
    "A + 10"
   ]
  },
  {
   "cell_type": "code",
   "execution_count": 57,
   "id": "d0a0dfe7",
   "metadata": {
    "execution": {
     "iopub.execute_input": "2024-04-07T15:30:33.762981Z",
     "iopub.status.busy": "2024-04-07T15:30:33.762437Z",
     "iopub.status.idle": "2024-04-07T15:30:33.767016Z",
     "shell.execute_reply": "2024-04-07T15:30:33.766608Z",
     "shell.execute_reply.started": "2024-04-07T15:30:33.762950Z"
    },
    "hide-output": false
   },
   "outputs": [
    {
     "data": {
      "text/plain": [
       "array([[1., 1.],\n",
       "       [1., 1.]])"
      ]
     },
     "execution_count": 57,
     "metadata": {},
     "output_type": "execute_result"
    }
   ],
   "source": [
    "A * B"
   ]
  },
  {
   "cell_type": "markdown",
   "id": "44f65370",
   "metadata": {},
   "source": [
    "\n",
    "<a id='numpy-matrix-multiplication'></a>\n",
    "In particular, `A * B` is *not* the matrix product, it is an element-wise product."
   ]
  },
  {
   "cell_type": "markdown",
   "id": "d0a348a6",
   "metadata": {},
   "source": [
    "## Matrix Multiplication\n",
    "\n",
    "\n",
    "<a id='index-9'></a>\n",
    "With Anaconda’s scientific Python package based around Python 3.5 and above,\n",
    "one can use the `@` symbol for matrix multiplication, as follows:"
   ]
  },
  {
   "cell_type": "code",
   "execution_count": 58,
   "id": "46c80c21",
   "metadata": {
    "execution": {
     "iopub.execute_input": "2024-04-07T15:30:38.954733Z",
     "iopub.status.busy": "2024-04-07T15:30:38.954180Z",
     "iopub.status.idle": "2024-04-07T15:30:38.959846Z",
     "shell.execute_reply": "2024-04-07T15:30:38.959229Z",
     "shell.execute_reply.started": "2024-04-07T15:30:38.954703Z"
    },
    "hide-output": false
   },
   "outputs": [
    {
     "data": {
      "text/plain": [
       "array([[2., 2.],\n",
       "       [2., 2.]])"
      ]
     },
     "execution_count": 58,
     "metadata": {},
     "output_type": "execute_result"
    }
   ],
   "source": [
    "A = np.ones((2, 2))\n",
    "B = np.ones((2, 2))\n",
    "A @ B"
   ]
  },
  {
   "cell_type": "markdown",
   "id": "064f4c49",
   "metadata": {},
   "source": [
    "(For older versions of Python and NumPy you need to use the [np.dot](http://docs.scipy.org/doc/numpy/reference/generated/numpy.dot.html) function)\n",
    "\n",
    "We can also use `@` to take the inner product of two flat arrays"
   ]
  },
  {
   "cell_type": "code",
   "execution_count": 59,
   "id": "8ad0a0d5",
   "metadata": {
    "execution": {
     "iopub.execute_input": "2024-04-07T15:31:00.058925Z",
     "iopub.status.busy": "2024-04-07T15:31:00.058030Z",
     "iopub.status.idle": "2024-04-07T15:31:00.064653Z",
     "shell.execute_reply": "2024-04-07T15:31:00.063967Z",
     "shell.execute_reply.started": "2024-04-07T15:31:00.058867Z"
    },
    "hide-output": false
   },
   "outputs": [
    {
     "data": {
      "text/plain": [
       "50"
      ]
     },
     "execution_count": 59,
     "metadata": {},
     "output_type": "execute_result"
    }
   ],
   "source": [
    "A = np.array((1, 2))\n",
    "B = np.array((10, 20))\n",
    "A @ B"
   ]
  },
  {
   "cell_type": "markdown",
   "id": "3832e8e1",
   "metadata": {},
   "source": [
    "In fact, we can use `@` when one element is a Python list or tuple"
   ]
  },
  {
   "cell_type": "code",
   "execution_count": 60,
   "id": "e41d8d04",
   "metadata": {
    "execution": {
     "iopub.execute_input": "2024-04-07T15:31:21.530482Z",
     "iopub.status.busy": "2024-04-07T15:31:21.530002Z",
     "iopub.status.idle": "2024-04-07T15:31:21.534857Z",
     "shell.execute_reply": "2024-04-07T15:31:21.534386Z",
     "shell.execute_reply.started": "2024-04-07T15:31:21.530452Z"
    },
    "hide-output": false
   },
   "outputs": [
    {
     "data": {
      "text/plain": [
       "array([[1, 2],\n",
       "       [3, 4]])"
      ]
     },
     "execution_count": 60,
     "metadata": {},
     "output_type": "execute_result"
    }
   ],
   "source": [
    "A = np.array(((1, 2), (3, 4)))\n",
    "A"
   ]
  },
  {
   "cell_type": "code",
   "execution_count": 61,
   "id": "aada1802",
   "metadata": {
    "execution": {
     "iopub.execute_input": "2024-04-07T15:31:22.586019Z",
     "iopub.status.busy": "2024-04-07T15:31:22.585303Z",
     "iopub.status.idle": "2024-04-07T15:31:22.589717Z",
     "shell.execute_reply": "2024-04-07T15:31:22.589292Z",
     "shell.execute_reply.started": "2024-04-07T15:31:22.585984Z"
    },
    "hide-output": false
   },
   "outputs": [
    {
     "data": {
      "text/plain": [
       "array([2, 4])"
      ]
     },
     "execution_count": 61,
     "metadata": {},
     "output_type": "execute_result"
    }
   ],
   "source": [
    "A @ (0, 1)"
   ]
  },
  {
   "cell_type": "markdown",
   "id": "3900160f",
   "metadata": {},
   "source": [
    "Since we are post-multiplying, the tuple is treated as a column vector.\n",
    "\n",
    "\n",
    "<a id='broadcasting'></a>"
   ]
  },
  {
   "cell_type": "markdown",
   "id": "8751f235",
   "metadata": {},
   "source": [
    "## Broadcasting\n",
    "\n",
    "\n",
    "<a id='index-10'></a>\n",
    "(This section extends an excellent discussion of broadcasting provided by [Jake VanderPlas](https://jakevdp.github.io/PythonDataScienceHandbook/02.05-computation-on-arrays-broadcasting.html).)\n",
    "\n",
    ">**Note**\n",
    ">\n",
    ">Broadcasting is a very important aspect of NumPy. At the same time, advanced broadcasting is relatively complex and some of the details below can be skimmed on first pass.\n",
    "\n",
    "In element-wise operations, arrays may not have the same shape.\n",
    "\n",
    "When this happens, NumPy will automatically expand arrays to the same shape whenever possible.\n",
    "\n",
    "This useful (but sometimes confusing) feature in NumPy is called **broadcasting**.\n",
    "\n",
    "The value of broadcasting is that\n",
    "\n",
    "- `for` loops can be avoided, which helps numerical code run fast and  \n",
    "- broadcasting can allow us to implement operations on arrays without actually creating some dimensions of these arrays in memory, which can be important when arrays are large.  \n",
    "\n",
    "\n",
    "For example, suppose `a` is a $ 3 \\times 3 $ array (`a -> (3, 3)`), while `b` is a flat array with three elements (`b -> (3,)`).\n",
    "\n",
    "When adding them together, NumPy will automatically expand `b -> (3,)` to `b -> (3, 3)`.\n",
    "\n",
    "The element-wise addition will result in a $ 3 \\times 3 $ array"
   ]
  },
  {
   "cell_type": "code",
   "execution_count": 62,
   "id": "7cdcaee3",
   "metadata": {
    "execution": {
     "iopub.execute_input": "2024-04-07T15:38:15.271635Z",
     "iopub.status.busy": "2024-04-07T15:38:15.271044Z",
     "iopub.status.idle": "2024-04-07T15:38:15.276257Z",
     "shell.execute_reply": "2024-04-07T15:38:15.275835Z",
     "shell.execute_reply.started": "2024-04-07T15:38:15.271604Z"
    },
    "hide-output": false
   },
   "outputs": [
    {
     "data": {
      "text/plain": [
       "array([[ 4,  8, 12],\n",
       "       [ 7, 11, 15],\n",
       "       [10, 14, 18]])"
      ]
     },
     "execution_count": 62,
     "metadata": {},
     "output_type": "execute_result"
    }
   ],
   "source": [
    "a = np.array(\n",
    "        [[1, 2, 3], \n",
    "         [4, 5, 6], \n",
    "         [7, 8, 9]])\n",
    "b = np.array([3, 6, 9])\n",
    "\n",
    "a + b"
   ]
  },
  {
   "cell_type": "markdown",
   "id": "3bc31d17",
   "metadata": {},
   "source": [
    "Here is a visual representation of this broadcasting operation:"
   ]
  },
  {
   "cell_type": "code",
   "execution_count": 63,
   "id": "845b85dc",
   "metadata": {
    "execution": {
     "iopub.execute_input": "2024-04-07T15:39:04.560401Z",
     "iopub.status.busy": "2024-04-07T15:39:04.560158Z",
     "iopub.status.idle": "2024-04-07T15:39:05.315535Z",
     "shell.execute_reply": "2024-04-07T15:39:05.315033Z",
     "shell.execute_reply.started": "2024-04-07T15:39:04.560375Z"
    },
    "hide-output": false
   },
   "outputs": [
    {
     "data": {
      "image/png": "[encoded data removed]",
      "text/plain": [
       "<Figure size 360x72 with 1 Axes>"
      ]
     },
     "metadata": {},
     "output_type": "display_data"
    }
   ],
   "source": [
    "# Adapted and modified based on the code in the book written by Jake VanderPlas (see https://jakevdp.github.io/PythonDataScienceHandbook/06.00-figure-code.html#Broadcasting)\n",
    "# Originally from astroML: see http://www.astroml.org/book_figures/appendix/fig_broadcast_visual.html\n",
    "\n",
    "import numpy as np\n",
    "from matplotlib import pyplot as plt\n",
    "\n",
    "\n",
    "def draw_cube(ax, xy, size, depth=0.4,\n",
    "              edges=None, label=None, label_kwargs=None, **kwargs):\n",
    "    \"\"\"draw and label a cube.  edges is a list of numbers between\n",
    "    1 and 12, specifying which of the 12 cube edges to draw\"\"\"\n",
    "    if edges is None:\n",
    "        edges = range(1, 13)\n",
    "\n",
    "    x, y = xy\n",
    "\n",
    "    if 1 in edges:\n",
    "        ax.plot([x, x + size],\n",
    "                [y + size, y + size], **kwargs)\n",
    "    if 2 in edges:\n",
    "        ax.plot([x + size, x + size],\n",
    "                [y, y + size], **kwargs)\n",
    "    if 3 in edges:\n",
    "        ax.plot([x, x + size],\n",
    "                [y, y], **kwargs)\n",
    "    if 4 in edges:\n",
    "        ax.plot([x, x],\n",
    "                [y, y + size], **kwargs)\n",
    "\n",
    "    if 5 in edges:\n",
    "        ax.plot([x, x + depth],\n",
    "                [y + size, y + depth + size], **kwargs)\n",
    "    if 6 in edges:\n",
    "        ax.plot([x + size, x + size + depth],\n",
    "                [y + size, y + depth + size], **kwargs)\n",
    "    if 7 in edges:\n",
    "        ax.plot([x + size, x + size + depth],\n",
    "                [y, y + depth], **kwargs)\n",
    "    if 8 in edges:\n",
    "        ax.plot([x, x + depth],\n",
    "                [y, y + depth], **kwargs)\n",
    "\n",
    "    if 9 in edges:\n",
    "        ax.plot([x + depth, x + depth + size],\n",
    "                [y + depth + size, y + depth + size], **kwargs)\n",
    "    if 10 in edges:\n",
    "        ax.plot([x + depth + size, x + depth + size],\n",
    "                [y + depth, y + depth + size], **kwargs)\n",
    "    if 11 in edges:\n",
    "        ax.plot([x + depth, x + depth + size],\n",
    "                [y + depth, y + depth], **kwargs)\n",
    "    if 12 in edges:\n",
    "        ax.plot([x + depth, x + depth],\n",
    "                [y + depth, y + depth + size], **kwargs)\n",
    "\n",
    "    if label:\n",
    "        if label_kwargs is None:\n",
    "            label_kwargs = {}\n",
    "        ax.text(x + 0.5 * size, y + 0.5 * size, label,\n",
    "                ha='center', va='center', **label_kwargs)\n",
    "\n",
    "solid = dict(c='black', ls='-', lw=1,\n",
    "             label_kwargs=dict(color='k'))\n",
    "dotted = dict(c='black', ls='-', lw=0.5, alpha=0.5,\n",
    "              label_kwargs=dict(color='gray'))\n",
    "depth = 0.3\n",
    "\n",
    "# Draw a figure and axis with no boundary\n",
    "fig = plt.figure(figsize=(5, 1), facecolor='w')\n",
    "ax = plt.axes([0, 0, 1, 1], xticks=[], yticks=[], frameon=False)\n",
    "\n",
    "# first block\n",
    "draw_cube(ax, (1, 7.5), 1, depth, [1, 2, 3, 4, 5, 6, 9], '1', **solid)\n",
    "draw_cube(ax, (2, 7.5), 1, depth, [1, 2, 3, 6, 9], '2', **solid)\n",
    "draw_cube(ax, (3, 7.5), 1, depth, [1, 2, 3, 6, 7, 9, 10], '3', **solid)\n",
    "\n",
    "draw_cube(ax, (1, 6.5), 1, depth, [2, 3, 4], '4', **solid)\n",
    "draw_cube(ax, (2, 6.5), 1, depth, [2, 3], '5', **solid)\n",
    "draw_cube(ax, (3, 6.5), 1, depth, [2, 3, 7, 10], '6', **solid)\n",
    "\n",
    "draw_cube(ax, (1, 5.5), 1, depth, [2, 3, 4], '7', **solid)\n",
    "draw_cube(ax, (2, 5.5), 1, depth, [2, 3], '8', **solid)\n",
    "draw_cube(ax, (3, 5.5), 1, depth, [2, 3, 7, 10], '9', **solid)\n",
    "\n",
    "# second block\n",
    "draw_cube(ax, (6, 7.5), 1, depth, [1, 2, 3, 4, 5, 6, 9], '3', **solid)\n",
    "draw_cube(ax, (7, 7.5), 1, depth, [1, 2, 3, 6, 9], '6', **solid)\n",
    "draw_cube(ax, (8, 7.5), 1, depth, [1, 2, 3, 6, 7, 9, 10], '9', **solid)\n",
    "\n",
    "draw_cube(ax, (6, 6.5), 1, depth, range(2, 13), '3', **dotted)\n",
    "draw_cube(ax, (7, 6.5), 1, depth, [2, 3, 6, 7, 9, 10, 11], '6', **dotted)\n",
    "draw_cube(ax, (8, 6.5), 1, depth, [2, 3, 6, 7, 9, 10, 11], '9', **dotted)\n",
    "\n",
    "draw_cube(ax, (6, 5.5), 1, depth, [2, 3, 4, 7, 8, 10, 11, 12], '3', **dotted)\n",
    "draw_cube(ax, (7, 5.5), 1, depth, [2, 3, 7, 10, 11], '6', **dotted)\n",
    "draw_cube(ax, (8, 5.5), 1, depth, [2, 3, 7, 10, 11], '9', **dotted)\n",
    "\n",
    "# third block\n",
    "draw_cube(ax, (12, 7.5), 1, depth, [1, 2, 3, 4, 5, 6, 9], '4', **solid)\n",
    "draw_cube(ax, (13, 7.5), 1, depth, [1, 2, 3, 6, 9], '8', **solid)\n",
    "draw_cube(ax, (14, 7.5), 1, depth, [1, 2, 3, 6, 7, 9, 10], '12', **solid)\n",
    "\n",
    "draw_cube(ax, (12, 6.5), 1, depth, [2, 3, 4], '7', **solid)\n",
    "draw_cube(ax, (13, 6.5), 1, depth, [2, 3], '11', **solid)\n",
    "draw_cube(ax, (14, 6.5), 1, depth, [2, 3, 7, 10], '15', **solid)\n",
    "\n",
    "draw_cube(ax, (12, 5.5), 1, depth, [2, 3, 4], '10', **solid)\n",
    "draw_cube(ax, (13, 5.5), 1, depth, [2, 3], '14', **solid)\n",
    "draw_cube(ax, (14, 5.5), 1, depth, [2, 3, 7, 10], '18', **solid)\n",
    "\n",
    "ax.text(5, 7.0, '+', size=12, ha='center', va='center')\n",
    "ax.text(10.5, 7.0, '=', size=12, ha='center', va='center');"
   ]
  },
  {
   "cell_type": "markdown",
   "id": "3d0e5a16",
   "metadata": {},
   "source": [
    "How about `b -> (3, 1)`?\n",
    "\n",
    "In this case, NumPy will automatically expand `b -> (3, 1)` to `b -> (3, 3)`.\n",
    "\n",
    "Element-wise addition will then result in a $ 3 \\times 3 $ matrix"
   ]
  },
  {
   "cell_type": "code",
   "execution_count": 64,
   "id": "ae239eb6",
   "metadata": {
    "execution": {
     "iopub.execute_input": "2024-04-07T15:39:17.805533Z",
     "iopub.status.busy": "2024-04-07T15:39:17.804989Z",
     "iopub.status.idle": "2024-04-07T15:39:17.810272Z",
     "shell.execute_reply": "2024-04-07T15:39:17.809785Z",
     "shell.execute_reply.started": "2024-04-07T15:39:17.805500Z"
    },
    "hide-output": false
   },
   "outputs": [
    {
     "data": {
      "text/plain": [
       "array([[ 4,  5,  6],\n",
       "       [10, 11, 12],\n",
       "       [16, 17, 18]])"
      ]
     },
     "execution_count": 64,
     "metadata": {},
     "output_type": "execute_result"
    }
   ],
   "source": [
    "b.shape = (3, 1)\n",
    "\n",
    "a + b"
   ]
  },
  {
   "cell_type": "markdown",
   "id": "a6100a87",
   "metadata": {},
   "source": [
    "Here is a visual representation of this broadcasting operation:"
   ]
  },
  {
   "cell_type": "code",
   "execution_count": 65,
   "id": "f373964d",
   "metadata": {
    "execution": {
     "iopub.execute_input": "2024-04-07T15:39:38.872909Z",
     "iopub.status.busy": "2024-04-07T15:39:38.872185Z",
     "iopub.status.idle": "2024-04-07T15:39:39.093889Z",
     "shell.execute_reply": "2024-04-07T15:39:39.093424Z",
     "shell.execute_reply.started": "2024-04-07T15:39:38.872870Z"
    },
    "hide-output": false
   },
   "outputs": [
    {
     "data": {
      "image/png": "[encoded data removed]",
      "text/plain": [
       "<Figure size 360x72 with 1 Axes>"
      ]
     },
     "metadata": {},
     "output_type": "display_data"
    }
   ],
   "source": [
    "fig = plt.figure(figsize=(5, 1), facecolor='w')\n",
    "ax = plt.axes([0, 0, 1, 1], xticks=[], yticks=[], frameon=False)\n",
    "\n",
    "# first block\n",
    "draw_cube(ax, (1, 7.5), 1, depth, [1, 2, 3, 4, 5, 6, 9], '1', **solid)\n",
    "draw_cube(ax, (2, 7.5), 1, depth, [1, 2, 3, 6, 9], '2', **solid)\n",
    "draw_cube(ax, (3, 7.5), 1, depth, [1, 2, 3, 6, 7, 9, 10], '3', **solid)\n",
    "\n",
    "draw_cube(ax, (1, 6.5), 1, depth, [2, 3, 4], '4', **solid)\n",
    "draw_cube(ax, (2, 6.5), 1, depth, [2, 3], '5', **solid)\n",
    "draw_cube(ax, (3, 6.5), 1, depth, [2, 3, 7, 10], '6', **solid)\n",
    "\n",
    "draw_cube(ax, (1, 5.5), 1, depth, [2, 3, 4], '7', **solid)\n",
    "draw_cube(ax, (2, 5.5), 1, depth, [2, 3], '8', **solid)\n",
    "draw_cube(ax, (3, 5.5), 1, depth, [2, 3, 7, 10], '9', **solid)\n",
    "\n",
    "# second block\n",
    "draw_cube(ax, (6, 7.5), 1, depth, [1, 2, 3, 4, 5, 6, 7, 9, 10], '3', **solid)\n",
    "draw_cube(ax, (7, 7.5), 1, depth, [1, 2, 3, 6, 7, 9, 10], '3', **dotted)\n",
    "draw_cube(ax, (8, 7.5), 1, depth, [1, 2, 3, 6, 7, 9, 10], '3', **dotted)\n",
    "\n",
    "draw_cube(ax, (6, 6.5), 1, depth, [2, 3, 4, 7, 10], '6', **solid)\n",
    "draw_cube(ax, (7, 6.5), 1, depth, [2, 3, 6, 7, 9, 10, 11], '6', **dotted)\n",
    "draw_cube(ax, (8, 6.5), 1, depth, [2, 3, 6, 7, 9, 10, 11], '6', **dotted)\n",
    "\n",
    "draw_cube(ax, (6, 5.5), 1, depth, [2, 3, 4, 7, 10], '9', **solid)\n",
    "draw_cube(ax, (7, 5.5), 1, depth, [2, 3, 7, 10, 11], '9', **dotted)\n",
    "draw_cube(ax, (8, 5.5), 1, depth, [2, 3, 7, 10, 11], '9', **dotted)\n",
    "\n",
    "# third block\n",
    "draw_cube(ax, (12, 7.5), 1, depth, [1, 2, 3, 4, 5, 6, 9], '4', **solid)\n",
    "draw_cube(ax, (13, 7.5), 1, depth, [1, 2, 3, 6, 9], '5', **solid)\n",
    "draw_cube(ax, (14, 7.5), 1, depth, [1, 2, 3, 6, 7, 9, 10], '6', **solid)\n",
    "\n",
    "draw_cube(ax, (12, 6.5), 1, depth, [2, 3, 4], '10', **solid)\n",
    "draw_cube(ax, (13, 6.5), 1, depth, [2, 3], '11', **solid)\n",
    "draw_cube(ax, (14, 6.5), 1, depth, [2, 3, 7, 10], '12', **solid)\n",
    "\n",
    "draw_cube(ax, (12, 5.5), 1, depth, [2, 3, 4], '16', **solid)\n",
    "draw_cube(ax, (13, 5.5), 1, depth, [2, 3], '17', **solid)\n",
    "draw_cube(ax, (14, 5.5), 1, depth, [2, 3, 7, 10], '18', **solid)\n",
    "\n",
    "ax.text(5, 7.0, '+', size=12, ha='center', va='center')\n",
    "ax.text(10.5, 7.0, '=', size=12, ha='center', va='center');"
   ]
  },
  {
   "cell_type": "markdown",
   "id": "6a4c01c1",
   "metadata": {},
   "source": [
    "The previous broadcasting operation is equivalent to the following `for` loop"
   ]
  },
  {
   "cell_type": "code",
   "execution_count": 66,
   "id": "f6b1bfa3",
   "metadata": {
    "execution": {
     "iopub.execute_input": "2024-04-07T15:39:50.503066Z",
     "iopub.status.busy": "2024-04-07T15:39:50.502403Z",
     "iopub.status.idle": "2024-04-07T15:39:50.509330Z",
     "shell.execute_reply": "2024-04-07T15:39:50.508760Z",
     "shell.execute_reply.started": "2024-04-07T15:39:50.503032Z"
    },
    "hide-output": false
   },
   "outputs": [
    {
     "data": {
      "text/plain": [
       "array([[ 4.,  5.,  6.],\n",
       "       [10., 11., 12.],\n",
       "       [16., 17., 18.]])"
      ]
     },
     "execution_count": 66,
     "metadata": {},
     "output_type": "execute_result"
    }
   ],
   "source": [
    "row, column = a.shape\n",
    "result = np.empty((3, 3))\n",
    "for i in range(row):\n",
    "    for j in range(column):\n",
    "        result[i, j] = a[i, j] + b[i]\n",
    "\n",
    "result"
   ]
  },
  {
   "cell_type": "markdown",
   "id": "c7d91755",
   "metadata": {},
   "source": [
    "In some cases, both operands will be expanded.\n",
    "\n",
    "When we have `a -> (3,)` and `b -> (3, 1)`, `a` will be expanded to `a -> (3, 3)`, and `b` will be expanded to `b -> (3, 3)`.\n",
    "\n",
    "In this case, element-wise addition will result in a $ 3 \\times 3 $ matrix"
   ]
  },
  {
   "cell_type": "code",
   "execution_count": 67,
   "id": "592e49ba",
   "metadata": {
    "execution": {
     "iopub.execute_input": "2024-04-07T15:39:56.806932Z",
     "iopub.status.busy": "2024-04-07T15:39:56.806297Z",
     "iopub.status.idle": "2024-04-07T15:39:56.811679Z",
     "shell.execute_reply": "2024-04-07T15:39:56.811190Z",
     "shell.execute_reply.started": "2024-04-07T15:39:56.806888Z"
    },
    "hide-output": false
   },
   "outputs": [
    {
     "data": {
      "text/plain": [
       "array([[ 5,  8, 11],\n",
       "       [ 6,  9, 12],\n",
       "       [ 7, 10, 13]])"
      ]
     },
     "execution_count": 67,
     "metadata": {},
     "output_type": "execute_result"
    }
   ],
   "source": [
    "a = np.array([3, 6, 9])\n",
    "b = np.array([2, 3, 4])\n",
    "b.shape = (3, 1)\n",
    "\n",
    "a + b"
   ]
  },
  {
   "cell_type": "markdown",
   "id": "49e56540",
   "metadata": {},
   "source": [
    "Here is a visual representation of this broadcasting operation:"
   ]
  },
  {
   "cell_type": "code",
   "execution_count": 68,
   "id": "f784d20d",
   "metadata": {
    "execution": {
     "iopub.execute_input": "2024-04-07T15:40:00.143389Z",
     "iopub.status.busy": "2024-04-07T15:40:00.142793Z",
     "iopub.status.idle": "2024-04-07T15:40:00.337973Z",
     "shell.execute_reply": "2024-04-07T15:40:00.337521Z",
     "shell.execute_reply.started": "2024-04-07T15:40:00.143358Z"
    },
    "hide-output": false
   },
   "outputs": [
    {
     "data": {
      "image/png": "[encoded data removed]",
      "text/plain": [
       "<Figure size 360x72 with 1 Axes>"
      ]
     },
     "metadata": {},
     "output_type": "display_data"
    }
   ],
   "source": [
    "# Draw a figure and axis with no boundary\n",
    "fig = plt.figure(figsize=(5, 1), facecolor='w')\n",
    "ax = plt.axes([0, 0, 1, 1], xticks=[], yticks=[], frameon=False)\n",
    "\n",
    "# first block\n",
    "draw_cube(ax, (1, 7.5), 1, depth, [1, 2, 3, 4, 5, 6, 9], '3', **solid)\n",
    "draw_cube(ax, (2, 7.5), 1, depth, [1, 2, 3, 6, 9], '6', **solid)\n",
    "draw_cube(ax, (3, 7.5), 1, depth, [1, 2, 3, 6, 7, 9, 10], '9', **solid)\n",
    "\n",
    "draw_cube(ax, (1, 6.5), 1, depth, range(2, 13), '3', **dotted)\n",
    "draw_cube(ax, (2, 6.5), 1, depth, [2, 3, 6, 7, 9, 10, 11], '6', **dotted)\n",
    "draw_cube(ax, (3, 6.5), 1, depth, [2, 3, 6, 7, 9, 10, 11], '9', **dotted)\n",
    "\n",
    "draw_cube(ax, (1, 5.5), 1, depth, [2, 3, 4, 7, 8, 10, 11, 12], '3', **dotted)\n",
    "draw_cube(ax, (2, 5.5), 1, depth, [2, 3, 7, 10, 11], '6', **dotted)\n",
    "draw_cube(ax, (3, 5.5), 1, depth, [2, 3, 7, 10, 11], '9', **dotted)\n",
    "\n",
    "# second block\n",
    "draw_cube(ax, (6, 7.5), 1, depth, [1, 2, 3, 4, 5, 6, 7, 9, 10], '2', **solid)\n",
    "draw_cube(ax, (7, 7.5), 1, depth, [1, 2, 3, 6, 7, 9, 10], '2', **dotted)\n",
    "draw_cube(ax, (8, 7.5), 1, depth, [1, 2, 3, 6, 7, 9, 10], '2', **dotted)\n",
    "\n",
    "draw_cube(ax, (6, 6.5), 1, depth, [2, 3, 4, 7, 10], '3', **solid)\n",
    "draw_cube(ax, (7, 6.5), 1, depth, [2, 3, 6, 7, 9, 10, 11], '3', **dotted)\n",
    "draw_cube(ax, (8, 6.5), 1, depth, [2, 3, 6, 7, 9, 10, 11], '3', **dotted)\n",
    "\n",
    "draw_cube(ax, (6, 5.5), 1, depth, [2, 3, 4, 7, 10], '4', **solid)\n",
    "draw_cube(ax, (7, 5.5), 1, depth, [2, 3, 7, 10, 11], '4', **dotted)\n",
    "draw_cube(ax, (8, 5.5), 1, depth, [2, 3, 7, 10, 11], '4', **dotted)\n",
    "\n",
    "# third block\n",
    "draw_cube(ax, (12, 7.5), 1, depth, [1, 2, 3, 4, 5, 6, 9], '5', **solid)\n",
    "draw_cube(ax, (13, 7.5), 1, depth, [1, 2, 3, 6, 9], '8', **solid)\n",
    "draw_cube(ax, (14, 7.5), 1, depth, [1, 2, 3, 6, 7, 9, 10], '11', **solid)\n",
    "\n",
    "draw_cube(ax, (12, 6.5), 1, depth, [2, 3, 4], '6', **solid)\n",
    "draw_cube(ax, (13, 6.5), 1, depth, [2, 3], '9', **solid)\n",
    "draw_cube(ax, (14, 6.5), 1, depth, [2, 3, 7, 10], '12', **solid)\n",
    "\n",
    "draw_cube(ax, (12, 5.5), 1, depth, [2, 3, 4], '7', **solid)\n",
    "draw_cube(ax, (13, 5.5), 1, depth, [2, 3], '10', **solid)\n",
    "draw_cube(ax, (14, 5.5), 1, depth, [2, 3, 7, 10], '13', **solid)\n",
    "\n",
    "ax.text(5, 7.0, '+', size=12, ha='center', va='center')\n",
    "ax.text(10.5, 7.0, '=', size=12, ha='center', va='center');"
   ]
  },
  {
   "cell_type": "markdown",
   "id": "ea11c8f4",
   "metadata": {},
   "source": [
    "While broadcasting is very useful, it can sometimes seem confusing.\n",
    "\n",
    "For example, let’s try adding `a -> (3, 2)` and `b -> (3,)`."
   ]
  },
  {
   "cell_type": "code",
   "execution_count": 69,
   "id": "27acc3f1",
   "metadata": {
    "execution": {
     "iopub.execute_input": "2024-04-07T15:40:04.294610Z",
     "iopub.status.busy": "2024-04-07T15:40:04.294200Z",
     "iopub.status.idle": "2024-04-07T15:40:04.703007Z",
     "shell.execute_reply": "2024-04-07T15:40:04.702350Z",
     "shell.execute_reply.started": "2024-04-07T15:40:04.294568Z"
    },
    "hide-output": false
   },
   "outputs": [
    {
     "ename": "ValueError",
     "evalue": "operands could not be broadcast together with shapes (3,2) (3,) ",
     "output_type": "error",
     "traceback": [
      "\u001b[0;31m---------------------------------------------------------------------------\u001b[0m",
      "\u001b[0;31mValueError\u001b[0m                                Traceback (most recent call last)",
      "Input \u001b[0;32mIn [69]\u001b[0m, in \u001b[0;36m<cell line: 7>\u001b[0;34m()\u001b[0m\n\u001b[1;32m      1\u001b[0m a \u001b[38;5;241m=\u001b[39m np\u001b[38;5;241m.\u001b[39marray(\n\u001b[1;32m      2\u001b[0m       [[\u001b[38;5;241m1\u001b[39m, \u001b[38;5;241m2\u001b[39m],\n\u001b[1;32m      3\u001b[0m        [\u001b[38;5;241m4\u001b[39m, \u001b[38;5;241m5\u001b[39m],\n\u001b[1;32m      4\u001b[0m        [\u001b[38;5;241m7\u001b[39m, \u001b[38;5;241m8\u001b[39m]])\n\u001b[1;32m      5\u001b[0m b \u001b[38;5;241m=\u001b[39m np\u001b[38;5;241m.\u001b[39marray([\u001b[38;5;241m3\u001b[39m, \u001b[38;5;241m6\u001b[39m, \u001b[38;5;241m9\u001b[39m])\n\u001b[0;32m----> 7\u001b[0m \u001b[43ma\u001b[49m\u001b[43m \u001b[49m\u001b[38;5;241;43m+\u001b[39;49m\u001b[43m \u001b[49m\u001b[43mb\u001b[49m\n",
      "\u001b[0;31mValueError\u001b[0m: operands could not be broadcast together with shapes (3,2) (3,) "
     ]
    }
   ],
   "source": [
    "a = np.array(\n",
    "      [[1, 2],\n",
    "       [4, 5],\n",
    "       [7, 8]])\n",
    "b = np.array([3, 6, 9])\n",
    "\n",
    "a + b"
   ]
  },
  {
   "cell_type": "markdown",
   "id": "6d86a69a",
   "metadata": {},
   "source": [
    "The `ValueError` tells us that operands could not be broadcast together.\n",
    "\n",
    "Here is a visual representation to show why this broadcasting cannot be executed:"
   ]
  },
  {
   "cell_type": "code",
   "execution_count": 70,
   "id": "4c78ffd6",
   "metadata": {
    "execution": {
     "iopub.execute_input": "2024-04-07T15:40:09.701554Z",
     "iopub.status.busy": "2024-04-07T15:40:09.700851Z",
     "iopub.status.idle": "2024-04-07T15:40:09.830515Z",
     "shell.execute_reply": "2024-04-07T15:40:09.830019Z",
     "shell.execute_reply.started": "2024-04-07T15:40:09.701526Z"
    },
    "hide-output": false
   },
   "outputs": [
    {
     "data": {
      "image/png": "[encoded data removed]",
      "text/plain": [
       "<Figure size 216x93.6 with 1 Axes>"
      ]
     },
     "metadata": {},
     "output_type": "display_data"
    }
   ],
   "source": [
    "# Draw a figure and axis with no boundary\n",
    "fig = plt.figure(figsize=(3, 1.3), facecolor='w')\n",
    "ax = plt.axes([0, 0, 1, 1], xticks=[], yticks=[], frameon=False)\n",
    "\n",
    "# first block\n",
    "draw_cube(ax, (1, 7.5), 1, depth, [1, 2, 3, 4, 5, 6, 9], '1', **solid)\n",
    "draw_cube(ax, (2, 7.5), 1, depth, [1, 2, 3, 6, 7, 9, 10], '2', **solid)\n",
    "\n",
    "draw_cube(ax, (1, 6.5), 1, depth, [2, 3, 4], '4', **solid)\n",
    "draw_cube(ax, (2, 6.5), 1, depth, [2, 3, 7, 10], '5', **solid)\n",
    "\n",
    "draw_cube(ax, (1, 5.5), 1, depth, [2, 3, 4], '7', **solid)\n",
    "draw_cube(ax, (2, 5.5), 1, depth, [2, 3, 7, 10], '8', **solid)\n",
    "\n",
    "# second block\n",
    "draw_cube(ax, (6, 7.5), 1, depth, [1, 2, 3, 4, 5, 6, 9], '3', **solid)\n",
    "draw_cube(ax, (7, 7.5), 1, depth, [1, 2, 3, 6, 9], '6', **solid)\n",
    "draw_cube(ax, (8, 7.5), 1, depth, [1, 2, 3, 6, 7, 9, 10], '9', **solid)\n",
    "\n",
    "draw_cube(ax, (6, 6.5), 1, depth, range(2, 13), '3', **dotted)\n",
    "draw_cube(ax, (7, 6.5), 1, depth, [2, 3, 6, 7, 9, 10, 11], '6', **dotted)\n",
    "draw_cube(ax, (8, 6.5), 1, depth, [2, 3, 6, 7, 9, 10, 11], '9', **dotted)\n",
    "\n",
    "draw_cube(ax, (6, 5.5), 1, depth, [2, 3, 4, 7, 8, 10, 11, 12], '3', **dotted)\n",
    "draw_cube(ax, (7, 5.5), 1, depth, [2, 3, 7, 10, 11], '6', **dotted)\n",
    "draw_cube(ax, (8, 5.5), 1, depth, [2, 3, 7, 10, 11], '9', **dotted)\n",
    "\n",
    "\n",
    "ax.text(4.5, 7.0, '+', size=12, ha='center', va='center')\n",
    "ax.text(10, 7.0, '=', size=12, ha='center', va='center')\n",
    "ax.text(11, 7.0, '?', size=16, ha='center', va='center');"
   ]
  },
  {
   "cell_type": "markdown",
   "id": "988892ee",
   "metadata": {},
   "source": [
    "We can see that NumPy cannot expand the arrays to the same size.\n",
    "\n",
    "It is because, when `b` is expanded from `b -> (3,)` to `b -> (3, 3)`, NumPy cannot match `b` with `a -> (3, 2)`.\n",
    "\n",
    "Things get even trickier when we move to higher dimensions.\n",
    "\n",
    "To help us, we can use the following list of rules:\n",
    "\n",
    "- *Step 1:* When the dimensions of two arrays do not match, NumPy will expand the one with fewer dimensions by adding dimension(s) on the left of the existing dimensions.  \n",
    "  - For example, if `a -> (3, 3)` and `b -> (3,)`, then broadcasting will add a dimension to the left so that `b -> (1, 3)`;  \n",
    "  - If `a -> (2, 2, 2)` and `b -> (2, 2)`, then broadcasting will add a dimension to the left so that `b -> (1, 2, 2)`;  \n",
    "  - If `a -> (3, 2, 2)` and `b -> (2,)`, then broadcasting will add two dimensions to the left so that `b -> (1, 1, 2)` (you can also see this process as going through *Step 1* twice).  \n",
    "- *Step 2:* When the two arrays have the same dimension but different shapes, NumPy will try to expand dimensions where the shape index is 1.  \n",
    "  - For example, if `a -> (1, 3)` and `b -> (3, 1)`, then broadcasting will expand dimensions with shape 1 in both `a` and `b` so that `a -> (3, 3)` and `b -> (3, 3)`;  \n",
    "  - If `a -> (2, 2, 2)` and  `b -> (1, 2, 2)`, then broadcasting will expand the first dimension of `b` so that `b -> (2, 2, 2)`;  \n",
    "  - If `a -> (3, 2, 2)` and `b -> (1, 1, 2)`, then broadcasting will expand `b` on all dimensions with shape 1 so that `b -> (3, 2, 2)`.  \n",
    "\n",
    "\n",
    "Here are code examples for broadcasting higher dimensional arrays"
   ]
  },
  {
   "cell_type": "code",
   "execution_count": 71,
   "id": "0f782867",
   "metadata": {
    "execution": {
     "iopub.execute_input": "2024-04-07T15:40:15.639215Z",
     "iopub.status.busy": "2024-04-07T15:40:15.638506Z",
     "iopub.status.idle": "2024-04-07T15:40:15.645193Z",
     "shell.execute_reply": "2024-04-07T15:40:15.644751Z",
     "shell.execute_reply.started": "2024-04-07T15:40:15.639184Z"
    },
    "hide-output": false
   },
   "outputs": [
    {
     "name": "stdout",
     "output_type": "stream",
     "text": [
      "the shape of array a is (2, 2, 2)\n",
      "the shape of array b is (2, 2)\n"
     ]
    },
    {
     "data": {
      "text/plain": [
       "array([[[ 2,  9],\n",
       "        [ 9,  4]],\n",
       "\n",
       "       [[ 3, 10],\n",
       "        [10,  5]]])"
      ]
     },
     "execution_count": 71,
     "metadata": {},
     "output_type": "execute_result"
    }
   ],
   "source": [
    "# a -> (2, 2, 2) and  b -> (1, 2, 2)\n",
    "\n",
    "a = np.array(\n",
    "    [[[1, 2], \n",
    "      [2, 3]], \n",
    "\n",
    "     [[2, 3], \n",
    "      [3, 4]]])\n",
    "print(f'the shape of array a is {a.shape}')\n",
    "\n",
    "b = np.array(\n",
    "    [[1,7],\n",
    "     [7,1]])\n",
    "print(f'the shape of array b is {b.shape}')\n",
    "\n",
    "a + b"
   ]
  },
  {
   "cell_type": "code",
   "execution_count": 72,
   "id": "dbf2fcc4",
   "metadata": {
    "execution": {
     "iopub.execute_input": "2024-04-07T15:40:16.743558Z",
     "iopub.status.busy": "2024-04-07T15:40:16.742881Z",
     "iopub.status.idle": "2024-04-07T15:40:16.749921Z",
     "shell.execute_reply": "2024-04-07T15:40:16.749483Z",
     "shell.execute_reply.started": "2024-04-07T15:40:16.743527Z"
    },
    "hide-output": false
   },
   "outputs": [
    {
     "name": "stdout",
     "output_type": "stream",
     "text": [
      "the shape of array a is (3, 2, 2)\n",
      "the shape of array b is (2,)\n"
     ]
    },
    {
     "data": {
      "text/plain": [
       "array([[[ 4,  8],\n",
       "        [ 6, 10]],\n",
       "\n",
       "       [[ 7, 11],\n",
       "        [ 9, 13]],\n",
       "\n",
       "       [[10, 14],\n",
       "        [12, 16]]])"
      ]
     },
     "execution_count": 72,
     "metadata": {},
     "output_type": "execute_result"
    }
   ],
   "source": [
    "# a -> (3, 2, 2) and b -> (2,)\n",
    "\n",
    "a = np.array(\n",
    "    [[[1, 2], \n",
    "      [3, 4]],\n",
    "\n",
    "     [[4, 5], \n",
    "      [6, 7]],\n",
    "\n",
    "     [[7, 8], \n",
    "      [9, 10]]])\n",
    "print(f'the shape of array a is {a.shape}')\n",
    "\n",
    "b = np.array([3, 6])\n",
    "print(f'the shape of array b is {b.shape}')\n",
    "\n",
    "a + b"
   ]
  },
  {
   "cell_type": "markdown",
   "id": "97950007",
   "metadata": {},
   "source": [
    "- *Step 3:* After Step 1 and 2, if the two arrays still do not match, a `ValueError` will be raised. For example, suppose `a -> (2, 2, 3)` and `b -> (2, 2)`  \n",
    "  - By *Step 1*, `b` will be expanded to `b -> (1, 2, 2)`;  \n",
    "  - By *Step 2*, `b` will be expanded to `b -> (2, 2, 2)`;  \n",
    "  - We can see that they do not match each other after the first two steps. Thus, a `ValueError` will be raised  "
   ]
  },
  {
   "cell_type": "code",
   "execution_count": 73,
   "id": "63c59651",
   "metadata": {
    "execution": {
     "iopub.execute_input": "2024-04-07T15:40:18.078979Z",
     "iopub.status.busy": "2024-04-07T15:40:18.078422Z",
     "iopub.status.idle": "2024-04-07T15:40:18.095808Z",
     "shell.execute_reply": "2024-04-07T15:40:18.095229Z",
     "shell.execute_reply.started": "2024-04-07T15:40:18.078948Z"
    },
    "hide-output": false
   },
   "outputs": [
    {
     "name": "stdout",
     "output_type": "stream",
     "text": [
      "the shape of array a is (2, 2, 3)\n",
      "the shape of array b is (2, 2)\n"
     ]
    },
    {
     "ename": "ValueError",
     "evalue": "operands could not be broadcast together with shapes (2,2,3) (2,2) ",
     "output_type": "error",
     "traceback": [
      "\u001b[0;31m---------------------------------------------------------------------------\u001b[0m",
      "\u001b[0;31mValueError\u001b[0m                                Traceback (most recent call last)",
      "Input \u001b[0;32mIn [73]\u001b[0m, in \u001b[0;36m<cell line: 14>\u001b[0;34m()\u001b[0m\n\u001b[1;32m      9\u001b[0m b \u001b[38;5;241m=\u001b[39m np\u001b[38;5;241m.\u001b[39marray(\n\u001b[1;32m     10\u001b[0m     [[\u001b[38;5;241m1\u001b[39m,\u001b[38;5;241m7\u001b[39m], \n\u001b[1;32m     11\u001b[0m      [\u001b[38;5;241m7\u001b[39m,\u001b[38;5;241m1\u001b[39m]])\n\u001b[1;32m     12\u001b[0m \u001b[38;5;28mprint\u001b[39m(\u001b[38;5;124mf\u001b[39m\u001b[38;5;124m'\u001b[39m\u001b[38;5;124mthe shape of array b is \u001b[39m\u001b[38;5;132;01m{\u001b[39;00mb\u001b[38;5;241m.\u001b[39mshape\u001b[38;5;132;01m}\u001b[39;00m\u001b[38;5;124m'\u001b[39m)\n\u001b[0;32m---> 14\u001b[0m \u001b[43ma\u001b[49m\u001b[43m \u001b[49m\u001b[38;5;241;43m+\u001b[39;49m\u001b[43m \u001b[49m\u001b[43mb\u001b[49m\n",
      "\u001b[0;31mValueError\u001b[0m: operands could not be broadcast together with shapes (2,2,3) (2,2) "
     ]
    }
   ],
   "source": [
    "a = np.array(\n",
    "    [[[1, 2, 3], \n",
    "      [2, 3, 4]], \n",
    "     \n",
    "     [[2, 3, 4], \n",
    "      [3, 4, 5]]])\n",
    "print(f'the shape of array a is {a.shape}')\n",
    "\n",
    "b = np.array(\n",
    "    [[1,7], \n",
    "     [7,1]])\n",
    "print(f'the shape of array b is {b.shape}')\n",
    "\n",
    "a + b"
   ]
  },
  {
   "cell_type": "markdown",
   "id": "9bf05026",
   "metadata": {},
   "source": [
    "## Mutability and Copying Arrays\n",
    "\n",
    "NumPy arrays are mutable data types, like Python lists.\n",
    "\n",
    "In other words, their contents can be altered (mutated) in memory after initialization.\n",
    "\n",
    "We already saw examples above.\n",
    "\n",
    "Here’s another example:"
   ]
  },
  {
   "cell_type": "code",
   "execution_count": 74,
   "id": "31708b1a",
   "metadata": {
    "execution": {
     "iopub.execute_input": "2024-04-07T15:40:39.110690Z",
     "iopub.status.busy": "2024-04-07T15:40:39.110331Z",
     "iopub.status.idle": "2024-04-07T15:40:39.115058Z",
     "shell.execute_reply": "2024-04-07T15:40:39.114533Z",
     "shell.execute_reply.started": "2024-04-07T15:40:39.110658Z"
    },
    "hide-output": false
   },
   "outputs": [
    {
     "data": {
      "text/plain": [
       "array([42, 44])"
      ]
     },
     "execution_count": 74,
     "metadata": {},
     "output_type": "execute_result"
    }
   ],
   "source": [
    "a = np.array([42, 44])\n",
    "a"
   ]
  },
  {
   "cell_type": "code",
   "execution_count": 75,
   "id": "b6f092bb",
   "metadata": {
    "execution": {
     "iopub.execute_input": "2024-04-07T15:40:40.156787Z",
     "iopub.status.busy": "2024-04-07T15:40:40.156140Z",
     "iopub.status.idle": "2024-04-07T15:40:40.160716Z",
     "shell.execute_reply": "2024-04-07T15:40:40.160205Z",
     "shell.execute_reply.started": "2024-04-07T15:40:40.156757Z"
    },
    "hide-output": false
   },
   "outputs": [
    {
     "data": {
      "text/plain": [
       "array([42,  0])"
      ]
     },
     "execution_count": 75,
     "metadata": {},
     "output_type": "execute_result"
    }
   ],
   "source": [
    "a[-1] = 0  # Change last element to 0\n",
    "a"
   ]
  },
  {
   "cell_type": "markdown",
   "id": "6759011e",
   "metadata": {},
   "source": [
    "Mutability leads to the following behavior (which can be shocking to MATLAB programmers…)"
   ]
  },
  {
   "cell_type": "code",
   "execution_count": 76,
   "id": "671b53c7",
   "metadata": {
    "execution": {
     "iopub.execute_input": "2024-04-07T15:40:43.654550Z",
     "iopub.status.busy": "2024-04-07T15:40:43.654108Z",
     "iopub.status.idle": "2024-04-07T15:40:43.659537Z",
     "shell.execute_reply": "2024-04-07T15:40:43.658970Z",
     "shell.execute_reply.started": "2024-04-07T15:40:43.654519Z"
    },
    "hide-output": false
   },
   "outputs": [
    {
     "data": {
      "text/plain": [
       "array([-0.56117622,  0.04027311,  0.00701427])"
      ]
     },
     "execution_count": 76,
     "metadata": {},
     "output_type": "execute_result"
    }
   ],
   "source": [
    "a = np.random.randn(3)\n",
    "a"
   ]
  },
  {
   "cell_type": "code",
   "execution_count": 77,
   "id": "7d2759eb",
   "metadata": {
    "execution": {
     "iopub.execute_input": "2024-04-07T15:40:45.548798Z",
     "iopub.status.busy": "2024-04-07T15:40:45.548284Z",
     "iopub.status.idle": "2024-04-07T15:40:45.553291Z",
     "shell.execute_reply": "2024-04-07T15:40:45.552751Z",
     "shell.execute_reply.started": "2024-04-07T15:40:45.548765Z"
    },
    "hide-output": false
   },
   "outputs": [
    {
     "data": {
      "text/plain": [
       "array([0.        , 0.04027311, 0.00701427])"
      ]
     },
     "execution_count": 77,
     "metadata": {},
     "output_type": "execute_result"
    }
   ],
   "source": [
    "b = a\n",
    "b[0] = 0.0\n",
    "a"
   ]
  },
  {
   "cell_type": "markdown",
   "id": "f014fe06",
   "metadata": {},
   "source": [
    "What’s happened is that we have changed `a` by changing `b`.\n",
    "\n",
    "The name `b` is bound to `a` and becomes just another reference to the\n",
    "array (the Python assignment model is described in more detail [later in the course](https://python-programming.quantecon.org/python_advanced_features.html)).\n",
    "\n",
    "Hence, it has equal rights to make changes to that array.\n",
    "\n",
    "This is in fact the most sensible default behavior!\n",
    "\n",
    "It means that we pass around only pointers to data, rather than making copies.\n",
    "\n",
    "Making copies is expensive in terms of both speed and memory."
   ]
  },
  {
   "cell_type": "markdown",
   "id": "d13b28d0",
   "metadata": {},
   "source": [
    "### Making Copies\n",
    "\n",
    "It is of course possible to make `b` an independent copy of `a` when required.\n",
    "\n",
    "This can be done using `np.copy`"
   ]
  },
  {
   "cell_type": "code",
   "execution_count": 78,
   "id": "b1efd108",
   "metadata": {
    "execution": {
     "iopub.execute_input": "2024-04-07T15:41:30.830388Z",
     "iopub.status.busy": "2024-04-07T15:41:30.829854Z",
     "iopub.status.idle": "2024-04-07T15:41:30.834784Z",
     "shell.execute_reply": "2024-04-07T15:41:30.834328Z",
     "shell.execute_reply.started": "2024-04-07T15:41:30.830357Z"
    },
    "hide-output": false
   },
   "outputs": [
    {
     "data": {
      "text/plain": [
       "array([-1.59802899,  1.61445328, -1.65688412])"
      ]
     },
     "execution_count": 78,
     "metadata": {},
     "output_type": "execute_result"
    }
   ],
   "source": [
    "a = np.random.randn(3)\n",
    "a"
   ]
  },
  {
   "cell_type": "code",
   "execution_count": 79,
   "id": "13bb5462",
   "metadata": {
    "execution": {
     "iopub.execute_input": "2024-04-07T15:41:31.591370Z",
     "iopub.status.busy": "2024-04-07T15:41:31.590612Z",
     "iopub.status.idle": "2024-04-07T15:41:31.596352Z",
     "shell.execute_reply": "2024-04-07T15:41:31.595753Z",
     "shell.execute_reply.started": "2024-04-07T15:41:31.591328Z"
    },
    "hide-output": false
   },
   "outputs": [
    {
     "data": {
      "text/plain": [
       "array([-1.59802899,  1.61445328, -1.65688412])"
      ]
     },
     "execution_count": 79,
     "metadata": {},
     "output_type": "execute_result"
    }
   ],
   "source": [
    "b = np.copy(a)\n",
    "b"
   ]
  },
  {
   "cell_type": "markdown",
   "id": "783cdf03",
   "metadata": {},
   "source": [
    "Now `b` is an independent copy (called a *deep copy*)"
   ]
  },
  {
   "cell_type": "code",
   "execution_count": 80,
   "id": "bf7e88db",
   "metadata": {
    "execution": {
     "iopub.execute_input": "2024-04-07T15:41:34.103073Z",
     "iopub.status.busy": "2024-04-07T15:41:34.102305Z",
     "iopub.status.idle": "2024-04-07T15:41:34.108488Z",
     "shell.execute_reply": "2024-04-07T15:41:34.107517Z",
     "shell.execute_reply.started": "2024-04-07T15:41:34.103029Z"
    },
    "hide-output": false
   },
   "outputs": [
    {
     "data": {
      "text/plain": [
       "array([1., 1., 1.])"
      ]
     },
     "execution_count": 80,
     "metadata": {},
     "output_type": "execute_result"
    }
   ],
   "source": [
    "b[:] = 1\n",
    "b"
   ]
  },
  {
   "cell_type": "code",
   "execution_count": 81,
   "id": "4df94a54",
   "metadata": {
    "execution": {
     "iopub.execute_input": "2024-04-07T15:41:35.191628Z",
     "iopub.status.busy": "2024-04-07T15:41:35.191139Z",
     "iopub.status.idle": "2024-04-07T15:41:35.195955Z",
     "shell.execute_reply": "2024-04-07T15:41:35.195429Z",
     "shell.execute_reply.started": "2024-04-07T15:41:35.191595Z"
    },
    "hide-output": false
   },
   "outputs": [
    {
     "data": {
      "text/plain": [
       "array([-1.59802899,  1.61445328, -1.65688412])"
      ]
     },
     "execution_count": 81,
     "metadata": {},
     "output_type": "execute_result"
    }
   ],
   "source": [
    "a"
   ]
  },
  {
   "cell_type": "markdown",
   "id": "b89c566c",
   "metadata": {},
   "source": [
    "Note that the change to `b` has not affected `a`."
   ]
  },
  {
   "cell_type": "markdown",
   "id": "7fa4478c",
   "metadata": {},
   "source": [
    "## Additional Functionality\n",
    "\n",
    "Let’s look at some other useful things we can do with NumPy."
   ]
  },
  {
   "cell_type": "markdown",
   "id": "8969ba64",
   "metadata": {},
   "source": [
    "### Vectorized Functions\n",
    "\n",
    "\n",
    "<a id='index-11'></a>\n",
    "NumPy provides versions of the standard functions `log`, `exp`, `sin`, etc. that act *element-wise* on arrays"
   ]
  },
  {
   "cell_type": "code",
   "execution_count": 82,
   "id": "4428b9ce",
   "metadata": {
    "execution": {
     "iopub.execute_input": "2024-04-07T15:41:52.443499Z",
     "iopub.status.busy": "2024-04-07T15:41:52.442813Z",
     "iopub.status.idle": "2024-04-07T15:41:52.448140Z",
     "shell.execute_reply": "2024-04-07T15:41:52.447612Z",
     "shell.execute_reply.started": "2024-04-07T15:41:52.443465Z"
    },
    "hide-output": false
   },
   "outputs": [
    {
     "data": {
      "text/plain": [
       "array([0.84147098, 0.90929743, 0.14112001])"
      ]
     },
     "execution_count": 82,
     "metadata": {},
     "output_type": "execute_result"
    }
   ],
   "source": [
    "z = np.array([1, 2, 3])\n",
    "np.sin(z)"
   ]
  },
  {
   "cell_type": "markdown",
   "id": "3f732852",
   "metadata": {},
   "source": [
    "This eliminates the need for explicit element-by-element loops such as"
   ]
  },
  {
   "cell_type": "code",
   "execution_count": 83,
   "id": "6bb18972",
   "metadata": {
    "execution": {
     "iopub.execute_input": "2024-04-07T15:42:01.302871Z",
     "iopub.status.busy": "2024-04-07T15:42:01.302307Z",
     "iopub.status.idle": "2024-04-07T15:42:01.306207Z",
     "shell.execute_reply": "2024-04-07T15:42:01.305733Z",
     "shell.execute_reply.started": "2024-04-07T15:42:01.302837Z"
    },
    "hide-output": false
   },
   "outputs": [],
   "source": [
    "n = len(z)\n",
    "y = np.empty(n)\n",
    "for i in range(n):\n",
    "    y[i] = np.sin(z[i])"
   ]
  },
  {
   "cell_type": "markdown",
   "id": "2378d8b7",
   "metadata": {},
   "source": [
    "Because they act element-wise on arrays, these functions are called *vectorized functions*.\n",
    "\n",
    "In NumPy-speak, they are also called *ufuncs*, which stands for “universal functions”.\n",
    "\n",
    "As we saw above, the usual arithmetic operations (`+`, `*`, etc.) also\n",
    "work element-wise, and combining these with the ufuncs gives a very large set of fast element-wise functions."
   ]
  },
  {
   "cell_type": "code",
   "execution_count": 84,
   "id": "2efc4e71",
   "metadata": {
    "execution": {
     "iopub.execute_input": "2024-04-07T15:42:16.383162Z",
     "iopub.status.busy": "2024-04-07T15:42:16.382543Z",
     "iopub.status.idle": "2024-04-07T15:42:16.387253Z",
     "shell.execute_reply": "2024-04-07T15:42:16.386812Z",
     "shell.execute_reply.started": "2024-04-07T15:42:16.383128Z"
    },
    "hide-output": false
   },
   "outputs": [
    {
     "data": {
      "text/plain": [
       "array([1, 2, 3])"
      ]
     },
     "execution_count": 84,
     "metadata": {},
     "output_type": "execute_result"
    }
   ],
   "source": [
    "z"
   ]
  },
  {
   "cell_type": "code",
   "execution_count": 85,
   "id": "04b17b2e",
   "metadata": {
    "execution": {
     "iopub.execute_input": "2024-04-07T15:42:18.118721Z",
     "iopub.status.busy": "2024-04-07T15:42:18.118288Z",
     "iopub.status.idle": "2024-04-07T15:42:18.123424Z",
     "shell.execute_reply": "2024-04-07T15:42:18.122946Z",
     "shell.execute_reply.started": "2024-04-07T15:42:18.118693Z"
    },
    "hide-output": false
   },
   "outputs": [
    {
     "data": {
      "text/plain": [
       "array([0.24197072, 0.05399097, 0.00443185])"
      ]
     },
     "execution_count": 85,
     "metadata": {},
     "output_type": "execute_result"
    }
   ],
   "source": [
    "(1 / np.sqrt(2 * np.pi)) * np.exp(- 0.5 * z**2)"
   ]
  },
  {
   "cell_type": "markdown",
   "id": "0382398a",
   "metadata": {},
   "source": [
    "Not all user-defined functions will act element-wise.\n",
    "\n",
    "For example, passing the function `f` defined below a NumPy array causes a `ValueError`"
   ]
  },
  {
   "cell_type": "code",
   "execution_count": 86,
   "id": "6f31a8b3",
   "metadata": {
    "execution": {
     "iopub.execute_input": "2024-04-07T15:42:29.008534Z",
     "iopub.status.busy": "2024-04-07T15:42:29.008149Z",
     "iopub.status.idle": "2024-04-07T15:42:29.011484Z",
     "shell.execute_reply": "2024-04-07T15:42:29.011031Z",
     "shell.execute_reply.started": "2024-04-07T15:42:29.008508Z"
    },
    "hide-output": false
   },
   "outputs": [],
   "source": [
    "def f(x):\n",
    "    return 1 if x > 0 else 0"
   ]
  },
  {
   "cell_type": "markdown",
   "id": "862c7222",
   "metadata": {},
   "source": [
    "The NumPy function `np.where` provides a vectorized alternative:"
   ]
  },
  {
   "cell_type": "code",
   "execution_count": 87,
   "id": "bdc75ab2",
   "metadata": {
    "execution": {
     "iopub.execute_input": "2024-04-07T15:42:32.910700Z",
     "iopub.status.busy": "2024-04-07T15:42:32.910353Z",
     "iopub.status.idle": "2024-04-07T15:42:32.915018Z",
     "shell.execute_reply": "2024-04-07T15:42:32.914546Z",
     "shell.execute_reply.started": "2024-04-07T15:42:32.910658Z"
    },
    "hide-output": false
   },
   "outputs": [
    {
     "data": {
      "text/plain": [
       "array([-0.00669456, -0.02495977,  1.88925615, -0.4713217 ])"
      ]
     },
     "execution_count": 87,
     "metadata": {},
     "output_type": "execute_result"
    }
   ],
   "source": [
    "x = np.random.randn(4)\n",
    "x"
   ]
  },
  {
   "cell_type": "code",
   "execution_count": 88,
   "id": "f2893837",
   "metadata": {
    "execution": {
     "iopub.execute_input": "2024-04-07T15:42:38.053652Z",
     "iopub.status.busy": "2024-04-07T15:42:38.053244Z",
     "iopub.status.idle": "2024-04-07T15:42:38.057642Z",
     "shell.execute_reply": "2024-04-07T15:42:38.057217Z",
     "shell.execute_reply.started": "2024-04-07T15:42:38.053623Z"
    },
    "hide-output": false
   },
   "outputs": [
    {
     "data": {
      "text/plain": [
       "array([0, 0, 1, 0])"
      ]
     },
     "execution_count": 88,
     "metadata": {},
     "output_type": "execute_result"
    }
   ],
   "source": [
    "np.where(x > 0, 1, 0)  # Insert 1 if x > 0 true, otherwise 0"
   ]
  },
  {
   "cell_type": "markdown",
   "id": "c2120e4b",
   "metadata": {},
   "source": [
    "You can also use `np.vectorize` to vectorize a given function"
   ]
  },
  {
   "cell_type": "code",
   "execution_count": 89,
   "id": "d8a15eb5",
   "metadata": {
    "execution": {
     "iopub.execute_input": "2024-04-07T15:42:39.672972Z",
     "iopub.status.busy": "2024-04-07T15:42:39.672456Z",
     "iopub.status.idle": "2024-04-07T15:42:39.676957Z",
     "shell.execute_reply": "2024-04-07T15:42:39.676522Z",
     "shell.execute_reply.started": "2024-04-07T15:42:39.672941Z"
    },
    "hide-output": false
   },
   "outputs": [
    {
     "data": {
      "text/plain": [
       "array([0, 0, 1, 0])"
      ]
     },
     "execution_count": 89,
     "metadata": {},
     "output_type": "execute_result"
    }
   ],
   "source": [
    "f = np.vectorize(f)\n",
    "f(x)                # Passing the same vector x as in the previous example"
   ]
  },
  {
   "cell_type": "markdown",
   "id": "ca4e6252",
   "metadata": {},
   "source": [
    "However, this approach doesn’t always obtain the same speed as a more carefully crafted vectorized function."
   ]
  },
  {
   "cell_type": "markdown",
   "id": "0e9a96a6",
   "metadata": {},
   "source": [
    "### Comparisons\n",
    "\n",
    "\n",
    "<a id='index-12'></a>\n",
    "As a rule, comparisons on arrays are done element-wise"
   ]
  },
  {
   "cell_type": "code",
   "execution_count": 90,
   "id": "86eab86e",
   "metadata": {
    "execution": {
     "iopub.execute_input": "2024-04-07T15:42:46.822173Z",
     "iopub.status.busy": "2024-04-07T15:42:46.821619Z",
     "iopub.status.idle": "2024-04-07T15:42:46.826767Z",
     "shell.execute_reply": "2024-04-07T15:42:46.826203Z",
     "shell.execute_reply.started": "2024-04-07T15:42:46.822140Z"
    },
    "hide-output": false
   },
   "outputs": [
    {
     "data": {
      "text/plain": [
       "array([ True,  True])"
      ]
     },
     "execution_count": 90,
     "metadata": {},
     "output_type": "execute_result"
    }
   ],
   "source": [
    "z = np.array([2, 3])\n",
    "y = np.array([2, 3])\n",
    "z == y"
   ]
  },
  {
   "cell_type": "code",
   "execution_count": 91,
   "id": "418d90dc",
   "metadata": {
    "execution": {
     "iopub.execute_input": "2024-04-07T15:42:47.574875Z",
     "iopub.status.busy": "2024-04-07T15:42:47.574250Z",
     "iopub.status.idle": "2024-04-07T15:42:47.578556Z",
     "shell.execute_reply": "2024-04-07T15:42:47.578113Z",
     "shell.execute_reply.started": "2024-04-07T15:42:47.574848Z"
    },
    "hide-output": false
   },
   "outputs": [
    {
     "data": {
      "text/plain": [
       "array([False,  True])"
      ]
     },
     "execution_count": 91,
     "metadata": {},
     "output_type": "execute_result"
    }
   ],
   "source": [
    "y[0] = 5\n",
    "z == y"
   ]
  },
  {
   "cell_type": "code",
   "execution_count": 92,
   "id": "4744e136",
   "metadata": {
    "execution": {
     "iopub.execute_input": "2024-04-07T15:42:47.980920Z",
     "iopub.status.busy": "2024-04-07T15:42:47.980356Z",
     "iopub.status.idle": "2024-04-07T15:42:47.985024Z",
     "shell.execute_reply": "2024-04-07T15:42:47.984499Z",
     "shell.execute_reply.started": "2024-04-07T15:42:47.980886Z"
    },
    "hide-output": false
   },
   "outputs": [
    {
     "data": {
      "text/plain": [
       "array([ True, False])"
      ]
     },
     "execution_count": 92,
     "metadata": {},
     "output_type": "execute_result"
    }
   ],
   "source": [
    "z != y"
   ]
  },
  {
   "cell_type": "markdown",
   "id": "80fc3dad",
   "metadata": {},
   "source": [
    "The situation is similar for `>`, `<`, `>=` and `<=`.\n",
    "\n",
    "We can also do comparisons against scalars"
   ]
  },
  {
   "cell_type": "code",
   "execution_count": 93,
   "id": "941e5237",
   "metadata": {
    "execution": {
     "iopub.execute_input": "2024-04-07T15:42:49.048969Z",
     "iopub.status.busy": "2024-04-07T15:42:49.048510Z",
     "iopub.status.idle": "2024-04-07T15:42:49.053309Z",
     "shell.execute_reply": "2024-04-07T15:42:49.052759Z",
     "shell.execute_reply.started": "2024-04-07T15:42:49.048941Z"
    },
    "hide-output": false
   },
   "outputs": [
    {
     "data": {
      "text/plain": [
       "array([ 0. ,  2.5,  5. ,  7.5, 10. ])"
      ]
     },
     "execution_count": 93,
     "metadata": {},
     "output_type": "execute_result"
    }
   ],
   "source": [
    "z = np.linspace(0, 10, 5)\n",
    "z"
   ]
  },
  {
   "cell_type": "code",
   "execution_count": 94,
   "id": "b1055a24",
   "metadata": {
    "execution": {
     "iopub.execute_input": "2024-04-07T15:42:49.823183Z",
     "iopub.status.busy": "2024-04-07T15:42:49.822503Z",
     "iopub.status.idle": "2024-04-07T15:42:49.827220Z",
     "shell.execute_reply": "2024-04-07T15:42:49.826632Z",
     "shell.execute_reply.started": "2024-04-07T15:42:49.823152Z"
    },
    "hide-output": false
   },
   "outputs": [
    {
     "data": {
      "text/plain": [
       "array([False, False,  True,  True,  True])"
      ]
     },
     "execution_count": 94,
     "metadata": {},
     "output_type": "execute_result"
    }
   ],
   "source": [
    "z > 3"
   ]
  },
  {
   "cell_type": "markdown",
   "id": "8c5b391d",
   "metadata": {},
   "source": [
    "This is particularly useful for *conditional extraction*"
   ]
  },
  {
   "cell_type": "code",
   "execution_count": 95,
   "id": "d4ccf655",
   "metadata": {
    "execution": {
     "iopub.execute_input": "2024-04-07T15:42:50.278767Z",
     "iopub.status.busy": "2024-04-07T15:42:50.278220Z",
     "iopub.status.idle": "2024-04-07T15:42:50.282779Z",
     "shell.execute_reply": "2024-04-07T15:42:50.282359Z",
     "shell.execute_reply.started": "2024-04-07T15:42:50.278734Z"
    },
    "hide-output": false
   },
   "outputs": [
    {
     "data": {
      "text/plain": [
       "array([False, False,  True,  True,  True])"
      ]
     },
     "execution_count": 95,
     "metadata": {},
     "output_type": "execute_result"
    }
   ],
   "source": [
    "b = z > 3\n",
    "b"
   ]
  },
  {
   "cell_type": "code",
   "execution_count": 96,
   "id": "ad784b68",
   "metadata": {
    "execution": {
     "iopub.execute_input": "2024-04-07T15:42:50.622696Z",
     "iopub.status.busy": "2024-04-07T15:42:50.622243Z",
     "iopub.status.idle": "2024-04-07T15:42:50.626923Z",
     "shell.execute_reply": "2024-04-07T15:42:50.626429Z",
     "shell.execute_reply.started": "2024-04-07T15:42:50.622659Z"
    },
    "hide-output": false
   },
   "outputs": [
    {
     "data": {
      "text/plain": [
       "array([ 5. ,  7.5, 10. ])"
      ]
     },
     "execution_count": 96,
     "metadata": {},
     "output_type": "execute_result"
    }
   ],
   "source": [
    "z[b]"
   ]
  },
  {
   "cell_type": "markdown",
   "id": "ea5ad80a",
   "metadata": {},
   "source": [
    "Of course we can—and frequently do—perform this in one step"
   ]
  },
  {
   "cell_type": "code",
   "execution_count": 97,
   "id": "febcc0aa",
   "metadata": {
    "execution": {
     "iopub.execute_input": "2024-04-07T15:42:51.760489Z",
     "iopub.status.busy": "2024-04-07T15:42:51.759950Z",
     "iopub.status.idle": "2024-04-07T15:42:51.764740Z",
     "shell.execute_reply": "2024-04-07T15:42:51.764260Z",
     "shell.execute_reply.started": "2024-04-07T15:42:51.760458Z"
    },
    "hide-output": false
   },
   "outputs": [
    {
     "data": {
      "text/plain": [
       "array([ 5. ,  7.5, 10. ])"
      ]
     },
     "execution_count": 97,
     "metadata": {},
     "output_type": "execute_result"
    }
   ],
   "source": [
    "z[z > 3]"
   ]
  },
  {
   "cell_type": "markdown",
   "id": "1f1e0131",
   "metadata": {},
   "source": [
    "### Sub-packages\n",
    "\n",
    "NumPy provides some additional functionality related to scientific programming\n",
    "through its sub-packages.\n",
    "\n",
    "We’ve already seen how we can generate random variables using np.random"
   ]
  },
  {
   "cell_type": "code",
   "execution_count": 98,
   "id": "7786c0a1",
   "metadata": {
    "execution": {
     "iopub.execute_input": "2024-04-07T15:43:01.567017Z",
     "iopub.status.busy": "2024-04-07T15:43:01.566491Z",
     "iopub.status.idle": "2024-04-07T15:43:01.571988Z",
     "shell.execute_reply": "2024-04-07T15:43:01.571582Z",
     "shell.execute_reply.started": "2024-04-07T15:43:01.566991Z"
    },
    "hide-output": false
   },
   "outputs": [
    {
     "data": {
      "text/plain": [
       "4.995"
      ]
     },
     "execution_count": 98,
     "metadata": {},
     "output_type": "execute_result"
    }
   ],
   "source": [
    "z = np.random.randn(10000)  # Generate standard normals\n",
    "y = np.random.binomial(10, 0.5, size=1000)    # 1,000 draws from Bin(10, 0.5)\n",
    "y.mean()"
   ]
  },
  {
   "cell_type": "markdown",
   "id": "0eefc589",
   "metadata": {},
   "source": [
    "Another commonly used subpackage is np.linalg"
   ]
  },
  {
   "cell_type": "code",
   "execution_count": 99,
   "id": "e99ae5ff",
   "metadata": {
    "execution": {
     "iopub.execute_input": "2024-04-07T15:43:09.417638Z",
     "iopub.status.busy": "2024-04-07T15:43:09.417225Z",
     "iopub.status.idle": "2024-04-07T15:43:09.422940Z",
     "shell.execute_reply": "2024-04-07T15:43:09.422285Z",
     "shell.execute_reply.started": "2024-04-07T15:43:09.417609Z"
    },
    "hide-output": false
   },
   "outputs": [
    {
     "data": {
      "text/plain": [
       "-2.0000000000000004"
      ]
     },
     "execution_count": 99,
     "metadata": {},
     "output_type": "execute_result"
    }
   ],
   "source": [
    "A = np.array([[1, 2], [3, 4]])\n",
    "\n",
    "np.linalg.det(A)           # Compute the determinant"
   ]
  },
  {
   "cell_type": "code",
   "execution_count": 100,
   "id": "0bb01113",
   "metadata": {
    "execution": {
     "iopub.execute_input": "2024-04-07T15:43:11.552990Z",
     "iopub.status.busy": "2024-04-07T15:43:11.552434Z",
     "iopub.status.idle": "2024-04-07T15:43:11.557889Z",
     "shell.execute_reply": "2024-04-07T15:43:11.557343Z",
     "shell.execute_reply.started": "2024-04-07T15:43:11.552959Z"
    },
    "hide-output": false
   },
   "outputs": [
    {
     "data": {
      "text/plain": [
       "array([[-2. ,  1. ],\n",
       "       [ 1.5, -0.5]])"
      ]
     },
     "execution_count": 100,
     "metadata": {},
     "output_type": "execute_result"
    }
   ],
   "source": [
    "np.linalg.inv(A)           # Compute the inverse"
   ]
  },
  {
   "cell_type": "markdown",
   "id": "de752805",
   "metadata": {},
   "source": [
    "\n",
    "<a id='index-14'></a>\n",
    "Much of this functionality is also available in [SciPy](http://www.scipy.org/), a collection of modules that are built on top of NumPy.\n",
    "\n",
    "We’ll cover the SciPy versions in more detail [soon](https://python-programming.quantecon.org/scipy.html).\n",
    "\n",
    "For a comprehensive list of what’s available in NumPy see [this documentation](https://docs.scipy.org/doc/numpy/reference/routines.html)."
   ]
  },
  {
   "cell_type": "markdown",
   "id": "e66e383e",
   "metadata": {},
   "source": [
    "## Exercises"
   ]
  },
  {
   "cell_type": "code",
   "execution_count": 101,
   "id": "d103e60d",
   "metadata": {
    "execution": {
     "iopub.execute_input": "2024-04-07T15:43:19.127076Z",
     "iopub.status.busy": "2024-04-07T15:43:19.126453Z",
     "iopub.status.idle": "2024-04-07T15:43:19.132352Z",
     "shell.execute_reply": "2024-04-07T15:43:19.131688Z",
     "shell.execute_reply.started": "2024-04-07T15:43:19.127045Z"
    },
    "hide-output": false
   },
   "outputs": [],
   "source": [
    "%matplotlib inline\n",
    "import matplotlib.pyplot as plt\n",
    "plt.rcParams['figure.figsize'] = (10,6)"
   ]
  },
  {
   "cell_type": "markdown",
   "id": "d5a7def3",
   "metadata": {},
   "source": [
    "## Exercise 1\n",
    "\n",
    "Consider the polynomial expression\n",
    "\n",
    "\n",
    "<a id='equation-np-polynom'></a>\n",
    "$$\n",
    "p(x) = a_0 + a_1 x + a_2 x^2 + \\cdots a_N x^N = \\sum_{n=0}^N a_n x^n \\tag{10.1}\n",
    "$$\n",
    "\n",
    "[Earlier](https://python-programming.quantecon.org/python_essentials.html#pyess_ex2), you wrote a simple function `p(x, coeff)` to evaluate [(10.1)](#equation-np-polynom) without considering efficiency.\n",
    "\n",
    "Now write a new function that does the same job, but uses NumPy arrays and array operations for its computations, rather than any form of Python loop.\n",
    "\n",
    "(Such functionality is already implemented as `np.poly1d`, but for the sake of the exercise don’t use this class)\n",
    "\n",
    "Use `np.cumprod()`"
   ]
  },
  {
   "cell_type": "markdown",
   "id": "9da8afd8",
   "metadata": {},
   "source": [
    "## Solution to Exercise 1\n",
    "\n",
    "This code does the job"
   ]
  },
  {
   "cell_type": "code",
   "execution_count": 102,
   "id": "356375c0",
   "metadata": {
    "execution": {
     "iopub.execute_input": "2024-04-07T15:43:35.289084Z",
     "iopub.status.busy": "2024-04-07T15:43:35.288410Z",
     "iopub.status.idle": "2024-04-07T15:43:35.292421Z",
     "shell.execute_reply": "2024-04-07T15:43:35.291933Z",
     "shell.execute_reply.started": "2024-04-07T15:43:35.289055Z"
    },
    "hide-output": false
   },
   "outputs": [],
   "source": [
    "def p(x, coef):\n",
    "    X = np.ones_like(coef)\n",
    "    X[1:] = x\n",
    "    y = np.cumprod(X)   # y = [1, x, x**2,...]\n",
    "    return coef @ y"
   ]
  },
  {
   "cell_type": "markdown",
   "id": "f320c2de",
   "metadata": {},
   "source": [
    "Let’s test it"
   ]
  },
  {
   "cell_type": "code",
   "execution_count": 103,
   "id": "7da2cbc7",
   "metadata": {
    "execution": {
     "iopub.execute_input": "2024-04-07T15:43:38.375086Z",
     "iopub.status.busy": "2024-04-07T15:43:38.374666Z",
     "iopub.status.idle": "2024-04-07T15:43:38.379731Z",
     "shell.execute_reply": "2024-04-07T15:43:38.379150Z",
     "shell.execute_reply.started": "2024-04-07T15:43:38.375055Z"
    },
    "hide-output": false
   },
   "outputs": [
    {
     "name": "stdout",
     "output_type": "stream",
     "text": [
      "[2. 3. 4.]\n",
      "24.0\n",
      "24.0\n"
     ]
    }
   ],
   "source": [
    "x = 2\n",
    "coef = np.linspace(2, 4, 3)\n",
    "print(coef)\n",
    "print(p(x, coef))\n",
    "# For comparison\n",
    "q = np.poly1d(np.flip(coef))\n",
    "print(q(x))"
   ]
  },
  {
   "cell_type": "markdown",
   "id": "286baba0",
   "metadata": {},
   "source": [
    "## Exercise 2\n",
    "\n",
    "Let `q` be a NumPy array of length `n` with `q.sum() == 1`.\n",
    "\n",
    "Suppose that `q` represents a [probability mass function](https://en.wikipedia.org/wiki/Probability_mass_function).\n",
    "\n",
    "We wish to generate a discrete random variable $ x $ such that $ \\mathbb P\\{x = i\\} = q_i $.\n",
    "\n",
    "In other words, `x` takes values in `range(len(q))` and `x = i` with probability `q[i]`.\n",
    "\n",
    "The standard (inverse transform) algorithm is as follows:\n",
    "\n",
    "- Divide the unit interval $ [0, 1] $ into $ n $ subintervals $ I_0, I_1, \\ldots, I_{n-1} $ such that the length of $ I_i $ is $ q_i $.  \n",
    "- Draw a uniform random variable $ U $ on $ [0, 1] $ and return the $ i $ such that $ U \\in I_i $.  \n",
    "\n",
    "\n",
    "The probability of drawing $ i $ is the length of $ I_i $, which is equal to $ q_i $.\n",
    "\n",
    "We can implement the algorithm as follows"
   ]
  },
  {
   "cell_type": "code",
   "execution_count": 104,
   "id": "cf56cb0b",
   "metadata": {
    "execution": {
     "iopub.execute_input": "2024-04-07T15:43:53.978686Z",
     "iopub.status.busy": "2024-04-07T15:43:53.978138Z",
     "iopub.status.idle": "2024-04-07T15:43:53.982199Z",
     "shell.execute_reply": "2024-04-07T15:43:53.981731Z",
     "shell.execute_reply.started": "2024-04-07T15:43:53.978655Z"
    },
    "hide-output": false
   },
   "outputs": [],
   "source": [
    "from random import uniform\n",
    "\n",
    "def sample(q):\n",
    "    a = 0.0\n",
    "    U = uniform(0, 1)\n",
    "    for i in range(len(q)):\n",
    "        if a < U <= a + q[i]:\n",
    "            return i\n",
    "        a = a + q[i]"
   ]
  },
  {
   "cell_type": "markdown",
   "id": "ef7aaaf6",
   "metadata": {},
   "source": [
    "If you can’t see how this works, try thinking through the flow for a simple example, such as `q = [0.25, 0.75]`\n",
    "It helps to sketch the intervals on paper.\n",
    "\n",
    "Your exercise is to speed it up using NumPy, avoiding explicit loops\n",
    "\n",
    "Use `np.searchsorted` and `np.cumsum`\n",
    "\n",
    "If you can, implement the functionality as a class called `DiscreteRV`, where\n",
    "\n",
    "- the data for an instance of the class is the vector of probabilities `q`  \n",
    "- the class has a `draw()` method, which returns one draw according to the algorithm described above  \n",
    "\n",
    "\n",
    "If you can, write the method so that `draw(k)` returns `k` draws from `q`."
   ]
  },
  {
   "cell_type": "markdown",
   "id": "ddecd7ee",
   "metadata": {},
   "source": [
    "## Solution to Exercise 2\n",
    "\n",
    "Here’s our first pass at a solution:"
   ]
  },
  {
   "cell_type": "code",
   "execution_count": 105,
   "id": "c7e1745f",
   "metadata": {
    "execution": {
     "iopub.execute_input": "2024-04-07T15:43:55.985093Z",
     "iopub.status.busy": "2024-04-07T15:43:55.984570Z",
     "iopub.status.idle": "2024-04-07T15:43:55.990001Z",
     "shell.execute_reply": "2024-04-07T15:43:55.989278Z",
     "shell.execute_reply.started": "2024-04-07T15:43:55.985063Z"
    },
    "hide-output": false
   },
   "outputs": [],
   "source": [
    "from numpy import cumsum\n",
    "from numpy.random import uniform\n",
    "\n",
    "class DiscreteRV:\n",
    "    \"\"\"\n",
    "    Generates an array of draws from a discrete random variable with vector of\n",
    "    probabilities given by q.\n",
    "    \"\"\"\n",
    "\n",
    "    def __init__(self, q):\n",
    "        \"\"\"\n",
    "        The argument q is a NumPy array, or array like, nonnegative and sums\n",
    "        to 1\n",
    "        \"\"\"\n",
    "        self.q = q\n",
    "        self.Q = cumsum(q)\n",
    "\n",
    "    def draw(self, k=1):\n",
    "        \"\"\"\n",
    "        Returns k draws from q. For each such draw, the value i is returned\n",
    "        with probability q[i].\n",
    "        \"\"\"\n",
    "        return self.Q.searchsorted(uniform(0, 1, size=k))"
   ]
  },
  {
   "cell_type": "markdown",
   "id": "30dbada5",
   "metadata": {},
   "source": [
    "The logic is not obvious, but if you take your time and read it slowly,\n",
    "you will understand.\n",
    "\n",
    "There is a problem here, however.\n",
    "\n",
    "Suppose that `q` is altered after an instance of `discreteRV` is\n",
    "created, for example by"
   ]
  },
  {
   "cell_type": "code",
   "execution_count": 106,
   "id": "79404391",
   "metadata": {
    "execution": {
     "iopub.execute_input": "2024-04-07T15:43:57.594616Z",
     "iopub.status.busy": "2024-04-07T15:43:57.594066Z",
     "iopub.status.idle": "2024-04-07T15:43:57.597897Z",
     "shell.execute_reply": "2024-04-07T15:43:57.597280Z",
     "shell.execute_reply.started": "2024-04-07T15:43:57.594567Z"
    },
    "hide-output": false
   },
   "outputs": [],
   "source": [
    "q = (0.1, 0.9)\n",
    "d = DiscreteRV(q)\n",
    "d.q = (0.5, 0.5)"
   ]
  },
  {
   "cell_type": "markdown",
   "id": "1d8ae294",
   "metadata": {},
   "source": [
    "The problem is that `Q` does not change accordingly, and `Q` is the\n",
    "data used in the `draw` method.\n",
    "\n",
    "To deal with this, one option is to compute `Q` every time the draw\n",
    "method is called.\n",
    "\n",
    "But this is inefficient relative to computing `Q` once-off.\n",
    "\n",
    "A better option is to use descriptors.\n",
    "\n",
    "A solution from the [quantecon\n",
    "library](https://github.com/QuantEcon/QuantEcon.py/tree/master/quantecon)\n",
    "using descriptors that behaves as we desire can be found\n",
    "[here](https://github.com/QuantEcon/QuantEcon.py/blob/master/quantecon/discrete_rv.py)."
   ]
  },
  {
   "cell_type": "markdown",
   "id": "eeec13ac",
   "metadata": {},
   "source": [
    "## Exercise 3\n",
    "\n",
    "Recall our of the empirical cumulative distribution function.\n",
    "\n",
    "Your task is to\n",
    "\n",
    "1. Make the `__call__` method more efficient using NumPy.  \n",
    "1. Add a method that plots the ECDF over $ [a, b] $, where $ a $ and $ b $ are method parameters.  "
   ]
  },
  {
   "cell_type": "markdown",
   "id": "e44551a6",
   "metadata": {},
   "source": [
    "## Solution to Exercise 3\n",
    "\n",
    "An example solution is given below."
   ]
  },
  {
   "cell_type": "code",
   "execution_count": 107,
   "id": "cc57c1bd",
   "metadata": {
    "execution": {
     "iopub.execute_input": "2024-04-07T15:43:59.209908Z",
     "iopub.status.busy": "2024-04-07T15:43:59.209383Z",
     "iopub.status.idle": "2024-04-07T15:43:59.216268Z",
     "shell.execute_reply": "2024-04-07T15:43:59.215599Z",
     "shell.execute_reply.started": "2024-04-07T15:43:59.209874Z"
    },
    "hide-output": false
   },
   "outputs": [],
   "source": [
    "\"\"\"\n",
    "Modifies ecdf.py from QuantEcon to add in a plot method\n",
    "\n",
    "\"\"\"\n",
    "\n",
    "class ECDF:\n",
    "    \"\"\"\n",
    "    One-dimensional empirical distribution function given a vector of\n",
    "    observations.\n",
    "\n",
    "    Parameters\n",
    "    ----------\n",
    "    observations : array_like\n",
    "        An array of observations\n",
    "\n",
    "    Attributes\n",
    "    ----------\n",
    "    observations : array_like\n",
    "        An array of observations\n",
    "\n",
    "    \"\"\"\n",
    "\n",
    "    def __init__(self, observations):\n",
    "        self.observations = np.asarray(observations)\n",
    "\n",
    "    def __call__(self, x):\n",
    "        \"\"\"\n",
    "        Evaluates the ecdf at x\n",
    "\n",
    "        Parameters\n",
    "        ----------\n",
    "        x : scalar(float)\n",
    "            The x at which the ecdf is evaluated\n",
    "\n",
    "        Returns\n",
    "        -------\n",
    "        scalar(float)\n",
    "            Fraction of the sample less than x\n",
    "\n",
    "        \"\"\"\n",
    "        return np.mean(self.observations <= x)\n",
    "\n",
    "    def plot(self, ax, a=None, b=None):\n",
    "        \"\"\"\n",
    "        Plot the ecdf on the interval [a, b].\n",
    "\n",
    "        Parameters\n",
    "        ----------\n",
    "        a : scalar(float), optional(default=None)\n",
    "            Lower endpoint of the plot interval\n",
    "        b : scalar(float), optional(default=None)\n",
    "            Upper endpoint of the plot interval\n",
    "\n",
    "        \"\"\"\n",
    "\n",
    "        # === choose reasonable interval if [a, b] not specified === #\n",
    "        if a is None:\n",
    "            a = self.observations.min() - self.observations.std()\n",
    "        if b is None:\n",
    "            b = self.observations.max() + self.observations.std()\n",
    "\n",
    "        # === generate plot === #\n",
    "        x_vals = np.linspace(a, b, num=100)\n",
    "        f = np.vectorize(self.__call__)\n",
    "        ax.plot(x_vals, f(x_vals))\n",
    "        plt.show()"
   ]
  },
  {
   "cell_type": "markdown",
   "id": "dd250c09",
   "metadata": {},
   "source": [
    "Here’s an example of usage"
   ]
  },
  {
   "cell_type": "code",
   "execution_count": 108,
   "id": "057dccf5",
   "metadata": {
    "execution": {
     "iopub.execute_input": "2024-04-07T15:43:59.983456Z",
     "iopub.status.busy": "2024-04-07T15:43:59.982785Z",
     "iopub.status.idle": "2024-04-07T15:44:00.120496Z",
     "shell.execute_reply": "2024-04-07T15:44:00.120032Z",
     "shell.execute_reply.started": "2024-04-07T15:43:59.983424Z"
    },
    "hide-output": false
   },
   "outputs": [
    {
     "data": {
      "image/png": "[encoded data removed]",
      "text/plain": [
       "<Figure size 720x432 with 1 Axes>"
      ]
     },
     "metadata": {
      "needs_background": "light"
     },
     "output_type": "display_data"
    }
   ],
   "source": [
    "fig, ax = plt.subplots()\n",
    "X = np.random.randn(1000)\n",
    "F = ECDF(X)\n",
    "F.plot(ax)"
   ]
  },
  {
   "cell_type": "markdown",
   "id": "98174254",
   "metadata": {},
   "source": [
    "## Exercise 4\n",
    "\n",
    "Recall that [broadcasting](#broadcasting) in Numpy can help us conduct element-wise operations on arrays with different number of dimensions without using `for` loops.\n",
    "\n",
    "In this exercise, try to use `for` loops to replicate the result of the following broadcasting operations.\n",
    "\n",
    "**Part1**: Try to replicate this simple example using `for` loops and compare your results with the broadcasting operation below."
   ]
  },
  {
   "cell_type": "code",
   "execution_count": 109,
   "id": "c2af9c64",
   "metadata": {
    "execution": {
     "iopub.execute_input": "2024-04-07T15:44:02.556897Z",
     "iopub.status.busy": "2024-04-07T15:44:02.556315Z",
     "iopub.status.idle": "2024-04-07T15:44:02.560477Z",
     "shell.execute_reply": "2024-04-07T15:44:02.559855Z",
     "shell.execute_reply.started": "2024-04-07T15:44:02.556862Z"
    },
    "hide-output": false
   },
   "outputs": [],
   "source": [
    "np.random.seed(123)\n",
    "x = np.random.randn(4, 4)\n",
    "y = np.random.randn(4)\n",
    "A = x / y"
   ]
  },
  {
   "cell_type": "markdown",
   "id": "e6ab069e",
   "metadata": {},
   "source": [
    "Here is the output"
   ]
  },
  {
   "cell_type": "code",
   "execution_count": 110,
   "id": "899d6bee",
   "metadata": {
    "execution": {
     "iopub.execute_input": "2024-04-07T15:44:03.495159Z",
     "iopub.status.busy": "2024-04-07T15:44:03.494489Z",
     "iopub.status.idle": "2024-04-07T15:44:03.499104Z",
     "shell.execute_reply": "2024-04-07T15:44:03.498354Z",
     "shell.execute_reply.started": "2024-04-07T15:44:03.495129Z"
    },
    "hide-output": false
   },
   "outputs": [
    {
     "name": "stdout",
     "output_type": "stream",
     "text": [
      "[[-0.49214189  0.45607819  0.28183596 -3.90043439]\n",
      " [-0.26229311  0.75518888 -2.41688145 -1.11063629]\n",
      " [ 0.57387869 -0.39635354 -0.67614513 -0.2452416 ]\n",
      " [ 0.676082   -0.29216483 -0.44218937 -1.12471925]]\n"
     ]
    }
   ],
   "source": [
    "print(A)"
   ]
  },
  {
   "cell_type": "markdown",
   "id": "29cece94",
   "metadata": {},
   "source": [
    "**Part2**: Move on to replicate the result of the following broadcasting operation. Meanwhile, compare the speeds of broadcasting and the `for` loop you implement."
   ]
  },
  {
   "cell_type": "code",
   "execution_count": 111,
   "id": "58b4e5f1",
   "metadata": {
    "execution": {
     "iopub.execute_input": "2024-04-07T15:44:04.368718Z",
     "iopub.status.busy": "2024-04-07T15:44:04.368062Z",
     "iopub.status.idle": "2024-04-07T15:44:04.383083Z",
     "shell.execute_reply": "2024-04-07T15:44:04.382435Z",
     "shell.execute_reply.started": "2024-04-07T15:44:04.368686Z"
    },
    "hide-output": false
   },
   "outputs": [
    {
     "ename": "ModuleNotFoundError",
     "evalue": "No module named 'quantecon'",
     "output_type": "error",
     "traceback": [
      "\u001b[0;31m---------------------------------------------------------------------------\u001b[0m",
      "\u001b[0;31mModuleNotFoundError\u001b[0m                       Traceback (most recent call last)",
      "Input \u001b[0;32mIn [111]\u001b[0m, in \u001b[0;36m<cell line: 1>\u001b[0;34m()\u001b[0m\n\u001b[0;32m----> 1\u001b[0m \u001b[38;5;28;01mimport\u001b[39;00m \u001b[38;5;21;01mquantecon\u001b[39;00m \u001b[38;5;28;01mas\u001b[39;00m \u001b[38;5;21;01mqe\u001b[39;00m\n\u001b[1;32m      3\u001b[0m np\u001b[38;5;241m.\u001b[39mrandom\u001b[38;5;241m.\u001b[39mseed(\u001b[38;5;241m123\u001b[39m)\n\u001b[1;32m      4\u001b[0m x \u001b[38;5;241m=\u001b[39m np\u001b[38;5;241m.\u001b[39mrandom\u001b[38;5;241m.\u001b[39mrandn(\u001b[38;5;241m1000\u001b[39m, \u001b[38;5;241m100\u001b[39m, \u001b[38;5;241m100\u001b[39m)\n",
      "\u001b[0;31mModuleNotFoundError\u001b[0m: No module named 'quantecon'"
     ]
    }
   ],
   "source": [
    "import quantecon as qe\n",
    "\n",
    "np.random.seed(123)\n",
    "x = np.random.randn(1000, 100, 100)\n",
    "y = np.random.randn(100)\n",
    "\n",
    "qe.tic()\n",
    "B = x / y\n",
    "qe.toc()"
   ]
  },
  {
   "cell_type": "markdown",
   "id": "d793e3cd",
   "metadata": {},
   "source": [
    "Here is the output"
   ]
  },
  {
   "cell_type": "code",
   "execution_count": 112,
   "id": "a907ac0a",
   "metadata": {
    "execution": {
     "iopub.execute_input": "2024-04-07T15:44:05.272878Z",
     "iopub.status.busy": "2024-04-07T15:44:05.272216Z",
     "iopub.status.idle": "2024-04-07T15:44:05.276410Z",
     "shell.execute_reply": "2024-04-07T15:44:05.275818Z",
     "shell.execute_reply.started": "2024-04-07T15:44:05.272847Z"
    },
    "hide-output": false
   },
   "outputs": [
    {
     "name": "stdout",
     "output_type": "stream",
     "text": [
      "[10 20]\n"
     ]
    }
   ],
   "source": [
    "print(B)"
   ]
  },
  {
   "cell_type": "markdown",
   "id": "abd914cf",
   "metadata": {},
   "source": [
    "## Solution to Exercise 4\n",
    "\n",
    "**Part 1 Solution**"
   ]
  },
  {
   "cell_type": "code",
   "execution_count": 113,
   "id": "b8c8c5c8",
   "metadata": {
    "execution": {
     "iopub.execute_input": "2024-04-07T15:44:06.041613Z",
     "iopub.status.busy": "2024-04-07T15:44:06.041083Z",
     "iopub.status.idle": "2024-04-07T15:44:06.045506Z",
     "shell.execute_reply": "2024-04-07T15:44:06.045040Z",
     "shell.execute_reply.started": "2024-04-07T15:44:06.041582Z"
    },
    "hide-output": false
   },
   "outputs": [],
   "source": [
    "np.random.seed(123)\n",
    "x = np.random.randn(4, 4)\n",
    "y = np.random.randn(4)\n",
    "\n",
    "C = np.empty_like(x)\n",
    "n = len(x)\n",
    "for i in range(n):\n",
    "    for j in range(n):\n",
    "        C[i, j] = x[i, j] / y[j]"
   ]
  },
  {
   "cell_type": "markdown",
   "id": "3b205cc1",
   "metadata": {},
   "source": [
    "Compare the results to check your answer"
   ]
  },
  {
   "cell_type": "code",
   "execution_count": 114,
   "id": "91604b72",
   "metadata": {
    "execution": {
     "iopub.execute_input": "2024-04-07T15:44:06.793386Z",
     "iopub.status.busy": "2024-04-07T15:44:06.792847Z",
     "iopub.status.idle": "2024-04-07T15:44:06.797187Z",
     "shell.execute_reply": "2024-04-07T15:44:06.796578Z",
     "shell.execute_reply.started": "2024-04-07T15:44:06.793353Z"
    },
    "hide-output": false
   },
   "outputs": [
    {
     "name": "stdout",
     "output_type": "stream",
     "text": [
      "[[-0.49214189  0.45607819  0.28183596 -3.90043439]\n",
      " [-0.26229311  0.75518888 -2.41688145 -1.11063629]\n",
      " [ 0.57387869 -0.39635354 -0.67614513 -0.2452416 ]\n",
      " [ 0.676082   -0.29216483 -0.44218937 -1.12471925]]\n"
     ]
    }
   ],
   "source": [
    "print(C)"
   ]
  },
  {
   "cell_type": "markdown",
   "id": "37361235",
   "metadata": {},
   "source": [
    "You can also use `array_equal()` to check your answer"
   ]
  },
  {
   "cell_type": "code",
   "execution_count": 115,
   "id": "4237167c",
   "metadata": {
    "execution": {
     "iopub.execute_input": "2024-04-07T15:44:07.400733Z",
     "iopub.status.busy": "2024-04-07T15:44:07.400127Z",
     "iopub.status.idle": "2024-04-07T15:44:07.404233Z",
     "shell.execute_reply": "2024-04-07T15:44:07.403709Z",
     "shell.execute_reply.started": "2024-04-07T15:44:07.400695Z"
    },
    "hide-output": false
   },
   "outputs": [
    {
     "name": "stdout",
     "output_type": "stream",
     "text": [
      "True\n"
     ]
    }
   ],
   "source": [
    "print(np.array_equal(A, C))"
   ]
  },
  {
   "cell_type": "markdown",
   "id": "b1c7ddd6",
   "metadata": {},
   "source": [
    "**Part 2 Solution**"
   ]
  },
  {
   "cell_type": "code",
   "execution_count": 116,
   "id": "51252379",
   "metadata": {
    "execution": {
     "iopub.execute_input": "2024-04-07T15:44:08.120893Z",
     "iopub.status.busy": "2024-04-07T15:44:08.120347Z",
     "iopub.status.idle": "2024-04-07T15:44:13.218393Z",
     "shell.execute_reply": "2024-04-07T15:44:13.217866Z",
     "shell.execute_reply.started": "2024-04-07T15:44:08.120862Z"
    },
    "hide-output": false
   },
   "outputs": [
    {
     "name": "stdout",
     "output_type": "stream",
     "text": [
      "4.849611520767212\n"
     ]
    }
   ],
   "source": [
    "import time\n",
    "\n",
    "np.random.seed(123)\n",
    "x = np.random.randn(1000, 100, 100)\n",
    "y = np.random.randn(100)\n",
    "\n",
    "t = time.time()\n",
    "D = np.empty_like(x)\n",
    "d1, d2, d3 = x.shape\n",
    "for i in range(d1):\n",
    "    for j in range(d2):\n",
    "        for k in range(d3):\n",
    "            D[i, j, k] = x[i, j, k] / y[k]\n",
    "elapsed = time.time() - t\n",
    "print(elapsed)"
   ]
  },
  {
   "cell_type": "markdown",
   "id": "db111186",
   "metadata": {},
   "source": [
    "Note that the `for` loop takes much longer than the broadcasting operation.\n",
    "\n",
    "Compare the results to check your answer"
   ]
  },
  {
   "cell_type": "code",
   "execution_count": 117,
   "id": "dbe0570f",
   "metadata": {
    "execution": {
     "iopub.execute_input": "2024-04-07T15:44:13.219919Z",
     "iopub.status.busy": "2024-04-07T15:44:13.219431Z",
     "iopub.status.idle": "2024-04-07T15:44:13.224644Z",
     "shell.execute_reply": "2024-04-07T15:44:13.224182Z",
     "shell.execute_reply.started": "2024-04-07T15:44:13.219894Z"
    },
    "hide-output": false
   },
   "outputs": [
    {
     "name": "stdout",
     "output_type": "stream",
     "text": [
      "[[[ 1.85764005 -0.89419976  0.24485371 ... -3.04214618  0.17711597\n",
      "   -0.22643801]\n",
      "  [-1.09863014  1.77333433  0.61630351 ... -0.24732757 -0.15931155\n",
      "   -0.13015397]\n",
      "  [-1.20344529  0.53624915  1.90420857 ...  0.92748804  0.07494711\n",
      "    0.48954772]\n",
      "  ...\n",
      "  [-1.09763323  0.68632802 -1.21568707 ... -3.87025031 -0.19456046\n",
      "    0.18331773]\n",
      "  [-0.47546852 -0.16883695  2.92991418 ... -0.05967182 -0.20796073\n",
      "   -0.49082994]\n",
      "  [ 1.14380091  1.93460538 -0.76305492 ... -1.0537099   0.27167901\n",
      "    0.57963424]]\n",
      "\n",
      " [[ 2.12344323  0.28058176 -0.73457091 ...  3.55049699  0.59737154\n",
      "   -0.31414907]\n",
      "  [ 1.40074417 -0.09113173  0.50276294 ... -1.85572391  0.13914077\n",
      "   -0.93776321]\n",
      "  [ 2.35739042 -0.79089649  0.20835615 ... -0.11001198  0.86250367\n",
      "   -1.26949634]\n",
      "  ...\n",
      "  [ 2.11831946  0.15242396 -0.17269536 ...  0.03469371 -0.06074779\n",
      "    0.10114045]\n",
      "  [-0.08300138  0.47232405 -0.89930099 ...  0.66104947 -0.45183377\n",
      "   -1.05885526]\n",
      "  [ 0.282155   -1.44848315 -1.25832989 ... -3.12998376  0.48762406\n",
      "    0.22052869]]\n",
      "\n",
      " [[-1.76517625 -1.19419485  0.08293115 ...  0.7919151  -0.03812759\n",
      "   -1.19540255]\n",
      "  [-0.66639955  0.16580616 -0.32083535 ...  0.72351825 -0.72239583\n",
      "   -0.46386281]\n",
      "  [-0.45163238 -1.5262587  -0.38541194 ...  1.82015759  0.23151272\n",
      "    0.81609303]\n",
      "  ...\n",
      "  [ 1.14317214 -0.60571044 -0.74962613 ... -3.13330221  0.61817627\n",
      "    0.37738869]\n",
      "  [-0.65686356  0.41024983  0.2700362  ... -0.08588743  0.20408508\n",
      "    0.33667429]\n",
      "  [-0.43851304  0.58339651 -0.9076869  ... -2.55408527 -0.22112928\n",
      "    0.9912754 ]]\n",
      "\n",
      " ...\n",
      "\n",
      " [[ 1.13470002 -0.20836287 -0.50483798 ...  0.32733859 -0.32203002\n",
      "    0.43385307]\n",
      "  [-0.11763272 -0.77698937 -0.46659376 ...  2.01256989 -0.19222608\n",
      "   -0.48021737]\n",
      "  [ 0.89558661  0.93447059  0.35386499 ... -1.2218747   0.42826019\n",
      "    0.73980809]\n",
      "  ...\n",
      "  [-0.30040698 -1.14758822 -1.2785068  ...  3.9600491  -0.25830068\n",
      "   -1.09906439]\n",
      "  [-2.89569174 -0.67988752 -0.26342148 ...  0.62855881  0.05570693\n",
      "   -0.05084807]\n",
      "  [ 0.87738281 -2.37555322  1.66177996 ...  0.09857952  0.35564132\n",
      "   -1.22140972]]\n",
      "\n",
      " [[-3.31843223  0.19402721  0.87502303 ... -1.47591384 -0.25236749\n",
      "   -0.85281481]\n",
      "  [-2.84794867 -0.31042414  0.43040259 ... -4.01127498  0.06267678\n",
      "   -0.2073196 ]\n",
      "  [-0.47909317 -0.77256923 -0.49818879 ... -0.17526151  0.64720631\n",
      "   -0.06831215]\n",
      "  ...\n",
      "  [ 0.35509683 -0.48189502 -0.18528007 ...  2.03614189 -0.15287291\n",
      "    0.0979404 ]\n",
      "  [-1.20730244 -0.24269721 -0.28048927 ...  0.94378219 -0.21283324\n",
      "   -0.30738091]\n",
      "  [-1.81004008  1.01260185 -0.62311067 ... -0.03158149 -0.36355966\n",
      "    0.43427753]]\n",
      "\n",
      " [[-1.43227284 -0.20319046  1.37271425 ...  2.34113161  0.18025411\n",
      "   -0.247025  ]\n",
      "  [ 0.47792311  0.61186236  0.73460309 ... -1.52671835 -0.10967386\n",
      "   -0.04788996]\n",
      "  [-1.51873339  0.73425213 -0.54033092 ...  0.21434631 -0.31597544\n",
      "   -0.24364054]\n",
      "  ...\n",
      "  [-0.24128379 -0.72604109 -0.36722827 ...  2.20219708  1.04943754\n",
      "   -0.44221604]\n",
      "  [-1.43364744  0.54701702  1.08795598 ...  0.19549939 -0.12604844\n",
      "   -0.74936097]\n",
      "  [-0.59335595  0.46807169 -0.04178975 ... -1.1783837   0.0395992\n",
      "    0.55109001]]]\n"
     ]
    }
   ],
   "source": [
    "print(D)"
   ]
  },
  {
   "cell_type": "code",
   "execution_count": 118,
   "id": "3a12c983",
   "metadata": {
    "execution": {
     "iopub.execute_input": "2024-04-07T15:44:13.225383Z",
     "iopub.status.busy": "2024-04-07T15:44:13.225246Z",
     "iopub.status.idle": "2024-04-07T15:44:13.258663Z",
     "shell.execute_reply": "2024-04-07T15:44:13.258137Z",
     "shell.execute_reply.started": "2024-04-07T15:44:13.225367Z"
    },
    "hide-output": false
   },
   "outputs": [
    {
     "name": "stdout",
     "output_type": "stream",
     "text": [
      "False\n"
     ]
    }
   ],
   "source": [
    "print(np.array_equal(B, D))"
   ]
  },
  {
   "cell_type": "code",
   "execution_count": null,
   "id": "132a3653",
   "metadata": {},
   "outputs": [],
   "source": []
  }
 ],
 "metadata": {
  "date": 1703113307.661963,
  "filename": "numpy.md",
  "kernelspec": {
   "display_name": "Python 3 (ipykernel)",
   "language": "python",
   "name": "python3"
  },
  "language_info": {
   "codemirror_mode": {
    "name": "ipython",
    "version": 3
   },
   "file_extension": ".py",
   "mimetype": "text/x-python",
   "name": "python",
   "nbconvert_exporter": "python",
   "pygments_lexer": "ipython3",
   "version": "3.8.13"
  },
  "title": "NumPy"
 },
 "nbformat": 4,
 "nbformat_minor": 5
}
